{
 "cells": [
  {
   "cell_type": "markdown",
   "id": "d4ea28a8",
   "metadata": {
    "slideshow": {
     "slide_type": "slide"
    }
   },
   "source": [
    "<center> <img src=\"logo_ifba.jpg\" alt=\"jpg_python\" width=\"100\" height=\"200\"> </center>\n",
    "<br><br>\n",
    "<div align=\"center\"><span style=\"font-size: 26px;\"><strong>Cálculo Numérico <br></strong></span></div> <br>\n",
    "<center> <img src=\"python_gif.gif\" alt=\"gif_python\" width=\"80\"> </center>\n"
   ]
  },
  {
   "cell_type": "markdown",
   "id": "d76184a7",
   "metadata": {
    "slideshow": {
     "slide_type": "slide"
    }
   },
   "source": [
    "<div style=\"border: 2px solid black; padding: 10px; width: 95%; background-color: lightgray; display: flex; align-items: center;\">\n",
    "    <h1 style=\"color: red; text-align: center; margin: auto;\">\n",
    "        Capítulo 9: Aproximação Discreta dos Mínimos Quadrados\n",
    "    </h1>\n",
    "</div>\n",
    "\n",
    "<font color='red'></font>\n",
    "<a href=\"\"></a>"
   ]
  },
  {
   "cell_type": "markdown",
   "id": "c168ea6b",
   "metadata": {},
   "source": [
    "O estudo da teoria da aproximação envolve dois tipos de problemas genéricos:\n",
    "\n",
    "1) Um problema ocorre quando uma função é dada de forma explícita, mas queremos encontrar um tipo de função \"mais simples\", como uma função polinomial que possa ser utilizada para determinar valores aproximados da função dada.\n",
    "\n",
    "2) O outro problema na teoria da aproximação é relativo ao ajuste da função aos dados encontrados, e a se encontrar a \"melhor\" função em determinada classe para representar todos os dados."
   ]
  },
  {
   "cell_type": "markdown",
   "id": "97585c2b",
   "metadata": {},
   "source": [
    "# <div style=\"margin-top: -20px;\">\n",
    "<hr style=\"border: 2px solid black;\">\n",
    "\n",
    "<font color='black'><span style=\"font-size: 22px;\"><strong>9.1 Mínimos Quadrados</strong></span></font>\n",
    "\n",
    "<hr style=\"border: 2px solid black;\">\n",
    "</div>"
   ]
  },
  {
   "cell_type": "markdown",
   "id": "c57cfff7",
   "metadata": {},
   "source": [
    "#### Motivação"
   ]
  },
  {
   "cell_type": "markdown",
   "id": "8fc11ebe",
   "metadata": {},
   "source": [
    "Considere o problema de se estimar a temperatura as $4:30$ ($4.5\\,h$) a partir de valores tabulados a entre $0:00$ ($0 \\ h$) e $5:00$ ($5 \\ h$) com medições no início de cada hora. Os dados coletados estão dispostos na tabela a seguir:<br><br>\n",
    "$$\\begin{array}{ccccccc}\n",
    "i          & 1    & 2   \t& 3    \t& 4    & 5 \t\t& 6   \\\\\n",
    "x_{i} [h]    & 0    & 1     & 2     & 3    & 4 \t    & 5  \\\\\n",
    "y_{i} [^{o}C]& 6.2  & 9.3   & 11.2\t& 13.5 & 14.8  \t& 17.0  \\\\\n",
    "\\end{array}$$\n",
    "\n",
    "Vejamos o gráfico apresentando os valores dados acima:<br><br>\n",
    "\n",
    "<center> <img src=\"fig9-1.jpg\" alt=\"jpg_python\" width=\"500\" height=\"\"> </center>\n",
    "\n",
    "Uma rápida observação nos leva a crer que a relação entre $x$ e $y$, entre os tempos $0:00$ e $5:00$, tem forte tendência linear uma vez que os pontos apresentam certo alinhamento. Vamos imaginar que os dados coletados apresentam certa precisão não ideal. Neste caso, é razoável esperar que nenhuma curva (ideal) contenha os dados apresentados."
   ]
  },
  {
   "cell_type": "markdown",
   "id": "506d50d4",
   "metadata": {},
   "source": [
    "#### Ajuste Linear"
   ]
  },
  {
   "cell_type": "markdown",
   "id": "fe817655",
   "metadata": {},
   "source": [
    "Uma forma de obtermos uma estimativa para a temperatura no instante $4.5 \\ h$ consiste em determinar a melhor aproximação linear envolvendo a busca de valores de $a_{0}$ e $a_{1}$ que minimizem\n",
    "\n",
    "$$E_{1}(a_{0}, a_{1}) = \\sum_{i=1}^{6} |y_{i} - (a_{1}x_{i} + a_{0})|.$$\n",
    "\n",
    "Essa quantidade é chamada de desvio absoluto. Na tentativa de minimizar esta função de duas variáveis recaímos em um sério problema. A função módulo não é diferenciável em zero, e portanto, não podemos usar as ferramentas do cálculo diferencial integral. Mas não se preocupe, resolveremos este impasse a seguir.\n",
    "\n",
    "A abordagem de mínimos quadrados busca as constantes $a_{0}$ e $a_{1}$ de modo a minimizar o erro quadrático dado a seguir:\n",
    "\n",
    "$$E = E_{2}(a_{0}, a_{1}) = \\sum_{i=1}^{m} (y_{i} - (a_{1}x_{i} + a_{0}))^{2}.$$\n",
    "\n",
    "Na obtenção do mínimo, façamos\n",
    "\n",
    "$$0 = \\frac{\\partial}{\\partial a_{0}} \\sum_{i=1}^{m} (y_{i} - (a_{1}x_{i} + a_{0}))^{2} = 2 \\sum_{i=1}^{m} (y_{i} - a_{1}x_{i} -a_{0}).(-1),$$\n",
    "\n",
    "$$0 = \\frac{\\partial}{\\partial a_{1}} \\sum_{i=1}^{m} (y_{i} - (a_{1}x_{i} + a_{0}))^{2} = 2 \\sum_{i=1}^{m} (y_{i} - a_{1}x_{i} -a_{0}).(-x_{i}).$$\n",
    "\n",
    "Que resulta no seguinte sistema $2 \\times 2$:\n",
    "\n",
    "<font color='red'>$$\\left\\{ \\begin{array}{ccccc}\n",
    "a_{0} m & + & a_{1} \\sum_{i=1}^{m} x_{i} & = & \\sum_{i=1}^{m} y_{i}\\\\\n",
    "a_{0} \\sum_{i=1}^{m} x_{i} & + & a_{1} \\sum_{i=1}^{m} x_{i}^{2} & = & \\sum_{i=1}^{m} x_{i}y_{i}\\\\\n",
    "\\end{array}\n",
    "\\right.$$</font>"
   ]
  },
  {
   "cell_type": "markdown",
   "id": "9a3aa1b0",
   "metadata": {},
   "source": [
    "##### Retornando ao exemplo incial"
   ]
  },
  {
   "cell_type": "markdown",
   "id": "4c0bd345",
   "metadata": {},
   "source": [
    "Por meio da resolução deste sistema podemos encontrar a reta dos mínimos quadrados que aproxima os dados apresentados anteriormente. Pois bem, utilizemos a seguinte tabela auxiliar:\n",
    "\n",
    "$$\\begin{array}{cccc}\n",
    "x_{i} \t\t\t\t& y_{i} \t\t\t\t& x_{i}^{2} \t\t\t& x_{i}y_{i}\t\t\\\\\n",
    "0 \t\t\t\t\t& 6.2\t \t\t\t\t& 0 \t\t\t\t\t& 0\t\t\t\t\\\\\n",
    "1 \t\t\t\t\t& 9.3\t \t\t\t\t& 1 \t\t\t\t\t& 9.3\t\t\t\t\\\\\n",
    "2 \t\t\t\t\t& 11.2\t \t\t\t\t& 4 \t\t\t\t\t& 22.4\t\t\t\t\\\\\n",
    "3 \t\t\t\t\t& 13.5\t \t\t\t\t& 9 \t\t\t\t\t& 40.5\t\t\t\t\\\\\n",
    "4 \t\t\t\t\t& 14.8\t \t\t\t\t& 16 \t\t\t\t\t& 59.2\t\t\t\t\\\\\n",
    "5\t\t\t\t\t& 17.0\t\t\t\t\t& 25\t\t\t\t\t& 85\t\t\t\t\\\\\n",
    "{\\textbf{15}}\t\t& {\\textbf{72}}\t\t& {\\textbf{55}}\t\t\t& {\\textbf{216.4}}\t\\\\\n",
    "\\end{array}$$\n",
    "\n",
    "Temos portanto, o seguinte sistema:\n",
    "\n",
    "$$\n",
    "\\left\\{ \\begin{array}{c}\n",
    "6a_{0} \t+ 15a_{1} = 72 \\\\\n",
    "15a_{0} + 55a_{1} = 216.4\\\\\n",
    "\\end{array}\n",
    "\\right.\n",
    "$$\n",
    "\n",
    "A solução do sistema acima é $a_{0} = 6.800000000000008$, $a_{1} = 2.079999999999998$. Logo,\n",
    "\n",
    "$$P(x) = 2.079999999999998x + 6.800000000000008.$$\n",
    "\n",
    "*Lembre-se que estamos optando por deixar os arredondamentos para a resposta final!*\n",
    "\n",
    "Uma estimativa para a temperatura ocorrida às $4:30$ é dada por:\n",
    "\n",
    "$$T(4.5) \\approx P(4.5) = 2.079999999999998\\cdot4.5 + 6.800000000000008 = 16.16000000000000.$$\n",
    "\n",
    "Portanto, $P(4.5) \\approx 16.2^{o}C$. (*Arredonde somente aqui!*)\n",
    "\n",
    "Agora, calculemos $E_{2} = \\sum_{i=1}^{6}(y_{i} - P(x_{i}))^{2}$.\n",
    "\n",
    "$$\\begin{array}{cccc}\n",
    "y_{i} \t& P(x_{i}) \t\t\t& (y_{i} - P(x_{i}))^{2}   \\\\\n",
    "6.2  \t& 6.800000000000008\t& 0.360000000000009 \t   \\\\\n",
    "9.3  \t& 8.880000000000006 & 0.176399999999995\t\t   \\\\\n",
    "11.2\t& 10.96000000000000\t& \\ \\ \\ \\ \\ \\ \\ \\ \\ \\ 5.759999999999754e-02\t   \\\\\n",
    "13.5\t& 13.04000000000000\t& 0.211599999999999\t\t   \\\\\n",
    "14.8\t& 15.12000000000000\t& 0.102399999999999\t       \\\\\n",
    "17.0\t& 17.20000000000000 & \\ \\ \\ \\ \\ \\ \\ \\ \\ \\ 3.999999999999829e-02\t   \\\\\n",
    "\t\t&\t\t\t\t\t& E_{2} = 0.947999999999999 \\\\\n",
    "\\end{array}$$\n",
    "\n",
    "Ao final deste capítulo, no **Exercício 2** e **Observação 1**, faremos um paralelo entre os erros em diferentes ajustes.\n",
    "\n",
    "Por fim, observe o gráfico constando da reta de ajuste e o valor estimado de $T(4.5)$:<br><br>\n",
    "\n",
    "<center> <img src=\"fig9-2.jpg\" alt=\"jpg_python\" width=\"500\" height=\"\"> </center>"
   ]
  },
  {
   "cell_type": "markdown",
   "id": "c8bb178f",
   "metadata": {},
   "source": [
    "#### Aproximação Polinomial"
   ]
  },
  {
   "cell_type": "markdown",
   "id": "ff718b8c",
   "metadata": {},
   "source": [
    "O problema algébrico de se aproximar um conjunto de dados $\\{ (x_{i}, y_{i}); i = 1, \\ldots, m \\}$, com um polinômio algébrico\n",
    "\n",
    "$$P_{n}(x) = a_{n}x^{n} + \\ldots +a_{1}x + a_{0},$$\n",
    "\n",
    "de grau $n < m - 1$ é tratado de modo semelhante. Neste caso, devemos achar $a_{0}, \\ldots, a_{n}$ de modo a minimizar\n",
    "\n",
    "$$E_{2} = \\sum_{i=1}^{m} (y_{i} - P_{n}(x_{i}))^{2}.$$\n",
    "\n",
    "Isso resulta no seguinte sistema de $n+1$ equações\n",
    "\n",
    "<font color='red'> $$\\left\\{ \\begin{array}{cc}\n",
    "a_{0}m + a_{1} \\sum x_{i}^{1} + a_{2} \\sum x_{i}^{2} + \\ldots + a_{n} \\sum x_{i}^{n} & = \\sum y_{i}\\\\\n",
    "a_{0}\\sum x_{i}^{1} + a_{1} \\sum x_{i}^{2} + a_{2} \\sum x_{i}^{3} + \\ldots + a_{n} \\sum x_{i}^{n+1} & \\, \\, \\, \\, = \\sum x_{i}y_{i}\\\\\n",
    "\\vdots & \\vdots \\\\\n",
    "a_{0}\\sum x_{i}^{n} + a_{1} \\sum x_{i}^{n+1} + a_{2} \\sum x_{i}^{n+2} + \\ldots + a_{n} \\sum x_{i}^{2n} & \\, \\, \\, \\, = \\sum x_{i}^{n}y_{i}\\\\\n",
    "\\end{array},\n",
    "\\right.$$</font><br>\n",
    "onde escrevemos <font color='red'>$\\sum_{i=1}^{m} = \\sum$.</font>"
   ]
  },
  {
   "cell_type": "markdown",
   "id": "b19b984b",
   "metadata": {},
   "source": [
    "#### <font color='blue'> Exemplo 1 </font>"
   ]
  },
  {
   "cell_type": "markdown",
   "id": "18a32bdd",
   "metadata": {},
   "source": [
    "<font color='blue'> Ajuste os dados da tabela a seguir com um polinômio discreto de mínimos quadrados de $2^{o}$ grau. Ao final apresente o erro quadrático.<br><br>\n",
    " $$\\begin{array}{ccccccc}\n",
    "i\t\t\t& 1\t\t\t& 2\t\t\t& 3\t\t\t& 4\t\t\t& 5\t\t\t& 6\t\\\\\n",
    "x_{i} \t\t& 0.0\t\t& 0.2\t\t& 0.4\t\t& 0.6\t\t& 0.8 \t\t& 1.0\t\t\\\\\n",
    "y_{i}\t\t& 1.0\t\t& 1.2\t\t& 1.5\t\t& 1.8\t\t& 2.2\t\t& 2.7\t\\\\\n",
    "\\end{array}$$"
   ]
  },
  {
   "cell_type": "markdown",
   "id": "b55f4bb3",
   "metadata": {},
   "source": [
    "##### <font color='blue'> Solução </font>"
   ]
  },
  {
   "cell_type": "markdown",
   "id": "2a8a00cb",
   "metadata": {},
   "source": [
    "<font color='blue'> Utilizemos a seguinte tabela auxiliar:<br><br>\n",
    " $$\\begin{array}{ccccccc}\n",
    "x_{i} \t\t& y_{i}\t& x_{i}^{2}\t& x_{i}^{3}\t& x_{i}^{4}\t\t& x_{i}y_{i}\t&\tx_{i}^{2}y_{i}\t\\\\\n",
    "0.0 \t\t& 1.0\t& 0\t\t\t& 0\t\t\t& 0\t\t\t\t& 0\t\t\t\t&\t0\t\t\t\t\\\\\n",
    "0.2 \t\t& 1.2\t& 0.04\t\t& 0.008\t\t& 0.0016\t\t& 0.24\t\t\t&\t0.048\t\t \\\\\n",
    "0.4 \t\t& 1.5\t& 0.16\t\t& 0.064\t\t& 0.0256\t\t& 0.6\t\t\t&\t0.24\t \\\\\n",
    "0.6 \t\t& 1.8\t& 0.36\t\t& 0.216\t\t& 0.1296\t\t& 1.08\t\t\t&\t0.648\t \\\\\n",
    "0.8   \t\t& 2.2\t& 0.64\t\t& 0.512\t\t& 0.4096\t\t& 1.76\t\t\t&\t1.408\t\t \\\\\n",
    "1.0   \t\t& 2.7\t& 1\t\t\t& 1\t\t\t& 1\t\t\t\t& 2.7\t\t\t&\t2.7\t\t \\\\\n",
    "{\\textbf{3}}&{\\textbf{10.4}}&{\\textbf{2.2}}&{\\textbf{1.8}}&{\\textbf{1.5664}}&{\\textbf{6.38}} & {\\textbf{5.044}}\n",
    "\\end{array}$$<br>\n",
    " Temos portanto, o seguinte sistema:<br><br>\n",
    " $$\\left\\{ \\begin{array}{ccccccc}\n",
    "6a_{0} & + & 3a_{1} & + & 2.2a_{2} & = &10.4 \\\\\n",
    "3a_{0} & + & 2.2a_{1} & + & 1.8a_{2} & = & 6.38 \\\\\n",
    "2.2a_{0} & + & 1.8a_{1} & + & 1.5664a_{2} & = & 5.044 \\\\\n",
    "\\end{array}\n",
    "\\right.$$<br>\n",
    " Onde obtemos $$P_{2}(x) = 0.848214285714286x^{2}+0.837500000000000x+1.003571428571429$$. Por fim, apresentemos o erro quadrático<br><br>\n",
    " $$\\begin{array}{cccc}\n",
    "y_{i} \t& P(x_{i}) \t\t\t& (y_{i} - P(x_{i}))^{2} & \\\\\n",
    "0.0  \t& 1.003571428571429\t& 1.275510204081941e-05\t & \\\\\n",
    "0.2  \t& 1.205000000000001 & 2.500000000000560e-05  & \\\\\n",
    "0.4\t\t& 1.474285714285715\t& 6.612244897958885e-04\t & \\\\\n",
    "0.6\t\t& 1.811428571428572\t& 1.306122448979674e-04\t & \\\\\n",
    "0.8\t\t& 2.216428571428572\t& 2.698979591836891e-04\t & \\\\\n",
    "1.0\t\t& 2.689285714285715\t& 1.147959183673366e-04\t & \\\\\n",
    "\t\t& \t\t\t\t\t& E_{2} = 1.214285714285707e-03\t & \\\\\n",
    "\\end{array}$$"
   ]
  },
  {
   "cell_type": "markdown",
   "id": "4cf9a5f1",
   "metadata": {},
   "source": [
    "#### <font color='purple'> Revisando 1"
   ]
  },
  {
   "cell_type": "markdown",
   "id": "65972833",
   "metadata": {},
   "source": [
    "<font color='purple'> Um sistema linear ($n \\times n$) pode ser posto na forma<br><br>\n",
    " $$AX = B,$$<br>\n",
    " em que $A$ é a matriz quadrada $n \\times n$ composta pelos coeficientes do sistema, $X$ é o vetor coluna composto de $n$ linhas representando as variáveis e $B$ é o vetor coluna, também de $n$ linhas, formado pelos termos independentes das variáveis. Caso seja possível e determinado ($det(A) \\neq 0$) tal sistema pode ser resolvido tomando-se o produto<br><br>\n",
    " $$X = A^{-1}B,$$<br>\n",
    " em que $A^{-1}$ é a matriz inversa de $A$. Mais a frente, neste matrial, abordaremos os sistemas lineares e outras formas de resolvê-los. Resolvemos na célula a seguir o seguinte sistema linear:<br><br>\n",
    " $$ \\left\\{\\begin{array}{ccccc}\n",
    "2x & + & 4y & = & 6\\\\\n",
    " x & - & y  & = & 0\\\\\n",
    "\\end{array}\\right.$$<br>\n",
    " cuja solução é $X = (1,1)^{T}$."
   ]
  },
  {
   "cell_type": "code",
   "execution_count": 10,
   "id": "833aacde",
   "metadata": {
    "ExecuteTime": {
     "end_time": "2024-01-23T21:48:58.181896Z",
     "start_time": "2024-01-23T21:48:58.176474Z"
    }
   },
   "outputs": [
    {
     "name": "stdout",
     "output_type": "stream",
     "text": [
      "Solução:[[1. 1.]]\n"
     ]
    }
   ],
   "source": [
    "import numpy as np\n",
    "\n",
    "A = np.array([[2,4],[1,-1]])\n",
    "B = np.array([[6],[0]])\n",
    "\n",
    "inv_A = np.linalg.inv(A)\n",
    "\n",
    "solucao = np.transpose(np.dot(inv_A,B))\n",
    "\n",
    "print(f'Solução:{solucao}')"
   ]
  },
  {
   "cell_type": "markdown",
   "id": "aced963c",
   "metadata": {},
   "source": [
    "#### Aproximação Exponencial"
   ]
  },
  {
   "cell_type": "markdown",
   "id": "a93baf82",
   "metadata": {},
   "source": [
    "Em certas situações os dados podem estar relacionados por uma relação exponencial da forma:\n",
    "\n",
    "$$y = be^{ax}.$$\n",
    "\n",
    "Aplicando $ln$ a ambos os membro da função acima, temos:<br><br>\n",
    "\n",
    "<font color='red'> $$ln(y) = ln(be^{ax}) \\Leftrightarrow ln(y) = ln(b) + ax \\Leftrightarrow Y = B + Ax,$$</font><br><br>\n",
    "\n",
    "onde <font color='red'>$Y = y$, $B = ln(b)$ e $A = a$</font>."
   ]
  },
  {
   "cell_type": "markdown",
   "id": "fc9cf5c1",
   "metadata": {},
   "source": [
    "#### <font color='blue'> Exemplo 2 </font>"
   ]
  },
  {
   "cell_type": "markdown",
   "id": "5d069081",
   "metadata": {},
   "source": [
    "<font color='blue'> Ajuste os dados da tabela a seguir com uma curva exponencial obtida pelo método dos m\\'inimos quadrados.<br><br>\n",
    " $$\\begin{array}{cccccc}\n",
    "i \t\t\t& 1\t\t\t& 2\t\t\t& 3\t\t\t& 4\t\t\t& 5\t\t\\\\\n",
    "x_{i}\t\t& 1.00\t\t& 1.25\t\t& 1.50\t\t& 1.75\t\t& 2.00\t\\\\\n",
    "y_{i}\t\t& 5.21\t\t& 5.81\t\t& 6.52\t\t& 7.47\t\t& 8.49\t\\\\\n",
    "\\end{array}$$"
   ]
  },
  {
   "cell_type": "markdown",
   "id": "119e00a5",
   "metadata": {},
   "source": [
    "##### <font color='blue'> Solução </font>"
   ]
  },
  {
   "cell_type": "markdown",
   "id": "4ec10557",
   "metadata": {},
   "source": [
    "<font color='blue'> Utilizemos a seguinte tabela auxiliar:<br><br>\n",
    " $$\\begin{array}{ccccc}\n",
    "i\t&\tx_{i} \t\t& ln(y_{i})\t\t\t\t& x_{i}^{2} \t\t\t& x_{i}ln(y_{i})\t\\\\\n",
    "1\t&\t1.00 \t\t& 1.650579855765276\t\t& 1.0000 \t\t\t\t& 1.650579855765276\t\t\t\t\\\\\n",
    "2\t&\t1.25 \t\t& 1.759580570863820\t\t& 1.5625 \t\t\t\t& 2.199475713579774\t\t\t\t\\\\\n",
    "3\t&\t1.50 \t\t& 1.874874375938562\t\t& 2.2500 \t\t\t\t& 2.812311563907842\t\t\t\t\\\\\n",
    "4\t&\t1.75 \t\t& 2.010894999144726\t\t& 3.0625 \t\t\t\t& 3.519066248503270\t\t\t\t\\\\\n",
    "5\t&\t2.00 \t\t& 2.138889000323256\t\t& 4.0000 \t\t\t\t& 4.277778000646512\t\t\t\t\\\\\n",
    "\\sum & {\\textbf{7.50}}\t\t& {\\textbf{9.434818802035640}}\t\t& {\\textbf{11.875}}\t\t\t& {\\textbf{14.45921138240267}}\t\\\\\n",
    "\\end{array}$$<br>\n",
    " Portanto, obtemos o seguinte sistema<br><br>\n",
    " $$\\left\\{ \\begin{array}{ccccccc}\n",
    "5B & + & 7.50A & = &9.434818802035640 \\\\\n",
    "7.50B & + & 11.875A & = & 14.45921138240267 \\\\\n",
    "\\end{array},\n",
    "\\right.$$<br>\n",
    " cuja solução é dada por $A = 0.491173086958742$, $B = 1.150204129969026$. Portanto, $b = e^{1.150204129969026} = 3.158837657314518$, $a = 0.491173086958742$ donde obtemos a seguinte função de aproximação<br><br>\n",
    " $$y = 3.1588376573145184e^{0.491173086958742x}.$$<br>\n",
    " Agora, calculemos $E_{2} = \\sum_{i=1}^{6}(y_{i} - P(x_{i}))^{2}$.<br><br>\n",
    " $$\\begin{array}{cccc}\n",
    "y_{i} \t& P(x_{i}) \t\t\t& (y_{i} - exp(x_{i}))^{2} \\\\\n",
    "5.21  \t& 5.162274190170836\t& 2.277752923849566e-03 \t \\\\\n",
    "5.81  \t& 5.836728716820470 & 7.144243028689210e-04\t\t \\\\\n",
    "6.52\t& 6.599301172073028\t& 6.288675892156119e-03\t \\\\\n",
    "7.47\t& 7.461504221400325\t& 7.217825401468603e-05\t\t \\\\\n",
    "8.49\t& 8.436354667608853\t& 2.877821687356645e-03\t\t \\\\\n",
    "\t\t&\t\t\t\t\t& E_{2} = 1.223085306024594e-02\n",
    "\t\\end{array}$$"
   ]
  },
  {
   "cell_type": "markdown",
   "id": "9f6df7f1",
   "metadata": {},
   "source": [
    "# <div style=\"margin-top: -20px;\">\n",
    "<hr style=\"border: 2px solid black;\">\n",
    "\n",
    "<font color='black'><span style=\"font-size: 22px;\"><strong>9.2 Implementações</strong></span></font>\n",
    "\n",
    "<hr style=\"border: 2px solid black;\">\n",
    "</div>"
   ]
  },
  {
   "cell_type": "markdown",
   "id": "b18d4c66",
   "metadata": {},
   "source": [
    "Apresentamos a seguir códigos que exibem as curvas de ajuste linear, polinomial (grau qualquer) e exponencial juntamente com seus respectivos gráficos."
   ]
  },
  {
   "cell_type": "markdown",
   "id": "e8c81bc7",
   "metadata": {},
   "source": [
    "#### <font color='darkblue'> Código Python 1: Ajuste Linenar</font>"
   ]
  },
  {
   "cell_type": "code",
   "execution_count": 40,
   "id": "59984139",
   "metadata": {
    "ExecuteTime": {
     "end_time": "2024-01-23T22:12:52.368324Z",
     "start_time": "2024-01-23T22:12:52.358001Z"
    }
   },
   "outputs": [],
   "source": [
    "import numpy as np\n",
    "import matplotlib.pyplot as plt\n",
    "\n",
    "def ajuste_linear(x, y):\n",
    "    x = np.array(x)\n",
    "    y = np.array(y)\n",
    "    ones = np.ones(len(x))\n",
    "\n",
    "    A = np.vstack([x, ones]).T\n",
    "    y = y[:, np.newaxis]\n",
    "    alpha = np.dot((np.dot(np.linalg.inv(np.dot(A.T, A)), A.T)), y)\n",
    "\n",
    "    if alpha[1, 0] >= 0:\n",
    "        sinal = '+'\n",
    "    else:\n",
    "        sinal = ''\n",
    "\n",
    "    S = np.sum((y - (alpha[0] * x[:, np.newaxis] + alpha[1])) ** 2)\n",
    "\n",
    "    # Plotting\n",
    "    plt.scatter(x, y, color='blue', label='Dados')\n",
    "    plt.plot(x, alpha[0] * x + alpha[1], color='red', label='Ajuste Linear')\n",
    "    plt.xlabel('x')\n",
    "    plt.ylabel('y')\n",
    "    plt.title('Ajuste Linear e Dados')\n",
    "    plt.legend()\n",
    "    plt.show()\n",
    "\n",
    "    return print(f'A reta de ajuste é dada por: y={round(alpha[0, 0], 13)}*x{sinal}{round(alpha[1, 0], 13)}. Além disso o erro quadrático é dado por {round(S, 13)}.')"
   ]
  },
  {
   "cell_type": "code",
   "execution_count": 41,
   "id": "0c73f491",
   "metadata": {
    "ExecuteTime": {
     "end_time": "2024-01-23T22:12:54.284981Z",
     "start_time": "2024-01-23T22:12:54.101213Z"
    }
   },
   "outputs": [
    {
     "data": {
      "image/png": "[encoded data removed]",
      "text/plain": [
       "<Figure size 640x480 with 1 Axes>"
      ]
     },
     "metadata": {},
     "output_type": "display_data"
    },
    {
     "name": "stdout",
     "output_type": "stream",
     "text": [
      "A reta de ajuste é dada por: y=2.08*x+6.8. Além disso o erro quadrático é dado por 0.948.\n"
     ]
    }
   ],
   "source": [
    "x = [0,1,2,3,4,5]\n",
    "y = [6.2,9.3,11.2,13.5,14.8,17.0]\n",
    "\n",
    "ajuste_linear(x,y)"
   ]
  },
  {
   "cell_type": "markdown",
   "id": "86524ba0",
   "metadata": {},
   "source": [
    "#### <font color='darkblue'> Código Python 2: Ajuste Polinomial</font>"
   ]
  },
  {
   "cell_type": "code",
   "execution_count": 43,
   "id": "9151e145",
   "metadata": {
    "ExecuteTime": {
     "end_time": "2024-01-23T22:26:46.291794Z",
     "start_time": "2024-01-23T22:26:46.285338Z"
    }
   },
   "outputs": [],
   "source": [
    "import numpy as np\n",
    "import matplotlib.pyplot as plt\n",
    "\n",
    "def ajuste_polinomial(x, y, grau):\n",
    "    x = np.array(x)\n",
    "    y = np.array(y)\n",
    "\n",
    "    # Criar a matriz A para o ajuste polinomial\n",
    "    A = np.vander(x, grau + 1)\n",
    "\n",
    "    # Encontrar os coeficientes do polinômio\n",
    "    coeficientes = np.linalg.lstsq(A, y, rcond=None)[0]\n",
    "\n",
    "    # Calcular o ajuste polinomial\n",
    "    y_ajustado = np.dot(A, coeficientes)\n",
    "\n",
    "    # Calcular o erro quadrático\n",
    "    S = np.sum((y - y_ajustado) ** 2)\n",
    "\n",
    "    # Plotting\n",
    "    plt.scatter(x, y, color='blue', label='Dados')\n",
    "    plt.plot(x, y_ajustado, color='red', label='Ajuste Polinomial')\n",
    "    plt.xlabel('x')\n",
    "    plt.ylabel('y')\n",
    "    plt.title(f'Ajuste Polinomial de Grau {grau}')\n",
    "    plt.legend()\n",
    "    plt.show()\n",
    "\n",
    "    # Formatando a string de equação\n",
    "    eq_str = \" + \".join([f\"{round(c, 13)}*x^{i}\" for i, c in enumerate(coeficientes[::-1])])\n",
    "    return print(f'A equação do ajuste polinomial é: y = {eq_str}. Além disso, o erro quadrático é {round(S, 13)}.')"
   ]
  },
  {
   "cell_type": "code",
   "execution_count": 44,
   "id": "ff17b29e",
   "metadata": {
    "ExecuteTime": {
     "end_time": "2024-01-23T22:26:48.977133Z",
     "start_time": "2024-01-23T22:26:48.318048Z"
    }
   },
   "outputs": [
    {
     "data": {
      "image/png": "[encoded data removed]",
      "text/plain": [
       "<Figure size 640x480 with 1 Axes>"
      ]
     },
     "metadata": {},
     "output_type": "display_data"
    },
    {
     "name": "stdout",
     "output_type": "stream",
     "text": [
      "A equação do ajuste polinomial é: y = 1.0035714285714*x^0 + 0.8375*x^1 + 0.8482142857143*x^2. Além disso, o erro quadrático é 0.0012142857143.\n"
     ]
    }
   ],
   "source": [
    "x = [0.0,0.2,0.4,0.6,0.8,1.0]\n",
    "y = [1.0,1.2,1.5,1.8,2.2,2.7]\n",
    "\n",
    "ajuste_polinomial(x, y, 2)"
   ]
  },
  {
   "cell_type": "markdown",
   "id": "1567ea14",
   "metadata": {},
   "source": [
    "#### <font color='darkblue'> Código Python 3: Ajuste Exponencial</font>"
   ]
  },
  {
   "cell_type": "code",
   "execution_count": 38,
   "id": "25d335b6",
   "metadata": {
    "ExecuteTime": {
     "end_time": "2024-01-23T22:12:35.358379Z",
     "start_time": "2024-01-23T22:12:35.350016Z"
    }
   },
   "outputs": [],
   "source": [
    "import numpy as np\n",
    "import matplotlib.pyplot as plt\n",
    "\n",
    "def ajuste_exponencial(x, y):\n",
    "    x = np.array(x)\n",
    "    y = np.array(y)\n",
    "\n",
    "    A = np.vstack([x, ones(len(x))]).T\n",
    "    beta, log_alpha = np.linalg.lstsq(A, log(y), rcond=None)[0]\n",
    "    alpha = exp(log_alpha)\n",
    "\n",
    "    S = np.sum((y - alpha * np.exp(beta * x)) ** 2)\n",
    "\n",
    "    # Plotting\n",
    "    plt.scatter(x, y, color='blue', label='Dados')\n",
    "    plt.plot(x, alpha * np.exp(beta * x), color='red', label='Ajuste Exponencial')\n",
    "    plt.xlabel('x')\n",
    "    plt.ylabel('y')\n",
    "    plt.title('Ajuste Exponencial e Dados')\n",
    "    plt.legend()\n",
    "    plt.show()\n",
    "\n",
    "    return print(f'A exponencial de ajuste é dada por: y = {round(alpha, 13)}e**({round(beta, 13)}x). Além disso o erro quadrático é dado por {round(S, 13)}.')"
   ]
  },
  {
   "cell_type": "code",
   "execution_count": 39,
   "id": "04f4309b",
   "metadata": {
    "ExecuteTime": {
     "end_time": "2024-01-23T22:12:39.804239Z",
     "start_time": "2024-01-23T22:12:39.604933Z"
    }
   },
   "outputs": [
    {
     "data": {
      "image/png": "[encoded data removed]",
      "text/plain": [
       "<Figure size 640x480 with 1 Axes>"
      ]
     },
     "metadata": {},
     "output_type": "display_data"
    },
    {
     "name": "stdout",
     "output_type": "stream",
     "text": [
      "A exponencial de ajuste é dada por: y = 3.1588376573145e**(0.4911730869587x). Além disso o erro quadrático é dado por 0.0122308530602.\n"
     ]
    }
   ],
   "source": [
    "x = [1.00,1.25,1.50,1.75,2.00]\n",
    "y = [5.21,5.81,6.52,7.47,8.49]\n",
    "\n",
    "ajuste_exponencial(x,y)"
   ]
  },
  {
   "cell_type": "markdown",
   "id": "b20447cd",
   "metadata": {},
   "source": [
    "# <div style=\"margin-top: -20px;\">\n",
    "<hr style=\"border: 2px solid black;\">\n",
    "\n",
    "<font color='black'><span style=\"font-size: 22px;\"><strong>9.3 Mínimos Quadrados no Excel</strong></span></font>\n",
    "\n",
    "<hr style=\"border: 2px solid black;\">\n",
    "</div>"
   ]
  },
  {
   "cell_type": "markdown",
   "id": "0d6d0253",
   "metadata": {},
   "source": [
    "O software Microsoft Excel contam com uma ferramenta bastante útil associada ao ajuste de curvas. Consideremos os dados correspondentes ao **Exemplo 1**. Neste caso, seguimos os seguintes passos:\n",
    "\n",
    "1. Dispomos os dados em duas colunas $x$ e $y$;<br><br>\n",
    "\n",
    "2. Selecione os dados e, em seguir, no menu *Inserir* clique em *Inserir Gráfico de Dispersão (X,Y) ou de Bolha* e novamente clique em *Dispersão*;\n",
    "\n",
    "Neste momento um gráfico de pontos aparece na tela. Continuando, apresentaremos uma forma de vermos as curvas de ajuste linear, polinomial de grau qualquer, exponencial entre outras.\n",
    "\n",
    "3. Dê um duplo clique sobre o gráfico. No menu que irá aparecer escolha a opção *Layout Rápido* e em seguida *Layout 9* (considerando o Office 2016);\n",
    "\n",
    "Neste momento aparecerá uma reta (aproximação linear), juntamente com sua equação e o valor $R^{2}$ (quanto mais perto de $1$ $R^{2}$ estiver, melhor será a aproximação). Para visualizar as demais opções siga o passo 4);\n",
    "\n",
    "4. Dê um duplo clique na reta de ajuste para escolher outras opções de ajuste.\n",
    "\n",
    "A tela final, considerando o **Exemplo 1** é mostrada na figura a seguir:<br><br>\n",
    "<center> <img src=\"fig9-3.jpg\" alt=\"jpg_python\" width=\"700\" height=\"\"> </center><br>\n",
    "\n",
    "Embora as células do Excel comportem até $15$ dígitos, os resultados finais, conforme se vê na figura dada, se apresentam em apenas $4$. Ocorre que $4$ dígitos são suficientes uma vez que temos em $y$ valore com $4$ casas decimais. Arredondar os coeficientes da função não é o ideal, mas dá para aceitar, não perdemos muita coisa.\n",
    "\n",
    "Uma alternativa para quem deseja obter de maneira rápida as funções de ajuste com maior precisão (inclusive algumas não apresentadas aqui) é a utilização da plataforma [PLANETCALC](https://planetcalc.com/5992/) na seção \"Function approximation with regression analysis\". Algumas repostas podem se diferir levemente, o que ocorre muito provavelmente por usarmos de forma híbrida o Excel e o Python para alguns cálculos."
   ]
  },
  {
   "cell_type": "markdown",
   "id": "124fe7b1",
   "metadata": {},
   "source": [
    "# <div style=\"margin-top: -20px;\">\n",
    "<hr style=\"border: 2px solid black;\">\n",
    "\n",
    "<font color='black'><span style=\"font-size: 22px;\"><strong>Exercícios</strong></span></font>\n",
    "\n",
    "<hr style=\"border: 2px solid black;\">\n",
    "</div>"
   ]
  },
  {
   "cell_type": "markdown",
   "id": "6dcb846f",
   "metadata": {},
   "source": [
    "#### Exercício 1"
   ]
  },
  {
   "cell_type": "markdown",
   "id": "560d5c5c",
   "metadata": {},
   "source": [
    "Encontre os polinômios de mínimos quadrados de graus $1$ e $2$ para os dados apresentados na tabela a seguir. Calcule o erro em cada caso. Apresente uma estimativa para $f(1.7)$ usando as curvas de ajuste obtidas.\n",
    "\n",
    "$$\\begin{array}{ccccccc}\n",
    "x_{i}\t\t& 1.0\t\t& 1.1\t\t& 1.3\t\t& 1.5\t\t& 1.9\t\t& 2.1\t\\\\\n",
    "y_{i}\t\t& 1.84\t\t& 1.96\t\t& 2.21\t\t& 2.45\t\t& 2.94\t\t& 3.18\t\\\\\n",
    "\\end{array}$$"
   ]
  },
  {
   "cell_type": "markdown",
   "id": "6d99acb2",
   "metadata": {},
   "source": [
    "#### Exercício 2"
   ]
  },
  {
   "cell_type": "markdown",
   "id": "2341ba53",
   "metadata": {},
   "source": [
    "Apresentados os dados\n",
    "\n",
    "$$\\begin{array}{ccccccccccc}\n",
    "x_{i}\t& 4.0\t& 4.2\t& 4.5\t& 4.7\t& 5.1\t& 5.5\t& 5.9\t& 6.3\t& 6.8\t& 7.1\t\\\\\n",
    "y_{i}\t& 102.56& 113.18& 130.11& 142.05& 167.53& 195.14& 224.87& 256.73& 299.50& 326.72\\\\\n",
    "\\end{array}$$\n",
    "\n",
    "a) Construa o polinômio de m\\'inimo quadrado de grau $1$ e calcule o erro.\n",
    "\n",
    "b) Construa o polinômio de m\\'inimo quadrado de grau $2$ e calcule o erro.\n",
    "\n",
    "c) Construa a aproximação de m\\'inimo quadrado da forma $be^{ax}$ e calcule o erro.\n",
    "\n",
    "d) Construa a aproximação de m\\'inimo quadrado da forma $bx^{a}$ e calcule o erro.\n",
    "\n",
    "*Dica: No item \"d\", aplique o $ln$ a ambos os membros de $y = bx^{a}$ obtendo a expressão $ln(y) = ln(b) + aln(x)$ . Em resumo, construiremos uma tabela repassando $x_{i}$ para $ln(x_{i})$, e $x_{i}^{2}$ para $(ln(x_{i}))^{2}$ e $y_{i}$ para $ln(y_{i})$. Depois retorne para a forma $y = bx^{a}$. Em caso de dúvida, consulte o professor.*"
   ]
  },
  {
   "cell_type": "markdown",
   "id": "6bafd2c9",
   "metadata": {},
   "source": [
    "# <div style=\"margin-top: -20px;\">\n",
    "<hr style=\"border: 2px solid black;\">\n",
    "\n",
    "<font color='black'><span style=\"font-size: 22px;\"><strong>Respostas dos Exercícios</strong></span></font>\n",
    "\n",
    "<hr style=\"border: 2px solid black;\">\n",
    "</div>"
   ]
  },
  {
   "cell_type": "markdown",
   "id": "b7fa964a",
   "metadata": {},
   "source": [
    "#### Respostas do Exercício 1"
   ]
  },
  {
   "cell_type": "markdown",
   "id": "4a66cf31",
   "metadata": {},
   "source": [
    "O polinômios de graus $1$ e $2$ são juntamente com os respectivos erros são: \n",
    "\n",
    "$y_{1} = 1.219621342512906x + 0.620895008605856$, $E_{2} = 2.719449225473183e-05$; \n",
    "\n",
    "$y_{2} =-1.085343228195123e-02x^{2} + 1.253293135435827x + 5.965807050093975e-01$, $E_{2} = 1.801484230055401e-05$."
   ]
  },
  {
   "cell_type": "markdown",
   "id": "c000cf83",
   "metadata": {},
   "source": [
    "#### Respostas do Exercício 2"
   ]
  },
  {
   "cell_type": "markdown",
   "id": "e66d9569",
   "metadata": {},
   "source": [
    "As curvas de ajuste e o erro são dados por:\n",
    "\n",
    "a) $y = 7.208451769539666e+01x-1.941382407320959e+02$, $E_{2} =  329.0131930338976$; \n",
    "\n",
    "b) $y = 6.618210918382164x^{2} -1.143523368298846x + 1.235560369700269$, $E_{2} = 1.442912885932507e-03$; \n",
    "\n",
    "c) $y = 24.25876025866294e^{3.188777799929138x}$, $E_{2} =417.6909953768654$; d) $y = 6.239029497195922x^{2.019541383008145}$, $E_{2} = 7.023205194437010e-03$."
   ]
  },
  {
   "cell_type": "markdown",
   "id": "c9c510ea",
   "metadata": {},
   "source": [
    "#### Observação 1"
   ]
  },
  {
   "cell_type": "markdown",
   "id": "6b46a557",
   "metadata": {},
   "source": [
    "Observando as respostas dos itens a) e c) do **Exercício 2** vemos que o ajuste linear e o ajuste exponencial não são adequados. Dentre os modelos apresentados, o que melhor se adéqua aos dados é o polinômio mínimo quadrado de grau $2$, pois o erro é menor que nos demais itens."
   ]
  },
  {
   "cell_type": "markdown",
   "id": "cc8c4eff",
   "metadata": {},
   "source": [
    "#### <font color='darkgreen'> Palavras dos Mestres</font>"
   ]
  },
  {
   "cell_type": "markdown",
   "id": "f397a5cd",
   "metadata": {},
   "source": [
    "<font color='darkgreen'> Por muitas vezes, ao estudarmos uma matéria passamos, em um primeiro momento, a tê-la como mais importante que as outras que vieram antes e, por muitas vezes as ignoramos. Provavelmente o aluno de Cálculo Numérico já tenha visto Laboratório de Física (presente na maior parte dos cursos de engenharia e alguns outros de exatas). Neste caso, recomenda-se que os cuidados vistos durante a matéria de Laboratório de Física ainda estejam presentes aqui durante esta matéria. Um cuidado que o estudante deve ter é perceber que medidas coletadas no mundo real apresentam certo erro. Neste caso, recomenda-se repassar o matéria de física que trata sobre o tratamento de erros, algarismos significativos etc. Embora apresentamos neste material valores contendo por volta de $16$ algarismos, nem todos poderiam ser significativos caso viessem de medições no mundo real. Neste caso, o ideal ao se trabalhar com dados coletados no mundo real é escrever as *respostas finais* com o número mais adequado de algarismos significativos associados aos instrumentos de medição e equipamentos de cálculos utilizados."
   ]
  },
  {
   "cell_type": "markdown",
   "id": "312dabe8",
   "metadata": {},
   "source": [
    "# <div style=\"margin-top: -20px;\">\n",
    "<hr style=\"border: 2px solid black;\">\n",
    "\n",
    "<font color='black'><span style=\"font-size: 22px;\"><strong>Vídeo Aulas</strong></span></font>\n",
    "\n",
    "<hr style=\"border: 2px solid black;\">\n",
    "</div>"
   ]
  },
  {
   "cell_type": "markdown",
   "id": "2fe9e8c0",
   "metadata": {},
   "source": [
    "Clicando nos links a seguir você será redirecionado às aulas referentes a este capítulo:\n",
    "\n",
    "[Introdução ao Método dos Mínimos Quadrados (Estudo de Caso)](https://youtu.be/r0g9dm3pArA)\n",
    "\n",
    "[Dedução da Fórmula de Ajuste Linear Via Mínimos Quadrados](https://youtu.be/hYWRqLwQx6g)\n",
    "\n",
    "[Exemplo Envolvendo o Ajuste Linear Via Mínimos Quadrados](https://youtu.be/rIRQOcasIvw)\n",
    "\n",
    "[Exemplo Envolvendo o Ajuste Linear Via Mínimos Quadrados Usando o Excel](https://youtu.be/gdGIBf1DW_A)\n",
    "\n",
    "[Ajuste Polinomial Via Mínimos Quadrados (Caso Geral - Excel)](https://youtu.be/j8EAXV5O_No)\n",
    "\n",
    "[Ajuste Exponencial Via Mínimos Quadrados](https://youtu.be/T52s8EMOWv4)\n",
    "\n",
    "[Escolha do Melhor Modelo Via Mínimos Quadrados Usando o Excel](https://youtu.be/WK2Ty2Y6mYo)"
   ]
  }
 ],
 "metadata": {
  "kernelspec": {
   "display_name": "Python 3 (ipykernel)",
   "language": "python",
   "name": "python3"
  },
  "language_info": {
   "codemirror_mode": {
    "name": "ipython",
    "version": 3
   },
   "file_extension": ".py",
   "mimetype": "text/x-python",
   "name": "python",
   "nbconvert_exporter": "python",
   "pygments_lexer": "ipython3",
   "version": "3.11.5"
  },
  "varInspector": {
   "cols": {
    "lenName": 16,
    "lenType": 16,
    "lenVar": 40
   },
   "kernels_config": {
    "python": {
     "delete_cmd_postfix": "",
     "delete_cmd_prefix": "del ",
     "library": "var_list.py",
     "varRefreshCmd": "print(var_dic_list())"
    },
    "r": {
     "delete_cmd_postfix": ") ",
     "delete_cmd_prefix": "rm(",
     "library": "var_list.r",
     "varRefreshCmd": "cat(var_dic_list()) "
    }
   },
   "types_to_exclude": [
    "module",
    "function",
    "builtin_function_or_method",
    "instance",
    "_Feature"
   ],
   "window_display": false
  }
 },
 "nbformat": 4,
 "nbformat_minor": 5
}

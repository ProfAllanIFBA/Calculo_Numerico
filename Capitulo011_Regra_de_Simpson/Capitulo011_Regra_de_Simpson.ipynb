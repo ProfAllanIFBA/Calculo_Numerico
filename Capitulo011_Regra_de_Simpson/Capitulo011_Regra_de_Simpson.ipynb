{
 "cells": [
  {
   "cell_type": "markdown",
   "id": "d4ea28a8",
   "metadata": {
    "slideshow": {
     "slide_type": "slide"
    }
   },
   "source": [
    "<center> <img src=\"logo_ifba.jpg\" alt=\"jpg_python\" width=\"100\" height=\"200\"> </center>\n",
    "<br><br>\n",
    "<div align=\"center\"><span style=\"font-size: 26px;\"><strong>Cálculo Numérico <br></strong></span></div> <br>\n",
    "<center> <img src=\"python_gif.gif\" alt=\"gif_python\" width=\"80\"> </center>\n"
   ]
  },
  {
   "cell_type": "markdown",
   "id": "d76184a7",
   "metadata": {
    "slideshow": {
     "slide_type": "slide"
    }
   },
   "source": [
    "<div style=\"border: 2px solid black; padding: 10px; width: 95%; background-color: lightgray; display: flex; align-items: center;\">\n",
    "    <h1 style=\"color: red; text-align: center; margin: auto;\">\n",
    "        Capítulo 11: Regra de Simpson\n",
    "    </h1>\n",
    "</div>\n",
    "\n",
    "<font color='red'></font>\n",
    "<a href=\"\"></a>"
   ]
  },
  {
   "cell_type": "markdown",
   "id": "9bfaf7b8",
   "metadata": {},
   "source": [
    "# <div style=\"margin-top: -20px;\">\n",
    "<hr style=\"border: 2px solid black;\">\n",
    "\n",
    "<font color='black'><span style=\"font-size: 22px;\"><strong>12.1 A Regra de Simpson</strong></span></font>\n",
    "\n",
    "<hr style=\"border: 2px solid black;\">\n",
    "</div>"
   ]
  },
  {
   "cell_type": "markdown",
   "id": "eb41e1f3",
   "metadata": {},
   "source": [
    "A regra dos trapézios utiliza polinômios interpolantes de grau $1$, uma vez que trabalha de \"dois em dois\" pontos. A Regra de Simpson, por sua vez, utiliza polinômios de grau $2$. Considere o polinômio interpolante de grau $2$ que passa pelos pontos $x_{0}$, $x_{1}$, $x_{2}$\n",
    "\n",
    "$$P(x) = f(x_{0}) \\frac{(x-x_{1})(x-x_{2})}{(x_{0}-x_{1})(x_{0} - x_{2})} + f(x_{1}) \\frac{(x-x_{0})(x-x_{2})}{(x_{1}-x_{0})(x_{1} - x_{2})} + f(x_{2}) \\frac{(x-x_{0})(x-x_{1})}{(x_{2}-x_{0})(x_{2} - x_{1})}$$\n",
    "\n",
    "Integrando $P(x)$ de $x_{0}$ a $x_{2}$, temos\n",
    "\n",
    "<font color='red'> $$\\int_{x_{0}}^{x_{2}} P(x) dx = \\frac{h}{3}(f(x_{0}) + 4f(x_{1}) + f(x_{2})).$$ </font>\n",
    "\n",
    "Deixamos a cargo do leitor mais perspicaz a dedução da fórmula acima. Sua dedução segue a mesma linha da vista na dedução da Regra do Trapézio."
   ]
  },
  {
   "cell_type": "markdown",
   "id": "978f6576",
   "metadata": {},
   "source": [
    "#### Interpretação Geométrica"
   ]
  },
  {
   "cell_type": "markdown",
   "id": "b0a45f9c",
   "metadata": {},
   "source": [
    "A figura a seguir nos ajuda a entender a interpretação geométrica da Regra de Simpson:<br><br>\n",
    "\n",
    "<center> <img src=\"fig11-1.jpg\" alt=\"jpg_python\" width=\"500\" height=\"\"> </center>"
   ]
  },
  {
   "cell_type": "markdown",
   "id": "bcbc4028",
   "metadata": {},
   "source": [
    "#### Estimativa Para o Erro"
   ]
  },
  {
   "cell_type": "markdown",
   "id": "a871f04d",
   "metadata": {},
   "source": [
    "É possível mostrar, usando o polinômio de Taylor que:<br><br>\n",
    "\n",
    "<font color='red'>$$E_{\\int_{x_{0}}^{x_{2}} f(x) dx} = -\\frac{f^{(4)}(\\beta)h^{5}}{90}.$$</font>\n",
    "\n",
    "Para detalhes da demonstração consulte $[1]$, pg. 215-216.\n",
    "\n",
    "Da mesma forma que na Regra do Trapézio, utilizaremos uma cota superior para $E_{\\int_{x_{0}}^{x_{2}} f(x) dx}$ dada por<br><br>\n",
    "\n",
    "<font color='red'>$$E_{max} = \\frac{Mh^{5}}{90},$$</font><br>\n",
    "\n",
    "em que $M \\geq |f^{(4)}(x)|$ para todo $x \\in [x_{0},x_{2}]$."
   ]
  },
  {
   "cell_type": "markdown",
   "id": "c419c6ee",
   "metadata": {},
   "source": [
    "#### <font color='blue'> Exemplo 1 </font>"
   ]
  },
  {
   "cell_type": "markdown",
   "id": "139f0509",
   "metadata": {},
   "source": [
    "<font color='blue'> Aplique a regra de Simpson para calcular $\\int_{x_{0}}^{x_{2}} f(x) dx$, onde $x_{0} = \\frac{\\pi}{3}$, $x_{1} = \\frac{7\\pi}{12}$, $x_{2} = \\frac{5\\pi}{6}$ e $f(x) = sen(x)$. Em seguida compare com o valor exato e apresente uma cota superior para o erro."
   ]
  },
  {
   "cell_type": "markdown",
   "id": "c7a9d45f",
   "metadata": {},
   "source": [
    "##### <font color='blue'> Solução </font>"
   ]
  },
  {
   "cell_type": "markdown",
   "id": "cebda448",
   "metadata": {},
   "source": [
    "<font color='blue'> Temos que $h = x_{1} - x_{0} = 7\\pi/12 - \\pi/3 = \\pi/4$.<br><br>\n",
    " $$\\int_{\\pi/3}^{5\\pi/6} sen(x) dx = \\frac{\\pi/4}{3}(sen(\\pi/3) + 4sen(7\\pi/12) + sen(5\\pi/6)) = 1.369139774356314.$$<br>\n",
    " O erro exato é dado por:<br><br>\n",
    " $$E_{ext} = 3.114370571875025e-03.$$<br>\n",
    " Sabemos que $f^{(4)}(x) = sen(x)$ é tal que $\\left|f^{(4)}\\left(\\frac{\\pi}{2}\\right) \\right| \\geq |f^{(4)}(x)|$ para todo $x \\in (\\pi/3,5\\pi/6)$. Logo,<br><br>\n",
    " $$E_{max} = \\left| \\frac{1\\cdot\\left(\\frac{7\\pi}{12} - \\frac{\\pi}{3}\\right)^{5}}{90}\\right| = 3.320526093590293e-03.$$"
   ]
  },
  {
   "cell_type": "markdown",
   "id": "a70e42d1",
   "metadata": {},
   "source": [
    "# <div style=\"margin-top: -20px;\">\n",
    "<hr style=\"border: 2px solid black;\">\n",
    "\n",
    "<font color='black'><span style=\"font-size: 22px;\"><strong>11.2 Regra de Simpson Generalizada</strong></span></font>\n",
    "\n",
    "<hr style=\"border: 2px solid black;\">\n",
    "</div>"
   ]
  },
  {
   "cell_type": "markdown",
   "id": "baf235cb",
   "metadata": {},
   "source": [
    "Para $n+1$ pontos $x_{0}, \\ldots, x_{n}$, com $n$ par, temos $n$ integrais de polinômios interpolantes de grau $2$:\n",
    "\n",
    "$$\\int_{x_{0}}^{x_{n}} f(x) dx \\approx \\int_{x_{0}}^{x_{2}} P_{1}(x) dx + \\int_{x_{2}}^{x_{4}} P_{2}(x) dx + \\ldots + \\int_{x_{n-2}}^{x_{n}} P_{n}(x) dx=$$\n",
    "\n",
    "$$= \\frac{h}{3}(f(x_{0}) + 4f(x_{1}) + f(x_{2})) +  \\frac{h}{3}(f(x_{2}) + 4f(x_{3}) + f(x_{4})) +  \\frac{h}{3}(f(x_{4}) + 4f(x_{5}) + f(x_{6}))+ \\ldots +  \\frac{h}{3}(f(x_{n-2}) + 4f(x_{n-1}) + f(x_{n})) = $$\n",
    "\n",
    "$$=\\frac{h}{3}(f(x_{0}) + 4f(x_{1}) + 2f(x_{2}) + 4f(x_{3}) + 2f(x_{4}) + \\ldots  + 4f(x_{n-1}) + f(x_{n})).$$\n",
    "\n",
    "Obtemos portanto,<br><br>\n",
    "\n",
    "<font color='red'>$$\\int_{x_{0}}^{x_{n}} P(x) dx = \\frac{h}{3}(f(x_{0}) + 4f(x_{1}) + 2f(x_{2}) + 4f(x_{3}) + 2f(x_{4}) + \\ldots  + 4f(x_{n-1}) + f(x_{n})).$$</font>"
   ]
  },
  {
   "cell_type": "markdown",
   "id": "7d92b609",
   "metadata": {},
   "source": [
    "#### Interpretação Geométrica"
   ]
  },
  {
   "cell_type": "markdown",
   "id": "2356d061",
   "metadata": {},
   "source": [
    "Afigura a seguir nos fornece uma interpretação geométrica do funcionamento da Regra de Simpson Generalizada:<br><br>\n",
    "\n",
    "<center> <img src=\"fig11-2.jpg\" alt=\"jpg_python\" width=\"500\" height=\"\"> </center>"
   ]
  },
  {
   "cell_type": "markdown",
   "id": "28101c2b",
   "metadata": {},
   "source": [
    "#### Estimativa Para o Erro"
   ]
  },
  {
   "cell_type": "markdown",
   "id": "91f28e8a",
   "metadata": {},
   "source": [
    "Podemos obter uma cota superior para erro quando se aplica a regra de Simpson Generalizada. De fato, para $n$ par, tomando $I_{1} = [x_{0},x_{2}]$,  $I_{2} = [x_{2},x_{4}]$,  $I_{3} = [x_{5},x_{6}]$,...  $I_{\\frac{n}{2}} = [x_{n-2},x_{n}]^{\\large*}$, temos\n",
    "\n",
    "$$|E| = |\\sum_{i=1}^{n/2} E_{I_{i}}|  = |E_{I_{1}} + E_{I_{2}} + \\ldots + E_{I_{n/2}}| = \\left|-\\frac{h^{5}f^{(4)}(\\beta_{1})}{90} -\\frac{h^{5}f^{(4)}(\\beta_{2})}{90} - \\ldots  -\\frac{h^{5}f^{(4)}(\\beta_{n/2})}{90}\\right| \\leq $$\n",
    "\n",
    "$$\\leq \\frac{h^{5}}{90}|f^{(4)}(\\beta_{1})| +\\frac{h^{5}}{90}|f^{(4)}(\\beta_{2})| + \\ldots  + \\frac{h^{5}}{90}|f^{(4)}(\\beta_{n/2})| \\leq \\frac{h^{3}}{12}M +\\frac{h^{5}}{90}M + \\ldots  + \\frac{h^{5}}{90}M,$$\n",
    "\n",
    "com $M \\geq \\underset{0\\leq i \\leq n/2}{max}\\{|f^{(4)}(\\beta_{i})|\\}$, $\\beta_{i} \\in [x_{i},x_{i+2}]$. Continuando, temos\n",
    "\n",
    "$$\\frac{h^{5}}{90}M +\\frac{h^{5}}{90}M + \\ldots  + \\frac{h^{5}}{90}M = \\frac{n}{2}\\frac{h^{5}}{90}M = nh \\frac{h^{4}}{180}M = (b-a)\\frac{h^{4}}{180}M = (b-a)\\frac{h^{4}}{180}M$$\n",
    "\n",
    "onde usamos o fato que $h = \\frac{b-a}{n}$, isto é, $nh = b-a$. Portanto\n",
    "\n",
    "<font color='red'>$$E_{max} = (b-a)\\frac{h^{4}}{180}M.$$ </font>\n",
    "\n",
    "Contudo, para termos uma boa cota máxima (cota não muito \"grande\") devemos tentar obter $M$ tal que\n",
    "\n",
    "$$M = \\underset{0\\leq i \\leq n/2}{max}\\{|f^{(4)}(\\beta_{i})|\\}.$$"
   ]
  },
  {
   "cell_type": "markdown",
   "id": "c91806a0",
   "metadata": {},
   "source": [
    "#### Observação 1"
   ]
  },
  {
   "cell_type": "markdown",
   "id": "338646b4",
   "metadata": {},
   "source": [
    "$^{\\large *}$Note que poderíamos, ao invés de escrever  $I_{1} = [x_{0},x_{2}]$,  $I_{2} = [x_{2},x_{4}]$, $I_{3} = [x_{5},x_{6}]$ ...  $I_{\\frac{n}{2}} = [x_{n-2},x_{n}]$, escrevermos $I_{1} = [x_{0},x_{2}]$,  $I_{2} = [x_{2},x_{4}]$, ...  $I_{n} = [x_{2n-2},x_{2n}]$. Esse jogo de índices se deve ao fato de cada parábola necessitar de três pontos ao invés de $2$ como ocorria na regra do trapézio em que cada trapézio da cobertura do intervalo $[a,b]$ necessitava apenas de dois pontos."
   ]
  },
  {
   "cell_type": "markdown",
   "id": "557e263a",
   "metadata": {},
   "source": [
    "#### <font color='blue'> Exemplo 2 </font>"
   ]
  },
  {
   "cell_type": "markdown",
   "id": "2c4a533b",
   "metadata": {},
   "source": [
    "<font color='blue'> Aplique a Regra de Simpson à integral $\\int_{\\frac{\\pi}{3}}^{\\frac{5\\pi}{6}}sen(x) dx$ considerando os pontos $x_{0} = \\frac{\\pi}{3}$, $x_{1} = \\frac{11\\pi}{24}$, $x_{2} = \\frac{7\\pi}{12}$, $x_{3} = \\frac{17\\pi}{24}$ e $x_{4} = \\frac{5\\pi}{6}$. Obtenha o erro exato e uma cota superior para o erro."
   ]
  },
  {
   "cell_type": "markdown",
   "id": "91bd69db",
   "metadata": {},
   "source": [
    "##### <font color='blue'> Solução </font>"
   ]
  },
  {
   "cell_type": "markdown",
   "id": "5ca827f3",
   "metadata": {},
   "source": [
    "<font color='blue'> Temos que<br><br>\n",
    " $$\\int_{\\frac{\\pi}{3}}^{\\frac{5\\pi}{6}} P(x) dx = \\frac{\\frac{\\pi}{8}}{3}\\left(f\\left(\\frac{\\pi}{3} \\right) + 4f\\left(\\frac{11\\pi}{24} \\right) + 2f\\left( \\frac{7\\pi}{12}\\right) + 4f\\left(\\frac{17\\pi}{24} \\right) + f\\left(\\frac{5\\pi}{6} \\right)\\right) = 1.366209250278155.$$<br>\n",
    " Temos que o erro exato é dado por:<br><br>\n",
    " $$E_{ext} = 1.838464937160555e-04$$<br>\n",
    " Usando a estimativa $(b-a)\\frac{h^{4}}{180}M$ e $f^{(4)}(x) = sen(x)$, temos que que uma cota para o erro é dada por:<br><br>\n",
    " $$E_{ext} = \\left(\\frac{5\\pi}{6} - \\frac{\\pi}{3}\\right) \\frac{f^{(4)}\\left(\\frac{\\pi}{2}\\right)\\left(\\frac{11\\pi}{24} - \\frac{\\pi}{3}\\right)^{4}}{180} = 2.075328808493934e-04.$$"
   ]
  },
  {
   "cell_type": "markdown",
   "id": "6475bdf9",
   "metadata": {},
   "source": [
    "#### <font color='blue'> Exemplo 3 </font>"
   ]
  },
  {
   "cell_type": "markdown",
   "id": "818643ce",
   "metadata": {},
   "source": [
    "<font color='blue'> Quantos pontos do intervalo $[0,1]$ são necessários para estimarmos a integral<br><br>\n",
    " $$\\int_{0}^{1}e^{-x^{2}}dx$$<br>\n",
    " com erro menor ou igual a $10^{-4}$ usando a regra de Simpson?"
   ]
  },
  {
   "cell_type": "markdown",
   "id": "7c163e9c",
   "metadata": {},
   "source": [
    "##### <font color='blue'> Solução </font>"
   ]
  },
  {
   "cell_type": "markdown",
   "id": "357d1542",
   "metadata": {},
   "source": [
    "<font color='blue'> Devemos ter que $(b-a)\\frac{h^{4}}{180}M \\leq 10^{-4}$. Temos que $f(x) = e^{-x^{2}}$ é tal que $f^{(4)}(x) = 4e^{-x^{2}}(4x^{4} - 12x^{2} + 3)$, donde segue<br><br>\n",
    " $$|f^{(4)}(x)| = |4e^{-x^{2}}(4x^{4} - 12x^{2} + 3)| \\leq |4e^{-0^{2}}(4\\cdot0^{4} - 12\\cdot0^{2} + 3)| = 12 \\Rightarrow M = 12.$$<br>\n",
    " *Dê uma olhada no gráfico de $f^{(4)}(x)$.*<br><br>\n",
    " Assim,<br><br>\n",
    " $$(b-a)\\frac{h^{4}}{180}M = 10^{-4} \\Rightarrow (1-0)\\frac{h^{4}}{180}\\cdot 12 = 10^{-4} \\Rightarrow h^{4} = 15\\cdot10^{-4} \\Rightarrow h = 0.196798967126543$$<br>\n",
    " Como $n = \\frac{b-a}{h}$, temos<br><br>\n",
    " $$n = \\frac{1-0}{0.196798967126543}\\uparrow = 5.081327481546147\\uparrow = 6.$$<br>\n",
    " Portanto, precisaremos de pelo menos uma malha com $6$ pontos para atingirmos uma estimativa da integral dada com precisão de $10^{-4}$."
   ]
  },
  {
   "cell_type": "markdown",
   "id": "8a52c648",
   "metadata": {},
   "source": [
    "# <div style=\"margin-top: -20px;\">\n",
    "<hr style=\"border: 2px solid black;\">\n",
    "\n",
    "<font color='black'><span style=\"font-size: 22px;\"><strong>Implementações</strong></span></font>\n",
    "\n",
    "<hr style=\"border: 2px solid black;\">\n",
    "</div>"
   ]
  },
  {
   "cell_type": "markdown",
   "id": "acee557e",
   "metadata": {},
   "source": [
    "Apresentaremos a seguir um programa que nos possibilitará calcular a integral aproximada via regra de Simpson."
   ]
  },
  {
   "cell_type": "markdown",
   "id": "750035c6",
   "metadata": {},
   "source": [
    "#### <font color='darkblue'> Código Python: Regra de Simpson</font>"
   ]
  },
  {
   "cell_type": "code",
   "execution_count": 4,
   "id": "922fa73f",
   "metadata": {
    "ExecuteTime": {
     "end_time": "2024-02-19T11:56:43.276755Z",
     "start_time": "2024-02-19T11:56:43.038571Z"
    }
   },
   "outputs": [],
   "source": [
    "from numpy import*\n",
    "\n",
    "def simpson(f, a, b, n):\n",
    "\n",
    "        F = lambda x: eval(f)\n",
    "        a = float(a)\n",
    "        b = float(b)\n",
    "        n = int(n)\n",
    "\n",
    "        h = (b - a) / (2 * n)\n",
    "        x = linspace(a, b, 2 * n + 1)\n",
    "\n",
    "        I_simp = (h / 3) * (F(x[0]) + 2 * sum(F(x[2:(2 * n) - 1:2])) + 4 * sum(F(x[1:(2 * n):2])) + F(x[(2 * n)]))\n",
    "        return print(f'A regra do simpson, para n = {n} ({n} parábolas ou {2 * n + 1} pontos), aplicada a f(x) = {f}, no '\n",
    "                     f'intervalo [{round(a, 13)},{round(b, 13)}] é igula a {I_simp}.')\n"
   ]
  },
  {
   "cell_type": "code",
   "execution_count": 6,
   "id": "54781f35",
   "metadata": {
    "ExecuteTime": {
     "end_time": "2024-02-19T11:56:59.290975Z",
     "start_time": "2024-02-19T11:56:59.261519Z"
    }
   },
   "outputs": [
    {
     "name": "stdout",
     "output_type": "stream",
     "text": [
      "A regra do simpson, para n = 1 (1 parábolas ou 3 pontos), aplicada a f(x) = sin(x), no intervalo [1.0471975511966,2.6179938779915] é igula a 1.3691397743563145.\n"
     ]
    }
   ],
   "source": [
    "simpson('sin(x)',pi/3,5*(pi/6),1)"
   ]
  },
  {
   "cell_type": "code",
   "execution_count": 7,
   "id": "20016a09",
   "metadata": {
    "ExecuteTime": {
     "end_time": "2024-02-19T11:57:26.218056Z",
     "start_time": "2024-02-19T11:57:26.213522Z"
    }
   },
   "outputs": [
    {
     "name": "stdout",
     "output_type": "stream",
     "text": [
      "A regra do simpson, para n = 2 (2 parábolas ou 5 pontos), aplicada a f(x) = sin(x), no intervalo [1.0471975511966,2.6179938779915] é igula a 1.3662092502781553.\n"
     ]
    }
   ],
   "source": [
    "simpson('sin(x)',pi/3,5*(pi/6),2)"
   ]
  },
  {
   "cell_type": "markdown",
   "id": "bc093050",
   "metadata": {},
   "source": [
    "#### Observação 2"
   ]
  },
  {
   "cell_type": "markdown",
   "id": "41022e4b",
   "metadata": {},
   "source": [
    "Note que, para uma partição composta de $3$ pontos, $x_{0}$, $x_{1}$ e $x_{2}$ atribuímos o valor $1$ para $n$. Isso decorre do fato de o algoritmo tomar a quantidade de pontos como sendo $2*n+1$, isto é, para $n=1$ temos $2\\cdot1+1 = 3$ pontos. Para $n=2$, temos $2\\cdot2+1 = 5$ pontos."
   ]
  },
  {
   "cell_type": "markdown",
   "id": "c705b37c",
   "metadata": {},
   "source": [
    "# <div style=\"margin-top: -20px;\">\n",
    "<hr style=\"border: 2px solid black;\">\n",
    "\n",
    "<font color='black'><span style=\"font-size: 22px;\"><strong>Exercícios</strong></span></font>\n",
    "\n",
    "<hr style=\"border: 2px solid black;\">\n",
    "</div>"
   ]
  },
  {
   "cell_type": "markdown",
   "id": "b00ee13a",
   "metadata": {},
   "source": [
    "#### Execício 1"
   ]
  },
  {
   "cell_type": "markdown",
   "id": "1d279442",
   "metadata": {},
   "source": [
    "Aproxime as seguintes integrais utilizando a regra de Simpson.\n",
    "\n",
    "a) $\\int_{0.5}^{1} x^{4} dx$, $x_{0} = 0.5$, $x_{1} = 0.75$, $x_{2} = 1$\n",
    "\n",
    "b) $\\int_{0}^{0.5} \\frac{2}{x-4} dx$, $x_{0} = 0$, $x_{1} = 0.25$, $x_{2} = 0.5$\n",
    "\n",
    "c) $\\int_{0}^{1} x^{2}e^{-x} dx$, $x_{0} = 0$, $x_{1} = 0.5$, $x_{2} = 1$\n",
    "\n",
    "d) $\\int_{0}^{\\pi/4} xsen(x) dx$, $x_{0} = 0$, $x_{1} = \\frac{\\pi}{8}$, $x_{2} = \\frac{\\pi}{4}$"
   ]
  },
  {
   "cell_type": "markdown",
   "id": "c2cb1766",
   "metadata": {},
   "source": [
    "#### Execício 2"
   ]
  },
  {
   "cell_type": "markdown",
   "id": "44d9b85b",
   "metadata": {},
   "source": [
    "Encontre uma limitante para o erro no **Exercício 1** e compare com o erro exato."
   ]
  },
  {
   "cell_type": "markdown",
   "id": "9d1dadfd",
   "metadata": {},
   "source": [
    "#### Execício 3"
   ]
  },
  {
   "cell_type": "markdown",
   "id": "9071f821",
   "metadata": {},
   "source": [
    "Use a $1^{a}$ regra de Simpson para aproximar $\\int_{0}^{2} xe^{x} dx$\n",
    "\n",
    "a) usando $h = 0.25$\n",
    "\n",
    "b) usando $h = 0.125$"
   ]
  },
  {
   "cell_type": "markdown",
   "id": "7ce395a2",
   "metadata": {},
   "source": [
    "# <div style=\"margin-top: -20px;\">\n",
    "<hr style=\"border: 2px solid black;\">\n",
    "\n",
    "<font color='black'><span style=\"font-size: 22px;\"><strong>Respostas dos Exercícios</strong></span></font>\n",
    "\n",
    "<hr style=\"border: 2px solid black;\">\n",
    "</div>"
   ]
  },
  {
   "cell_type": "markdown",
   "id": "9ae3b06c",
   "metadata": {},
   "source": [
    "#### Resposta do Exercício 1"
   ]
  },
  {
   "cell_type": "markdown",
   "id": "bef7206d",
   "metadata": {},
   "source": [
    "a) $0.194010416666667$\n",
    "\n",
    "b) $-0.267063492063492$\n",
    "\n",
    "c) $0.162401683480679$\n",
    "\n",
    "d) $0.151382628919040$"
   ]
  },
  {
   "cell_type": "markdown",
   "id": "1a2e7351",
   "metadata": {},
   "source": [
    "#### Resposta do Exercício 2"
   ]
  },
  {
   "cell_type": "markdown",
   "id": "e3c10205",
   "metadata": {},
   "source": [
    "Os erros exatos e as cotas para o erro:\n",
    "\n",
    "a) $2.604166666669849e-04$ e $2.604166666666667e-04$ \n",
    "\n",
    "b) $7.068144470268045e-07$ e $9.916503044366435e-07$ \n",
    "\n",
    "c) $1.798889337890991e-03$ e $4.166666666666667e-03$\n",
    "\n",
    "d) $-3.637849977120022e-04$ e $-4.150657616987866e-04$\n",
    "\n",
    "*Dica: a) $|[x^{4}]^{(4)}| = 24$ atinge seu máximo em qualquer ponto do intervalo $[0.5,1]$, b) $\\left|\\left[\\frac{2}{x-4}\\right]^{4}\\right| = \\frac{48}{(x-4)^{5}}$ atinge seu máximo em $x=0.5$, c) $|[x^{2}e^{-x}]^{(4)}|= e^{-x} (x^{2} - 8x + 12)$ atinge seu máximo em $x=0$, d) $|[xsen(x)]^{(4)}| = xsen(x) - 4cos(x)$ atinge seu máximo em $x=0$.*"
   ]
  },
  {
   "cell_type": "markdown",
   "id": "79063c8b",
   "metadata": {},
   "source": [
    "#### Resposta do Exercício 3"
   ]
  },
  {
   "cell_type": "markdown",
   "id": "639d8961",
   "metadata": {},
   "source": [
    "a) $8.389102022529084$\n",
    "\n",
    "b) $8.389058974666806$"
   ]
  },
  {
   "cell_type": "markdown",
   "id": "c8fb0c17",
   "metadata": {},
   "source": [
    "# <div style=\"margin-top: -20px;\">\n",
    "<hr style=\"border: 2px solid black;\">\n",
    "\n",
    "<font color='black'><span style=\"font-size: 22px;\"><strong>Vídeo Aulas</strong></span></font>\n",
    "\n",
    "<hr style=\"border: 2px solid black;\">\n",
    "</div>"
   ]
  },
  {
   "cell_type": "markdown",
   "id": "f54580f2",
   "metadata": {},
   "source": [
    "Clicando nos links a seguir você será redirecionado às aulas referentes a este capítulo:\n",
    "\n",
    "[Regra de Simpson](https://youtu.be/sU50Oxdkcqc)\n",
    "\n",
    "[Regra de Simpson Generalizada](https://youtu.be/cdMdBBpSV2Q)\n",
    "\n",
    "[Erro na Regra de Simpson Generalizada](https://youtu.be/9ox5ITnl3NQ)"
   ]
  }
 ],
 "metadata": {
  "kernelspec": {
   "display_name": "Python 3 (ipykernel)",
   "language": "python",
   "name": "python3"
  },
  "language_info": {
   "codemirror_mode": {
    "name": "ipython",
    "version": 3
   },
   "file_extension": ".py",
   "mimetype": "text/x-python",
   "name": "python",
   "nbconvert_exporter": "python",
   "pygments_lexer": "ipython3",
   "version": "3.11.5"
  },
  "varInspector": {
   "cols": {
    "lenName": 16,
    "lenType": 16,
    "lenVar": 40
   },
   "kernels_config": {
    "python": {
     "delete_cmd_postfix": "",
     "delete_cmd_prefix": "del ",
     "library": "var_list.py",
     "varRefreshCmd": "print(var_dic_list())"
    },
    "r": {
     "delete_cmd_postfix": ") ",
     "delete_cmd_prefix": "rm(",
     "library": "var_list.r",
     "varRefreshCmd": "cat(var_dic_list()) "
    }
   },
   "types_to_exclude": [
    "module",
    "function",
    "builtin_function_or_method",
    "instance",
    "_Feature"
   ],
   "window_display": false
  }
 },
 "nbformat": 4,
 "nbformat_minor": 5
}

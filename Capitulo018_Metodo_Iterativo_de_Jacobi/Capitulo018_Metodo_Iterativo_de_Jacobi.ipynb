{
 "cells": [
  {
   "cell_type": "markdown",
   "id": "d4ea28a8",
   "metadata": {
    "slideshow": {
     "slide_type": "slide"
    }
   },
   "source": [
    "<center> <img src=\"logo_ifba.jpg\" alt=\"jpg_python\" width=\"100\" height=\"200\"> </center>\n",
    "<br><br>\n",
    "<div align=\"center\"><span style=\"font-size: 26px;\"><strong>Cálculo Numérico <br></strong></span></div> <br>\n",
    "<center> <img src=\"python_gif.gif\" alt=\"gif_python\" width=\"80\"> </center>\n"
   ]
  },
  {
   "cell_type": "markdown",
   "id": "d76184a7",
   "metadata": {
    "slideshow": {
     "slide_type": "slide"
    }
   },
   "source": [
    "<div style=\"border: 2px solid black; padding: 10px; width: 95%; background-color: lightgray; display: flex; align-items: center;\">\n",
    "    <h1 style=\"color: red; text-align: center; margin: auto;\">\n",
    "        Capítulo 18: Método Iterativo de Jacobi\n",
    "    </h1>\n",
    "</div>\n",
    "\n",
    "<font color='red'></font>\n",
    "<a href=\"\"></a>"
   ]
  },
  {
   "cell_type": "markdown",
   "id": "2a1d08aa",
   "metadata": {},
   "source": [
    "# <div style=\"margin-top: -20px;\">\n",
    "<hr style=\"border: 2px solid black;\">\n",
    "\n",
    "<font color='black'><span style=\"font-size: 22px;\"><strong>18.1 Norma de Um Vetor e Norma de Uma Matriz</strong></span></font>\n",
    "\n",
    "<hr style=\"border: 2px solid black;\">\n",
    "</div>"
   ]
  },
  {
   "cell_type": "markdown",
   "id": "830cec55",
   "metadata": {},
   "source": [
    "Vejamos algumas definições sobre norma de vetores e norma de matrizes que nos serão úteis para estabelecermos critérios de parada e também de convergência ao aplicarmos métodos iterativos a um sistema linear."
   ]
  },
  {
   "cell_type": "markdown",
   "id": "748de5f8",
   "metadata": {},
   "source": [
    "#### <font color='red'> Definição 1 </font>"
   ]
  },
  {
   "cell_type": "markdown",
   "id": "dc4a29b0",
   "metadata": {},
   "source": [
    "<font color='red'> Dado $v = (\\alpha_{1}, \\alpha_{2}, \\ldots, \\alpha_{n})$, com $\\alpha_{i} \\in \\mathbb{R}$, definiremos $||v|| = max \\{ |\\alpha_{1}|, |\\alpha_{2}|, \\ldots, |\\alpha_{n}| \\}$."
   ]
  },
  {
   "cell_type": "markdown",
   "id": "3be435b3",
   "metadata": {},
   "source": [
    "#### <font color='blue'> Exemplo 1 </font>"
   ]
  },
  {
   "cell_type": "markdown",
   "id": "4a56fe12",
   "metadata": {},
   "source": [
    "<font color='blue'> Encontre a norma do vetor $u = (1, -3, 2)$."
   ]
  },
  {
   "cell_type": "markdown",
   "id": "da4ef2d2",
   "metadata": {},
   "source": [
    "##### <font color='blue'> Solução </font>"
   ]
  },
  {
   "cell_type": "markdown",
   "id": "c305e82d",
   "metadata": {},
   "source": [
    "<font color='blue'> Temos que $||u|| = max \\{|1|, |-3|, |2| \\} = max \\{1, 3, 2 \\} = 3$."
   ]
  },
  {
   "cell_type": "markdown",
   "id": "d77cd875",
   "metadata": {},
   "source": [
    "#### <font color='red'> Definição 2 </font>"
   ]
  },
  {
   "cell_type": "markdown",
   "id": "ecda8d7f",
   "metadata": {},
   "source": [
    "<font color='red'> Seja $A$ uma matiz quadrada de ordem $n$. Definiremos a norma de $A$, isto é, $||A||$, como sendo<br><br>\n",
    " $$||A|| = max \\left\\{ \\sum_{j=1}^{n} |a_{ij}|; i = 1, \\ldots, n \\right\\}.$$"
   ]
  },
  {
   "cell_type": "markdown",
   "id": "7b89283a",
   "metadata": {},
   "source": [
    "#### <font color='blue'> Exemplo 2 </font>"
   ]
  },
  {
   "cell_type": "markdown",
   "id": "44026adf",
   "metadata": {},
   "source": [
    "<font color='blue'> Encontre a norma da matriz<br><br>\n",
    " $$ \n",
    "A = \\left[ \\begin{array}{ccc}\n",
    " 1 &-6  &3  \\\\\n",
    " 0 & 10 &3  \\\\\n",
    " 4 & 4 & 3 \\\\\n",
    "\\end{array}\\right].\n",
    "$$"
   ]
  },
  {
   "cell_type": "markdown",
   "id": "b6e17754",
   "metadata": {},
   "source": [
    "##### <font color='blue'> Solução </font>"
   ]
  },
  {
   "cell_type": "markdown",
   "id": "f644bc90",
   "metadata": {},
   "source": [
    "<font color='blue'> Solução: Temos que<br><br>\n",
    " $$||A|| = max \\left\\{ |1|+|-6|+|3|, |0|+|10|+|3|, |4|+|4|+|3|\\right\\} = max \\left\\{ 10, 13, 11 \\right\\} = 13.$$"
   ]
  },
  {
   "cell_type": "markdown",
   "id": "df5ffe19",
   "metadata": {},
   "source": [
    "# <div style=\"margin-top: -20px;\">\n",
    "<hr style=\"border: 2px solid black;\">\n",
    "\n",
    "<font color='black'><span style=\"font-size: 22px;\"><strong>18.2 Método Iterativo de Jacobi</strong></span></font>\n",
    "\n",
    "<hr style=\"border: 2px solid black;\">\n",
    "</div>"
   ]
  },
  {
   "cell_type": "markdown",
   "id": "aa6b05ca",
   "metadata": {},
   "source": [
    "Dado um sistema $AX = B$, com $A_{n \\times n}$, devemos obter $\\phi(x)$, tal que, dada uma aproximação $x^{0}$, tenhamos a sequ\\^encia $x^{1} = \\phi(x^{0})$, $x^{2} = \\phi(x^{2})$, $\\ldots$, $x^{n} = \\phi(x^{n-1})$, $\\ldots$, de modo que $lim_{n \\rightarrow \\infty} x^{n} = \\bar{x}$, onde $\\bar{x}$ é a solução exata do sistema $AX = B$. Devemos parar os métodos iterativos quando, para um dado $\\delta > 0$, tivermos $||x^{n} - x^{n-1}|| < \\delta$ em que a norma $||\\ \\ ||$ é a mesma da **Definição 1**. Neste caso, a solução será dada por $x^{n}$.\n",
    "\n",
    "Considere o sistema $3 \\times 3$:\n",
    "\n",
    "$$\n",
    "\\begin{array}{c}\n",
    "(L_{1}) \\\\\n",
    "(L_{2}) \\\\\n",
    "(L_{3}) \\\\\n",
    "\\end{array}\n",
    "\\left\\{ \\begin{array}{ccccccc}\n",
    "a_{11}x_{1}  &+& a_{12}x_{2} &+& a_{13}x_{3}  &=& b_{1} \\\\\n",
    "a_{21}x_{1}  &+& a_{22}x_{2} &+& a_{23}x_{3}  &=& b_{2} \\\\\n",
    "a_{31}x_{1}  &+& a_{32}x_{2} &+& a_{33}x_{3}  &=& b_{3} \\\\\n",
    "\\end{array}.\\right.\n",
    "$$\n",
    "\n",
    "Em cada linha $L_{i}$ isolemos a variável $x_{i}$:\n",
    "\n",
    "$$L_{1} \\Rightarrow x_{1}^{k} = \\frac{b_{1}}{a_{11}} - \\frac{a_{12}}{a_{11}}x_{2}^{k-1} - \\frac{a_{13}}{a_{11}}x_{3}^{k-1}$$\n",
    "\n",
    "$$L_{2} \\Rightarrow x_{2}^{n} = \\frac{b_{2}}{a_{22}} - \\frac{a_{21}}{a_{22}}x_{1}^{k-1} - \\frac{a_{23}}{a_{22}}x_{3}^{k-1}$$\n",
    "\n",
    "$$L_{3} \\Rightarrow x_{3}^{k} = \\frac{b_{3}}{a_{33}} - \\frac{a_{31}}{a_{33}}x_{1}^{k-1} - \\frac{a_{32}}{a_{33}}x_{2}^{k-1}.$$\n",
    "\n",
    "Podemos organizar em uma forma matricial como segue\n",
    "\n",
    "$$\n",
    "\\left[ \\begin{array}{c}\n",
    " x_{1}  \\\\\n",
    " x_{2}  \\\\\n",
    " x_{3} \\\\\n",
    "\\end{array}\\right]\n",
    "=\n",
    "\\left[ \\begin{array}{c}\n",
    " \\frac{b_{1}}{a_{11}}  \\\\\n",
    " \\frac{b_{2}}{a_{22}}  \\\\\n",
    " \\frac{b_{3}}{a_{33}}  \\\\\n",
    "\\end{array}\\right]\n",
    "+\n",
    "\\left[ \\begin{array}{ccc}\n",
    " 0  &-\\frac{a_{12}}{a_{11}}&-\\frac{a_{13}}{a_{11}}  \\\\\n",
    " -\\frac{a_{21}}{a_{22}}  & 0  &-\\frac{a_{21}}{a_{22}}  \\\\\n",
    " -\\frac{a_{31}}{a_{33}} & -\\frac{a_{32}}{a_{33}} & 0 \\\\\n",
    "\\end{array}\\right]\n",
    ".\n",
    "\\left[ \\begin{array}{c}\n",
    "x_{1}  \\\\\n",
    "x_{2}  \\\\\n",
    "x_{3}  \\\\\n",
    "\\end{array}\\right].\n",
    "$$\n",
    "\n",
    "Montamos portanto a função de iteração de Jacobi:<br><br>\n",
    "<font color='red'>\n",
    "$$\\phi(x) = d + Fx.$$</font>\n",
    "\n",
    "O caso geral é análogo, neste caso as matrizes $F$ e $d$ são dadas por:\n",
    "\n",
    "<font color='red'> $$F = \\left[ \\begin{array}{ccccc}\n",
    "0  &-\\frac{a_{12}}{a_{11}}&-\\frac{a_{13}}{a_{11}} & \\ldots & -\\frac{a_{1n}}{a_{11}}  \\\\\n",
    "-\\frac{a_{21}}{a_{22}}  & 0  &-\\frac{a_{21}}{a_{22}} & \\ldots & -\\frac{a_{2n}}{a_{22}}  \\\\\n",
    "\\vdots & \\vdots & \\vdots & \\vdots & \\vdots \\\\\n",
    "-\\frac{a_{n1}}{a_{nn}} & -\\frac{a_{n2}}{a_{nn}} & -\\frac{a_{n3}}{a_{nn}} & \\ldots & 0 \\\\\n",
    "\\end{array}\\right],\n",
    "\\, \\, \\, \\, \\, \\, \\, \n",
    "d = \\left[ \\begin{array}{c}\n",
    "\\frac{b_{1}}{a_{11}}  \\\\\n",
    "\\frac{b_{2}}{a_{22}}  \\\\\n",
    "\\vdots  \\\\\n",
    "\\frac{b_{n}}{a_{nn}}\\\\\n",
    "\\end{array}\\right].\\tag{1}$$<br>\n",
    " ou<br><br>\n",
    " $$x_{i}^{k} = \\frac{b_{i}}{a_{ii}} - \\frac{1}{a_{ii}} \\sum_{j=1, j \\neq i}^{n} a_{ij}x_{j}^{k-1}.$$</font>"
   ]
  },
  {
   "cell_type": "markdown",
   "id": "8935cde2",
   "metadata": {},
   "source": [
    "#### <font color='blue'> Exemplo 3 </font>"
   ]
  },
  {
   "cell_type": "markdown",
   "id": "b9101e59",
   "metadata": {},
   "source": [
    "<font color='blue'> Resolva, por meio do método de Jacobi, os sistemas a seguir considerando $\\delta = 0.2$:<br><br>\n",
    " a) $\\left\\{ \\begin{array}{ccccc}\n",
    "2x_{1}  &-&  x_{2} &=& 1  \\\\\n",
    " x_{1}  &+&  2x_{2} &=& 3 \\\\\n",
    "\\end{array}\\right., \\ \\ x^{0} = [0,0]^{T}$<br><br>\n",
    " b) $\\left\\{ \\begin{array}{ccccccc}\n",
    "3x_{1}  &+&  x_{2} &-& x_{3}  &=& 3  \\\\\n",
    " x_{1}  &+&  4x_{2} &+& x_{3}  &=& 6 \\\\\n",
    "2x_{1}  &-& x_{2}  &+& 6x_{3} &=& 7 \\\\\n",
    "\\end{array}\\right., \\ \\ x^{0} = [0.5,0.5,0]^{T}$"
   ]
  },
  {
   "cell_type": "markdown",
   "id": "d50d28da",
   "metadata": {},
   "source": [
    "##### <font color='blue'> Solução </font>"
   ]
  },
  {
   "cell_type": "markdown",
   "id": "2fd5d72d",
   "metadata": {},
   "source": [
    "<font color='blue'> Solução: a) Temos que<br><br>\n",
    " $$\n",
    "\\left\\{ \\begin{array}{ccccc}\n",
    "2x_{1}  &-&  x_{2} &=& 1  \\\\\n",
    " x_{1}  &+&  2x_{2} &=& 3 \\\\\n",
    "\\end{array}\\right.\n",
    "\\Rightarrow\n",
    "\\left\\{ \\begin{array}{ccccc}\n",
    "2x_{1} &=&  1 &+& x_{2}  \\\\\n",
    "2x_{2} &=& 3 &-& x_{1}  \\\\\n",
    "\\end{array}\\right.\n",
    "\\Rightarrow \n",
    "\\left\\{ \\begin{array}{ccccc}\n",
    "x_{1}^{n} &=&  \\frac{1}{2} &+& \\frac{1}{2}x_{2}^{n-1}  \\\\\n",
    "x_{2}^{n} &=& \\frac{3}{2} &-& \\frac{1}{2}x_{1}^{n-1}  \\\\\n",
    "\\end{array}.\\right.\n",
    "$$<br>\n",
    " Neste caso, as matrizes $F$ e $d$ são dadas por:<br><br>\n",
    " $$F = \\left[ \\begin{array}{cc}\n",
    "0  &\\frac{1}{2}   \\\\\n",
    "-\\frac{1}{2}  & 0 \\\\\n",
    "\\end{array}\\right],\n",
    "\\, \\, \\, \\, \\, \\, \\, \n",
    "d = \\left[ \\begin{array}{c}\n",
    "\\frac{1}{2}  \\\\\n",
    "\\frac{3}{2}  \\\\\n",
    "\\end{array}\\right].\n",
    "$$<br>\n",
    " donde segue,<br><br>\n",
    " $$x^{1} = \\phi(x^{0}) = d + Fx^{0} =\n",
    "\\left[ \\begin{array}{c}\n",
    "\\frac{1}{2}  \\\\\n",
    "\\frac{3}{2}  \\\\\n",
    "\\end{array}\\right]\n",
    "+\n",
    "\\left[ \\begin{array}{cc}\n",
    "0  &\\frac{1}{2}   \\\\\n",
    "-\\frac{1}{2}  & 0 \\\\\n",
    "\\end{array}\\right]\n",
    ".\n",
    "\\left[ \\begin{array}{c}\n",
    "0  \\\\\n",
    "0  \\\\\n",
    "\\end{array}\\right]\n",
    "=\n",
    "\\left[ \\begin{array}{c}\n",
    "0.5  \\\\\n",
    "1.5  \\\\\n",
    "\\end{array}\\right].$$<br>\n",
    " Devemos continuar, pois $||x^{1} - x^{0}|| = || (0.5,1.5) - (0,0)|| = ||(0.5,1.5)|| = 1.5 > \\delta$. Assim,<br><br>\n",
    " $$x^{2} = \\phi(x^{1}) = d + Fx^{1} =\n",
    "\\left[ \\begin{array}{c}\n",
    "\\frac{1}{2}  \\\\\n",
    "\\frac{3}{2}  \\\\\n",
    "\\end{array}\\right]\n",
    "+\n",
    "\\left[ \\begin{array}{cc}\n",
    "0  &\\frac{1}{2}   \\\\\n",
    "-\\frac{1}{2}  & 0 \\\\\n",
    "\\end{array}\\right]\n",
    ".\n",
    "\\left[ \\begin{array}{c}\n",
    "0.5  \\\\\n",
    "1.5  \\\\\n",
    "\\end{array}\\right]\n",
    "=\n",
    "\\left[ \\begin{array}{c}\n",
    "1.25  \\\\\n",
    "1.25  \\\\\n",
    "\\end{array}\\right], \\, \\, \\, \\,\n",
    "||x^{2} - x^{1}|| = 0.75 > \\delta.$$<br>\n",
    " $$x^{3} = \\phi(x^{2}) = d + Fx^{2} =\n",
    "\\left[ \\begin{array}{c}\n",
    "\\frac{1}{2}  \\\\\n",
    "\\frac{3}{2}  \\\\\n",
    "\\end{array}\\right]\n",
    "+\n",
    "\\left[ \\begin{array}{cc}\n",
    "0  &\\frac{1}{2}   \\\\\n",
    "-\\frac{1}{2}  & 0 \\\\\n",
    "\\end{array}\\right]\n",
    ".\n",
    "\\left[ \\begin{array}{c}\n",
    "1.25  \\\\\n",
    "1.25  \\\\\n",
    "\\end{array}\\right]\n",
    "=\n",
    "\\left[ \\begin{array}{c}\n",
    "1.125  \\\\\n",
    "0.875  \\\\\n",
    "\\end{array}\\right], \\, \\, \\, \\,\n",
    "||x^{3} - x^{2}|| =  0,375 > \\delta.$$<br>\n",
    " $$x^{4} = \\phi(x^{3}) = d + Fx^{3} =\n",
    "\\left[ \\begin{array}{c}\n",
    "\\frac{1}{2}  \\\\\n",
    "\\frac{3}{2}  \\\\\n",
    "\\end{array}\\right]\n",
    "+\n",
    "\\left[ \\begin{array}{cc}\n",
    "0  &\\frac{1}{2}   \\\\\n",
    "-\\frac{1}{2}  & 0 \\\\\n",
    "\\end{array}\\right]\n",
    ".\n",
    "\\left[ \\begin{array}{c}\n",
    "1.125  \\\\\n",
    "0.875  \\\\\n",
    "\\end{array}\\right]\n",
    "=\n",
    "\\left[ \\begin{array}{c}\n",
    "0.9375 \\\\\n",
    "0.9375  \\\\\n",
    "\\end{array}\\right], \\, \\, \\, \\,\n",
    "||x^{3} - x^{2}|| =  0.1875 > \\delta.$$<br>\n",
    " Logo, a solução procurada é $x^{4} = (0.9375,0.9375)$.<br><br>\n",
    " b)Neste caso,<br><br>\n",
    " $$\\left\\{ \\begin{array}{ccccccc}\n",
    "x_{1}^{n} &=& 1 &-& \\frac{1}{3}x_{2}^{n} &+& \\frac{1}{3}x_{3}^{n}  \\\\\n",
    "x_{2}^{n} &=& \\frac{3}{2} &-& \\frac{1}{4}x_{1}^{n} &-& \\frac{1}{4}x_{3}^{n} \\\\\n",
    "x_{3}^{n} &=& \\frac{7}{6} &-& \\frac{1}{3}x_{2}^{n} &+& \\frac{1}{6}x_{2}^{n} \\\\\n",
    "\\end{array}\\right.$$<br>\n",
    " Por uma questão de simplificação, optemos pela função de iteração escrita da seguinte forma:<br><br>\n",
    " $$\\phi(x_{1}, x_{2}, x_{3}) = \\left[1 - \\frac{1}{3}x_{2} + \\frac{1}{3}x_{3}; \\, \\, \\frac{3}{2} - \\frac{1}{4}x_{1} - \\frac{1}{4}x_{3}; \\, \\,  \\frac{7}{6} - \\frac{1}{3}x_{2} + \\frac{1}{6}x_{2}\\right]^{T}.$$<br>\n",
    " Assim,<br><br>\n",
    " $$x^{1} = \\phi(x^{0}) = \n",
    "\\left[\\begin{array}{c}\n",
    "0.833333333333333 \\\\\n",
    "1.375000000000000 \\\\\n",
    "1.083333333333333 \\\\\n",
    "\\end{array}\\right],\n",
    "||x^{1} - x^{0}|| = 1.083333333333333 > \\delta;$$<br>\n",
    " $$x^{2} = \\phi(x^{1}) = \n",
    "\\left[\\begin{array}{c}\n",
    "0.902777777777778 \\\\\n",
    "1.020833333333333 \\\\\n",
    "1.118055555555556 \\\\\n",
    "\\end{array}\\right],\n",
    "||x^{2} - x^{1}|| = 0.354166666666667 > \\delta;$$<br>\n",
    " $$x^{3} = \\phi(x^{2}) = \n",
    "\\left[\\begin{array}{c}\n",
    "1.032407407407407 \\\\\n",
    "0.994791666666667 \\\\\n",
    "1.035879629629630 \\\\\n",
    "\\end{array}\\right],\n",
    "||x^{3} - x^{2}|| = 0.129629629629630 < \\delta;$$<br>\n",
    " Logo, a solução procurada é dada por $x^{3} = [1.032407407407407, 0.994791666666667, 1.035879629629630]^{T}$. Além disso, a solução exata é $\\bar{x} = [1,1,1]^{T}$, donde obtemos<br><br>\n",
    " $$e_{real} = ||\\bar{x} - x^{3}|| = ||[1,1,1]-[1.032407407407407, 0.994791666666667, 1.035879629629630]^{T}||=$$<br>\n",
    " $$= ||[-3.240740740740700e-02,5.208333333333037e-03, -3.587962962962998e-02]^{T}|| = 3.587962962962998e-02.$$"
   ]
  },
  {
   "cell_type": "markdown",
   "id": "11285ccc",
   "metadata": {},
   "source": [
    "# <div style=\"margin-top: -20px;\">\n",
    "<hr style=\"border: 2px solid black;\">\n",
    "\n",
    "<font color='black'><span style=\"font-size: 22px;\"><strong>18.3 Convergência do Método de Jacobi</strong></span></font>\n",
    "\n",
    "<hr style=\"border: 2px solid black;\">\n",
    "</div>"
   ]
  },
  {
   "cell_type": "markdown",
   "id": "a922db3b",
   "metadata": {},
   "source": [
    "Nesta seção apresentaremos condições que garantam a convergência dos métodos numéricos de Jacobi e Gauss-Seidel (que veremos no próximo capítulo)."
   ]
  },
  {
   "cell_type": "markdown",
   "id": "7d6dc691",
   "metadata": {},
   "source": [
    "#### <font color='blue'> Exemplo 4 </font>"
   ]
  },
  {
   "cell_type": "markdown",
   "id": "89522626",
   "metadata": {},
   "source": [
    "<font color='blue'> Considere o sistema a seguir<br><br>\n",
    " $$\\left\\{ \\begin{array}{ccccccc}\n",
    "x_{1}  &+&  2x_{2} &-& x_{3}  &=& 2  \\\\\n",
    " 2x_{1}  &-&  x_{2} &+& 2x_{3}  &=& 3 \\\\\n",
    "x_{1}  &-& x_{2}  &+& 4x_{3} &=& 4  \\\\\n",
    "\\end{array},\\right.$$<br>\n",
    " cuja solução exata é dada por $\\bar{x} = [1,1,1]^{T}$. Aplicando $x^{0} = [0,0,0]^{T}$ às equações de Jacobi<br><br>\n",
    " $$\\left\\{ \\begin{array}{ccccccc}\n",
    "\tx_{1}^{n}  &=&  2 &-& 2x_{2}^{n-1}  &+& x_{3}^{n-1}  \\\\\n",
    "\tx_{2}^{n}  &=& -3 &+& 2x_{1}^{n-1}  &+& 2x_{3}^{n-1} \\\\\n",
    "\tx_{3}^{n}  &=&  1 &-& \\frac{1}{4}x_{1}^{n-1} &+& \\frac{1}{4}x_{2}^{n-1} \\\\\n",
    "\\end{array}\\right.$$<br>\n",
    " produziremos a sequência<br><br>\n",
    " $$x^{0} = [0,0,0]^{T}, \\, \\, \\, x^{1} = [2,-3,1]^{T}, \\, \\, \\, x^{2} = [9,3,-0.25]^{T}, \\, \\, \\, x^{3} = [-4.25,14.5,-0.5]^{T}$$<br>\n",
    " Procedendo com o cálculo de $x^{4}, x^{5}, \\ldots$ notamos que os valores parecem não se aproximar de nenhuma terna, isto é, a sequência parece divergir."
   ]
  },
  {
   "cell_type": "markdown",
   "id": "59218f89",
   "metadata": {},
   "source": [
    "O que ocorreu no **Exemplo 4**? Isto é, por que as iterações por meio do método de Jacobi parecem não convergir? Será que há alguma hipótese para que o método de Jacobi possa ser aplicado?\n",
    "\n",
    "A resposta é dada no teorema a seguir:"
   ]
  },
  {
   "cell_type": "markdown",
   "id": "548c35b0",
   "metadata": {},
   "source": [
    "#### <font color='red'> Teorema 1 </font>"
   ]
  },
  {
   "cell_type": "markdown",
   "id": "ef8761b4",
   "metadata": {},
   "source": [
    "<font color='red'> Se $||F|| \\leq L < 1$, com $F$ conforme ($1$), então o método iterativo de Jacobi (e também de Gauss-Seidel, logo mais) produzem uma sequência convergente para a solução do sistema."
   ]
  },
  {
   "cell_type": "markdown",
   "id": "e4275bc4",
   "metadata": {},
   "source": [
    "#### <font color='blue'> Exemplo 5 </font>"
   ]
  },
  {
   "cell_type": "markdown",
   "id": "f8686169",
   "metadata": {},
   "source": [
    "<font color='blue'> Apliquemos o **Teorema 1** aos sistemas dados nos **Exemplos 3** e **4**:"
   ]
  },
  {
   "cell_type": "markdown",
   "id": "7174dfeb",
   "metadata": {},
   "source": [
    "##### <font color='blue'> Solução </font>"
   ]
  },
  {
   "cell_type": "markdown",
   "id": "bf68a907",
   "metadata": {},
   "source": [
    "<font color='blue'> O **Teorema 1** afirma que, se a $||F|| \\leq L < 1$ então o método de Jacobi (e Gauss-Seidel) converge. Pois bem,<br><br>\n",
    " No **Exemplo 3** item a) , temos<br><br>\n",
    " $$ \\left\\{ \\begin{array}{ccccc}\n",
    "\t2x_{1}  &-&  x_{2} &=& 1  \\\\\n",
    "\tx_{1}  &+&  2x_{2} &=& 3 \\\\\n",
    "\\end{array}\\right. \\Rightarrow\n",
    "\\left\\{ \\begin{array}{ccccc}\n",
    "\tx_{1}^{n}  &=&  \\frac{1}{2} &+& \\frac{1}{2}x_{2}^{n-1}  \\\\\n",
    "\tx_{2}^{n}  &=&  \\frac{3}{2} &-& \\frac{1}{2}x_{1}^{n-1}  \\\\\n",
    "\\end{array}\\right. \\Rightarrow\n",
    "F = \\left[ \\begin{array}{cc}\n",
    "\t0  &\\frac{1}{2}   \\\\\n",
    "\t-\\frac{1}{2}  & 0 \\\\\n",
    "\\end{array}\\right]\n",
    " \\Rightarrow$$<br>\n",
    " $$\\Rightarrow ||F|| = max \\{ |0| + |1/2|, |-1/2| + |0| \\} = max\\left\\{\\frac{1}{2},\\frac{1}{2}\\right\\} = 1/2 < 1.$$<br>\n",
    " Portanto, o método de Jacobi converge, isto é, ele pode ser aplicado.<br><br>\n",
    " No **Exemplo 3** item b) , temos<br><br>\n",
    " $$\\left\\{ \\begin{array}{ccccccc}\n",
    "\t3x_{1}  &+&  x_{2} &-& x_{3}  &=& 3  \\\\\n",
    "\tx_{1}  &+&  4x_{2} &+& x_{3}  &=& 6 \\\\\n",
    "\t2x_{1}  &-& x_{2}  &+& 6x_{3} &=& 7 \\\\\n",
    "\\end{array}\\right. \\Rightarrow \n",
    "\\left\\{ \\begin{array}{ccccccc}\n",
    "\tx_{1}^{n} &=& 1 &-& \\frac{1}{3}x_{2}^{n-1} &+& \\frac{1}{3}x_{3}^{n-1}  \\\\\n",
    "\tx_{2}^{n} &=& \\frac{3}{2} &-& \\frac{1}{4}x_{1}^{n-1} &-& \\frac{1}{4}x_{3}^{n-1} \\\\\n",
    "\tx_{3}^{n} &=& \\frac{7}{6} &-& \\frac{1}{3}x_{2}^{n-1} &+& \\frac{1}{6}x_{2}^{n-1} \\\\\n",
    "\\end{array}\\right.\n",
    "\\Rightarrow \n",
    "F = \\left[ \\begin{array}{ccc}\n",
    "\t0 &-\\frac{1}{3}   & \\frac{1}{3}  \\\\\n",
    "\t-\\frac{1}{4}  & 0 & -\\frac{1}{4}\\\\\n",
    "\t-\\frac{1}{3}  & \\frac{1}{6} & 0 \\\\\n",
    "\\end{array}\\right] \\Rightarrow$$<br>\n",
    " $$\\Rightarrow ||F|| = max \\{ |0| + |-1/3| + |1/3|, |1/4| + |0| + |-1/4|, |-1/3| + |1/6| + |0| \\} = max max\\left\\{\\frac{2}{3}, \\frac{1}{2},\\frac{1}{2} \\right\\} =  2/3 < 1.$$<br>\n",
    " Portanto, o método de Jacobi converge, isto é, ele pode ser aplicado.<br><br>\n",
    " No **Exemplo 4**, temos que<br><br>\n",
    " $$\\left\\{ \\begin{array}{ccccccc}\n",
    "\tx_{1}  &+&  2x_{2} &-& x_{3}  &=& 2  \\\\\n",
    "\t2x_{1}  &-&  x_{2} &+& 2x_{3}  &=& 3 \\\\\n",
    "\tx_{1}  &-& x_{2}  &+& 4x_{3} &=& 4  \\\\\n",
    "\\end{array},\\right. \\Rightarrow \\left\\{ \\begin{array}{ccccccc}\n",
    "x_{1}^{n}  &=&  2 &-& 2x_{2}^{n-1}  &+& x_{3}^{n-1}  \\\\\n",
    "x_{2}^{n}  &=& -3 &+& 2x_{1}^{n-1}  &+& 2x_{3}^{n-1} \\\\\n",
    "x_{3}^{n}  &=&  1 &-& \\frac{1}{4}x_{1}^{n-1} &+& \\frac{1}{4}x_{2}^{n-1} \\\\\n",
    "\\end{array},\\right. \\Rightarrow \n",
    "F = \\left[ \\begin{array}{ccc}\n",
    "0 & -2   & 1 \\\\\n",
    "2  & 0   & 2\\\\\n",
    "-\\frac{1}{4}  & \\frac{1}{4} & 0 \\\\\n",
    "\\end{array}\\right] \\Rightarrow$$<br>\n",
    " $$||F|| = max \\left\\{|0| + |-2| + |1|, |2| + |0| + |2|, |-1/4| + |1/4| + |0| \\right\\} = max\\left\\{3,4,\\frac{1}{2}\\right\\} = 4 \\nless 1.$$<br>\n",
    " Portanto, o método de Jacobi não possui convergência assegurada."
   ]
  },
  {
   "cell_type": "markdown",
   "id": "101b90e9",
   "metadata": {},
   "source": [
    "# <div style=\"margin-top: -20px;\">\n",
    "<hr style=\"border: 2px solid black;\">\n",
    "\n",
    "<font color='black'><span style=\"font-size: 22px;\"><strong>Implementações</strong></span></font>\n",
    "\n",
    "<hr style=\"border: 2px solid black;\">\n",
    "</div>"
   ]
  },
  {
   "cell_type": "markdown",
   "id": "5c4759a3",
   "metadata": {},
   "source": [
    "#### <font color='darkblue'> Código Python: Método de Jacobi</font>"
   ]
  },
  {
   "cell_type": "code",
   "execution_count": 28,
   "id": "0396b590",
   "metadata": {
    "ExecuteTime": {
     "end_time": "2024-04-28T22:16:47.940386Z",
     "start_time": "2024-04-28T22:16:47.932127Z"
    }
   },
   "outputs": [],
   "source": [
    "import numpy as np\n",
    "\n",
    "def jacobi(A, B, x0, tol, N):\n",
    "\n",
    "        A = np.matrix(A, dtype=float)\n",
    "        B = np.matrix(B, dtype=float)\n",
    "        x0 = np.ravel(np.matrix(x0))\n",
    "\n",
    "        tol = float(tol)\n",
    "        N = int(N)\n",
    "\n",
    "        n = np.shape(A)[0]\n",
    "        x = np.zeros(n)\n",
    "        it = 0\n",
    "        print('As iterações e o erro, via método de Jacobi, são dados a seguir:')\n",
    "        print('i           erro                             iterações')\n",
    "        while (it < N):\n",
    "            it = it + 1\n",
    "            for i in np.arange(n):\n",
    "                x[i] = B[i]\n",
    "                for j in np.concatenate((np.arange(0, i), np.arange(i + 1, n))):\n",
    "                    x[i] -= A[i, j] * x0[j]\n",
    "                x[i] /= A[i, i]\n",
    "\n",
    "            print('%d     %0.13f            %0.1000s^T' % (it, np.linalg.norm(x - x0, np.inf), x))\n",
    "\n",
    "            if (it == N):\n",
    "                print('O número de iterações foi execido.')\n",
    "                print('')\n",
    "                break\n",
    "\n",
    "            if (np.linalg.norm(x - x0, np.inf) < tol):\n",
    "                print(f'A solução do sistema é: x{it} = {x}.')\n",
    "                print('')\n",
    "                break\n",
    "\n",
    "            x0 = np.copy(x)"
   ]
  },
  {
   "cell_type": "code",
   "execution_count": 29,
   "id": "da6d0954",
   "metadata": {
    "ExecuteTime": {
     "end_time": "2024-04-28T22:16:49.827231Z",
     "start_time": "2024-04-28T22:16:49.819243Z"
    }
   },
   "outputs": [
    {
     "name": "stdout",
     "output_type": "stream",
     "text": [
      "As iterações e o erro, via método de Jacobi, são dados a seguir:\n",
      "i           erro                             iterações\n",
      "1     1.0833333333333            [0.83333333 1.375      1.08333333]^T\n",
      "2     0.3541666666667            [0.90277778 1.02083333 1.11805556]^T\n",
      "3     0.1296296296296            [1.03240741 0.99479167 1.03587963]^T\n",
      "A solução do sistema é: x3 = [1.03240741 0.99479167 1.03587963].\n",
      "\n"
     ]
    }
   ],
   "source": [
    "A = [[3,1,-1],\n",
    "     [1,4,1],\n",
    "     [2,-1,6]]\n",
    "B = [[3],\n",
    "     [6],\n",
    "     [7]]\n",
    "x0 = [[0.5],[0.5],[0]]\n",
    "delta = 0.2\n",
    "N = 10\n",
    "jacobi(A,B,x0,delta,N)"
   ]
  },
  {
   "cell_type": "markdown",
   "id": "935f8cd2",
   "metadata": {},
   "source": [
    "# <div style=\"margin-top: -20px;\">\n",
    "<hr style=\"border: 2px solid black;\">\n",
    "\n",
    "<font color='black'><span style=\"font-size: 22px;\"><strong>Exercícios</strong></span></font>\n",
    "\n",
    "<hr style=\"border: 2px solid black;\">\n",
    "</div>"
   ]
  },
  {
   "cell_type": "markdown",
   "id": "2f79fb71",
   "metadata": {},
   "source": [
    "#### Exercício 1"
   ]
  },
  {
   "cell_type": "markdown",
   "id": "5f6d8032",
   "metadata": {},
   "source": [
    "Use o **Teorema 1** para verificar a convergência de cada um dos sistemas a seguir. Caso as hipóteses do teorema sejam satisfeitas encontre a solução com a tolerância $\\delta$ e a aproximação inicial $x^{0}$ dadas.\n",
    "\n",
    "a) $\\left\\{ \\begin{array}{ccccc}\n",
    "1.5x_{1}  &+&  0.8x_{2} &=& 1.23   \\\\\n",
    "2.1x_{1}  &-&  3.2x_{2} &=& -0.87 \\\\\n",
    "\\end{array}\\right., \\ \\ \\delta = 0,1, \\ \\ x^{0} = [0,0]^{T}.$\n",
    "\n",
    "b) $\\left\\{ \\begin{array}{ccccccc}\n",
    "4x_{1}  &+&  x_{2} &-& 2x_{3}   &=&  3 \\\\\n",
    "& &  3x_{2} &+& x_{3}   &=& 11 \\\\\n",
    "2x_{1}  &-& x_{2}  &+& 6x_{3}   &=& 11 \\\\\n",
    "\\end{array}\\right., \\ \\ \\delta = 0.1, \\ \\ x^{0} = [0.5,0.5,0.5]^{T}.$\n",
    "\n",
    "c) $\\left\\{ \\begin{array}{ccccccccc}\n",
    "7x_{1}  &+&  x_{2} &-& 2x_{3}   &+& x_{4} &=&  7 \\\\\n",
    "& &  4x_{2}& &          &+& x_{4} &=&  5 \\\\\n",
    "x_{1}  & &        &+& 5x_{3}   &-& x_{4} &=&  5 \\\\\n",
    "x_{1}  &+&  x_{2} &-& 2x_{3}   &-&5x_{4} &=& -5 \\\\\n",
    "\\end{array}\\right., \\ \\ \\delta = 0.05, \\ \\ x^{0} = [2,2,2,2]^{T}.$\n",
    "\n",
    "d) $ \\left\\{ \\begin{array}{ccccccc}\n",
    "3x_{1}  &+&  6x_{2} &-& 2x_{3}   &=&  7 \\\\\n",
    "4x_{1}        &+&  3x_{2} &+& x_{3}   &=& 8 \\\\\n",
    "2x_{1}  &-& x_{2}  &+& 6x_{3}   &=& 7 \\\\\n",
    "\\end{array}\\right., \\ \\ \\delta = 0.1, \\ \\ x^{0} = [0,0,0]^{T}.$"
   ]
  },
  {
   "cell_type": "markdown",
   "id": "88bcd453",
   "metadata": {},
   "source": [
    "#### Exercício 2"
   ]
  },
  {
   "cell_type": "markdown",
   "id": "c8b06858",
   "metadata": {},
   "source": [
    "Mostre que os sistemas a seguir não se adéquam às hipóteses exigidas para a aplicação do método de Jacobi. Em seguida, por meio de operações elementares transforme-os de modo que o método de Jacobi, aplicado a eles, gere uma sequência convergente para suas respectivas soluções.\n",
    "\n",
    "a) $\\left\\{ \\begin{array}{ccccccc}\n",
    "x_{1}  &+&  3x_{2} &-& x_{3}  &=& 7  \\\\\n",
    "-x_{1}  &+&  x_{2} &+& 7x_{3}  &=& 1 \\\\\n",
    "4x_{1}  &+& x_{2}  & &  &=& 6  \\\\\n",
    "\\end{array},\\right.$\n",
    "\n",
    "b) $\\left\\{ \\begin{array}{ccccccc}\n",
    "x_{1}  &+&  3x_{2} &-& x_{3}  &=& -3  \\\\\n",
    "4x_{1}  &+&  x_{2} &-& 4x_{3}  &=& -1 \\\\\n",
    "x_{1}  &-& x_{2}  &+& x_{3} &=& 3  \\\\\n",
    "\\end{array}.\\right.$"
   ]
  },
  {
   "cell_type": "markdown",
   "id": "50d2d60e",
   "metadata": {},
   "source": [
    "# <div style=\"margin-top: -20px;\">\n",
    "<hr style=\"border: 2px solid black;\">\n",
    "\n",
    "<font color='black'><span style=\"font-size: 22px;\"><strong>Respostas dos Exercícios</strong></span></font>\n",
    "\n",
    "<hr style=\"border: 2px solid black;\">\n",
    "</div>"
   ]
  },
  {
   "cell_type": "markdown",
   "id": "05353962",
   "metadata": {},
   "source": [
    "#### Resposta do Exercício 1"
   ]
  },
  {
   "cell_type": "markdown",
   "id": "815f757b",
   "metadata": {},
   "source": [
    "a) Converge. Solução aproximada $x^{6} = [0.521437500000000, 0.625725000000000]^{T}$. Solução exata $=[0.5,0.6]^{T}$; \n",
    "\n",
    "b) Converge. Solução aproximada $x^{5} = [0.997685185185185, 3.006944444444445, 1.974922839506173]^{T}$. Solução exata $=[1,3,2]^{T}$; \n",
    "\n",
    "c) Converge. Solução aproximada $x^{4} = [0.992295918367347, 0.998214285714286, 1.000000000000000, 1.010785714285714]^{T}$. Solução exata $=[1,1,1,1]^{T}$; \n",
    "\n",
    "d) O **Teorema 1** não se aplica. Solução exata $=[1,1,1,1]^{T}$."
   ]
  },
  {
   "cell_type": "markdown",
   "id": "3814f123",
   "metadata": {},
   "source": [
    "#### Resposta do Exercício 2"
   ]
  },
  {
   "cell_type": "markdown",
   "id": "b53b9dd0",
   "metadata": {},
   "source": [
    "a) Fa\\c ca, seguidamene, as seguintes operações elementares: i) $L_{1} \\leftrightarrow L_{3}$, ii) $L_{2} \\leftrightarrow L_{3}$.\n",
    "\n",
    "b)  Fa\\c ca, seguidamente, as seguintes operações elementares: i) $L_{1} \\leftrightarrow L_{2}$, ii) $L_{1} \\rightarrow L_{1} + L_{3}$, iii) $L_{3} \\rightarrow L_{1} + L_{3}$."
   ]
  },
  {
   "cell_type": "markdown",
   "id": "c8fb0c17",
   "metadata": {},
   "source": [
    "# <div style=\"margin-top: -20px;\">\n",
    "<hr style=\"border: 2px solid black;\">\n",
    "\n",
    "<font color='black'><span style=\"font-size: 22px;\"><strong>Vídeo Aulas</strong></span></font>\n",
    "\n",
    "<hr style=\"border: 2px solid black;\">\n",
    "</div>"
   ]
  },
  {
   "cell_type": "markdown",
   "id": "f54580f2",
   "metadata": {},
   "source": [
    "Clicando nos links a seguir você será redirecionado às aulas referentes a este capítulo:\n",
    "\n",
    "[Norma de Um Vetor e Norma de Uma Matriz](https://youtu.be/xmSQr_nEKWw)\n",
    "\n",
    "[Método de Jacobi](https://youtu.be/furp_wkCxvA)\n",
    "\n",
    "[Exemplo Envolvendo o Método de Jacobi](https://youtu.be/ay9n0JkjV0I)\n",
    "\n",
    "[Convergência do Método de Jacobi](https://youtu.be/TZn4E9ac668)"
   ]
  }
 ],
 "metadata": {
  "kernelspec": {
   "display_name": "Python 3 (ipykernel)",
   "language": "python",
   "name": "python3"
  },
  "language_info": {
   "codemirror_mode": {
    "name": "ipython",
    "version": 3
   },
   "file_extension": ".py",
   "mimetype": "text/x-python",
   "name": "python",
   "nbconvert_exporter": "python",
   "pygments_lexer": "ipython3",
   "version": "3.11.5"
  },
  "varInspector": {
   "cols": {
    "lenName": 16,
    "lenType": 16,
    "lenVar": 40
   },
   "kernels_config": {
    "python": {
     "delete_cmd_postfix": "",
     "delete_cmd_prefix": "del ",
     "library": "var_list.py",
     "varRefreshCmd": "print(var_dic_list())"
    },
    "r": {
     "delete_cmd_postfix": ") ",
     "delete_cmd_prefix": "rm(",
     "library": "var_list.r",
     "varRefreshCmd": "cat(var_dic_list()) "
    }
   },
   "types_to_exclude": [
    "module",
    "function",
    "builtin_function_or_method",
    "instance",
    "_Feature"
   ],
   "window_display": false
  }
 },
 "nbformat": 4,
 "nbformat_minor": 5
}

{
 "cells": [
  {
   "cell_type": "markdown",
   "id": "d4ea28a8",
   "metadata": {
    "slideshow": {
     "slide_type": "slide"
    }
   },
   "source": [
    "<center> <img src=\"logo_ifba.jpg\" alt=\"jpg_python\" width=\"100\" height=\"200\"> </center>\n",
    "<br><br>\n",
    "<div align=\"center\"><span style=\"font-size: 26px;\"><strong>Cálculo Numérico <br></strong></span></div> <br>\n",
    "<center> <img src=\"python_gif.gif\" alt=\"gif_python\" width=\"80\"> </center>\n"
   ]
  },
  {
   "cell_type": "markdown",
   "id": "d76184a7",
   "metadata": {
    "slideshow": {
     "slide_type": "slide"
    }
   },
   "source": [
    "<div style=\"border: 2px solid black; padding: 10px; width: 95%; background-color: lightgray; display: flex; align-items: center;\">\n",
    "    <h1 style=\"color: red; text-align: center; margin: auto;\">\n",
    "        Capítulo 15: Método de Runge Kutta\n",
    "    </h1>\n",
    "</div>\n",
    "\n",
    "<font color='red'></font>\n",
    "<a href=\"\"></a>"
   ]
  },
  {
   "cell_type": "markdown",
   "id": "91abe994",
   "metadata": {},
   "source": [
    "# <div style=\"margin-top: -20px;\">\n",
    "<hr style=\"border: 2px solid black;\">\n",
    "\n",
    "<font color='black'><span style=\"font-size: 22px;\"><strong>15.1 Polinômio de Taylor em Várias Variáveis</strong></span></font>\n",
    "\n",
    "<hr style=\"border: 2px solid black;\">\n",
    "</div>"
   ]
  },
  {
   "cell_type": "markdown",
   "id": "efdea64c",
   "metadata": {},
   "source": [
    "#### <font color='purple'> Revisando 1 </font>"
   ]
  },
  {
   "cell_type": "markdown",
   "id": "0e3633ed",
   "metadata": {},
   "source": [
    "<font color='purple'> O seguinte resultado é a base da teoria que utilizaremos em algumas deduções. A função $P_{n}(t,y)$ dada no **Teorema 1** é chamada de $n$-ésimo polinômio de Taylor em duas variáveis para uma função $f$ em torno de $(t_{0},y_{0})$ e $R_{n}(t,y)$ é o resto associado à $P_{n}(t,y)$."
   ]
  },
  {
   "cell_type": "markdown",
   "id": "29ac2d01",
   "metadata": {},
   "source": [
    "##### <font color='purple'> Teorema </font>"
   ]
  },
  {
   "cell_type": "markdown",
   "id": "eb3fd9bd",
   "metadata": {},
   "source": [
    "<font color='purple'> Suponha que $f(t,y)$ e todas as suas derivadas parciais de ordem menor ou igual a $n+1$ sejam contínuas em $D = \\{(t,y)|a\\leq t \\leq b,c \\leq y \\leq d\\}$, e seja $(t_{0},y_{0}) \\in D$. Para cada $(t,y) \\in D$, existem $\\xi$ entre $t$ e $t_{0}$ e $\\mu$ entre $y$ e $y_{0}$ tais que<br><br>\n",
    " $$f(t,y) = P_{n}(t,y) + R_{n}(t,y),$$<br>\n",
    " em que<br><br>\n",
    " $$P_{n}(t,y) = f(t_{0},y_{0}) + \\left[(t-t_{0})\\frac{\\partial f}{\\partial t}(t_{0},y_{0}) + (y-y_{0})\\frac{\\partial f}{\\partial y}(t_{0},y_{0}) \\right]+ $$<br>\n",
    " $$+ \\left[\\frac{(t-t_{0})^{2}}{2}\\frac{\\partial^{2} f}{\\partial t^{2}}(t_{0},y_{0}) + (t-t_{0})(y-t_{0})\\frac{\\partial^{2} f}{\\partial t \\partial y}(t_{0},y_{0}) +  \\frac{(y-y_{0})^{2}}{2}\\frac{\\partial^{2} f}{\\partial y^{2}}(t_{0},y_{0}) \\right]  + \\ldots$$<br>\n",
    " $$+\\left[\\frac{1}{n!}\\sum_{j=0}^{n} {{n}\\choose{j}}(t-t_{0})^{n-j}(y-y_{0})^{j}\\frac{\\partial^{n} f}{\\partial t^{n-j}\\partial y^{j}}(t_{0},y_{0}) \\right]$$<br>\n",
    " e<br>\n",
    " $$R_{n}(t,y) = \\frac{1}{(n+1)!}\\sum_{j=0}^{n+1} {{n+1}\\choose{j}}(t-t_{0})^{n+1-j}(y-y_{0})^{j}\\frac{\\partial^{n+1} f}{\\partial t^{n+1-j}\\partial y^{j}}(\\xi,\\mu).$$"
   ]
  },
  {
   "cell_type": "markdown",
   "id": "192e4be3",
   "metadata": {},
   "source": [
    "O Exemplo a seguir nos ajudará a entender a mecânica das contas no Teorema \\ref{teo14-1}. De certa forma, ele nos fornece uma estimativa numérica de uma função de duas variáveis em um ponto $(t_{0},y_{0})$."
   ]
  },
  {
   "cell_type": "markdown",
   "id": "f750e8e8",
   "metadata": {},
   "source": [
    "#### <font color='blue'> Exemplo 1 </font>"
   ]
  },
  {
   "cell_type": "markdown",
   "id": "95a19ae6",
   "metadata": {},
   "source": [
    "<font color='blue'> Determine $P_{2}(t,y)$ em torno de $(0,0)$ para a função $f(t,y) = tsen(y)$. Use $P_{2}(t,y)$ para estimar o valor de $f(0.5,0.5)$ e compare com o valor exato $f(0.5,0.5)=0.5sen(0.5) = 0.239712769302102.$"
   ]
  },
  {
   "cell_type": "markdown",
   "id": "826952e2",
   "metadata": {},
   "source": [
    "##### <font color='blue'> Solução </font>"
   ]
  },
  {
   "cell_type": "markdown",
   "id": "4da2981f",
   "metadata": {},
   "source": [
    "<font color='blue'> Devemos obter as derivadas parciais $\\frac{\\partial f}{\\partial t}$, $\\frac{\\partial f}{\\partial y}$, $\\frac{\\partial^{2} f}{\\partial t^{2}}$, $\\frac{\\partial^{2} f}{\\partial y^{2}}$ e $\\frac{\\partial^{2} f}{\\partial t \\partial y}$. Pois bem,<br><br>\n",
    " $$\\frac{\\partial f}{\\partial t} = sen(y), \\frac{\\partial f}{\\partial y} = tcos(y), \\frac{\\partial^{2} f}{\\partial t^{2}} = 0, \\frac{\\partial^{2} f}{\\partial y^{2}} = -tsen(y), \\frac{\\partial^{2} f}{\\partial t \\partial y} = cos(y)$$<br>\n",
    " donde segue que $P_{2}(t,y)$ em torno de $(t_{0},y_{0}) = (0,0)$ é:<br><br>\n",
    " $$P_{2}(t,y) = f(t_{0},y_{0}) + \\left[(t-t_{0})\\frac{\\partial f}{\\partial t}(t_{0},y_{0}) + (y-y_{0})\\frac{\\partial f}{\\partial y}(t_{0},y_{0}) \\right]+ $$<br>\n",
    " $$+ \\left[\\frac{(t-t_{0})^{2}}{2}\\frac{\\partial^{2} f}{\\partial t^{2}}(t_{0},y_{0}) + (t-t_{0})(y-t_{0})\\frac{\\partial^{2} f}{\\partial t \\partial y}(t_{0},y_{0}) +  \\frac{(y-y_{0})^{2}}{2}\\frac{\\partial^{2} f}{\\partial y^{2}}(t_{0},y_{0}) \\right] =$$<br>\n",
    " $$= 0sen(0) + (t-0)sen(0) + (y-0)0cos(0) + \\frac{(t-0)^{2}}{2}0 + (t-0)(y-0)cos(0) + \\frac{(y-0)^{2}}{2}(-0sen(0))=ty$$<br>\n",
    " Assim, $P_{2}(t,y) = ty$. Logo,<br><br>\n",
    " $$f(0.5,0.5) \\approx P_{2}(0.5,0.5) = 0.5\\cdot 0.5 = 0.25$$<br>\n",
    " Por fim,<br><br>\n",
    " $$E_{2} = |f(0.5,0.5)-P_{2}(0.5,0.5)| = 1.028723069789850e-02.$$"
   ]
  },
  {
   "cell_type": "markdown",
   "id": "518b1934",
   "metadata": {},
   "source": [
    "#### Observação 1"
   ]
  },
  {
   "cell_type": "markdown",
   "id": "73b92266",
   "metadata": {},
   "source": [
    "A plataforma WolframAlpha nos fornece alguns polinômios de Taylor de funções em duas variáveis. Podemos calcular alguns termos a mais do polinômio de Taylor referente ao **Exemplo 1**:<br><br><center> <img src=\"fig15-1.jpg\" alt=\"jpg_python\" width=\"600\" height=\"\"> </center><br>\n",
    "\n",
    "Em particular,\n",
    "\n",
    "$$P_{4}(t,s) = ty - \\frac{ty^{3}}{6} \\Rightarrow P_{4}(0.5,0.5) = 0.239583333333333 \\Rightarrow$$\n",
    "\n",
    "$$\\Rightarrow E_{4} = |f(0.5,0.5)-P_{4}(0.5,0.5)| = 1.294359687684932e-04$$\n",
    "\n",
    "$$P_{6}(t,s) = ty - \\frac{ty^{3}}{6} + \\frac{ty^{5}}{120} \\Rightarrow P_{6}(0.5,0.5) = 0.239713541666667 \\Rightarrow$$\n",
    "\n",
    "$$\\Rightarrow E_{6} = |f(0.5,0.5)-P_{6}(0.5,0.5)| = 7.723645654988953e-07$$"
   ]
  },
  {
   "cell_type": "markdown",
   "id": "ca484cf2",
   "metadata": {},
   "source": [
    "# <div style=\"margin-top: -20px;\">\n",
    "<hr style=\"border: 2px solid black;\">\n",
    "\n",
    "<font color='black'><span style=\"font-size: 22px;\"><strong>15.2 Método do Ponto Médio</strong></span></font>\n",
    "\n",
    "<hr style=\"border: 2px solid black;\">\n",
    "</div>"
   ]
  },
  {
   "cell_type": "markdown",
   "id": "cd49f71f",
   "metadata": {},
   "source": [
    "O primeiro passo na dedução de um método de Runge-Kutta de segunda ordem, conhecido com Método do Ponto Médio, é determinar valores $a_{1}$, $\\alpha_{1}$ e $\\beta_{1}$ com a propriedade de que\n",
    "\n",
    "$a_{1}f(t+\\alpha_{1},y+\\beta_{1})$ forneça uma aproximação de $T^{(2)}(t,y) = f(t,y) + \\frac{h}{2}f'(t,y)$,\n",
    "\n",
    "com erro não maior que $O(h^{2})$, que é erro de truncamento local para o método de Taylor de segunda ordem. Temos que\n",
    "\n",
    "$$f'(t,y) = \\frac{df}{dt}(t,y) = \\frac{\\partial f}{\\partial t}(t,y) + \\frac{\\partial f}{\\partial y}(t,y)\\cdot y'(t)$$\n",
    "\n",
    "em que $y'(t) = f(t,y)$. Isso implica que\n",
    "\n",
    "$$T^{(2)}(t,y) = f(t,y) + \\frac{h}{2}\\frac{\\partial f}{\\partial t}(t,y) + \\frac{h}{2}\\frac{\\partial f}{\\partial y}(t,y)\\cdot f(t,y). \\tag{1}$$\n",
    "\n",
    "Tomando o primeiro polinômio de Taylor de $a_{1}f(t+\\alpha_{1},y+\\beta_{1})$ em torno de $(t,y)$, teremos\n",
    "\n",
    "$$ a_{1}f(t+\\alpha_{1},y+\\beta_{1}) = a_{1}f(t,y) + a_{1}\\alpha_{1}\\frac{\\partial f}{\\partial t}(t,y) + a_{1}\\beta_{1}\\frac{\\partial f}{\\partial y}(t,y) + a_{1}R_{1}(t+\\alpha_{1},y+\\beta_{1}), \\tag{2}$$\n",
    "\n",
    "em que\n",
    "\n",
    "$$R_{1}(t+\\alpha_{1},y+\\beta_{1}) = \\frac{\\alpha_{1}^{2}}{2}\\frac{\\partial^{2}f}{\\partial t^{2}}(\\xi,\\mu) + a_{1}\\beta_{1}\\frac{\\partial^{2}f}{\\partial t \\partial y}(\\xi,\\mu) + \\frac{\\beta_{1}^{2}}{2}\\frac{\\partial^{2}f}{\\partial y^{2}}(\\xi,\\mu)$$\n",
    "\n",
    "para algum $\\xi$ entre $t$ e $t+\\alpha$ e $\\mu$ entre $y$ e $y+\\beta_{1}$.\n",
    "\n",
    "Decorre da comparação das equações ($1$) e ($2$) que:\n",
    "\n",
    "$$f(t,y) = a_{1}f(t,y) \\Rightarrow a_{1} = 1, \\,\\, \\frac{h}{2}\\frac{\\partial f}{\\partial t}(t,y) = a_{1}\\alpha_{1}\\frac{\\partial f}{\\partial t}(t,y) \\Rightarrow $$\n",
    "$$\\Rightarrow \\alpha_{1} = \\frac{h}{2} \\,\\, e \\,\\, \\frac{h}{2}\\frac{\\partial f}{\\partial y}(t,y)\\cdot f(t,y) = a_{1}\\beta_{1}\\frac{\\partial f}{\\partial y}(t,y) \\Rightarrow \\beta_{1} = \\frac{h}{2}f(t,y).$$\n",
    "\n",
    "Assim,\n",
    "\n",
    "$$T^{(2)} = a_{1}f(t+\\alpha_{1},y+\\beta_{1}) = f\\left(t + \\frac{h}{2},y + \\frac{h}{2}f(t,y)\\right).$$\n",
    "\n",
    "Ignorando o termos de erro $a_{1}R_{1}(t+\\alpha_{1},y+\\beta_{1})$, em ($2$), temos $\\omega{i} \\approx y(t_{i})$. Assim, deduzimos o método do Ponto Médio:\n",
    "\n",
    "<font color='red'> $\\omega_{0} = \\alpha,$<br><br>\n",
    " $\\omega_{i+1} = \\omega_{i} + hf\\left(t_{i}+ \\frac{h}{2}, \\omega_{i} + \\frac{h}{2}f(t_{i},\\omega_{i})\\right), \\,\\,\\,\\,\\, i=0,1,\\ldots,N-1.$"
   ]
  },
  {
   "cell_type": "markdown",
   "id": "e1893cf7",
   "metadata": {},
   "source": [
    "#### <font color='blue'> Exemplo 2 </font>"
   ]
  },
  {
   "cell_type": "markdown",
   "id": "fa5f0177",
   "metadata": {},
   "source": [
    "<font color='blue'> Aplique o método do Ponto Médio ao problema de valor inicial<br><br>\n",
    " $$y' = y-t^{2}+1 \\, \\, \\, \\, \\, 0 \\leq t \\leq 0.4, \\,\\,\\, y(0) = 0.5,$$<br>\n",
    " com $N=2$.  Compare o resultado obtido com a solução exata $y(t) = (t+1)^{2} -0.5e^{t}$."
   ]
  },
  {
   "cell_type": "markdown",
   "id": "1ad3fcbc",
   "metadata": {},
   "source": [
    "##### <font color='blue'> Solução </font>"
   ]
  },
  {
   "cell_type": "markdown",
   "id": "b596f90e",
   "metadata": {},
   "source": [
    "<font color='blue'> Temos que $N=2$, $h=0.2$, $t_{i}=0.2i$ e $\\omega_{0} = 0.5$. Após algumas contas obtemos a seguinte equação recursiva: $\\omega_{i+1} = 1,22\\omega_{i}-0.0088i^{2}-0.008i+0.218;$<br><br>\n",
    " Acompanhe os resultados na tabela a seguir:<br><br>\n",
    " $$\\begin{array}{cccc}\n",
    "t_{i}  & y(t_{i})   & w  \t& E \\\\\n",
    "0.0 & 0.500000000000000  & 0.500000000000000 & 0.000000000000000         \\\\\n",
    "0,2 & 0.829298620919915  & 0.828000000000000 & 1.298620919915061e-03 \\\\\n",
    "0,4 & 1.214087651179365  & 1.211360000000000 & 2.727651179365020e-03 \\\\\n",
    "\\end{array}$$"
   ]
  },
  {
   "cell_type": "markdown",
   "id": "10e1271e",
   "metadata": {},
   "source": [
    "# <div style=\"margin-top: -20px;\">\n",
    "<hr style=\"border: 2px solid black;\">\n",
    "\n",
    "<font color='black'><span style=\"font-size: 22px;\"><strong>15.3 Método de Runge-Kutta de Quarta Ordem</strong></span></font>\n",
    "\n",
    "<hr style=\"border: 2px solid black;\">\n",
    "</div>"
   ]
  },
  {
   "cell_type": "markdown",
   "id": "fd69f28c",
   "metadata": {},
   "source": [
    "A seguir apresentaremos as equações referentes ao método de Runge-Kutta de quarta ordem ($O(h^{4})$), um dos métodos mais poderosos referente à solução numérica de equações diferenciais. Contudo, a dedução de tal método é bastante complexa e foge do que propõe este material."
   ]
  },
  {
   "cell_type": "markdown",
   "id": "69f5138b",
   "metadata": {},
   "source": [
    "<font color='red'> $\\omega_{0} = \\alpha,$<br><br>\n",
    " $k_{1} = hf(t_{i},\\omega_{i}),$<br><br>\n",
    " $k_{2} = hf\\left(t_{i} + \\frac{h}{2}, \\omega_{i} + \\frac{1}{2}k_{1}\\right),$<br><br>\n",
    " $k_{3} = hf\\left(t_{i} + \\frac{h}{2}, \\omega_{i} + \\frac{1}{2}k_{2} \\right),$<br><br>\n",
    " $k_{4} = hf(t_{i+1},\\omega_{i}+k_{3}),$<br><br>\n",
    " $\\omega_{i+1} = \\omega_{i} + \\frac{1}{6}(k_{1} + 2k_{2} + 2k_{3} + k_{4}),$<br><br>\n",
    " $i=0,1,\\ldots,N-1$."
   ]
  },
  {
   "cell_type": "markdown",
   "id": "16165b2c",
   "metadata": {},
   "source": [
    "#### <font color='blue'> Exemplo 3 </font>"
   ]
  },
  {
   "cell_type": "markdown",
   "id": "1f030d60",
   "metadata": {},
   "source": [
    "<font color='blue'> Aplique o método de Runge-Kutta de quarta ordem ao problema de valor inicial<br><br>\n",
    " $$y' = y-t^{2}+1 \\ \\ \\ 0 \\leq t \\leq 0.4, \\ \\ \\ y(0) = 0.5,$$<br>\n",
    " com $N=2$. Compare o resultado obtido com a solução exata $y(t) = (t+1)^{2} -0.5e^{t}$."
   ]
  },
  {
   "cell_type": "markdown",
   "id": "d3fabf4b",
   "metadata": {},
   "source": [
    "##### <font color='blue'> Solução </font>"
   ]
  },
  {
   "cell_type": "markdown",
   "id": "94ebdde2",
   "metadata": {},
   "source": [
    "<font color='blue'> Tomando $N=2$, $h=0.2$, $t_{i}=0,2i$ e $\\omega_{0} = 0.5$, temos que os valores de $k_{1}$, $k_{2}$, $k_{3}$, $k_{4}$ e $\\omega_{i}$ são:<br><br>\n",
    " Passo 1: $i=0$:<br><br>\n",
    " $k1 = 0.2f(0.2\\cdot0,0.5) = 0.2f(0,0.5) = 0.2(0.5-0^{2}+1) = 0.300000000000000$<br><br>\n",
    " $k2 = 0.2f\\left(0+\\frac{0.2}{2},0.5 + \\frac{0.3}{2}\\right) = 0.2 f\\left(0.1,0.65\\right) = 0.2(0.65-0.1^{2}+1) = 0.328000000000000$<br><br>\n",
    " $k3 = 0.2f\\left(0+\\frac{0.2}{2},0.5 + \\frac{0.328}{2}\\right) = 0.2 f\\left(0.1,0.664\\right) = 0.2(0.664-0.1^{2}+1) = 0.330800000000000$<br><br>\n",
    " $k4 = 0.2f\\left(0+0.2,0.5 +0.3308\\right) = 0.2 f\\left(0.2,0.8308\\right) = 0.2(0.8308-0.2^{2}+1) = 0.358160000000000$<br><br>\n",
    " $\\omega_{1} = 0.5 + \\frac{0.3 + 2\\cdot0.328 + 2\\cdot0.3308 + 0.35816}{6} = 0.829293333333333$<br><br>\n",
    " Passo 2: $i=1$<br><br>\n",
    " $k1 = 0.2f(0.2\\cdot1,0.829293333333333) = 0.2f(0.2,0.829293333333333) = 0.357858666666667 $<br><br>\n",
    " $k2 = 0.2f\\left(0.2+\\frac{0.2}{2},0.829293333333333 + \\frac{0.357858666666667}{2}\\right) = 0.2 f\\left(0.3,1.008222666666666\\right) = 0.383644533333333 $<br><br>\n",
    " $k3 = 0.2f\\left(0.2+\\frac{0.2}{2},0.829293333333333 + \\frac{0.383644533333333}{2}\\right) = 0.2 f\\left(0.3,1.021115599999999\\right) = 0.386223120000000 $<br><br>\n",
    " $k4 = 0.2f\\left(0.2+0.2,0.829293333333333 + 0.386223120000000\\right) = 0.2 f\\left(0.4,1.215516453333333\\right) = 0.411103290666667 $<br><br>\n",
    " $\\omega_{1} = 0.829293333333333 + \\frac{0.357858666666667 + 2\\cdot0.383644533333333 + 2\\cdot0.38622312000000 + 0.411103290666667}{6} = 1.214076210666667$<br><br>\n",
    " Considerando a solução exata $y = (t+1)^{2}-0.5e^{t}$ dispomos os resultados na tabela a seguir:<br><br>\n",
    " $$\\begin{array}{cccc}\n",
    "t_{i}  & y_{i} = y(t_{i})   & \\omega_{i}  \t& |y{i}-\\omega_{i}|\\\\\n",
    "0.0 & 0.500000000000000 & 0.500000000000000 & 0.000000000000000    \\\\\n",
    "0.2 & 0.829298620919915 & 0.829293333333333 & 5.287586582025661e-06\\\\\n",
    "0.4 & 1.214087651179365 & 1.214076210666667 & 1.144051269807989e-05\\\\\n",
    "\\end{array}$$"
   ]
  },
  {
   "cell_type": "markdown",
   "id": "21ce5fb0",
   "metadata": {},
   "source": [
    "# <div style=\"margin-top: -20px;\">\n",
    "<hr style=\"border: 2px solid black;\">\n",
    "\n",
    "<font color='black'><span style=\"font-size: 22px;\"><strong>Implementações</strong></span></font>\n",
    "\n",
    "<hr style=\"border: 2px solid black;\">\n",
    "</div>"
   ]
  },
  {
   "attachments": {
    "image.png": {
     "image/png": "[encoded data removed]"
    }
   },
   "cell_type": "markdown",
   "id": "322782ee",
   "metadata": {},
   "source": [
    "![image.png](attachment:image.png)"
   ]
  },
  {
   "cell_type": "markdown",
   "id": "b414552e",
   "metadata": {},
   "source": [
    "#### <font color='darkpurple'> Método de Runge-Kutta de Quarta Ordem</font>"
   ]
  },
  {
   "cell_type": "markdown",
   "id": "a095d722",
   "metadata": {},
   "source": [
    "<font color='darkpurple'> Método de Runge-Kutta de Quarta Ordem: Para encontrar uma aproximação da solução do problema de valor inicial<br><br>\n",
    " $$y' = f(t,y), \\ \\ \\ a \\leq t \\leq b, \\ \\ \\ y(a) = \\alpha,$$<br>\n",
    " em $N+1$ números igualmente espaçados no intervalo $[a,b]$.<br><br>\n",
    " **ENTRADAS:** função $f$; derivada $f'$; extremidades $a$, $b$; número inteiro $N$; condição inicial $\\alpha$.<br><br>\n",
    " **SAÍDA:** aproximação $\\omega$ de $y$ nos $N+1$ valores de $t$.<br><br>\n",
    " **Passo 1:** Faça $h = \\frac{b-a}{N}$;<br><br>\n",
    " $\\ \\ \\ \\ \\ \\ \\ \\ \\ \\ \\ \\ \\ $ Faça $t = a$;<br><br>\n",
    " $\\ \\ \\ \\ \\ \\ \\ \\ \\ \\ \\ \\ \\ $ Faça $\\omega = \\alpha$<br><br>\n",
    " $\\ \\ \\ \\ \\ \\ \\ \\ \\ \\ \\ \\ \\ $ SAÍDA $(t,\\omega)$<br><br>\n",
    " **Passo 2:** Para $i=1,2, \\ldots, N$ execute os Passos $3$ e $4$;<br><br>\n",
    " $\\ \\ \\ $ **Passo 3:** Faça $k_{1} = hf(t,w)$;<br><br>\n",
    " $\\ \\ \\ \\ \\ \\ \\ \\ \\ \\ \\ \\ \\ \\ \\ \\ \\ \\ $ Faça $k_{2} = hf\\left(t + \\frac{h}{2}, \\omega + \\frac{k_{1}}{2}\\right)$;<br><br>\n",
    " $\\ \\ \\ \\ \\ \\ \\ \\ \\ \\ \\ \\ \\ \\ \\ \\ \\ \\ $ Faça $k_{3} = hf\\left(t + \\frac{h}{2}, \\omega + \\frac{k_{2}}{2}\\right)$;<br><br>\n",
    " $\\ \\ \\ \\ \\ \\ \\ \\ \\ \\ \\ \\ \\ \\ \\ \\ \\ \\ $ Faça $k_{4} = hf(t + h, \\omega + k_{3})$;<br><br>\n",
    " $\\ \\ \\ $ **Passo 4:** Faça $\\omega  = \\omega + \\frac{k_{1}+2k_{2}+2k_{3} + k_{4}}{6}$ (*Calcule $\\omega_{i}$*);<br><br>\n",
    " $\\ \\ \\ \\ \\ \\ \\ \\ \\ \\ \\ \\ \\ \\ \\ \\ \\ \\ $ Faça $t = a + ih$;(*Calcule $t_{i}$*)<br><br>\n",
    " $\\ \\ \\ $ **Passo 5:** SAÍDA $(t,\\omega)$<br><br>\n",
    " **Passo 6:** PARE."
   ]
  },
  {
   "cell_type": "markdown",
   "id": "5572df71",
   "metadata": {},
   "source": [
    "#### <font color='darkblue'> Código Python: Método de Runge-Kutta de Quarta Ordem</font>"
   ]
  },
  {
   "cell_type": "code",
   "execution_count": 17,
   "id": "cf36736f",
   "metadata": {
    "ExecuteTime": {
     "end_time": "2024-04-01T14:53:50.011642Z",
     "start_time": "2024-04-01T14:53:50.005886Z"
    }
   },
   "outputs": [],
   "source": [
    "def runge_kutta_4(f, a, b, w0, n):\n",
    "    F = lambda t, y: eval(f)\n",
    "    a = float(a)\n",
    "    b = float(b)\n",
    "    w0 = float(w0)\n",
    "    n = int(n)\n",
    "\n",
    "    h = (b - a) / n\n",
    "    t = a\n",
    "    w = w0\n",
    "    i = 1\n",
    "    print(f'Uma aproximação discreta de {n} passos para o PVI  y´={f},  {a} <= t <= {b},  y({a}) = {w0},  via método'\n",
    "          f' de Runge-Kutta de Ordem 4, é dada por:')\n",
    "    print(f'   i            w_i')\n",
    "    print(f'   %d     %0.13f' % (i - 1, w))\n",
    "    while i <= n:\n",
    "        k1 = h * F(t, w)\n",
    "        k2 = h * F(t + h / 2, w + k1 / 2)\n",
    "        k3 = h * F(t + h / 2, w + k2 / 2)\n",
    "        k4 = h * F(t + h, w + k3)\n",
    "        w = w + (k1 + 2 * k2 + 2 * k3 + k4) / 6\n",
    "        t = a + i * h\n",
    "        i = i + 1\n",
    "        print(f'   %d     %0.13f' % (i - 1, w))"
   ]
  },
  {
   "cell_type": "code",
   "execution_count": 18,
   "id": "79192410",
   "metadata": {
    "ExecuteTime": {
     "end_time": "2024-04-01T14:53:51.777842Z",
     "start_time": "2024-04-01T14:53:51.773633Z"
    }
   },
   "outputs": [
    {
     "name": "stdout",
     "output_type": "stream",
     "text": [
      "Uma aproximação discreta de 2 passos para o PVI  y´=y-t**2+1,  0.0 <= t <= 0.4,  y(0.0) = 0.5,  via método de Runge-Kutta de Ordem 4, é dada por:\n",
      "   i            w_i\n",
      "   0     0.5000000000000\n",
      "   1     0.8292933333333\n",
      "   2     1.2140762106667\n"
     ]
    }
   ],
   "source": [
    "runge_kutta_4('y-t**2+1',0,0.4,0.5,2)"
   ]
  },
  {
   "cell_type": "markdown",
   "id": "09065007",
   "metadata": {},
   "source": [
    "# <div style=\"margin-top: -20px;\">\n",
    "<hr style=\"border: 2px solid black;\">\n",
    "\n",
    "<font color='black'><span style=\"font-size: 22px;\"><strong>Exercícios</strong></span></font>\n",
    "\n",
    "<hr style=\"border: 2px solid black;\">\n",
    "</div>"
   ]
  },
  {
   "cell_type": "markdown",
   "id": "a5b39009",
   "metadata": {},
   "source": [
    "#### Exercício 1"
   ]
  },
  {
   "cell_type": "markdown",
   "id": "a14f38bc",
   "metadata": {},
   "source": [
    "Use o método do Ponto Médio para obter uma aproximação para cada um dos seguintes problemas de valor inicial. Calcule o valor exato e o erro em cada passo a partir da solução fornecida.\n",
    "\n",
    "a) $y' = te^{3t}-2y, \\ \\ \\ 0 \\leq t \\leq 1, \\ \\ \\ y(0) = 0, \\ \\ \\ h=0.5.$ (Solução: $y(t) = \\frac{1}{25}e^{-2t} \\left(1 + e^{5t}(-1 + 5t)\\right)$)\n",
    "\n",
    "b $y' = 1 + (t-y)^{2}, \\ \\ \\ 2 \\leq t \\leq 3, \\ \\ \\ y(2) = 1, \\ \\ \\ h=0.5.$ (Solução: $y(t) = \\frac{t^{2}-t-1}{t-1}$)\n",
    "\n",
    "c) $y' = cos(2t) + sen(3t), \\ \\ \\ 0 \\leq t \\leq 1, \\ \\ \\ y(0) = 1, \\ \\ \\ h=0.25.$ (Solução: $y(t) = \\frac{1}{6}(3sen(2t) - 2cos(3t) + 8)$)"
   ]
  },
  {
   "cell_type": "markdown",
   "id": "e55dc180",
   "metadata": {},
   "source": [
    "#### Exercício 2"
   ]
  },
  {
   "cell_type": "markdown",
   "id": "ee8a552a",
   "metadata": {},
   "source": [
    "Repita o **Exercício 1** usando o método de Runge-Kutta de Quarta Ordem."
   ]
  },
  {
   "cell_type": "markdown",
   "id": "50d2d60e",
   "metadata": {},
   "source": [
    "# <div style=\"margin-top: -20px;\">\n",
    "<hr style=\"border: 2px solid black;\">\n",
    "\n",
    "<font color='black'><span style=\"font-size: 22px;\"><strong>Respostas dos Exercícios</strong></span></font>\n",
    "\n",
    "<hr style=\"border: 2px solid black;\">\n",
    "</div>"
   ]
  },
  {
   "cell_type": "markdown",
   "id": "05353962",
   "metadata": {},
   "source": [
    "#### Resposta do Exercício 1"
   ]
  },
  {
   "cell_type": "markdown",
   "id": "758f962a",
   "metadata": {},
   "source": [
    "$\\text{a)} \\ \\ \\ \\begin{array}{ccccc}\n",
    "i  & t_{i}  & w_{i}  \t& y(t_{i}) & |y(t_{i})-w_{i}|\\\\\n",
    "1  & 0.5    & 0.264625002076584  \t& 0.283616521867142 & 1.899151979055796e-02\\\\\n",
    "2  & 1.0    & 3.130002305880481  \t& 3.219099319039491 & 8.909701315901009e-02\\\\\n",
    "\\end{array}\n",
    "$\n",
    "\n",
    "$\\text{b)} \\ \\ \\ \\begin{array}{ccccc}\n",
    "i  & t_{i}  & w_{i}  \t& y(t_{i}) & |y(t_{i})-w_{i}|\\\\\n",
    "1  & 2.5    & 1.781250000000000  \t& 1.833333333333333 & 5.208333333333304e-02\\\\\n",
    "2  & 3.0    & 2.455063849687576  \t& 2.500000000000000 & 4.493615031242415e-02\\\\\n",
    "\\end{array}\n",
    "$\n",
    "\n",
    "$\\text{c)} \\ \\ \\ \\begin{array}{ccccc}\n",
    "i  & t_{i}    & w_{i}  \t& y(t_{i}) & |y(t_{i})-w_{i}|\\\\\n",
    "1  & 0.25    & 1.333796237699173  \t& 1.329149813010828 & 4.646424688345085e-03\\\\\n",
    "2  & 0.50    & 1.742285353442402  \t& 1.730489758514714 & 1.179559492768800e-02\\\\\n",
    "3  & 0.75    & 2.059637389443643  \t& 2.041472034209607 & 1.816535523403617e-02\\\\\n",
    "4  & 1.00    & 2.138555950183792  \t& 2.117979545612989 & 2.057640457080279e-02\\\\\n",
    "\\end{array}$"
   ]
  },
  {
   "cell_type": "markdown",
   "id": "53ae3ba1",
   "metadata": {},
   "source": [
    "#### Resposta do Exercício 2"
   ]
  },
  {
   "cell_type": "markdown",
   "id": "fa1ce983",
   "metadata": {},
   "source": [
    "$\\text{a)} \\ \\ \\ \\begin{array}{ccccc}\n",
    "i  & t_{i}  & w_{i}  \t& y(t_{i}) & |y(t_{i})-w_{i}|\\\\\n",
    "1  & 0.5    & 0.296997462129329 \t& 0.283616521867142 & 1.338094026218700e-02\\\\\n",
    "2  & 1.0    & 3.314311777477845  \t& 3.219099319039491 & 9.521245843835358e-02\\\\\n",
    "\\end{array}$\n",
    "\n",
    "$\\text{b)} \\ \\ \\ \\begin{array}{ccccc}\n",
    "i  & t_{i}  & w_{i}  \t& y(t_{i}) & |y(t_{i})-w_{i}|\\\\\n",
    "1  & 2.5    & 1.833323360731204   \t& 1.833333333333333 & 9.972602128982544e-06\\\\\n",
    "2  & 3.0    & 2.499971193426182  \t& 2.500000000000000 & 2.880657381787444e-05\\\\\n",
    "\\end{array}$\n",
    "\n",
    "$\\text{c)} \\ \\ \\ \\begin{array}{ccccc}\n",
    "i  & t_{i}    & w_{i}  \t& y(t_{i}) & |y(t_{i})-w_{i}|\\\\\n",
    "1  & 0.25    & 1.329165046879186  \t& 1.329149813010828 & 1.523386835811102e-05 \\\\\n",
    "2  & 0.50    & 1.730533566307418  \t& 1.730489758514714 & 4.380779270385382e-05 \\\\\n",
    "3  & 0.75    & 2.041543577434405  \t& 2.041472034209607 & 7.154322479818731e-05\\\\\n",
    "4  & 1.00    & 2.118063600014019  \t& 2.117979545612989 & 8.405440103009809e-05\\\\\n",
    "\\end{array}$"
   ]
  },
  {
   "cell_type": "markdown",
   "id": "c8fb0c17",
   "metadata": {},
   "source": [
    "# <div style=\"margin-top: -20px;\">\n",
    "<hr style=\"border: 2px solid black;\">\n",
    "\n",
    "<font color='black'><span style=\"font-size: 22px;\"><strong>Vídeo Aulas</strong></span></font>\n",
    "\n",
    "<hr style=\"border: 2px solid black;\">\n",
    "</div>"
   ]
  },
  {
   "cell_type": "markdown",
   "id": "f54580f2",
   "metadata": {},
   "source": [
    "Clicando nos links a seguir você será redirecionado às aulas referentes a este capítulo:\n",
    "\n",
    "[Polinômio de Taylor de Ordem Superior (Duas Variáveis)](https://youtu.be/juV4AXGgOP0)\n",
    "\n",
    "[Método do Ponto Médio](https://youtu.be/8As3RFfaH24)\n",
    "\n",
    "[Exemplo Envolvendo o Método do Ponto Médio](https://youtu.be/YBPEh0eQpzU)\n",
    "\n",
    "[Método de Runge-Kutta de Quarta Ordem](https://youtu.be/n_kD0qKkirg)"
   ]
  }
 ],
 "metadata": {
  "kernelspec": {
   "display_name": "Python 3 (ipykernel)",
   "language": "python",
   "name": "python3"
  },
  "language_info": {
   "codemirror_mode": {
    "name": "ipython",
    "version": 3
   },
   "file_extension": ".py",
   "mimetype": "text/x-python",
   "name": "python",
   "nbconvert_exporter": "python",
   "pygments_lexer": "ipython3",
   "version": "3.11.5"
  },
  "varInspector": {
   "cols": {
    "lenName": 16,
    "lenType": 16,
    "lenVar": 40
   },
   "kernels_config": {
    "python": {
     "delete_cmd_postfix": "",
     "delete_cmd_prefix": "del ",
     "library": "var_list.py",
     "varRefreshCmd": "print(var_dic_list())"
    },
    "r": {
     "delete_cmd_postfix": ") ",
     "delete_cmd_prefix": "rm(",
     "library": "var_list.r",
     "varRefreshCmd": "cat(var_dic_list()) "
    }
   },
   "types_to_exclude": [
    "module",
    "function",
    "builtin_function_or_method",
    "instance",
    "_Feature"
   ],
   "window_display": false
  }
 },
 "nbformat": 4,
 "nbformat_minor": 5
}

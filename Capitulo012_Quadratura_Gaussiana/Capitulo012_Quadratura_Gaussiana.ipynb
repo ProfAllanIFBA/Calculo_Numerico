{
 "cells": [
  {
   "cell_type": "markdown",
   "id": "d4ea28a8",
   "metadata": {
    "slideshow": {
     "slide_type": "slide"
    }
   },
   "source": [
    "<center> <img src=\"logo_ifba.jpg\" alt=\"jpg_python\" width=\"100\" height=\"200\"> </center>\n",
    "<br><br>\n",
    "<div align=\"center\"><span style=\"font-size: 26px;\"><strong>Cálculo Numérico <br></strong></span></div> <br>\n",
    "<center> <img src=\"python_gif.gif\" alt=\"gif_python\" width=\"80\"> </center>\n"
   ]
  },
  {
   "cell_type": "markdown",
   "id": "d76184a7",
   "metadata": {
    "slideshow": {
     "slide_type": "slide"
    }
   },
   "source": [
    "<div style=\"border: 2px solid black; padding: 10px; width: 95%; background-color: lightgray; display: flex; align-items: center;\">\n",
    "    <h1 style=\"color: red; text-align: center; margin: auto;\">\n",
    "        Capítulo 12: Quadratura Gaussiana\n",
    "    </h1>\n",
    "</div>\n",
    "\n",
    "<font color='red'></font>\n",
    "<a href=\"\"></a>"
   ]
  },
  {
   "cell_type": "markdown",
   "id": "8590d739",
   "metadata": {},
   "source": [
    "As fórmulas de intregração numérica vistas anteriormente foram obtidas integrando-se polinômios interpoladores. Além disso, temos a utilização de pontos igualmente espaçados. Por outro lado, a Quadratura Gaussiana escolhe pontos interiores ao intervalo de integração de modo a termos um resultado otimizado. Consideremos a Regra do Trapézio aplicada às funções conforme apresentado na figura a seguir:<br><br>\n",
    "<center> <img src=\"fig12-1.jpg\" alt=\"jpg_python\" width=\"600\" height=\"\"> </center>\n",
    "\n",
    "Note a reta que une os pontos $(x_{1},f(x_{1}))$ e $(x_{2},f(x_{2}))$ (com $x_{1} = a$ e $x_{2} = b$) não parece ser a melhor função linear a ser integrada para obtermos uma estimativa da integral das funções em $[a,b]$. Por outro lado, podemos tomar outros valores para $x_{1}$ e $x_{2}$ em $[a,b]$ de modo que a otimizarmos nossa estimativa de $\\int_{a}^{b} f(x) dx$ por meio de $\\int_{x_{1}}^{x_{2}}P_{1}(x) dx$ conforme apresentado a seguir:<br><br>\n",
    "<center> <img src=\"fig12-2.jpg\" alt=\"jpg_python\" width=\"600\" height=\"\"> </center>\n",
    "\n",
    "A quadratura gaussiana afirma que\n",
    "$$\\int_{a}^{b} f(x) dx = \\sum_{i=1}^{n} w_{i}f(t_{i}),$$\n",
    "onde os n\\'os $t_{1}, \\ldots, t_{n} \\in [a, b]$ e os coeficientes $w_{1}, \\ldots, w_{n}$ são escolhidos de modo a minimizar o erro esperado para o cálculo da aproximação."
   ]
  },
  {
   "cell_type": "markdown",
   "id": "b5dbb89f",
   "metadata": {},
   "source": [
    "#### <font color='red'> Teorema </font>"
   ]
  },
  {
   "cell_type": "markdown",
   "id": "2012d698",
   "metadata": {},
   "source": [
    "<font color='red'> Seja $f: [a, b] \\rightarrow \\mathbb{R}$ contínua, $g: [c, d] \\rightarrow \\mathbb{R}$ com derivada integrável e $g([c, d]) \\subset [a, b]$. Então, \n",
    "$$\\int_{g(c)}^{g(d)} f(x) dx = \\int_{c}^{d} f(g(t))g'(t) dt."
   ]
  },
  {
   "cell_type": "markdown",
   "id": "1c2a76f1",
   "metadata": {},
   "source": [
    "Uma integral $\\int_{a}^{b} f(x) dx$ sobre $[a,b]$ arbitrário será transformada em uma integral sobre $[-1,1]$ utilizando mudanças de variáveis conforme o **Teorema 1**. Esta transformação será necessária pois, para o intervalo $[-1,1]$, os valores que otimizam a aproximação de $\\int_{a}^{b} f(x) dx$ já foram catalogados.\n",
    "\n",
    "Pois, bem seja $g: [a, b] \\rightarrow \\mathbb{R}$ tal que $g(t) = \\left( \\frac{b-a}{2} \\right)t + \\frac{b+a}{2}$. Observe que $g(-1) = a$ e $g(1) = b$. Aplicando o **Teorema 1** temos:\n",
    "\n",
    "$$\\int_{a}^{b} f(x) dx = \\int_{-1}^{1} F(t) dt$$\n",
    "em que\n",
    "\n",
    "$$F(t) = f(g(t)).g'(t) = f\\left( \\frac{b-a}{2}t + \\frac{b+a}{2} \\right) \\frac{b-a}{2}. \\tag{1}$$\n",
    "\n",
    "Assim, para sabermos o valor de $\\int_{a}^{b} f(x) dx$ basta calcular $\\int_{-1}^{1} F(t) dt$.\n"
   ]
  },
  {
   "cell_type": "markdown",
   "id": "1cfd2d12",
   "metadata": {},
   "source": [
    "#### <font color='blue'> Exemplo 1 </font>"
   ]
  },
  {
   "cell_type": "markdown",
   "id": "047ec2b5",
   "metadata": {},
   "source": [
    "<font color='blue'> Calcule $\\int_{0}^{2} \\frac{x}{x^{2}+1}dx$ i) de maneira usual, ii) usando mudança  de variável ($1$)."
   ]
  },
  {
   "cell_type": "markdown",
   "id": "363c7a9c",
   "metadata": {},
   "source": [
    "##### <font color='blue'> Solução </font>"
   ]
  },
  {
   "cell_type": "markdown",
   "id": "e466ce25",
   "metadata": {},
   "source": [
    "<font color='blue'> Temos que<br><br>\n",
    " $$\\int_{0}^{2} \\frac{x}{x^{2}+1}dx =^{*} \\int_{1}^{5}\\frac{1}{2u}du = \\frac{1}{2}\\int_{1}^{5}\\frac{1}{u}du = \\left[\\frac{1}{2}ln|u|\\right]_{1}^{5} - \\frac{1}{2}ln|1| = \\frac{1}{2}ln(5) = 0.804718956217050.$$<br>\n",
    " Por outro lado,<br><br>\n",
    " $$F(t) = f\\left(\\frac{2-0}{2}t + \\frac{2+0}{2}\\right)\\frac{2-0}{2} = f\\left(t + 1 \\right) =  \\frac{t+1}{(t+1)^{2}+1}$$<br>\n",
    " donde segue que<br><br>\n",
    " $$\\int_{-1}^{1} F(t) dt = \\int_{-1}^{1}\\frac{t+1}{(t+1)^{2}+1}dt =^{**}  \\int_{1}^{5}\\frac{1}{2u'}du' = 0.804718956217050.$$<br>\n",
    " Note que em $*$ e $**$ usamos a mesma mudança de variáveis<br><br>\n",
    " $$u = x^{2} + 1 \\Rightarrow du = 2x dx \\ e \\ u' = (t+1)^{2} + 1 \\Rightarrow du' = 2(t+1)dt.$$\n"
   ]
  },
  {
   "cell_type": "markdown",
   "id": "1090cd00",
   "metadata": {},
   "source": [
    "Por meio da quadratura gaussiana, temos\n",
    "\n",
    "$$\\int_{a}^{b} f(x) dx = \\int_{-1}^{1} F(t) dt \\approx \\sum_{i=0}^{n} w_{i}F(t_{i}),$$\n",
    "\n",
    "em que os $w_{k}$ são chamados de pesos e $t_{k}$ são pontos do intervalo $[-1, 1]$.\n",
    "\n",
    "A seguir identificaremos estes pontos e pesos para $n = 2$, isto é, dois pontos apenas. Devemos obter $w_{1}$, $w_{2}$, $t_{1}$ e $t_{2}$, tais que\n",
    "\n",
    "$$\\label{eq12-1b} \\int_{-1}^{1} F(t) dt \\approx w_{1}F(t_{1}) + w_{2}F(t_{2}) \\tag{2}$$\n",
    "\n",
    "Necessitamos de um sistema de quatro equações para descobrir estas incógnitas. Note que, estas incógnitas não depende de $F(t)$, de modo que podemos escolher $F(t) = t^{k}$ de modo a termos a igualdade em ($2$) quando $f(x)$ é $1$, $x$, $x^{2}$ e $x^{3}$. Portanto,\n",
    "\n",
    "$$\\begin{array}{c}\n",
    "k = 0 \\Rightarrow \\\\\n",
    "k = 1 \\Rightarrow \\\\\n",
    "k = 2 \\Rightarrow \\\\\n",
    "k = 3 \\Rightarrow \\\\\n",
    "\\end{array} \\, \\, \\, \n",
    "\\left\\{ \\begin{array}{c}\n",
    "2 = \\int_{-1}^{1}t^{0} dt = w_{1}t_{1}^{0} + w_{2}t_{2}^{0} \\\\\n",
    "0 = \\int_{-1}^{1}t^{1} dt = w_{1}t_{1} + w_{2}t_{2}\\\\\n",
    "\\frac{2}{3} = \\int_{-1}^{1}t^{2} dt = w_{1}t_{1}^{2} + w_{2}t_{2}^{2}\\\\\n",
    "0 = \\int_{-1}^{1}t^{3} dt = w_{1}t_{1}^{3} + w_{2}t_{2}^{3}\\\\\n",
    "\\end{array}\n",
    "\\right.\n",
    "\\, \\, \\, \\Rightarrow \\, \\, \\,\n",
    "\\left\\{ \\begin{array}{c}\n",
    "2 =  w_{1}t_{1}^{0} + w_{2}t_{2}^{0} \\\\\n",
    "0 = w_{1}t_{1} + w_{2}t_{2}\\\\\n",
    "\\frac{2}{3} = w_{1}t_{1}^{2} + w_{2}t_{2}^{2}\\\\\n",
    "0 = w_{1}t_{1}^{3} + w_{2}t_{2}^{3}\\\\\n",
    "\\end{array}\n",
    "\\right.$$\n",
    "\n",
    "Resolvendo este sistema, temos\n",
    "$$w_{1} = 1,  \\, \\, \\, w_{2} = 1, \\, \\, \\, t_{1} = \\frac{-1}{\\sqrt{3}}, \\, \\, \\, t_{2} = \\frac{1}{\\sqrt{3}}.$$\n",
    "\n",
    "Até mesmo para $n = 2$ encontra-se certa dificuldade para se resolver o sistema anterior na busca pela incógnitas $t_{i}$ e $w_{i}$. Felizmente, para $n=2$ ou maior temos que os valores de $t_{i}$ já foram tabelados, pois tratam-se das raízes de polinômios de Legendre^{$[1]$}. Por outro lado, as constantes $w_{i}$ necessárias para a aplicação da Quadratura Gaussiana podem ser geradas de maneira análoga ao que foi feito para o caso $n=2$. Felizmente, os valores de $w_{i}$ também já foram tabelados para muitos valores de $n$.\n",
    "\n",
    "Apresentaremos a seguir as soluções $t_{i}$ dos polinômios (de grau $n$) $P_{n}$ e os pesos $w_{i}$ para os casos $n = 2$, $n = 3$, $\\ldots$, $n = 8$ com $i=1,2, \\ldots n$:\n",
    "\n",
    "$$\\begin{array}{ccccc}\n",
    "n & P_{n}\t\t\t\t\t\t\t\t\t& i \t\t& t_{i} \t\t         \t & w_{i} \t\t\\\\\n",
    "2 &\t\\frac{1}{2}(3x^{2}-1)\t\t\t\t\t& 2; \\, 1 \t& \\pm 0.577350269189626\t\t & 1 \t\t\t\\\\\n",
    "3 &\t\\frac{1}{2}(5x^{3}-3x)\t\t\t\t\t& 1; \\, 2; \t& \\pm 0.774596669241483 \t & 0.555555555555556 \t\t\t\\\\\n",
    "  &\t\t\t\t\t\t\t\t\t\t\t& 3\t\t\t& \\,\\,\\,\\, 0.000000000000000 & 0.888888888888889 \t\t\\\\\n",
    "4 &\t\\frac{1}{8}(35x^{4}-30x^{2} + 3)\t\t& 1; \\, 2; \t& \\pm 0.861136311594053\t\t & 0.347854845137454\t\\\\\n",
    "  &\t\t\t\t\t\t\t\t\t\t\t& 3; \\, 4; \t& \\pm 0.339981043584856 \t & 0.652145154862546 \t\\\\\n",
    "5 &\t\\frac{1}{8}(63x^{5}-70x^{3}+15x)\t\t& 1; \\, 2; \t& \\pm 0.906179845938664 \t & 0.236926885056189\t \t\\\\\n",
    "  &\t\t\t\t\t\t\t\t\t\t\t& 3; \\, 4; \t& \\pm 0.538469310105683\t\t & 0.478628670499367\t\\\\\n",
    "  &\t\t\t\t\t\t\t\t\t\t\t& 5\t\t \t& \\,\\,\\,\\, 0.000000000000000 & 0.568888888888889 \t\\\\\n",
    "6 &\t\\frac{1}{16}(231x^{6} - 315x^{4} + 105x^{2} - 5)\t\t&1; \\, 2; \t& \\pm 0.932469514203152 \t & 0.171324492379170 \t\\\\\n",
    "  &\t\t\t&3; \\, 4; \t& \\pm 0.661209386466265 \t & 0.360761573048139 \t\\\\\n",
    "  &\t\t\t&5; \\, 6; \t& \\pm 0.238619186083197\t\t & 0.467913934572691\t\\\\\n",
    "7 &\t\\frac{1}{16}\t\t&1; \\, 2; \t& \\pm 0.949107912342759  \t & 0.129484966168870 \t\\\\\n",
    "  &\t\t\t&3; \\, 4; \t& \\pm 0.741531185599395 \t & 0.279705391489277 \t\\\\\n",
    "  &\t\t\t&5; \\, 6; \t& \\pm 0.405845151377397 \t & 0.381830050505119 \t\\\\\n",
    "  &\t\t\t&7\t\t\t& \\,\\,\\,\\, 0.000000000000000 & 0.417959183673469 \t\\\\\n",
    "8 & \\frac{1}{128}(429x^{7}-693x^{5}+315x^{3}-35x)\t\t&1; \\, 2; \t& \\pm 0.960289856497536\t\t & 0.101228536290376\t\\\\\n",
    "  &\t\t\t&3; \\, 4; \t& \\pm 0.796666477413627 \t & 0.222381034453375 \t\\\\\n",
    "  &\t\t\t&5; \\, 6; \t& \\pm 0.525532409916329 \t & 0.313706645877887\t \t\\\\\n",
    "  &\t\t\t&7; \\, 8;\t& \\pm 0.183434642495650 \t & 0.362683783378362 \t\\\\\t\t\n",
    "\\end{array}$$\n",
    "\n",
    "A página [Gaussian Quadrature Weights and Abscissae](https://pomax.github.io/bezierinfo/legendre-gauss.html) conta com valores as abscissas $(t_{i})$ e os pesos $(w_{i})$ para $n=2, \\ldots, 64$."
   ]
  },
  {
   "cell_type": "markdown",
   "id": "8c7c68f8",
   "metadata": {},
   "source": [
    "<font size = 1> $^{[1]}$ Em matemática, os polinômios de Legendre são as soluções polinomiais da equação diferencial de Legendre<br><br>\n",
    " $$\\frac{d}{dx}\\left[(1-x^{2})\\frac{d}{dx}(P_{n}(x))\\right] + n(n+1)P_{n}(x) = 0.$$<br>\n",
    " para as quais $P_{n}(1) = 1$."
   ]
  },
  {
   "cell_type": "markdown",
   "id": "07d5ccbf",
   "metadata": {},
   "source": [
    "#### <font color='blue'> Exemplo 2 </font>"
   ]
  },
  {
   "cell_type": "markdown",
   "id": "8224750f",
   "metadata": {},
   "source": [
    "<font color='blue'> Calcule $\\int_{0}^{1} e^{x} dx$ por quadratura gaussiana para $n = 2$ e $n = 3$. Compare os valores obtidos com o valor exato."
   ]
  },
  {
   "cell_type": "markdown",
   "id": "13496e31",
   "metadata": {},
   "source": [
    "##### <font color='blue'> Solução </font>"
   ]
  },
  {
   "cell_type": "markdown",
   "id": "19d3e444",
   "metadata": {},
   "source": [
    "<font color='blue'> Inicialmente, devemos achar $F(t)$,<br><br>\n",
    " $$F(t) = f \\left(\\frac{b-a}{2}t + \\frac{b+a}{2} \\right)\\frac{b-a}{2} = e^{\\frac{1}{2}t + \\frac{1}{2}}\\frac{1}{2}.$$<br>\n",
    " Para $n = 2$, temos<br><br>\n",
    " $$\\int_{0}^{1} e^{x} dx \\approx \\int_{-1}^{1} F(t) dt = w_{1}F(t_{1}) + w_{2}F(t_{2}) =$$<br>\n",
    " $$= 1.F(-0.577350269189626) + 1.F(0.577350269189626) = 1.717896378007504.$$<br>\n",
    " Para $n = 3$, temos<br>\n",
    " $$ \\int_{0}^{1} e^{x} dx \\approx \\int_{-1}^{1} F(t) dt = w_{1}F(t_{1}) + w_{2}F(t_{2}) + w_{3}F(t_{3}) = $$<br>\n",
    " $$= 0.55555...F(0.774596669241483) +0.55555...F(-0.774596669241483) + 0.88888...F(0) = 1.718281004372523.$$<br>\n",
    " Comparando os casos $n = 2$ e $n = 3$ com o resultado obtido via Teorema Fundamental do Cálculo, temos<br><br>\n",
    " $E_{2} = |1.718281828459045 - 1.717896378007504| = 3.854504515410362e-04$;<br><br>\n",
    " $E_{3} = |1.718281828459045 - 1.718281004372523| =  8.240865221331717e-07$."
   ]
  },
  {
   "cell_type": "markdown",
   "id": "8a52c648",
   "metadata": {},
   "source": [
    "# <div style=\"margin-top: -20px;\">\n",
    "<hr style=\"border: 2px solid black;\">\n",
    "\n",
    "<font color='black'><span style=\"font-size: 22px;\"><strong>Implementações</strong></span></font>\n",
    "\n",
    "<hr style=\"border: 2px solid black;\">\n",
    "</div>"
   ]
  },
  {
   "cell_type": "markdown",
   "id": "acee557e",
   "metadata": {},
   "source": [
    "Apresentaremos a seguir um programa que nos possibilitará calcular a integral aproximada Quadratura Gaussiana ($n = 2, 3, \\ldots, 10$)."
   ]
  },
  {
   "cell_type": "markdown",
   "id": "750035c6",
   "metadata": {},
   "source": [
    "#### <font color='darkblue'> Código Python: Quadratura Gaussiana</font>"
   ]
  },
  {
   "cell_type": "code",
   "execution_count": 3,
   "id": "97765ebb",
   "metadata": {
    "ExecuteTime": {
     "end_time": "2024-02-25T21:28:54.946642Z",
     "start_time": "2024-02-25T21:28:54.930186Z"
    }
   },
   "outputs": [],
   "source": [
    "from numpy import*\n",
    "\n",
    "def quadratura(f,a,b,n):\n",
    "\n",
    "    F = lambda x: eval(f)\n",
    "    a = float(a)\n",
    "    b = float(b)\n",
    "    n = int(n)\n",
    "    g = lambda t: ((b-a)/2)*F(((b-a)/2)*t + (b+a)/2)\n",
    "\n",
    "\n",
    "    if n == 2:\n",
    "        s1 = 1*g(-0.577350269189626)\n",
    "        s2 = 1*g(0.577350269189626)\n",
    "        I_quad = s1+s2\n",
    "\n",
    "    if n == 3:\n",
    "        s1 = 0.555555555555556*g(0.774596669241483)\n",
    "        s2 = 0.555555555555556*g(-0.774596669241483)\n",
    "        s3 = 0.888888888888889*g(0.0000000000)\n",
    "        I_quad = s1 + s2 + s3\n",
    "\n",
    "    if n == 4:\n",
    "        s1 = 0.347854845137454*g( 0.861136311594053)\n",
    "        s2 = 0.347854845137454*g(-0.861136311594053)\n",
    "        s3 = 0.652145154862546*g(0.339981043584856)\n",
    "        s4 = 0.652145154862546*g(-0.339981043584856)\n",
    "        I_quad = s1 + s2 + s3 + s4\n",
    "\n",
    "    if n == 5:\n",
    "        s1 = 0.236926885056189*g(0.906179845938664)\n",
    "        s2 = 0.236926885056189*g(-0.906179845938664)\n",
    "        s3 = 0.478628670499366*g(0.538469310105683)\n",
    "        s4 = 0.478628670499366*g(-0.538469310105683)\n",
    "        s5 = 0.568888888888889*g(0.000000000000000)\n",
    "        I_quad = s1 + s2 + s3 + s4 + s5\n",
    "\n",
    "    if n == 6:\n",
    "        s1 = 0.171324492379170*g(0.932469514203152)\n",
    "        s2 = 0.171324492379170*g(-0.932469514203152)\n",
    "        s3 = 0.360761573048139*g(0.661209386466265)\n",
    "        s4 = 0.360761573048139*g(-0.661209386466265)\n",
    "        s5 = 0.467913934572691*g(0.238619186083197)\n",
    "        s6 = 0.467913934572691*g(-0.238619186083197)\n",
    "        I_quad = s1 + s2 + s3 + s4 + s5 + s6\n",
    "\n",
    "    if n == 7:\n",
    "        s1 = 0.129484966168870*g(0.949107912342759)\n",
    "        s2 = 0.129484966168870*g(-0.949107912342759)\n",
    "        s3 = 0.279705391489277*g(0.741531185599395)\n",
    "        s4 = 0.279705391489277*g(-0.741531185599395)\n",
    "        s5 = 0.381830050505119*g(0.405845151377397)\n",
    "        s6 = 0.381830050505119*g(-0.405845151377397)\n",
    "        s7 = 0.417959183673469*g(0.000000000000000)\n",
    "        I_quad = s1 + s2 + s3 + s4 + s5 + s6 + s7\n",
    "\n",
    "    if n == 8:\n",
    "        s1 = 0.101228536290376*g(0.960289856497536)\n",
    "        s2 = 0.101228536290376*g(-0.960289856497536)\n",
    "        s3 = 0.222381034453375*g(0.796666477413627)\n",
    "        s4 = 0.222381034453375*g(-0.796666477413627)\n",
    "        s5 = 0.313706645877887*g(0.525532409916329)\n",
    "        s6 = 0.313706645877887*g(-0.525532409916329)\n",
    "        s7 = 0.362683783378362*g(0.183434642495650)\n",
    "        s8 = 0.362683783378362*g(-0.183434642495650)\n",
    "        I_quad = s1 + s2 + s3 + s4 + s5 + s6 + s7 + s8\n",
    "\n",
    "    if n == 9:\n",
    "        s1 = 0.2606106964029354*g(0.6133714327005904)\n",
    "        s2 = 0.2606106964029354*g(-0.6133714327005904)\n",
    "        s3 = 0.3123470770400029*g(0.3242534234038089)\n",
    "        s4 = 0.3123470770400029*g(-0.3242534234038089)\n",
    "        s5 = 0.0812743883615744*g(0.9681602395076261)\n",
    "        s6 = 0.0812743883615744*g(-0.9681602395076261)\n",
    "        s7 = 0.1806481606948574*g(0.8360311073266358)\n",
    "        s8 = 0.1806481606948574*g(-0.8360311073266358)\n",
    "        s9 = 0.3302393550012598*g(0.0000000000000000)\n",
    "        I_quad = s1 + s2 + s3 + s4 + s5 + s6 + s7 + s8 + s9\n",
    "\n",
    "    if n == 10:\n",
    "        s1  = 0.0666713443086881 * g(0.9739065285171717)\n",
    "        s2  = 0.0666713443086881 * g(-0.9739065285171717)\n",
    "        s3  = 0.1494513491505806 * g(0.8650633666889845)\n",
    "        s4  = 0.1494513491505806 * g(-0.8650633666889845)\n",
    "        s5  = 0.2190863625159820 * g(0.6794095682990244)\n",
    "        s6  = 0.2190863625159820 * g(-0.6794095682990244)\n",
    "        s7  = 0.2692667193099963 * g(0.4333953941292472)\n",
    "        s8  = 0.2692667193099963 * g(-0.4333953941292472)\n",
    "        s9  = 0.2955242247147529 * g(0.1488743389816312)\n",
    "        s10 = 0.2955242247147529 * g(-0.1488743389816312)\n",
    "        I_quad = s1 + s2 + s3 + s4 + s5 + s6 + s7 + s8 + s9 + s10\n",
    "\n",
    "    print(f'A integral, via quadratura gaussiana, com n = {n} ({n} pontos), aplicada a f(x) = {f}, no '\n",
    "              f'intervalo [{round(a, 13)},{round(b, 13)}] é igul a {I_quad}.')"
   ]
  },
  {
   "cell_type": "code",
   "execution_count": 5,
   "id": "42b1405f",
   "metadata": {
    "ExecuteTime": {
     "end_time": "2024-02-25T21:29:02.431316Z",
     "start_time": "2024-02-25T21:29:02.424966Z"
    }
   },
   "outputs": [
    {
     "name": "stdout",
     "output_type": "stream",
     "text": [
      "A integral, via quadratura gaussiana, com n = 2 (2 pontos), aplicada a f(x) = exp(x), no intervalo [0.0,1.0] é igul a 1.717896378007504.\n"
     ]
    }
   ],
   "source": [
    "quadratura('exp(x)',0,1,2)"
   ]
  },
  {
   "cell_type": "code",
   "execution_count": 6,
   "id": "d5709f9b",
   "metadata": {
    "ExecuteTime": {
     "end_time": "2024-02-25T21:29:20.806739Z",
     "start_time": "2024-02-25T21:29:20.802349Z"
    }
   },
   "outputs": [
    {
     "name": "stdout",
     "output_type": "stream",
     "text": [
      "A integral, via quadratura gaussiana, com n = 3 (3 pontos), aplicada a f(x) = exp(x), no intervalo [0.0,1.0] é igul a 1.7182810043725227.\n"
     ]
    }
   ],
   "source": [
    "quadratura('exp(x)',0,1,3)"
   ]
  },
  {
   "cell_type": "markdown",
   "id": "c705b37c",
   "metadata": {},
   "source": [
    "# <div style=\"margin-top: -20px;\">\n",
    "<hr style=\"border: 2px solid black;\">\n",
    "\n",
    "<font color='black'><span style=\"font-size: 22px;\"><strong>Exercícios</strong></span></font>\n",
    "\n",
    "<hr style=\"border: 2px solid black;\">\n",
    "</div>"
   ]
  },
  {
   "cell_type": "markdown",
   "id": "b00ee13a",
   "metadata": {},
   "source": [
    "#### Execício 1"
   ]
  },
  {
   "cell_type": "markdown",
   "id": "71f50d3b",
   "metadata": {},
   "source": [
    "Aproxime as seguintes integrais utilizando quadratura gaussiana com $n=2$. Calcule o erro exato.\n",
    "\n",
    "a) $\\int_{0.5}^{1} x^{4} dx$;\n",
    "\n",
    "b) $\\int_{0}^{0.5} \\frac{2}{x-4} dx$;\n",
    "\n",
    "c) $\\int_{0}^{1} x^{2}e^{-x} dx$;\n",
    "\n",
    "d) $\\int_{0}^{\\pi/4} xsen(x) dx$."
   ]
  },
  {
   "cell_type": "markdown",
   "id": "12398b5a",
   "metadata": {},
   "source": [
    "#### Execício 2"
   ]
  },
  {
   "cell_type": "markdown",
   "id": "03a756e4",
   "metadata": {},
   "source": [
    "Repita todo o **Exercício 1** com $n = 3$."
   ]
  },
  {
   "cell_type": "markdown",
   "id": "e805c59e",
   "metadata": {},
   "source": [
    "#### Execício 3"
   ]
  },
  {
   "cell_type": "markdown",
   "id": "3e38fbab",
   "metadata": {},
   "source": [
    "Utilize a Quadratura Gaussiana nos itens abaixo com os valores de $n$ indicados.\n",
    "\n",
    "a) $\\int_{1}^{2} xln(x) dx$, $n=5$;\n",
    "\n",
    "b) $\\int_{-2}^{2}x^{3}e^{-x} dx$, $n=5$;\n",
    "\n",
    "c) $\\int_{0}^{2} \\frac{2}{x^{2}+4}dx$, $n=7$;\n",
    "\n",
    "d) $\\int_{1}^{3} \\frac{x}{x^2 + 4} dx$, $n=9$."
   ]
  },
  {
   "cell_type": "markdown",
   "id": "d6d39dd3",
   "metadata": {},
   "source": [
    "#### Execício 4"
   ]
  },
  {
   "cell_type": "markdown",
   "id": "0739f737",
   "metadata": {},
   "source": [
    "Escolha uma integral definida particular, cujo valor  exato é conhecido pelo Teorema Fundamental do Cálculo, e compare os métodos de solução da Regra dos Trapézios,  Regra de Simpson e Quadratura Gaussiana. Pesquise mais alguns outros métodos não citados neste material."
   ]
  },
  {
   "cell_type": "markdown",
   "id": "7ce395a2",
   "metadata": {},
   "source": [
    "# <div style=\"margin-top: -20px;\">\n",
    "<hr style=\"border: 2px solid black;\">\n",
    "\n",
    "<font color='black'><span style=\"font-size: 22px;\"><strong>Respostas dos Exercícios</strong></span></font>\n",
    "\n",
    "<hr style=\"border: 2px solid black;\">\n",
    "</div>"
   ]
  },
  {
   "cell_type": "markdown",
   "id": "9ae3b06c",
   "metadata": {},
   "source": [
    "#### Resposta do Exercício 1"
   ]
  },
  {
   "cell_type": "markdown",
   "id": "9142bdb0",
   "metadata": {},
   "source": [
    "A integral e o erro exato são dados por:\n",
    "\n",
    "a) $0.193576388888889$, $1.736111111109995e-04$\n",
    "\n",
    "b) $-0.267062314540059$, $-4.707089859556923e-07$\n",
    "\n",
    "c) $0.159410430966379$, $1.192363176409000e-03$\n",
    "\n",
    "d) $0.151989389931872$, $2.429760151199944e-04$"
   ]
  },
  {
   "cell_type": "markdown",
   "id": "46633d97",
   "metadata": {},
   "source": [
    "#### Resposta do Exercício 2"
   ]
  },
  {
   "cell_type": "markdown",
   "id": "2667ce62",
   "metadata": {},
   "source": [
    "A integral e o erro exato são dados por:\n",
    "\n",
    "a) $.19375$, $0$\n",
    "\n",
    "b) $-0.267062784709844$, $-5.392009616578264e-10$\n",
    "\n",
    "c) $0.160595386808919$, $7.407333869002830e-06$\n",
    "\n",
    "d) $0.151745923889952$, $4.900267999985441e-07$"
   ]
  },
  {
   "cell_type": "markdown",
   "id": "ea641464",
   "metadata": {},
   "source": [
    "#### Resposta do Exercício 3"
   ]
  },
  {
   "cell_type": "markdown",
   "id": "29fe070d",
   "metadata": {},
   "source": [
    "a) $1.718281828458392$\n",
    "\n",
    "b) $-19.91946935977890$\n",
    "\n",
    "c) $0.785398164063438$\n",
    "\n",
    "d) $0.477755722513747$"
   ]
  },
  {
   "cell_type": "markdown",
   "id": "57e784da",
   "metadata": {},
   "source": [
    "#### Resposta do Exercício 4"
   ]
  },
  {
   "cell_type": "markdown",
   "id": "73693737",
   "metadata": {},
   "source": [
    "Aberta. Em caso de dúvida, consulte o professor. Esta é a questão mais importante sobre integração. Se possível, pesquise ainda sobre uma cota para o erro quando se usa a Quadratura Gaussiana."
   ]
  },
  {
   "cell_type": "markdown",
   "id": "c8fb0c17",
   "metadata": {},
   "source": [
    "# <div style=\"margin-top: -20px;\">\n",
    "<hr style=\"border: 2px solid black;\">\n",
    "\n",
    "<font color='black'><span style=\"font-size: 22px;\"><strong>Vídeo Aulas</strong></span></font>\n",
    "\n",
    "<hr style=\"border: 2px solid black;\">\n",
    "</div>"
   ]
  },
  {
   "cell_type": "markdown",
   "id": "f54580f2",
   "metadata": {},
   "source": [
    "Clicando nos links a seguir você será redirecionado às aulas referentes a este capítulo:\n",
    "\n",
    "[Introdução ao Método da Quadratura Gaussiana - Mudança de Variável](https://youtu.be/Cwj_wZHzY7U)\n",
    "\n",
    "[Exemplo Envolvendo Mudança de Variável (GeoGebra)](https://youtu.be/v9jA2kg59ng)\n",
    "\n",
    "[Método da Quadratura Gaussiana](https://youtu.be/hCTqWmKJ58M)"
   ]
  }
 ],
 "metadata": {
  "kernelspec": {
   "display_name": "Python 3 (ipykernel)",
   "language": "python",
   "name": "python3"
  },
  "language_info": {
   "codemirror_mode": {
    "name": "ipython",
    "version": 3
   },
   "file_extension": ".py",
   "mimetype": "text/x-python",
   "name": "python",
   "nbconvert_exporter": "python",
   "pygments_lexer": "ipython3",
   "version": "3.11.5"
  },
  "varInspector": {
   "cols": {
    "lenName": 16,
    "lenType": 16,
    "lenVar": 40
   },
   "kernels_config": {
    "python": {
     "delete_cmd_postfix": "",
     "delete_cmd_prefix": "del ",
     "library": "var_list.py",
     "varRefreshCmd": "print(var_dic_list())"
    },
    "r": {
     "delete_cmd_postfix": ") ",
     "delete_cmd_prefix": "rm(",
     "library": "var_list.r",
     "varRefreshCmd": "cat(var_dic_list()) "
    }
   },
   "types_to_exclude": [
    "module",
    "function",
    "builtin_function_or_method",
    "instance",
    "_Feature"
   ],
   "window_display": false
  }
 },
 "nbformat": 4,
 "nbformat_minor": 5
}

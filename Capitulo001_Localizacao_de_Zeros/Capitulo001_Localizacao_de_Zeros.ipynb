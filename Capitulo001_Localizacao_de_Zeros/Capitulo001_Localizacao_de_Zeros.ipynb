{
 "cells": [
  {
   "cell_type": "markdown",
   "id": "d4ea28a8",
   "metadata": {
    "slideshow": {
     "slide_type": "slide"
    }
   },
   "source": [
    "<center> <img src=\"logo_ifba.jpg\" alt=\"jpg_python\" width=\"100\" height=\"200\"> </center>\n",
    "<br><br>\n",
    "<div align=\"center\"><span style=\"font-size: 26px;\"><strong>Cálculo Numérico <br></strong></span></div> <br>\n",
    "<center> <img src=\"python_gif.gif\" alt=\"gif_python\" width=\"80\"> </center>\n"
   ]
  },
  {
   "cell_type": "markdown",
   "id": "d76184a7",
   "metadata": {
    "slideshow": {
     "slide_type": "slide"
    }
   },
   "source": [
    "<div style=\"border: 2px solid black; padding: 10px; width: 95%; background-color: lightgray; display: flex; align-items: center;\">\n",
    "    <h1 style=\"color: red; text-align: center; margin: auto;\">\n",
    "        Capítulo 1: Localização de Zeros\n",
    "    </h1>\n",
    "</div>\n",
    "\n",
    "<font color='red'></font>\n",
    "<a href=\"\"></a>"
   ]
  },
  {
   "cell_type": "markdown",
   "id": "7142d16f",
   "metadata": {},
   "source": [
    "Um dos problemas mais importantes em matemática é o de se obter os zeros de uma função real. Em outras palavras, dada uma função $f(x)$, gostariamos de encontrar $p$ tal que $f(p) = 0$. Por exemplo, a função $f(x) = x^{2} - 5x + 6$ tem dois zeros reais, $p_{1} = 2$ e $p_{2} = 3$."
   ]
  },
  {
   "cell_type": "markdown",
   "id": "af07a3a3",
   "metadata": {},
   "source": [
    "# <div style=\"margin-top: -20px;\">\n",
    "<hr style=\"border: 2px solid black;\">\n",
    "\n",
    "<font color='black'><span style=\"font-size: 22px;\"><strong>1.1 Conceitos Básicos</strong></span></font>\n",
    "\n",
    "<hr style=\"border: 2px solid black;\">\n",
    "</div>"
   ]
  },
  {
   "cell_type": "markdown",
   "id": "006bea0e",
   "metadata": {},
   "source": [
    "#### <font color='red'> Definição 1 </font>"
   ]
  },
  {
   "cell_type": "markdown",
   "id": "bcf55946",
   "metadata": {
    "slideshow": {
     "slide_type": "slide"
    }
   },
   "source": [
    "<font color='red'> Dizemos que uma função $f: I \\rightarrow \\mathbb{R}$ é contínua em um ponto $c$, se para toda sequ\\^encia $(x_{n})$ em $I$, tivermos<br><br>\n",
    " $$lim_{n \\rightarrow \\infty} x_{n} = c \\Rightarrow  lim_{n \\rightarrow \\infty} f(x_{n}) = f(c).$$"
   ]
  },
  {
   "cell_type": "markdown",
   "id": "a2407d03",
   "metadata": {},
   "source": [
    "#### <font color='purple'> Revisando 1"
   ]
  },
  {
   "cell_type": "markdown",
   "id": "96398a86",
   "metadata": {},
   "source": [
    "<font color='purple'> A grosso modo, dizemos que $f(x)$ é conínua se, ao traçarmos seu gráfico com um lápis não o levantarmos do papel. A função $f: [-1,1] \\rightarrow [-1,1]$ dada por $f(x) = x^{2}$ é contínua . Por outro lado, a função $g: [-1,0) \\cup (0,1] \\rightarrow \\mathbb{R}$ dada por $g(x) = \\frac{1}{x}$ é descontínua uma vez que em $x = 0$ precisamos dar um salto para traçarmos o outro lado (veja a Figura \\ref{fig1-1}). Em $[8]$, pg. $129$ o Teorema $7$ apresenta as principais funções contínuas (polinômios, exponenciais, senos, cossenos etc)\n",
    "    <center> <img src=\"fig1-1.jpg\" alt=\"jpg_python\" width=\"600\" height=\"\"> </center>"
   ]
  },
  {
   "cell_type": "markdown",
   "id": "38d4e3bc",
   "metadata": {},
   "source": [
    "Considerando funções contínuas em um intervalo fechado $[a,b]$, o **Teorema 1**, dado seguir, estabelece condições que asseguram a existência de ao menos um zero pertencente ao intervalo aberto $(a,b)$.\n"
   ]
  },
  {
   "cell_type": "markdown",
   "id": "3c1b394f",
   "metadata": {},
   "source": [
    "#### <font color='red'> Teorema 1 </font>"
   ]
  },
  {
   "cell_type": "markdown",
   "id": "99fd20cc",
   "metadata": {},
   "source": [
    "<font color='red'> Se $f(x)$ é uma função contínua definida no intervalo $[a, b]$ tal que $f(a)f(b) < 0$, então $f(x)$ possui pelo menos um zero em $(a, b)$."
   ]
  },
  {
   "cell_type": "markdown",
   "id": "43b5ec63",
   "metadata": {},
   "source": [
    "##### <font color='red'> Demonstração"
   ]
  },
  {
   "cell_type": "markdown",
   "id": "2d146a92",
   "metadata": {},
   "source": [
    "<font color='red'> Aplicação direta do Teorema do Valor Intermediário ($[8]$, pg. $131$).<br><br>\n",
    " Note que:<br><br>\n",
    " i) $f(x)$ é contínua em $[a,b]$;<br><br>\n",
    " ii) Se $f(a)f(b)<0$, então $f(a) \\neq f(b)$;<br><br>\n",
    " iii) $N = 0$ está entre $f(a)$ e $f(b)$.<br><br>\n",
    " Temos, portanto, todas as hipóteses do Teorema do Valor Intermediário satisfeitas. Logo, existe $c$(no nosso caso $p$) em $(a,b)$ tal que $f(c) = 0$.<br><br>\n",
    " O enunciado do Teorema do Valor Intermediário é dado a seguir:"
   ]
  },
  {
   "cell_type": "markdown",
   "id": "0fd97453",
   "metadata": {
    "ExecuteTime": {
     "end_time": "2023-12-26T19:41:39.586204Z",
     "start_time": "2023-12-26T19:41:39.580901Z"
    }
   },
   "source": [
    "###### <font color='red'> Teorema do Valor Intermediário"
   ]
  },
  {
   "cell_type": "markdown",
   "id": "e596f7fb",
   "metadata": {},
   "source": [
    "<font color='red'> Suponha que $f$ seja contínua em um intervalo fechado $[a,b]$ e seja $N$ um número qualquer entre $f(a)$ e $f(b)$ em que $f(a) \\neq f(b)$. Então existe um número $c$ em $(a,b)$ tal que $f(c) = N$."
   ]
  },
  {
   "cell_type": "markdown",
   "id": "e80671a5",
   "metadata": {},
   "source": [
    "#### <font color='blue'> Exemplo 1 </font>"
   ]
  },
  {
   "cell_type": "markdown",
   "id": "5929e312",
   "metadata": {},
   "source": [
    "<font color='blue'> A função $f: \\mathbb{R} \\rightarrow \\mathbb{R}$ dada por $f(x) = x^{5} - 4x + 1$ é tal que $f(-1) = 4$ e $f(1) = -2$. Por se tratar de uma função polinomial esta é contínua (*Se lembra que falamos para dar uma revisada nas principais funções contínuas? Consulte o Teorema $7$ em $[8]$, pg. $129$*). Além disso, $f(-1)f(1) < 0$. Portanto, o **Teorema 1** assegura que existe ao menos um zero no intervalo $(-1,1)$. Para visualizarmos melhor a situação,  utilizamos o GeoGebra (use o software que preferir - atualmente usaremos também o Jupyter Notebook) para esboçar do gráfico de $f$ conforme expresso na figura a seguir:<br><br>\n",
    " <center> <img src=\"fig1-2.jpg\" alt=\"jpg_python\" width=\"350\" height=\"\"> </center><br>\n",
    " Note que há mais de um zero! *Leia Teoremas e Definições com muito cuidado*. Em caso de dúvida na utilização do GeoGebra consulte o professor."
   ]
  },
  {
   "cell_type": "markdown",
   "id": "bf553cdb",
   "metadata": {},
   "source": [
    "# <div style=\"margin-top: -20px;\">\n",
    "<hr style=\"border: 2px solid black;\">\n",
    "\n",
    "<font color='black'><span style=\"font-size: 22px;\"><strong>1.2 O Método de Localização de Zeros</strong></span></font>\n",
    "\n",
    "<hr style=\"border: 2px solid black;\">\n",
    "</div>"
   ]
  },
  {
   "cell_type": "markdown",
   "id": "0a231235",
   "metadata": {},
   "source": [
    "Veremos agora um método para isolar zeros de uma função em intervalos. Estamos interessados em obter intervalos *contendo apenas um único zero*."
   ]
  },
  {
   "cell_type": "markdown",
   "id": "f6b22147",
   "metadata": {},
   "source": [
    "Considere o gráfico da função $f(x)$ a seguir:<br><br>\n",
    "\n",
    "<center> <img src=\"fig1-3.jpg\" alt=\"jpg_python\" width=\"300\" height=\"\"> </center><br>\n",
    "\n",
    "Veja que $f(x)$ possui três zeros em $[a, b]$. Gostaríamos de encontrar uma partição deste intervalo, digamos $\\mathbb{P} = \\{p_{1} = a, p_{2},p_{3}, \\ldots, p_{n-1}, p_{n} = b \\}$, em que $p_{j} = p_{j-1} + \\gamma$ para $\\gamma$ escolhido arbitrariamente, de tal modo que cada zero de $f(x)$ seja isolado em um intervalo $(p_{j-1}, p_{j})$. Assim, temos expressa, na figura a seguir uma partição de $[a,b]$ que atende às nossas exigências.<br><br>\n",
    "\n",
    "<center> <img src=\"fig1-4.jpg\" alt=\"jpg_python\" width=\"300\" height=\"\"> </center><br>\n"
   ]
  },
  {
   "cell_type": "markdown",
   "id": "883dde8b",
   "metadata": {},
   "source": [
    "#### <font color='blue'> Exemplo 2 </font>"
   ]
  },
  {
   "cell_type": "markdown",
   "id": "3df26465",
   "metadata": {},
   "source": [
    "<font color='blue'> Considere a função $f(x) = 16x^{3} -22x - 5$ no intervalo $[-2, 2]$. Tomando uma parti\\c c\\~ao com $\\gamma = \\frac{1}{2}$, podemos construir a seguinte tabela:<br><br>\n",
    " $$\\begin{array}{cccccccccc}\n",
    "\\mathbb{P}    & -2    & -\\frac{3}{2}   & -1    & -\\frac{1}{2}   & 0 & \\frac{1}{2} &  1 & \\frac{3}{2} & 2\\\\\n",
    "f(\\mathbb{P}) & \\, -  & \\, -           &  \\,+  & \\, +           & - & -           & -  & +           & +\\\\\n",
    "\\end{array}$$<br>\n",
    " Logo, $f(x)$ possui, pelo **Teorema 1**, zeros nos subintervalos $\\left[-\\frac{3}{2}, -1\\right]$, $\\left[-\\frac{1}{2}, 0\\right]$ e $\\left[1, \\frac{3}{2}\\right]$. O gráfico apresentado a seguir nos ajudará a visualizar melhor a situação.<br><br>\n",
    " <center> <img src=\"fig1-5.jpg\" alt=\"jpg_python\" width=\"200\" height=\"\"> </center><br>"
   ]
  },
  {
   "cell_type": "markdown",
   "id": "a7977015",
   "metadata": {},
   "source": [
    "#### <font color='darkgreen'> Palavras dos Mestres 1</font>"
   ]
  },
  {
   "cell_type": "markdown",
   "id": "67e94a3a",
   "metadata": {},
   "source": [
    "<font color='darkgreen'> Note que, no **Exemplo 2** obtivemos três intervalos contendo zeros de $f$. Como saber se isolamos todos os zeros? No exemplo em questão o sabemos por conta de conhecermos uma certa proposição sobre os polinômios: *Todo polinômio não constante de grau $n$ possui exatamente $n$ raízes complexas (ou reais), não necessariamente todas distintas* (o veremos mais à frente). Como $f$ é um polinômio de grau $3$, temos que este deve ter exatamente $3$ raízes reais ou complexas. Sendo assim, <u>todos</u> os zeros de $f$ foram isolados. Contudo, em linhas gerais, nem sempre é possível saber se isolamos ou não todos os zeros de uma função qualquer. A simples mudança de sinal de uma função contínua $f$ nos extremos de um intervalo não garante que haja apenas um único zero neste intervalo. Experimente outros valores de $\\gamma$ maiores que $\\frac{1}{2}$ no **Exemplo 2**. Além disso, se considerarmos, por exemplo, o polinômio $g(x) = x^{3}-1$ perceberemos que este mudará de sinal apenas uma vez em $\\mathbb{R}$ mesmo tendo três raízes, uma real, $x = 1$ e duas complexas, $-\\frac{1}{2} - \\frac{i\\sqrt(3)}{2}$ e $-\\frac{1}{2} + \\frac{i\\sqrt(3)}{2}$."
   ]
  },
  {
   "cell_type": "markdown",
   "id": "954dee72",
   "metadata": {},
   "source": [
    "# <div style=\"margin-top: -20px;\">\n",
    "<hr style=\"border: 2px solid black;\">\n",
    "\n",
    "<font color='black'><span style=\"font-size: 22px;\"><strong>1.3 Implementações</strong></span></font>\n",
    "\n",
    "<hr style=\"border: 2px solid black;\">\n",
    "</div>"
   ]
  },
  {
   "cell_type": "markdown",
   "id": "791babb2",
   "metadata": {},
   "source": [
    "Apresentaremos a seguir  o **Algoritmo 1**, referente ao Método de Localização de Zeros, e sua posterior implementação em Octave."
   ]
  },
  {
   "cell_type": "markdown",
   "id": "75bb61b3",
   "metadata": {},
   "source": [
    "#### <font color='darkorange'> Algoritmo 1: Método de Localização de Zeros</font>"
   ]
  },
  {
   "cell_type": "markdown",
   "id": "89217133",
   "metadata": {},
   "source": [
    "<font color='darkorange'> Para determinar intervalos contendo zeros de uma função contínua $f$.<br><br>\n",
    " **ENTRADAS:** extremidades $a$, $b$; número de subintervalos da partição $n$.<br><br>\n",
    " **SAÍDA:** possível saída de intervalos contendo zeros ou até mesmo zeros de $f$<br><br>\n",
    "    **Passo 1:** Faça $\\gamma = \\frac{b-a}{n}$;<br><br>\n",
    "    **Passo 2:** Enquanto $a \\leq b$, execute os Passos 3 a 5;<br><br>\n",
    "    $\\ \\ \\ $ - **Passo 3:** Se $fa=0$, então<br><br>\n",
    "    $\\ \\ \\ \\ \\ \\ \\ \\ \\ $*SAÍDA* $a$; (\"$a$ é um zero de $f$.\")<br><br>\n",
    "    $\\ \\ \\ $ - **Passo 4:** Faça $fc = f(a+\\gamma)$;<br><br>\n",
    "    $\\ \\ \\ \\ \\ \\ \\ \\ \\ $ Faça $a = a+\\gamma$;<br><br>\n",
    "    $\\ \\ \\ $ - **Passo 5:** Se $fa \\cdot fc < 0$, então<br><br>\n",
    "    $\\ \\ \\ \\ \\ \\ \\ \\ \\ $ *SAÍDA* $a$; (\"Existe um zero entre $a$ e $a+\\gamma$.\")"
   ]
  },
  {
   "cell_type": "markdown",
   "id": "f33c2e7e",
   "metadata": {},
   "source": [
    "#### <font color='darkblue'>Código Python 1: Método de Localização de Zeros</font>"
   ]
  },
  {
   "cell_type": "markdown",
   "id": "2da66aa2",
   "metadata": {},
   "source": [
    "O programa a seguir conta com alguns incrementos em relação ao **Algoritmo 1** para contemplar o caso em que a aplicação do método de localização de zeros não obteve subintervalo algum contendo zeros de $f$."
   ]
  },
  {
   "cell_type": "code",
   "execution_count": 1,
   "id": "2664996e",
   "metadata": {
    "ExecuteTime": {
     "end_time": "2023-12-26T21:46:33.499865Z",
     "start_time": "2023-12-26T21:46:33.371219Z"
    }
   },
   "outputs": [],
   "source": [
    "from numpy import*\n",
    "\n",
    "def mlz(f, a, b, n):\n",
    "\n",
    "        a = float(a)\n",
    "        b = float(b)\n",
    "        n = int(n)\n",
    "\n",
    "        a0 = a\n",
    "        b0 = b\n",
    "        gamma = (b - a) / n\n",
    "        \n",
    "        F = lambda x: eval(f)\n",
    "\n",
    "\n",
    "        i = 0\n",
    "        while a <= b:\n",
    "            Fa = F(a)\n",
    "            if Fa == 0:\n",
    "                i = i + 1\n",
    "                print(f'-Temos que {a} é um zero de f.')\n",
    "            a = a + gamma\n",
    "            Fc = F(a)\n",
    "            if Fa * Fc < 0:\n",
    "                i = i + 1\n",
    "                print(f'-Existe ao menos um zero entre {a - gamma} e {a}.')\n",
    "        if i != 0:\n",
    "            print(' ')\n",
    "        if i == 0:\n",
    "            print(f'Nenhum zero foi localizado. \\n')"
   ]
  },
  {
   "cell_type": "code",
   "execution_count": 2,
   "id": "41f8668c",
   "metadata": {
    "ExecuteTime": {
     "end_time": "2023-12-26T21:46:33.507282Z",
     "start_time": "2023-12-26T21:46:33.501863Z"
    }
   },
   "outputs": [
    {
     "name": "stdout",
     "output_type": "stream",
     "text": [
      "-Existe ao menos um zero entre -1.5 e -1.0.\n",
      "-Existe ao menos um zero entre -0.5 e 0.0.\n",
      "-Existe ao menos um zero entre 1.0 e 1.5.\n",
      " \n"
     ]
    }
   ],
   "source": [
    "# Exemplo\n",
    "mlz('16*x**3-22*x-5', -2, 2, 8)"
   ]
  },
  {
   "cell_type": "markdown",
   "id": "1b56096b",
   "metadata": {},
   "source": [
    "#### <font color='darkgreen'> Palavras dos Mestres 2</font>"
   ]
  },
  {
   "cell_type": "markdown",
   "id": "7f887033",
   "metadata": {},
   "source": [
    "<font color='darkgreen'> Softwares gráficos podem nos fornecer uma estimativa visual dos zeros reais de uma função. Contudo, nos será exigido o conhecimento do zero com certa precisão (número de algarismo significativos). Neste caso, ao olharmos para o gráfico de uma função teremos uma ideia do zero, mas dificilmente esta será uma boa aproximação de tal. Se uma função tem um zero dado por $x = 22.34122112$ e, visualmente, nossos olhos apontam para $x\\approx 22.3$ ou algo \"próximo\" já é um bom começo, mas ainda muito longe do valor exato. Em muitas situações precisaremos refinar o resultado para obtermos uma resposta mais precisa. Um exemplo que costumo sempre lembrar ao tratarmos de aproximações grosseiras é o seguinte: imagine que um valor \"aproximado a olho nú\" será usado em um cálculo posterior: Por exemplo, ao calcularmos  $2^{22}$, $2^{22.3}$ e $2^{22.34}$ como uma tentativa de obtermos $2^{22.34122112}$ (suponha este sendo o valor exato) temos:<br><br>\n",
    " (i) $2^{22} = 4194304$<br><br>\n",
    " Erro de entrada $(1-\\frac{22}{22.34122112}) \\times 100\\% = 1.527316336771478\\%$<br><br>\n",
    " Erro de saída $\\left(1 - \\frac{4194304}{5313463.442179964}\\right)\\times100\\% = 21.06271087320786\\%$<br><br>\n",
    " (ii) $2^{22.3} = 5163793.937470239$<br><br>\n",
    " Erro de entrada $(1-\\frac{22.3}{22.34122112}) \\times 100\\% = 0.184507014091084\\%$<br><br>\n",
    " Erro de saída $\\left(1 - \\frac{5163793.937470239}{5313463.442179964}\\right)\\times100\\% = 2.816797486957401\\%$<br><br>\n",
    " (iii) $2^{22.34} = 5308967.945115920$<br><br>\n",
    " Erro de entrada $(1-\\frac{22.34}{22.34122112}) \\times 100\\% = 5.465771067036940e-03\\%$<br><br>\n",
    " Erro de saída $\\left(1 - \\frac{5308967.945115920}{5313463.442179964}\\right)\\times100\\% = 8.460577762438026e-02\\%$<br><br>\n",
    " (iv) $2^{22.3412112} = 5313463.442179964$<br><br>\n",
    " Note, em (i), que um erro de aproximadamente $1.52\\%$ na entrada resultou em um erro de aproximadamente $21.06\\%$ na saída, isto é, o erro aumentou praticamente $10$ vezes; Note, em (ii), que um erro de aproximadamente $0.18\\%$ na entrada resultou em um erro de aproximadamente $2.82\\%$ na saída, isto é, o erro aumentou praticamente $10$ vezes. As coisas, aparentemente, só começam melhorar a partir do momento em que consideramos duas casas ou mais a partir do ponto.<br><br>\n",
    " Em cálculo numérico, tão importante quanto o processo é o cuidado com a precisão da resposta. Portanto, evite arrendondar cálculos em passos intermediários. Arredonde somente as respostas finais tendo em vista a precisão dos instrumentos de  medida utilizados.<br><br>\n",
    " Utilizamos acima a fórmula do erro $(E_{R})$ relativo:<br><br>\n",
    " $$E_{R} = \\left(1 - \\frac{valor \\, estimado}{valor \\, exato}\\right)\\times 100\\%$$"
   ]
  },
  {
   "cell_type": "markdown",
   "id": "b55fdad6",
   "metadata": {},
   "source": [
    "#### Observação: Esboços Gráficos"
   ]
  },
  {
   "cell_type": "markdown",
   "id": "640f674f",
   "metadata": {},
   "source": [
    "Este material inclui predominantemente gráficos elaborados no GeoGebra, criados em uma versão anterior, mas que foram habilmente adaptados para a versão atual. Entretanto, considerando a natureza interativa dos ambientes Jupyter Notebook e Colab, em várias situações optaremos por utilizar gráficos gerados diretamente nesses ambientes. Essa abordagem visa enriquecer nosso estudo, tornando-o mais dinâmico e interativo, permitindo uma compreensão mais aprofundada e envolvente dos conceitos apresentados. A célula a seguir conta com um exemplo de função para o esboço gráfico."
   ]
  },
  {
   "cell_type": "code",
   "execution_count": 3,
   "id": "35a8ce8b",
   "metadata": {
    "ExecuteTime": {
     "end_time": "2023-12-26T21:46:33.956353Z",
     "start_time": "2023-12-26T21:46:33.508282Z"
    }
   },
   "outputs": [],
   "source": [
    "from numpy import arange, vectorize\n",
    "import matplotlib.pyplot as plt\n",
    "\n",
    "# Função genérica de plotagem\n",
    "def plotar(F,a,b):\n",
    "    \n",
    "    # Função\n",
    "    def f(x):\n",
    "        return eval(F)\n",
    "\n",
    "    # Vetorizando a função f\n",
    "    f_vectorized = vectorize(f)\n",
    "\n",
    "    # Domínio\n",
    "    x = arange(a, b, 0.01)\n",
    "\n",
    "    # Imagem\n",
    "    y = f_vectorized(x)  \n",
    "\n",
    "    # Adicionando linhas de referência (eixos x e y)\n",
    "    plt.axhline(0, color='black', linewidth=1)\n",
    "    plt.axvline(0, color='black', linewidth=1)\n",
    "\n",
    "    # Grade\n",
    "    plt.grid()\n",
    "\n",
    "    # Plotando o gráfico de f\n",
    "    plt.plot(x,y,'k-')\n",
    "    plt.show()"
   ]
  },
  {
   "cell_type": "markdown",
   "id": "ec7eceb4",
   "metadata": {},
   "source": [
    "A célula acima basta ser executa somente uma vez (a cada inicialização deste arquivo) para que a função plotar funcione."
   ]
  },
  {
   "cell_type": "code",
   "execution_count": 4,
   "id": "47870c78",
   "metadata": {
    "ExecuteTime": {
     "end_time": "2023-12-26T21:46:34.182182Z",
     "start_time": "2023-12-26T21:46:33.956353Z"
    }
   },
   "outputs": [
    {
     "data": {
      "image/png": "[encoded data removed]",
      "text/plain": [
       "<Figure size 640x480 with 1 Axes>"
      ]
     },
     "metadata": {},
     "output_type": "display_data"
    }
   ],
   "source": [
    "# Exemplo (Gráfico da função dada no Exemplo 2)\n",
    "plotar('16*x**3 - 22*x - 5', -2, 2)"
   ]
  },
  {
   "cell_type": "code",
   "execution_count": 5,
   "id": "5821bff0",
   "metadata": {
    "ExecuteTime": {
     "end_time": "2023-12-26T21:46:34.369514Z",
     "start_time": "2023-12-26T21:46:34.184182Z"
    }
   },
   "outputs": [
    {
     "data": {
      "image/png": "[encoded data removed]",
      "text/plain": [
       "<Figure size 640x480 with 1 Axes>"
      ]
     },
     "metadata": {},
     "output_type": "display_data"
    }
   ],
   "source": [
    "# Exemplo\n",
    "plotar('x**2 - 5*x + 6', 0, 4)"
   ]
  },
  {
   "cell_type": "markdown",
   "id": "1ef8fe8e",
   "metadata": {},
   "source": [
    "# <div style=\"margin-top: -20px;\">\n",
    "<hr style=\"border: 2px solid black;\">\n",
    "\n",
    "<font color='black'><span style=\"font-size: 22px;\"><strong>Exercícios</strong></span></font>\n",
    "\n",
    "<hr style=\"border: 2px solid black;\">\n",
    "</div>"
   ]
  },
  {
   "cell_type": "markdown",
   "id": "7e4ab253",
   "metadata": {},
   "source": [
    "#### Exercício 1"
   ]
  },
  {
   "cell_type": "markdown",
   "id": "70dd49fb",
   "metadata": {},
   "source": [
    "Considere as funções definidas nos intervalos indicados. Determine, se existir, subintervalos contendo algum zero:\n",
    "\n",
    "a) $f(x) = x^{3} - 7x + 6$, $[-4, 3]$, $\\gamma = 0.7$\n",
    "\n",
    "b) $f(x) = x^{5} + 8x^{2} - 8$, $[-1, 1]$, $\\gamma = 0.4$\n",
    "\n",
    "c) $f(x) = e^{x} - 3x^{2} + 2$, $[-2, 2]$, $\\gamma = 0.5$\n",
    "\n",
    "d) $f(x) = x^{4} + 1$, $[-2, 2]$, $\\gamma = 0.5$"
   ]
  },
  {
   "cell_type": "markdown",
   "id": "0a105500",
   "metadata": {},
   "source": [
    "#### Exercício 2"
   ]
  },
  {
   "cell_type": "markdown",
   "id": "499fb69f",
   "metadata": {},
   "source": [
    "Considerando a função $f(x) = 1000x^{3} - 600x^{2} + 110x - 6$, no intervalo, $[-0.25, 0.75]$ encontre,<br><br>\n",
    "\n",
    "a) usando $\\gamma = 0.5$, subintervalo(s) contendo algum zero.<br><br>\n",
    "\n",
    "b) usando $\\gamma = 0.2$, subintervalo(s) contendo algum zero.<br><br>\n",
    "\n",
    "c) usando $\\gamma = 0.1$, subintervalo(s) contendo algum zero.<br><br>\n",
    "\n",
    "d) o que você pode notar à medida que se diminuia $\\gamma$, isto é a medida que cada partição do intervalo $[-0.25, 0.75]$ era refinada?"
   ]
  },
  {
   "cell_type": "markdown",
   "id": "f4bdb07e",
   "metadata": {},
   "source": [
    "#### Exercício 3"
   ]
  },
  {
   "cell_type": "markdown",
   "id": "d6eccd75",
   "metadata": {},
   "source": [
    "Note que a função $f(x) = \\frac{1}{x}$ é tal que $f(-1) \\cdot f(1) < 0$. Podemos afirmar que $f(x)$ possui ao menos um zero no intervalo $[-1, 1]$?"
   ]
  },
  {
   "cell_type": "markdown",
   "id": "d9c6b8e5",
   "metadata": {},
   "source": [
    "#### Exercício 4"
   ]
  },
  {
   "cell_type": "markdown",
   "id": "fa85ccd5",
   "metadata": {},
   "source": [
    "É possível que uma função contínua $f(x)$, definida em um intervalo $[a, b]$, tenha algum zero em $[a, b]$, no caso em que $f(a) \\cdot f(b) > 0 $?"
   ]
  },
  {
   "cell_type": "markdown",
   "id": "6304fe43",
   "metadata": {},
   "source": [
    "# <div style=\"margin-top: -20px;\">\n",
    "<hr style=\"border: 2px solid black;\">\n",
    "\n",
    "<font color='black'><span style=\"font-size: 22px;\"><strong>Respostas dos Exercícios</strong></span></font>\n",
    "\n",
    "<hr style=\"border: 2px solid black;\">\n",
    "</div>"
   ]
  },
  {
   "cell_type": "markdown",
   "id": "8cb15daa",
   "metadata": {},
   "source": [
    "#### Resposta do Exercício 1"
   ]
  },
  {
   "cell_type": "markdown",
   "id": "a050da2e",
   "metadata": {},
   "source": [
    "a) $[-3.3, 2.6]$, $[0.9, 1.6]$, $[1.6, 2.3]$, b) $[0.6, 1]$, c) $[-1, -0.5]$, $[1, 1.5]$, d) não há zeros nesta partição."
   ]
  },
  {
   "cell_type": "markdown",
   "id": "98e644af",
   "metadata": {},
   "source": [
    "##### Abordagem Jupyter Notebook / Colab"
   ]
  },
  {
   "cell_type": "markdown",
   "id": "b8f0ea42",
   "metadata": {},
   "source": [
    "Confira as respostas com o código dado anteriormente. *Execute a célula de chamada do código antes de executar as células a seguir, a que contém a função 'mlz'. Caso queira ver o esboço gráfico das funções execute também a célula da função 'plotar'*:"
   ]
  },
  {
   "cell_type": "code",
   "execution_count": 6,
   "id": "7f36d610",
   "metadata": {
    "ExecuteTime": {
     "end_time": "2023-12-26T21:46:34.375623Z",
     "start_time": "2023-12-26T21:46:34.371511Z"
    }
   },
   "outputs": [
    {
     "name": "stdout",
     "output_type": "stream",
     "text": [
      "-Existe ao menos um zero entre -3.3 e -2.5999999999999996.\n",
      "-Existe ao menos um zero entre 0.9000000000000001 e 1.6.\n",
      "-Existe ao menos um zero entre 1.5999999999999999 e 2.3.\n",
      " \n"
     ]
    }
   ],
   "source": [
    "# a)\n",
    "mlz('x**3-7*x+6', -4, 3, 10)"
   ]
  },
  {
   "cell_type": "code",
   "execution_count": 7,
   "id": "69886efd",
   "metadata": {
    "ExecuteTime": {
     "end_time": "2023-12-26T21:46:34.589942Z",
     "start_time": "2023-12-26T21:46:34.377754Z"
    }
   },
   "outputs": [
    {
     "data": {
      "image/png": "[encoded data removed]",
      "text/plain": [
       "<Figure size 640x480 with 1 Axes>"
      ]
     },
     "metadata": {},
     "output_type": "display_data"
    }
   ],
   "source": [
    "# Esboço gráfico do item a)\n",
    "plotar('x**3-7*x+6',-4,3)"
   ]
  },
  {
   "cell_type": "code",
   "execution_count": 8,
   "id": "998d5aa8",
   "metadata": {
    "ExecuteTime": {
     "end_time": "2023-12-26T21:46:34.595943Z",
     "start_time": "2023-12-26T21:46:34.591685Z"
    }
   },
   "outputs": [
    {
     "name": "stdout",
     "output_type": "stream",
     "text": [
      "-Existe ao menos um zero entre 0.6 e 1.0.\n",
      " \n"
     ]
    }
   ],
   "source": [
    "# b)\n",
    "mlz('x**5 + 8*x**2 - 8', -1, 1, 5)"
   ]
  },
  {
   "cell_type": "code",
   "execution_count": 9,
   "id": "038cb841",
   "metadata": {
    "ExecuteTime": {
     "end_time": "2023-12-26T21:46:34.757705Z",
     "start_time": "2023-12-26T21:46:34.597941Z"
    }
   },
   "outputs": [
    {
     "data": {
      "image/png": "[encoded data removed]",
      "text/plain": [
       "<Figure size 640x480 with 1 Axes>"
      ]
     },
     "metadata": {},
     "output_type": "display_data"
    }
   ],
   "source": [
    "# Esboço gráfico do item b)\n",
    "plotar('x**5 + 8*x**2 - 8', -1, 1)"
   ]
  },
  {
   "cell_type": "code",
   "execution_count": 10,
   "id": "02099b48",
   "metadata": {
    "ExecuteTime": {
     "end_time": "2023-12-26T21:46:34.764896Z",
     "start_time": "2023-12-26T21:46:34.760491Z"
    }
   },
   "outputs": [
    {
     "name": "stdout",
     "output_type": "stream",
     "text": [
      "-Existe ao menos um zero entre -1.0 e -0.5.\n",
      "-Existe ao menos um zero entre 1.0 e 1.5.\n",
      " \n"
     ]
    }
   ],
   "source": [
    "# c)\n",
    "mlz('exp(x) - 3*x**2 + 2', -2, 2, 8)"
   ]
  },
  {
   "cell_type": "code",
   "execution_count": 11,
   "id": "f0b143ff",
   "metadata": {
    "ExecuteTime": {
     "end_time": "2023-12-26T21:46:34.986444Z",
     "start_time": "2023-12-26T21:46:34.766894Z"
    }
   },
   "outputs": [
    {
     "data": {
      "image/png": "[encoded data removed]",
      "text/plain": [
       "<Figure size 640x480 with 1 Axes>"
      ]
     },
     "metadata": {},
     "output_type": "display_data"
    }
   ],
   "source": [
    "# Esboço gráfico do item c)\n",
    "plotar('exp(x) - 3*x**2 + 2', -2, 2)"
   ]
  },
  {
   "cell_type": "code",
   "execution_count": 12,
   "id": "4b587758",
   "metadata": {
    "ExecuteTime": {
     "end_time": "2023-12-26T21:46:34.993106Z",
     "start_time": "2023-12-26T21:46:34.987445Z"
    }
   },
   "outputs": [
    {
     "name": "stdout",
     "output_type": "stream",
     "text": [
      "Nenhum zero foi localizado. \n",
      "\n"
     ]
    }
   ],
   "source": [
    "# d)\n",
    "mlz('x**4 + 1', -5, 5, 8)"
   ]
  },
  {
   "cell_type": "code",
   "execution_count": 13,
   "id": "ede8b63a",
   "metadata": {
    "ExecuteTime": {
     "end_time": "2023-12-26T21:46:35.182203Z",
     "start_time": "2023-12-26T21:46:34.995167Z"
    }
   },
   "outputs": [
    {
     "data": {
      "image/png": "[encoded data removed]",
      "text/plain": [
       "<Figure size 640x480 with 1 Axes>"
      ]
     },
     "metadata": {},
     "output_type": "display_data"
    }
   ],
   "source": [
    "# Esboço gráfico do item d)\n",
    "plotar('x**4 + 1', -2, 2)"
   ]
  },
  {
   "cell_type": "markdown",
   "id": "6be9bda0",
   "metadata": {},
   "source": [
    "#### Resposta do Exercício 2"
   ]
  },
  {
   "cell_type": "markdown",
   "id": "b76c0ddd",
   "metadata": {},
   "source": [
    "a) $[0.25, 0.75]$, b) $[-0.05, 0.15]$, c) $[0.25, 0.35]$, $[-0.05, 0.05]$, d) Se diminuirmos $\\gamma$ mais ainda, pode ser que encontremos mais um zero de $f(x)$ em algum subintervalo do intervalo $[-0.25, 0.75]$. O fato de refinarmos uma partição não é garantia de que obteremos um subintervalo contendo ao menos um zero (real), ou aumentemos o número de subintervalos nos quais tenhamos ao menos zero (real). Isso pode ser visto se tentarmos refinar a partição dada no item d) do exercício anterior, uma vez que esta função $f(x) = x^{4} + 1$ não possui zero real algum (verifique!). Um outro caso em que o refinamento de nada adianta, é aquele em que estamos procurando zeros de uma função num dado intervalo onde esta não possui zeros, como por exemplo, se tentarmos refinar uma partição qualquer do intervalo $[-1, 1]$ considerando $f(x) = x^{2} - 5x + 6$. Não obteremos subintervalo algum contendo zeros, umas vez que os zeros de $f(x)$ são $2$ e $3$ (função polinomial de grau 2). Use os códigos anteriores assim como feito na solução do **Exercício 1**."
   ]
  },
  {
   "cell_type": "markdown",
   "id": "3fe47de2",
   "metadata": {},
   "source": [
    "#### Resposta do Exercício 3"
   ]
  },
  {
   "cell_type": "markdown",
   "id": "f534bf71",
   "metadata": {},
   "source": [
    "Não, muito embora somos tentados a usar o **Teorema 1**, o que não pode ser feito, uma vez que a função $f(x) = \\frac{1}{x}$ não é contínua em $x = 0 \\in [-1, 1]$. Observe o gráfico de $f$ a seguir (usando a função plotar_modificada):"
   ]
  },
  {
   "cell_type": "code",
   "execution_count": 19,
   "id": "daa2f18a",
   "metadata": {
    "ExecuteTime": {
     "end_time": "2023-12-26T21:52:56.149695Z",
     "start_time": "2023-12-26T21:52:56.143540Z"
    }
   },
   "outputs": [],
   "source": [
    "from numpy import arange, vectorize\n",
    "import matplotlib.pyplot as plt\n",
    "\n",
    "# Função genérica de plotagem\n",
    "def plotar_modificada(F,a,b):\n",
    "    \n",
    "    # Função\n",
    "    def f(x):\n",
    "        return eval(F)\n",
    "\n",
    "    # Vetorizando a função f\n",
    "    f_vectorized = vectorize(f)\n",
    "\n",
    "    # Domínio\n",
    "    x = arange(a, b, 0.001) # Modificação 1\n",
    "    # Imagem\n",
    "    y = f_vectorized(x)  \n",
    "\n",
    "    # Adicionando linhas de referência (eixos x e y)\n",
    "    plt.axhline(0, color='black', linewidth=1)\n",
    "    plt.axvline(0, color='black', linewidth=1)\n",
    "\n",
    "    # Grade\n",
    "    plt.grid()\n",
    "\n",
    "    # Definindo limites para o eixo y\n",
    "    plt.ylim(-100, 100) # Modificação 2\n",
    "\n",
    "    # Plotando o gráfico de f\n",
    "    plt.plot(x,y,'k-')\n",
    "    plt.show()"
   ]
  },
  {
   "cell_type": "code",
   "execution_count": 18,
   "id": "8e5abe01",
   "metadata": {
    "ExecuteTime": {
     "end_time": "2023-12-26T21:48:13.823485Z",
     "start_time": "2023-12-26T21:48:13.663431Z"
    }
   },
   "outputs": [
    {
     "data": {
      "image/png": "[encoded data removed]",
      "text/plain": [
       "<Figure size 640x480 with 1 Axes>"
      ]
     },
     "metadata": {},
     "output_type": "display_data"
    }
   ],
   "source": [
    "plotar_modificada('1/x',-1,1)"
   ]
  },
  {
   "cell_type": "markdown",
   "id": "74227bf7",
   "metadata": {},
   "source": [
    "#### Resposta do Exercício 4"
   ]
  },
  {
   "cell_type": "markdown",
   "id": "31a06863",
   "metadata": {},
   "source": [
    "Sim, basta considerar a função $f(x) = x^{2} - 5x + 6$ no intervalo $[0, 4]$. Ela é tal que $f(0).f(4) = 6 \\cdot 2 = 12 > 0$. Contudo esta função tem dois zeros reais, $p_{1} = 2$ e $p_{2} = 3$, ambos pertencentes ao intervalo $[0,4]$."
   ]
  },
  {
   "cell_type": "markdown",
   "id": "bb844f24",
   "metadata": {},
   "source": [
    "# <div style=\"margin-top: -20px;\">\n",
    "<hr style=\"border: 2px solid black;\">\n",
    "\n",
    "<font color='black'><span style=\"font-size: 22px;\"><strong>Vídeo Aulas</strong></span></font>\n",
    "\n",
    "<hr style=\"border: 2px solid black;\">\n",
    "</div>"
   ]
  },
  {
   "cell_type": "markdown",
   "id": "4062851d",
   "metadata": {},
   "source": [
    "Clicando nos links a seguir você será redirecionado às aulas referentes a este capítulo:\n",
    "\n",
    "[Zeros de Funções](https://youtu.be/Li8G3x50fPs)\n",
    "\n",
    "[Condições Para a Existência de Zeros de Funções](https://youtu.be/FCPP8YsW5pE)\n",
    "\n",
    "[Método de Localização de Zeros de Funções](https://youtu.be/vEsVsflPAsI)\n",
    "\n",
    "[Implementação do Método de Localização de Zeros - Parte 1](https://youtu.be/5lHJq_JHRoY)\n",
    "\n",
    "[Implementação do Método de Localização de Zeros - Parte 2](https://youtu.be/zws0Dayn1OM)"
   ]
  }
 ],
 "metadata": {
  "kernelspec": {
   "display_name": "Python 3 (ipykernel)",
   "language": "python",
   "name": "python3"
  },
  "language_info": {
   "codemirror_mode": {
    "name": "ipython",
    "version": 3
   },
   "file_extension": ".py",
   "mimetype": "text/x-python",
   "name": "python",
   "nbconvert_exporter": "python",
   "pygments_lexer": "ipython3",
   "version": "3.11.5"
  },
  "varInspector": {
   "cols": {
    "lenName": 16,
    "lenType": 16,
    "lenVar": 40
   },
   "kernels_config": {
    "python": {
     "delete_cmd_postfix": "",
     "delete_cmd_prefix": "del ",
     "library": "var_list.py",
     "varRefreshCmd": "print(var_dic_list())"
    },
    "r": {
     "delete_cmd_postfix": ") ",
     "delete_cmd_prefix": "rm(",
     "library": "var_list.r",
     "varRefreshCmd": "cat(var_dic_list()) "
    }
   },
   "types_to_exclude": [
    "module",
    "function",
    "builtin_function_or_method",
    "instance",
    "_Feature"
   ],
   "window_display": false
  }
 },
 "nbformat": 4,
 "nbformat_minor": 5
}

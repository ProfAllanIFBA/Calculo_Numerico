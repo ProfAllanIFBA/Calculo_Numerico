{
 "cells": [
  {
   "cell_type": "markdown",
   "id": "26eba7ba",
   "metadata": {
    "slideshow": {
     "slide_type": "slide"
    }
   },
   "source": [
    "# Método de Newton Para Sistemas"
   ]
  },
  {
   "cell_type": "markdown",
   "id": "b4ff86f8",
   "metadata": {
    "slideshow": {
     "slide_type": "slide"
    }
   },
   "source": [
    "A seguir apresentaremos uma abordagem sucinta sobre o **Método de Newton Para Sistemas Não-Lineares**. Informações mais detalhadas podem ser obtidas em $[1]$."
   ]
  },
  {
   "cell_type": "markdown",
   "id": "f833ef00",
   "metadata": {
    "slideshow": {
     "slide_type": "slide"
    }
   },
   "source": [
    "Em linhas gerais o método de Newton estabelecia uma equação recursiva da forma $$ $$\n",
    "\n",
    "$$x_{n+1} = x_{n} - \\frac{f(x_{n})}{f'(x_{n})},$$\n",
    "\n",
    "sob certas condições, convergiria para um zero $p$ de $f$ em um intervalo $(a,b)$ contendo $p$. Obviamente, a exigência da continuidade das funções $f(x)$ e $f'(x)$ fica evidentemente necessária. Além disso busca-se aplicar o método em um valor $x_{0}$ tal que $f'(x_{0}) \\neq 0$ (ou até mesmo obter $(a,b)$ contendo $p$ tal que $f'(x) \\neq 0$ para todo $x \\in (a,b)$)."
   ]
  },
  {
   "cell_type": "markdown",
   "id": "562bd1dd",
   "metadata": {
    "slideshow": {
     "slide_type": "slide"
    }
   },
   "source": [
    "Existe uma versão mais geral do método de Newton que pode ser aplicada a um sistema de equações não lineares $m \\times m$:\n",
    "\n",
    "$$\\left\\{ \\begin{array}{ccc}\n",
    "f_{1}(x_{1},x_{2},\\ldots,x_{m})\t& = & 0  \\\\\n",
    "f_{2}(x_{1},x_{2},\\ldots,x_{m})\t& = & 0  \\\\\n",
    "\\vdots & \\vdots & \\vdots \\\\\n",
    "f_{n}(x_{1},x_{2},\\ldots,x_{m})\t& = & 0  \\\\\n",
    "\\end{array} \\right.$$\n"
   ]
  },
  {
   "cell_type": "markdown",
   "id": "1ff3bc90",
   "metadata": {
    "slideshow": {
     "slide_type": "slide"
    }
   },
   "source": [
    "De modo bem direto, podemos pensar a expressão $x_{n+1} = x_{n} - \\frac{f(x_{n})}{f'(x_{n})}$ na forma matricial, isto é: $$ $$\n",
    "\n",
    "$$[x_{n+1}] = [x_{n}] - [f'(x_{n})]^{-1}[f(x)],$$\n",
    "\n",
    "em que $[x_{n+1}]$ e $[x_{n}]$ são matrizes coluna $m \\times 1$, $[f'(x_{n})]^{-1}$ é uma matriz quadrada $m \\times m$ correspondente à matriz jacobiana de das funções $f_{1},f_{2},\\ldots,f_{m}$ com relação as variáveis $x_{1},x_{2},\\ldots,x_{m}$ e $[f(x)]$ é uma matriz $m \\times 1$ correspondente às funções $f_{1},f_{2},\\ldots,f_{m}$. "
   ]
  },
  {
   "cell_type": "markdown",
   "id": "94e84c20",
   "metadata": {
    "slideshow": {
     "slide_type": "slide"
    }
   },
   "source": [
    "Em uma linguagem mais apropriada, temos\n",
    "$$x^{(n+1)} = x^{(n)} - J_{F}^{-1}(x^{(n)})F(x^{(n)}), \\,\\, n\\geq 0.$$"
   ]
  },
  {
   "cell_type": "markdown",
   "id": "b5f73352",
   "metadata": {
    "slideshow": {
     "slide_type": "fragment"
    }
   },
   "source": [
    "Sob certa condições, a convergência da sequência $x^{(n)}$ é assegurada, isto é, quanto $n \\rightarrow \\infty$ temos que $x^{(n)} \\rightarrow \\overline{p}$, em que $\\overline{p} = (p_{1},p_{2},\\ldots,p_{m})$ tal que $f_{i}(p_{1},p_{2},\\ldots,p_{m})\t= 0$ para todo $i = 1,2,\\ldots,m$."
   ]
  },
  {
   "cell_type": "markdown",
   "id": "82ff245f",
   "metadata": {
    "slideshow": {
     "slide_type": "slide"
    }
   },
   "source": [
    "Vejamos a seguir exemplos para sistemas $2 \\times 2$ e $3 \\times 3$ juntamente com sua interpretação geomética."
   ]
  },
  {
   "cell_type": "markdown",
   "id": "72a7278d",
   "metadata": {
    "slideshow": {
     "slide_type": "slide"
    }
   },
   "source": [
    "## Sistemas 2x2"
   ]
  },
  {
   "cell_type": "markdown",
   "id": "5ef9e100",
   "metadata": {
    "slideshow": {
     "slide_type": "slide"
    }
   },
   "source": [
    "### <font color='blue'> Exemplo 1: </font>\n",
    "<font color='blue'> Considere o problema de se obter a intersecção da circunferência $x^{2} + y^{2} = 9$ e elipse $\\frac{x^{2}}{4} +\\frac{y^{2}}{25} = 1$ cujo gráfico é dado a seguir:\n",
    "![](fig1.jpg)\n",
    "Tome um $x^{(0)}$ razoável e calcule três iterações e o erro. (*Programa de esboço gráfico em* ***extras***.)"
   ]
  },
  {
   "cell_type": "markdown",
   "id": "86a03ebb",
   "metadata": {
    "slideshow": {
     "slide_type": "slide"
    }
   },
   "source": [
    "<font color='blue'> Solução: Um ponto de partida conveniente parece ser o ponto $x^{(0)} = (2,2)^{T}$ por aparentemente estar próximo de a intersecção destacada. Contudo devemos organizar as equações na forma $f_{1}(x,y) = 0$ e $f_{2}(x,y) = 0$. Pois bem, $f_{1}(x,y) = x^{2} + y^{2} - 9$ e $f_{2}(x,y) = \\frac{x^{2}}{4} + \\frac{y^{2}}{25} - 1$. A partir de $f_{1}$ e $f_{2}$ obtemos a seguinte matriz jacobiana: $$ $$\n",
    "$$ \n",
    "J_{f}(x,y) = \\left[\\begin{array}{cc}\n",
    "\\frac{\\partial f_{1}}{\\partial{x}} & \\frac{\\partial f_{1}}{\\partial{y}} \\\\\n",
    "\\frac{\\partial f_{2}}{\\partial{x}} & \\frac{\\partial f_{2}}{\\partial{y}} \\\\\n",
    "\\end{array}\\right] = \\left[\\begin{array}{cc}\n",
    "2x & 2y \\\\\n",
    "\\frac{x}{2} & \\frac{2y}{25} \\\\\n",
    "\\end{array}\\right].\n",
    "$$"
   ]
  },
  {
   "cell_type": "markdown",
   "id": "bf5de98f",
   "metadata": {
    "slideshow": {
     "slide_type": "slide"
    }
   },
   "source": [
    "<font color='blue'> Assim, temos que\n",
    "$$x^{(1)} = x^{(0)} - J_{F}^{-1}(x^{(0)})F(x^{(0)}) = \\left[\\begin{array}{c} 2\\\\ 2\\\\ \\end{array}\\right] - \\left[\\begin{array}{cc} 2\\cdot2 & 2\\cdot2 \\\\ \\frac{2}{2} & \\frac{2\\cdot2}{25} \\\\ \\end{array}\\right]^{-1} \\left[\\begin{array}{c}2^{2}+2^{2}-9 \\\\ \\frac{2^{2}}{4} + \\frac{2^{2}}{25}-1 \\\\ \\end{array}\\right]$$ $$ $$\n",
    "$$= \\left[\\begin{array}{c} 2\\\\ 2\\\\ \\end{array}\\right] - \\left[\\begin{array}{cc} -0.04761905 & 1.19047619 \\\\ 0.29761905 & -1.19047619 \\\\ \\end{array}\\right]^{-1} \\left[\\begin{array}{c}-1 \\\\ \\frac{4}{25} \\\\ \\end{array}\\right] =$$ $$ $$ $$= \\left[\\begin{array}{c} 2\\\\ 2\\\\ \\end{array}\\right] - \\left[\\begin{array}{cc} 4 & 4 \\\\ 1 & \\frac{4}{25} \\\\ \\end{array}\\right]^{-1} \\left[\\begin{array}{c}-1 \\\\ \\frac{4}{25} \\\\ \\end{array}\\right] = \\left[\\begin{array}{c} 1.76190476 \\\\ 2.48809524 \\\\ \\end{array}\\right].$$ $$ $$\n",
    "Nesta primeira iteração o erro é dado por: $$ $$\n",
    "$$ ||x^{(1)} - x^{(0)}|| = \\left|\\left| \\left[\\begin{array}{c} 1.76190476 \\\\ 2.48809524 \\\\ \\end{array}\\right] - \\left[\\begin{array}{c} 2 \\\\ 2 \\\\ \\end{array}\\right] \\right|\\right| = \\left|\\left| \\left[\\begin{array}{c} -0.23809524 \\\\ 0.48809524 \\\\ \\end{array}\\right] \\right|\\right| = 0.48809524$$"
   ]
  },
  {
   "cell_type": "markdown",
   "id": "65017486",
   "metadata": {
    "slideshow": {
     "slide_type": "slide"
    }
   },
   "source": [
    "<font color='blue'> Assim, temos que\n",
    "$$x^{(2)} = x^{(2)} - J_{F}^{-1}(x^{(2)})F(x^{(2)}) =$$ $$ $$ $$= \\left[\\begin{array}{c} 1.76190476\\\\ 2.48809524\\\\ \\end{array}\\right] - \\left[\\begin{array}{cc} 2\\cdot1.76190476 & 2\\cdot2.48809524 \\\\ \\frac{1.76190476}{2} & \\frac{2\\cdot2.48809524}{25} \\\\ \\end{array}\\right]^{-1} \\left[\\begin{array}{c}1.76190476^{2}+2.48809524^{2}-9 \\\\ \\frac{1.76190476^{2}}{4} + \\frac{2.48809524^{2}}{25}-1 \\\\ \\end{array}\\right] = $$ $$ $$\n",
    "$$= \\left[\\begin{array}{c} 1.76190476\\\\ 2.48809524\\\\ \\end{array}\\right] - \\left[\\begin{array}{cc} 3.52380952 & 4.97619048 \\\\ 0.88095238 & 0.1990476192 \\\\ \\end{array}\\right]^{-1} \\left[\\begin{array}{c}0.2949263 \\\\ 0.02370181 \\\\ \\end{array}\\right] =$$ $$ $$   \n",
    "$$= \\left[\\begin{array}{c} 1.76190476\\\\ 2.48809524\\\\ \\end{array}\\right] - \\left[\\begin{array}{cc} -0.05405405 & 1.35135135 \\\\ 0.23923445 & -0.9569378 \\\\ \\end{array}\\right] \\left[\\begin{array}{c}0.2949263 \\\\ 0.02370181 \\\\ \\end{array}\\right]  =  \\left[\\begin{array}{c} 1.74581725\\\\ 2.44021987\\\\ \\end{array}\\right]$$ $$ $$\n",
    "Nesta segunda iteração o erro é dado por:\n",
    "$$ ||x^{(2)} - x^{(1)}|| = \\left|\\left|\\left[\\begin{array}{c} 1.74581725 \\\\ 2.44021987 \\\\ \\end{array}\\right]  - \\left[\\begin{array}{c} 1.76190476 \\\\ 2.48809524 \\\\ \\end{array}\\right] \\right|\\right| =  \\left|\\left| \\left[\\begin{array}{c} -0.01608751 \\\\ -0.04787537 \\\\ \\end{array}\\right] \\right|\\right| = 0.04787537$$"
   ]
  },
  {
   "cell_type": "markdown",
   "id": "2f177356",
   "metadata": {},
   "source": [
    "<font color='blue'> Assim, temos que\n",
    "$$x^{(3)} = x^{(3)} - J_{F}^{-1}(x^{(3)})F(x^{(3)}) =$$ $$ $$ $$= \\left[\\begin{array}{c} 1.74581725\\\\ 2.44021987\\\\ \\end{array}\\right] - \\left[\\begin{array}{cc} 2\\cdot1.74581725 & 2\\cdot2.44021987 \\\\ \\frac{1.74581725}{2} & \\frac{2\\cdot2.44021987}{25} \\\\ \\end{array}\\right]^{-1} \\left[\\begin{array}{c}1.74581725^{2}+2.44021987^{2}-9 \\\\ \\frac{1.74581725^{2}}{4} + \\frac{2.44021987^{2}}{25}-1 \\\\ \\end{array}\\right] = $$ $$ $$\n",
    "$$= \\left[\\begin{array}{c} 1.74581725\\\\ 2.44021987\\\\ \\end{array}\\right] - \\left[\\begin{array}{cc} 3.4916345 & 4.88043974 \\\\ 1.14559528 & 0.19521759 \\\\ \\end{array}\\right]^{-1} \\left[\\begin{array}{c}0.00255086 \\\\ 0.00015638 \\\\ \\end{array}\\right] =$$ $$ $$   \n",
    "$$= \\left[\\begin{array}{c} 1.74581725\\\\ 2.44021987\\\\ \\end{array}\\right] - \\left[\\begin{array}{cc} -0.05455216 & 1.36380390 \\\\ 0.24392806 & -0.97571223 \\\\ \\end{array}\\right] \\left[\\begin{array}{c}0.00255086 \\\\ 0.00015638 \\\\ \\end{array}\\right]  =  \\left[\\begin{array}{c} 1.74574312\\\\ 2.43975023\\\\ \\end{array}\\right]$$ $$ $$\n",
    "Nesta terceira iteração o erro é dado por:\n",
    "$$ ||x^{(3)} - x^{(2)}|| = \\left|\\left|\\left[\\begin{array}{c} 1.74574312 \\\\ 2.43975023 \\\\ \\end{array}\\right] - \\left[\\begin{array}{c} 1.74581725 \\\\ 2.44021987 \\\\ \\end{array}\\right]  -  \\right|\\right| =  \\left|\\left| \\left[\\begin{array}{c}\n",
    "-0.00007412 \\\\ -0.00046964 \\\\ \\end{array}\\right] \\right|\\right| = 0.00046964$$\n"
   ]
  },
  {
   "cell_type": "markdown",
   "id": "afa5a057",
   "metadata": {},
   "source": [
    "### Solução Computacional Para Sistemas 2x2"
   ]
  },
  {
   "cell_type": "code",
   "execution_count": 60,
   "id": "232b3eba",
   "metadata": {
    "slideshow": {
     "slide_type": "slide"
    }
   },
   "outputs": [],
   "source": [
    "import numpy as np\n",
    "\n",
    "def NG(x, y, tol, N, f, Jf):\n",
    "    def itr(x, y, f, Jf):\n",
    "        F = np.array(eval(f))  # Avalia a função\n",
    "        invJF = np.linalg.inv(np.array(eval(Jf)))  # Avalia a matriz jacobiana\n",
    "        return F, invJF\n",
    "\n",
    "    delta = float('inf')\n",
    "\n",
    "    for k in range(N):\n",
    "        I0 = np.array([x, y])\n",
    "        F, invJF = itr(I0[0], I0[1], f, Jf)\n",
    "        I1 = I0 - np.dot(invJF, F)\n",
    "        delta = np.max(np.abs(I1 - I0))\n",
    "        print(f'n={k+1}, {I1}, {round(delta,8)}')\n",
    "        x, y = I1\n",
    "        if delta <= tol:\n",
    "            break\n",
    "\n",
    "    print(f'A solução é {np.array([x, y])} com erro {round(delta,8)}.')\n"
   ]
  },
  {
   "cell_type": "code",
   "execution_count": 64,
   "id": "cf749b3c",
   "metadata": {},
   "outputs": [
    {
     "name": "stdout",
     "output_type": "stream",
     "text": [
      "n=1, [1.76190476 2.48809524], 0.48809524\n",
      "n=2, [1.74581725 2.44021987], 0.04787537\n",
      "n=3, [1.74574312 2.43975023], 0.00046964\n",
      "A solução é [1.74574312 2.43975023] com erro 0.00046964.\n"
     ]
    }
   ],
   "source": [
    "NG(2, 2,0.001, 3,'[x**2+y**2-9,(x**2)/4 + (y**2)/25 - 1]','[[2*x,2*y],[x/2,2*y/25]]')"
   ]
  },
  {
   "cell_type": "markdown",
   "id": "9df5f702",
   "metadata": {},
   "source": [
    "## Sistemas 3x3"
   ]
  },
  {
   "cell_type": "markdown",
   "id": "3cccea50",
   "metadata": {},
   "source": [
    "### <font color='blue'> Exemplo 2: </font>\n",
    "<font color='blue'> Apresente os elementos da fórmula \n",
    "$$x^{(n+1)} = x^{(n)} - J_{F}^{-1}(x^{(n)})F(x^{(n)}), \\,\\, n\\geq 0.$$\n",
    "associado ao problema de se resolver o sistema linear: $$ $$\n",
    "$$\\left\\{ \\begin{array}{ccc}\n",
    "3x-cos(yz)-0.5 & = & 0  \\\\\n",
    "x^{2} - 81(y+0.1)^{2} + sen(z) + 1.06\t& = & 0  \\\\\n",
    "e^{-xy} + 20z + \\frac{10\\pi-3}{3}\t& = & 0  \\\\\n",
    "\\end{array} \\right.$$  $$ $$\n",
    "Em seguida, use o programa para para determinar a solução com precisão $\\delta = 10^{-2}$ partindo de $x^{(0)} = (0.1,0.1,-0.1)$. Limite o programa a no máximo $10$ iterações.\n"
   ]
  },
  {
   "cell_type": "code",
   "execution_count": 66,
   "id": "9b4abaa2",
   "metadata": {},
   "outputs": [],
   "source": [
    "import numpy as np\n",
    "\n",
    "def NG(x, y,z, tol, N, f, Jf):\n",
    "    def itr(x, y, z, f, Jf):\n",
    "        F = np.array(eval(f))  # Avalia a função\n",
    "        invJF = np.linalg.inv(np.array(eval(Jf)))  # Avalia a matriz jacobiana\n",
    "        return F, invJF\n",
    "\n",
    "    delta = float('inf')\n",
    "\n",
    "    for k in range(N):\n",
    "        I0 = np.array([x, y, z])\n",
    "        print(I0)\n",
    "        F, invJF = itr(I0[0], I0[1], I0[2], f, Jf)\n",
    "        I1 = I0 - np.dot(invJF, F)\n",
    "        print(I1)\n",
    "        delta = np.max(np.abs(I1 - I0))\n",
    "        print(f'n={k+1}, {I1}, {delta}')\n",
    "        x, y, z = I1\n",
    "        if delta <= tol:\n",
    "            break\n",
    "\n",
    "    print(f'A solução é {np.array([x, y,z])} com erro {delta}.')"
   ]
  },
  {
   "cell_type": "code",
   "execution_count": 69,
   "id": "3a6eded4",
   "metadata": {},
   "outputs": [
    {
     "name": "stdout",
     "output_type": "stream",
     "text": [
      "[ 0.1  0.1 -0.1]\n",
      "[ 0.49986967  0.01946685 -0.52152047]\n",
      "n=1, [ 0.49986967  0.01946685 -0.52152047], 0.42152047193583075\n",
      "[ 0.49986967  0.01946685 -0.52152047]\n",
      "[ 0.50001424  0.00158859 -0.52355696]\n",
      "n=2, [ 0.50001424  0.00158859 -0.52355696], 0.0178782571671242\n",
      "[ 0.50001424  0.00158859 -0.52355696]\n",
      "[ 5.00000113e-01  1.24447833e-05 -5.23598450e-01]\n",
      "n=3, [ 5.00000113e-01  1.24447833e-05 -5.23598450e-01], 0.0015761465869723345\n",
      "A solução é [ 5.00000113e-01  1.24447833e-05 -5.23598450e-01] com erro 0.0015761465869723345.\n"
     ]
    }
   ],
   "source": []
  },
  {
   "cell_type": "markdown",
   "id": "05d241bb",
   "metadata": {},
   "source": [
    "## Referências\n",
    "\n",
    "[1] BURDEN, R.L; FAIRES, J. D. Análise Numérica. 8. ed. São Paulo: CENGAGE Learning, 2008.\n"
   ]
  },
  {
   "cell_type": "markdown",
   "id": "3f1a82fc",
   "metadata": {},
   "source": [
    "## Extras"
   ]
  },
  {
   "cell_type": "markdown",
   "id": "950bebec",
   "metadata": {},
   "source": [
    "#### Programa de Esboço Gráfico (Exemplo 1)"
   ]
  },
  {
   "cell_type": "code",
   "execution_count": 58,
   "id": "e2faeb65",
   "metadata": {
    "slideshow": {
     "slide_type": "slide"
    }
   },
   "outputs": [],
   "source": [
    "import matplotlib.pyplot as plt\n",
    "import numpy as np\n",
    "\n",
    "def plotar_elipse(a, b):\n",
    "    theta = np.linspace(0, 2 * np.pi, 100)\n",
    "    x = a * np.cos(theta)\n",
    "    y = b * np.sin(theta)\n",
    "    plt.plot(x, y, label='Elipse')\n",
    "\n",
    "def plotar_circunferencia(raio, centro_x, centro_y):\n",
    "    theta = np.linspace(0, 2 * np.pi, 100)\n",
    "    x = raio * np.cos(theta) + centro_x\n",
    "    y = raio * np.sin(theta) + centro_y\n",
    "    plt.plot(x, y, label='Circunferência')\n",
    "\n",
    "# Parâmetros da elipse e da circunferência\n",
    "a, b = 2, 5 # Eixos da Elipse\n",
    "raio = 3  # Raio da circunferência\n",
    "centro_x = 0  # Coordenada x do centro da circunferência\n",
    "centro_y = 0  # Coordenada y do centro da circunferência"
   ]
  },
  {
   "cell_type": "code",
   "execution_count": 57,
   "id": "8a4b4e12",
   "metadata": {
    "slideshow": {
     "slide_type": "slide"
    }
   },
   "outputs": [
    {
     "data": {
      "image/png": "[encoded data removed]",
      "text/plain": [
       "<Figure size 600x600 with 1 Axes>"
      ]
     },
     "metadata": {},
     "output_type": "display_data"
    },
    {
     "data": {
      "text/plain": [
       "(<matplotlib.legend.Legend at 0x1ecdd62ffd0>, None)"
      ]
     },
     "execution_count": 57,
     "metadata": {},
     "output_type": "execute_result"
    }
   ],
   "source": [
    "# Plotando a elipse e a circunferência\n",
    "plt.figure(figsize=(6, 6)), plotar_elipse(a, b), plotar_circunferencia(raio, centro_x, centro_y)\n",
    "\n",
    "# Configurações do gráfico\n",
    "plt.grid(True), plt.axis('equal')\n",
    "plt.xlim(-max(a, raio) - abs(centro_x), max(a, raio) + abs(centro_x))  # Ajustar limite do eixo x\n",
    "plt.ylim(-max(b, raio) - abs(centro_y), max(b, raio) + abs(centro_y))  # Ajustar limite do eixo y\n",
    "plt.legend(), plt.show()\n"
   ]
  },
  {
   "cell_type": "markdown",
   "id": "760542dd",
   "metadata": {},
   "source": [
    "#### Cola..."
   ]
  },
  {
   "cell_type": "code",
   "execution_count": null,
   "id": "a3dbaed8",
   "metadata": {},
   "outputs": [],
   "source": [
    "NG(0.1,0.1,-0.1,0.01, 10,\n",
    "   '[3*x-np.cos(y*z)-0.5,\\\n",
    "     x**2-81*(y+0.1)**2 + np.sin(z) + 1.06,\\\n",
    "     np.exp(-x*y)+20*z+(10*np.pi-3)/3]',\n",
    "   \n",
    "   '[[3,z*np.sin(y*z),y*np.sin(y*z)],\\\n",
    "     [2*x,-162*(y+0.1),np.cos(z)],\\\n",
    "     [-y*np.exp(-x*y),-x*np.exp(-x*y),20]]')"
   ]
  }
 ],
 "metadata": {
  "celltoolbar": "Slideshow",
  "kernelspec": {
   "display_name": "Python 3 (ipykernel)",
   "language": "python",
   "name": "python3"
  },
  "language_info": {
   "codemirror_mode": {
    "name": "ipython",
    "version": 3
   },
   "file_extension": ".py",
   "mimetype": "text/x-python",
   "name": "python",
   "nbconvert_exporter": "python",
   "pygments_lexer": "ipython3",
   "version": "3.9.13"
  }
 },
 "nbformat": 4,
 "nbformat_minor": 5
}

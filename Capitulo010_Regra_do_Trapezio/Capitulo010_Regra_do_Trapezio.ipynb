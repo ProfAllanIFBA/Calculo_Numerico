{
 "cells": [
  {
   "cell_type": "markdown",
   "id": "d4ea28a8",
   "metadata": {
    "slideshow": {
     "slide_type": "slide"
    }
   },
   "source": [
    "<center> <img src=\"logo_ifba.jpg\" alt=\"jpg_python\" width=\"100\" height=\"200\"> </center>\n",
    "<br><br>\n",
    "<div align=\"center\"><span style=\"font-size: 26px;\"><strong>Cálculo Numérico <br></strong></span></div> <br>\n",
    "<center> <img src=\"python_gif.gif\" alt=\"gif_python\" width=\"80\"> </center>\n"
   ]
  },
  {
   "cell_type": "markdown",
   "id": "d76184a7",
   "metadata": {
    "slideshow": {
     "slide_type": "slide"
    }
   },
   "source": [
    "<div style=\"border: 2px solid black; padding: 10px; width: 95%; background-color: lightgray; display: flex; align-items: center;\">\n",
    "    <h1 style=\"color: red; text-align: center; margin: auto;\">\n",
    "        Capítulo 10: Regra do Trapézio\n",
    "    </h1>\n",
    "</div>\n",
    "\n",
    "<font color='red'></font>\n",
    "<a href=\"\"></a>"
   ]
  },
  {
   "cell_type": "markdown",
   "id": "c168ea6b",
   "metadata": {},
   "source": [
    "Frequentemente nos deparamos com a necessidade de calcular a integral definida de uma função $f(x)$ sem antiderivada explícita, ou seja, cuja derivada não é simples de se obter, como, por exemplo\n",
    "\n",
    "$$ \\int_{a}^{b} e^{-x^{2}}dx.$$\n",
    "\t\n",
    "A interpolação polinomial pode nos ajudar a resolver este problema. Nela aprendemos como gerar o polinômio $P(x)$ \"parecido\" com $f(x)$. Assim, dada uma função $f(x)$ a qual aproximamos por $P(x)$, podemos considerar as integrais<br>\n",
    "\n",
    "$$\\int_{a}^{b} P(x)dx \\approx \\int_{a}^{b} f(x) dx.$$\n",
    "\n",
    "Neste caso, resolvendo a primeira (integrar polinômio é moleza) na tentativa obtermos uma resposta aproximada da segunda."
   ]
  },
  {
   "cell_type": "markdown",
   "id": "97585c2b",
   "metadata": {},
   "source": [
    "# <div style=\"margin-top: -20px;\">\n",
    "<hr style=\"border: 2px solid black;\">\n",
    "\n",
    "<font color='black'><span style=\"font-size: 22px;\"><strong>10.1 A Regra do Trapézio</strong></span></font>\n",
    "\n",
    "<hr style=\"border: 2px solid black;\">\n",
    "</div>"
   ]
  },
  {
   "cell_type": "markdown",
   "id": "4283ba99",
   "metadata": {},
   "source": [
    "Seja $f(x)$ uma função conhecida apenas nos pontos $(x_{0}, f(x_{0}))$, $(x_{1}, f(x_{1}))$. Por meio de Interpolação de Lagrange sabemos que\n",
    "\n",
    "$P(x) = f(x_{0}) \\frac{x-x_{1}}{x_{0}-x_{1}} + f(x_{1}) \\frac{x-x_{0}}{x_{1}-x_{0}} \\tag{1}$\n",
    "\n",
    "\n",
    "Integrando ambos os membros de ($1$) de $x_{0}$ a $x_{1}$, temos\n",
    "\n",
    "$$\\int_{x_{0}}^{x_{1}} P(x)dx = \\int_{x_{0}}^{x_{1}} \\left( f(x_{0}) \\frac{x-x_{1}}{x_{0}-x_{1}} + f(x_{1}) \\frac{x-x_{0}}{x_{1}-x_{0}} \\right)dx = $$\n",
    "\n",
    "$$ = \\frac{f(x_{0})}{x_{0} - x_{1}} \\int_{x_{0}}^{x_{1}} (x - x_{1}) dx + \\frac{f(x_{1})}{x_{1} - x_{0}} \\int_{x_{0}}^{x_{1}} (x - x_{0}) dx = \\frac{x_{1}-x_{0}}{2}(f(x_{0})+f(x_{1})).$$\n",
    "\n",
    "Temos, portanto\n",
    "\n",
    "<font color='red'>$$\\int_{x_{0}}^{x_{1}} P(x)dx = \\frac{x_{1}-x_{0}}{2}(f(x_{0})+f(x_{1})).$$</font>"
   ]
  },
  {
   "cell_type": "markdown",
   "id": "f0826e87",
   "metadata": {},
   "source": [
    "#### Interpretação Geométrica"
   ]
  },
  {
   "cell_type": "markdown",
   "id": "6b4b0f74",
   "metadata": {},
   "source": [
    "A figura a seguir apresenta a interpretação geométrica da Regra do Trapézio.<br><br>\n",
    "\n",
    "<center> <img src=\"fig10-1.jpg\" alt=\"jpg_python\" width=\"500\" height=\"\"> </center>"
   ]
  },
  {
   "cell_type": "markdown",
   "id": "ac732458",
   "metadata": {},
   "source": [
    "#### Estimativa Para o Erro"
   ]
  },
  {
   "cell_type": "markdown",
   "id": "b629921c",
   "metadata": {},
   "source": [
    "Vimos anteriormente que o erro na interpolação é dado por $E_{t}(x) = (x - x_{0})(x - x_{1}) \\frac{f''(\\beta)}{2!}$ para $\\beta \\in (x_{0}, x_{1})$. Integrando, temos\n",
    "\n",
    "$$\\int_{x_{0}}^{x_{1}} E_{t}(x) dx = \\int_{x_{0}}^{x_{1}} (x - x_{0})(x - x_{1}) \\frac{f''(\\beta)}{2!} dx = $$\n",
    "\n",
    "$$ = \\frac{f''(\\beta)}{12}(x_{1} - x_{0})^{3} = \\frac{f''(\\beta)h^{3}}{12}.$$\n",
    "\n",
    "Portanto, uma cota para o erro cometido ao aplicarmos a Regra do Trapézio é dado por\n",
    "\n",
    "<font color='red'> $$\\int_{x_{0}}^{x_{1}} E_{t}(x) dx = -\\frac{f''(\\beta)h^{3}}{12}.$$ </font>"
   ]
  },
  {
   "cell_type": "markdown",
   "id": "78e9662a",
   "metadata": {},
   "source": [
    "#### <font color='blue'> Exemplo 1 </font>"
   ]
  },
  {
   "cell_type": "markdown",
   "id": "b6c699b7",
   "metadata": {},
   "source": [
    "<font color='blue'> Apliquemos a regra do trapézio para calcular $\\int_{x_{0}}^{x_{1}} f(x) dx$, onde $x_{0} = \\frac{\\pi}{3}$, $x_{1} = \\frac{5\\pi}{6}$ e $f(x) = sen(x)$. Apresente uma cota superior para o erro e o erro exato."
   ]
  },
  {
   "cell_type": "markdown",
   "id": "ec263dd3",
   "metadata": {},
   "source": [
    "##### <font color='blue'> Solução </font>"
   ]
  },
  {
   "cell_type": "markdown",
   "id": "a341d946",
   "metadata": {},
   "source": [
    "<font color='blue'> Temos que<br><br>\n",
    " $$\\int_{x_{0}}^{x_{1}} f(x) dx = \\frac{x_{1} - x_{0}}{2} (f(x_{0}) + f(x_{1})) = \\frac{5 \\pi/6 - \\pi/3}{2} (sen(\\pi/3)+sen(5\\pi/6)) = 1.072873843286556.$$<br>\n",
    " Sabemos que $f''(x) = -sen(x)$ é tal que $|f''(\\pi/2)| \\geq |f''(x)|$ para todo $x \\in (\\pi/3, 5\\pi/6)$. Logo,<br><br>\n",
    " $$E_{max} = \\left|\\frac{f''(\\pi/2) (5 \\pi/6 - \\pi/3)^{3}}{12} \\right|= 0.322982048753123.$$<br>\n",
    " Pelo Teorema Fundamental do Cálculo temos<br><br>\n",
    " $$\\int_{\\pi/3}^{5\\pi/6} sen(x) dx = 1.366025403784439.$$<br>\n",
    " Por fim, o erro exato é dado por:<br><br>\n",
    " $$E_{ext} = |1.366025403784439-1.072873843286556| = 0.293151560497883.$$"
   ]
  },
  {
   "cell_type": "markdown",
   "id": "7f975576",
   "metadata": {},
   "source": [
    "# <div style=\"margin-top: -20px;\">\n",
    "<hr style=\"border: 2px solid black;\">\n",
    "\n",
    "<font color='black'><span style=\"font-size: 22px;\"><strong>10.2 Regra do Trapézio Generalizada</strong></span></font>\n",
    "\n",
    "<hr style=\"border: 2px solid black;\">\n",
    "</div>"
   ]
  },
  {
   "cell_type": "markdown",
   "id": "964ad1ac",
   "metadata": {},
   "source": [
    "Se tivermos $(n+1)$ pontos, digamos $x_{0}, \\ldots, x_{n}$, igualmente espa\\c cados, ou seja, $x_{k} = x_{k-1} + h$, $(k = 1, \\ldots, n)$, temos\n",
    "\n",
    "$$\\int_{x_{0}}^{x_{n}} f(x) dx \\approx \\int_{x_{0}}^{x_{1}} P_{1}(x) dx + \\ldots + \\int_{x_{n-1}}^{x_{n}} P_{n}(x) dx = $$ \n",
    "\n",
    "$$= \\frac{x_{1} - x_{0}}{2}(f(x_{1}) + f(x_{0})) + \\frac{x_{2} - x_{1}}{2}(f(x_{2}) + f(x_{1}))+ \\ldots + \\frac{x_{n} - x_{n-1}}{2}(f(x_{n}) + f(x_{n-1})) = $$\n",
    "\n",
    "$$= \\frac{h}{2}(f(x_{0}) + f(x_{1}))) + \\frac{h}{2}(f(x_{1}) + f(x_{2}))) + \\frac{h}{2}(f(x_{2}) + f(x_{3}))) + \\dots + \\frac{h}{2}(f(x_{n-1}) + f(x_{n})))=$$\n",
    "\n",
    "$$= \\frac{h}{2}(f(x_{0}) + 2f(x_{1}) + 2f(x_{2}) + 2f(x_{3}) + \\ldots + 2f(x_{n-1}) + f(x_{n})).$$\n",
    "Obtemos portanto,\n",
    "\n",
    "<font color='red'> $$\\int_{x_{0}}^{x_{n}} f(x) dx \\approx \\frac{h}{2}(f(x_{0}) + 2f(x_{1}) + 2f(x_{2}) + 2f(x_{3}) + \\ldots + 2f(x_{n-1}) + f(x_{n})).$$ </font>"
   ]
  },
  {
   "cell_type": "markdown",
   "id": "767f82c8",
   "metadata": {},
   "source": [
    "#### Interpretação Geométrica"
   ]
  },
  {
   "cell_type": "markdown",
   "id": "23900364",
   "metadata": {},
   "source": [
    "A figura a seguir nos fornece a interpretação geométrica para a Regra do Trapézio Generalizada. Note que a área dos trapézios superestimam (ou substimam) a área da curva. Contudo, ao aplicarmos a generalização da Regra do Trapézio, temos que as somas das áreas excedentes é, visualmente, mais próxima que a área proveniente de um único trapézio.<br><br>\n",
    "\n",
    "<center> <img src=\"fig10-2.jpg\" alt=\"jpg_python\" width=\"700\" height=\"\"> </center>"
   ]
  },
  {
   "cell_type": "markdown",
   "id": "b4b42b83",
   "metadata": {},
   "source": [
    "#### Estimativa Para o Erro"
   ]
  },
  {
   "cell_type": "markdown",
   "id": "3ae14dea",
   "metadata": {},
   "source": [
    "Para o caso geral, em que temos $n+1$ pontos, $x_{0}, \\ldots, x_{n}$, o erro total será dado por:\n",
    "\n",
    "<font color='red'> $$E = \\sum_{i=1}^{n} E_{I_{i}} \\tag{2}$$, </font>\n",
    "\n",
    "em que $E_{I_{i}}$ é o erro em cada $(x_{i-1}, x_{i})$.\n",
    "\n",
    "Há uma certa dificuldade em se utilizar ($2$ uma vez que teremos um $\\beta_{i}$ associado a cada $E_{I_{i}}$. Neste caso, poderemos achar uma cota superior $E_{max}$ para o erro. Note que\n",
    "\n",
    "$$|E| = |\\sum_{i=1}^{n} E_{I_{i}}|  \\leq |E_{I_{1}} + E_{I_{2}} + \\ldots + E_{I_{n}}| = \\left|-\\frac{h^{3}f''(\\beta_{1})}{12} -\\frac{h^{3}f''(\\beta_{2})}{12} - \\ldots  -\\frac{h^{3}f''(\\beta_{n})}{12}\\right| \\leq $$\n",
    "\n",
    "$$\\leq \\frac{h^{3}}{12}|f''(\\beta_{1})| +\\frac{h^{3}}{12}|f''(\\beta_{2})| + \\ldots  + \\frac{h^{3}}{12}|f''(\\beta_{n})| \\leq \\frac{h^{3}}{12}M +\\frac{h^{3}}{12}M + \\ldots  + \\frac{h^{3}}{12}M,$$\n",
    "\n",
    "com $M \\geq \\underset{0\\leq i \\leq n}{max}\\{|f''(\\beta_{i})|\\}$, $\\beta_{i} \\in [x_{i-1},x_{i}]$. Continuando, temos\n",
    "\n",
    "$$\\frac{h^{3}}{12}M +\\frac{h^{3}}{12}M + \\ldots  + \\frac{h^{3}}{12}M = n\\frac{h^{3}}{12}M = nh \\frac{h^{2}}{12}M = (b-a)\\frac{h^{2}}{12}M$$\n",
    "\n",
    "onde usamos o fato que $h = \\frac{b-a}{n}$, isto é, $nh = b-a$. Portanto \n",
    "\n",
    "<font color='red'>$$E_{max} = (b-a)\\frac{h^{2}}{12}M.$$</font>\n",
    "\n",
    "Contudo, para termos uma boa cota máxima (cota não muito \"grande\") devemos tentar obter $M$ tal que\n",
    "\n",
    "$$M = \\underset{0\\leq i \\leq n}{max}\\{|f''(\\beta_{i})|\\}.$$"
   ]
  },
  {
   "cell_type": "markdown",
   "id": "cd4e20bf",
   "metadata": {},
   "source": [
    "#### <font color='blue'> Exemplo 2 </font>"
   ]
  },
  {
   "cell_type": "markdown",
   "id": "a63d9f9c",
   "metadata": {},
   "source": [
    "<font color='blue'> Aplique a regra do trapézio generalizada para calcular $\\int_{I} sen(x) dx$ usando os pontos $x_{0} = \\frac{\\pi}{3}, x_{1} = \\frac{\\pi}{2}, x_{2} = \\frac{2\\pi}{3}, x_{3} = \\frac{5\\pi}{6}$. Apresente uma estimativa para o erro e compare com o erro exato."
   ]
  },
  {
   "cell_type": "markdown",
   "id": "fac7a1db",
   "metadata": {},
   "source": [
    "##### <font color='blue'> Solução </font>"
   ]
  },
  {
   "cell_type": "markdown",
   "id": "af4c9825",
   "metadata": {},
   "source": [
    "<font color='blue'> Temos que $h = \\frac{\\pi}{2}-\\frac{\\pi}{3} = \\frac{\\pi}{6}$. Assim,<br><br>\n",
    " $$\\int_{\\frac{\\pi}{3}}^{\\frac{5\\pi}{6}} sen(x) dx = \\frac{\\frac{\\pi}{6}}{2} \\left( f\\left(\\frac{\\pi}{3}\\right) + 2f\\left(\\frac{\\pi}{2}\\right) + 2f\\left(\\frac{2\\pi}{3}\\right) + f\\left(\\frac{5\\pi}{6}\\right) \\right) = 1.334673231085705$$<br>\n",
    " Temos que<br><br>\n",
    " $$E_{ext} = |1.366025403784439-1.334673231085705| = 3.135217269873403e-02$$<br>\n",
    " Note que $f(x) = sen(x)$ é tal que $f''(x) = -sen(x)$, donde segue<br><br>\n",
    " $$|f''(x)| \\leq 1, \\,\\,\\, x \\in \\left[\\frac{\\pi}{3},\\frac{5\\pi}{6}\\right].$$<br>\n",
    " Sendo assim, podemos tomar $M = 1$. Portanto,<br><br>\n",
    " $$E_{max} = \\left(\\frac{5\\pi}{6} - \\frac{\\pi}{3}\\right)\\frac{\\left(\\frac{\\pi}{6}\\right)^{2}}{12}\\cdot 1  = 3.588689430590256e-02.$$"
   ]
  },
  {
   "cell_type": "markdown",
   "id": "291da616",
   "metadata": {},
   "source": [
    "#### Observação 1"
   ]
  },
  {
   "cell_type": "markdown",
   "id": "18bf6268",
   "metadata": {},
   "source": [
    "No **Exemplo 2**, dada simplicidade da função envolvida, podemos melhorar um pouco a cota $E_{max}$ (diminuindo-a) escolhendo valores de $M$ em cada subintervalo envolvido. Neste caso, não é difícil ver que\n",
    "\n",
    "$$E'_{max} = \\left|\\frac{f''\\left(\\frac{\\pi}{2}\\right) \\left(\\frac{\\pi}{2} - \\frac{\\pi}{3}\\right)^{3}}{12} \\right| + \\left|\\frac{f''\\left(\\frac{\\pi}{2}\\right) \\left(\\frac{2\\pi}{3} - \\frac{\\pi}{2}\\right)^{3}}{12} \\right| + \\left|\\frac{f''\\left(\\frac{2\\pi}{3}\\right) \\left(\\frac{5\\pi}{6} - \\frac{2\\pi}{3}\\right)^{3}}{12} \\right| = 3.428425024788130e-02.$$\n",
    "\n",
    "Entendeu a escolha de $\\frac{\\pi}{2}$ e $\\frac{2\\pi}{3}$ na determinação de $E'_{max}$? Em caso de dúvida, consulte o professor. Em qualquer caso, tanto\n",
    "$E_{max} = 3.588689430590256e-02$ quanto $E'_{max}$ maiores ou igual que $E_{ext} = 3.135217269873403e-02$."
   ]
  },
  {
   "cell_type": "markdown",
   "id": "3b235698",
   "metadata": {},
   "source": [
    "#### <font color='blue'> Exemplo 3 </font>"
   ]
  },
  {
   "cell_type": "markdown",
   "id": "c62a2f4a",
   "metadata": {},
   "source": [
    "<font color='blue'> Quantos pontos do intervalo $[0,1]$ são necessários para estimarmos a integral<br><br>\n",
    " $$\\int_{0}^{1}e^{-x^{2}}dx$$<br>\n",
    " com erro menor ou igual a $10^{-4}$ usando a regra do trapézio?<br><br>\n",
    " *Dica: $f\"$ é monótona decrescente em $[0,1]$*."
   ]
  },
  {
   "cell_type": "markdown",
   "id": "41309334",
   "metadata": {},
   "source": [
    "##### <font color='blue'> Solução </font>"
   ]
  },
  {
   "cell_type": "markdown",
   "id": "da4e0e1c",
   "metadata": {},
   "source": [
    "<font color='blue'> Devemos ter que $(b-a)\\frac{h^{2}}{12}M \\leq 10^{-4}$. Temos que $f(x) = e^{-x^{2}}$ é tal que $f''(x) = e^{-x^{2}}(4x^{2} - 2)$. Sendo $f$ monótono em $[0,1]$ seus valores máximo e mínimo devem ocorrer em um dos extremos. Neste caso, basta escolhermos o maior valor entre $|f''(0)|$ e $|f''(1)|$ como sendo o valor de $M$. Pois bem,<br><br>\n",
    " $|f''(0)| = e^{-0^{2}}(4\\cdot0^{2}-2) = 1\\cdot 2 = 2$<br><br>\n",
    " $|f''(1)| = e^{-1^{2}}(4\\cdot1^{2}-2) = 1\\cdot 2 = 0.735758882342885$<br><br>\n",
    " Assim, $|f''(x)| \\leq 2$ para todo $x \\in [0,1]$. Continuando,<br><br>\n",
    " $$(b-a)\\frac{h^{2}}{12}M = 10^{-4} \\Rightarrow (1-0)\\frac{h^{2}}{12}\\cdot 2 = 10^{-4} \\Rightarrow h^{2} = 6\\cdot10^{-4} \\Rightarrow h = 2.449489742783178e-02$$<br>\n",
    " Como $n = \\frac{b-a}{h}$, temos<br><br>\n",
    " $$n = \\frac{1-0}{2.449489742783178e-02}= 40.82482904638631 \\approx 41.$$<br>\n",
    " Portanto, precisaremos de uma malha com até $41$ pontos para atingirmos uma estimativa da integral dada com precisão de $10^{-4}$. Obviamente pode ocorrer com menos pontos, mas temos que trabalhar com o que temos."
   ]
  },
  {
   "cell_type": "markdown",
   "id": "2eaadca3",
   "metadata": {},
   "source": [
    "O exemplo a seguir o ajudará a encontrar cotas superiores para funções nos intervalos dados. Nosso objetivo não será achar a melhor cota máxima (a menor) mas uma cota máxima por meio da majoração da função nos intervalos indicados. *Este é um exemplo de grande importância*."
   ]
  },
  {
   "cell_type": "markdown",
   "id": "f7fd5f28",
   "metadata": {},
   "source": [
    "#### <font color='blue'> Exemplo 4 </font>"
   ]
  },
  {
   "cell_type": "markdown",
   "id": "2a6e9081",
   "metadata": {},
   "source": [
    "<font color='blue'> Determine cotas superiores absolutas paras funções a seguir nos intervalos dados:<br><br>\n",
    " a) $f(x) = 10$, $x \\in [0,2]$<br><br>\n",
    " b) $g(x) = \\frac{3}{4-x}$, $x \\in [-1,1]$<br><br>\n",
    " c) $h(x) = xe^{-x}$, $x \\in [0,2]$<br><br>\n",
    " d) $k(x) = x^{2} + sen(x)$, $x \\in [-2,2]$<br><br>\n",
    " e) $s(x) = \\frac{(x^{2} - 2x)sen(x)}{ln(x) + 1}$, $x \\in [0.5,3]$"
   ]
  },
  {
   "cell_type": "markdown",
   "id": "df75fe45",
   "metadata": {},
   "source": [
    "##### <font color='blue'> Solução </font>"
   ]
  },
  {
   "cell_type": "markdown",
   "id": "512f050f",
   "metadata": {},
   "source": [
    "<font color='blue'> a) Note que $f(x) = 10$ é constante. Neste caso, uma cota superior será $M = 10$.<br><br>\n",
    " b) Note que a imagem da função em questão diminui à medida que o denominador aumenta e vice-versa. Após uma rápida observação pode-se notar que o denominador é o menor possível para $x=1$. Neste caso, temos que<br><br>\n",
    " $$|g(x)| \\leq \\frac{3}{4-1} = 1.$$<br>\n",
    " Portanto, uma cota superior será $M = 1$.<br><br>\n",
    " c) Note que temos um produto de funções $h_{1}(x) = x$ e $h_{2}(x) = e^{-x}$. Podemos observar cada uma separadamente:<br><br>\n",
    " $$|h_{1}(x)| = |x| \\leq |2| = 2$$<br>\n",
    " $$|h(2)(x)| = |e^{-x}| \\leq |e^{-0}| = 1$$<br>\n",
    " Sendo assim,<br><br>\n",
    " $$|h(x)| = |xe^{-x}| = |x||e^{-x}| \\leq 2\\cdot1 = 2.$$<br>\n",
    " Portanto, uma cota superior será $M = 2$.<br><br>\n",
    " d) Note que temos uma soma de funções $k_{1}(x) = x^{2}$ e $k_{2}(x) = sen(x)$. Neste caso,\n",
    "$$|k_{1}(x)| = |x^{2}| \\leq |2^{2}| = 4$$<br>\n",
    " $$|k_{2}(x)| = |sen(x)| \\leq |sen\\left(\\frac{\\pi}{2}\\right)| = 1.$$<br>\n",
    " Sendo assim,<br><br>\n",
    " $$|k(x)| = |x^{2} + sen(x)| \\leq |x^{2}| + |sen(x)| \\leq 4 + 1 = 5.$$<br>\n",
    " Portanto, uma cota superior será $M = 5$.<br><br>\n",
    " e) Note que temos tanto produto como divisão de funções. Neste caso, procurar valores que produzam maiores valores absolutos nas funções do numerador e menores valores absolutos nas funções do denominador. Pois bem,<br><br>\n",
    " $$|s_{1}(x)| = |x^{2} - 2x| \\leq |x^{2}| + |2x| \\leq |3^{2}| + |2\\cdot3| \\leq 15$$<br>\n",
    " $$|s_{2}(x)| = |sen(x)| \\leq  sen\\left(\\pi/2\\right) = 1$$<br>\n",
    " $$|s_{3}(x)| = |ln(x) + 1| \\geq |ln(0.5) + 1| = -0.693147180559945 + 1 = 0.306852819440055.$$<br>\n",
    " Sendo assim,<br><br>\n",
    " $$|s(x)| = \\left|\\frac{(x^{2} - 2x)sen(x)}{ln(x) + 1}\\right| \\leq \\frac{1\\cdot15}{0.306852819440055} = 48.88337029906394.$$<br>\n",
    " Portanto, uma cota superior será $M = 48.88337029906394$."
   ]
  },
  {
   "cell_type": "markdown",
   "id": "4281feec",
   "metadata": {},
   "source": [
    "#### Complemento ao Exemplo 4"
   ]
  },
  {
   "cell_type": "markdown",
   "id": "04dfaaee",
   "metadata": {},
   "source": [
    "No **Exemplo 4** item \"c\" convém ressaltar que a igualdade $xe^{-x} = 2$ não necessariamente deva ocorrer para algum valor $x \\in [0,2]$. Aqui buscamos uma cota superior em $[0,2]$ e não necessariamente um máximo neste intervalo. Caso, tal cota seja atingida teremos uma cota máxima ideal ou um máximo desta função em $[0,2]$. Em particular, $|xe^{-x}|<2$ para todo $x \\in [0,2]$ (Esboce o gráfico para ver). O mesmo ocorre no item \"e\", não havendo garantias que a cota encontrada seja o valor máximo no intervalo $[0.5,3]$. Por exemplo, poderíamos obter outras cotas para $s_{1}(x)$. De fato, note que $|x^{2}-2x| \\leq 3$ (resolva a equação). Neste caso, poderíamos repassar $15$, para $3$. Neste caso,\n",
    "\n",
    "$$|s(x)| =  \\left|\\frac{(x^{2} - 2x)sen(x)}{ln(x) + 1}\\right| \\leq \\frac{3 \\cdot 1}{0.306852819440055} = 9.776674059812787.$$\n",
    "\n",
    "Poderíamos ainda recorrer a uma estimativa visual geral do gráfico de $s(x)$ conforme a figura a seguir:<br><br>\n",
    "\n",
    "<center> <img src=\"fig10-3.jpg\" alt=\"jpg_python\" width=\"500\" height=\"\"> </center><br>\n",
    "\n",
    "Uma cota superior ainda melhor poderia ser algo um pouco maior que $1.2$ uma vez que o ponto mais baixo do gráfico de $s$. Ou ainda, notando que $s$ é estritamente crescente, tomemos que o ponto mais alto (e mais baixo) do gráfico de $s$ ocorre em um dos extremos do intervalo $[0.5,3]$. Neste caso, $x = 0.5$. Sendo assim,\n",
    "\n",
    "$$|s(x)| =  \\left|\\frac{(x^{2} - 2x)sen(x)}{ln(x) + 1}\\right| \\leq s(0.5) = 1.171796806720871.$$\n",
    "\n",
    "Neste caso, nossa cota superior, também máximo de $|s|$ (ou mínimo de $s$) seria $M = s(0.5) = 1.171796806720871$. Neste ultimo caso agimos de modo semelhante ao feito na **Observação 2 (Capítulo 4)** onde buscamos uma faixa em com centro na origem na qual o gráfico de $s$ esteja totalmente contido. Volte ao **Exemplo 4** e verifique quais cotas superiores podem ser melhoradas (diminuídas).\n",
    " \n",
    "No **Exemplo 3** podemos tentar obter um valor menor que $41$ (menos pontos $=$ menos cálculos). Neste último caso, usando um software gráfico é possível notar que $f''(x) = e^{-x^{2}}(4x^{2} -2)$ é estritamente crescente em $[0,1]$. Assim, atinge seus valores mais altos nos extremos do intervalo $[0,1]$. Não é difícil ver que\n",
    "\n",
    "$$|f''(x)| = |e^{-x^{2}}(4x^{2} -2)| \\leq e^{-0^{2}}(4\\cdot0^{2} -2) = 2$$\n",
    "\n",
    "o que não diminui o valor $41$, mas nos deixa mais calmos em saber que $2$ é o valor máximo de $|f''(x)|$ e não há mais o que melhorar.\n",
    "\n",
    "Em caso de dúvida, consulte o professor. *Em todos os Exercícios ao final deste capítulo foram usadas as melhores (menores) cotas superiores para estimativas de erro.*"
   ]
  },
  {
   "cell_type": "markdown",
   "id": "253d4eb5",
   "metadata": {},
   "source": [
    "# <div style=\"margin-top: -20px;\">\n",
    "<hr style=\"border: 2px solid black;\">\n",
    "\n",
    "<font color='black'><span style=\"font-size: 22px;\"><strong>10.3 Implementações</strong></span></font>\n",
    "\n",
    "<hr style=\"border: 2px solid black;\">\n",
    "</div>"
   ]
  },
  {
   "cell_type": "markdown",
   "id": "5f913e3c",
   "metadata": {},
   "source": [
    "Apresentaremos a seguir um programa que nos possibilitará calcular a integral aproximada via regra do trapézio."
   ]
  },
  {
   "cell_type": "markdown",
   "id": "126b33f1",
   "metadata": {},
   "source": [
    "#### <font color='darkblue'> Código Python: Regra do Trapézio</font>"
   ]
  },
  {
   "cell_type": "code",
   "execution_count": 7,
   "id": "252fd457",
   "metadata": {
    "ExecuteTime": {
     "end_time": "2024-02-18T22:21:43.006927Z",
     "start_time": "2024-02-18T22:21:43.001124Z"
    }
   },
   "outputs": [],
   "source": [
    "from numpy import*\n",
    "\n",
    "def trapezio(f, a, b, n):\n",
    "\n",
    "        F = lambda x: eval(f)\n",
    "        a = float(a)\n",
    "        b = float(b)\n",
    "        n = int(n)\n",
    "\n",
    "        h = (b - a) / n\n",
    "        x = linspace(a, b, n + 1)\n",
    "\n",
    "        I_trap = (h / 2) * (F(x[0]) + 2 * sum(F(x[1:n])) + F(x[n]))\n",
    "        return print(f'A regra do trapézio, para n = {n}, aplicada a f(x) = {f}, no intervalo [{round(a, 13)},{round(b, 13)}] '\n",
    "                     f'é igula a {I_trap}.')"
   ]
  },
  {
   "cell_type": "code",
   "execution_count": 11,
   "id": "c7e1587e",
   "metadata": {
    "ExecuteTime": {
     "end_time": "2024-02-18T22:23:24.245029Z",
     "start_time": "2024-02-18T22:23:24.240552Z"
    }
   },
   "outputs": [
    {
     "name": "stdout",
     "output_type": "stream",
     "text": [
      "A regra do trapézio, para n = 1, aplicada a f(x) = sin(x), no intervalo [1.0471975511966,2.6179938779915] é igula a 1.0728738432865559.\n"
     ]
    }
   ],
   "source": [
    "trapezio('sin(x)',pi/3,5*(pi/6),1)"
   ]
  },
  {
   "cell_type": "code",
   "execution_count": 10,
   "id": "82dbcbe0",
   "metadata": {
    "ExecuteTime": {
     "end_time": "2024-02-18T22:22:02.020962Z",
     "start_time": "2024-02-18T22:22:02.016523Z"
    }
   },
   "outputs": [
    {
     "name": "stdout",
     "output_type": "stream",
     "text": [
      "A regra do trapézio, para n = 3, aplicada a f(x) = sin(x), no intervalo [1.0471975511966,2.6179938779915] é igula a 1.3346732310857052.\n"
     ]
    }
   ],
   "source": [
    "trapezio('sin(x)',pi/3,5*(pi/6),3)"
   ]
  },
  {
   "cell_type": "markdown",
   "id": "dd3b1db2",
   "metadata": {},
   "source": [
    "# <div style=\"margin-top: -20px;\">\n",
    "<hr style=\"border: 2px solid black;\">\n",
    "\n",
    "<font color='black'><span style=\"font-size: 22px;\"><strong>Exercícios</strong></span></font>\n",
    "\n",
    "<hr style=\"border: 2px solid black;\">\n",
    "</div>"
   ]
  },
  {
   "cell_type": "markdown",
   "id": "c21babcd",
   "metadata": {},
   "source": [
    "#### Execício 1"
   ]
  },
  {
   "cell_type": "markdown",
   "id": "fce52f66",
   "metadata": {},
   "source": [
    "Aproxime as seguintes integrais utilizando a regra do trapézio.\n",
    "\n",
    "a) $\\int_{0.5}^{1} x^{4} dx$, $x_{0} = 0.5$, $x_{1} = 1$;\n",
    "\n",
    "b) $\\int_{0}^{0.5} \\frac{2}{x-4} dx$, $x_{0} = 0$, $x_{1} = 0.5$;\n",
    "\n",
    "c) $\\int_{0}^{1} x^{2}e^{-x} dx$, $x_{0} = 0$, $x_{1} = 1$;\n",
    "\n",
    "d) $\\int_{0}^{\\pi/4} xsen(x) dx$, $x_{0} = 0$, $x_{1} = \\pi/4$."
   ]
  },
  {
   "cell_type": "markdown",
   "id": "38fbe4a1",
   "metadata": {},
   "source": [
    "#### Execício 2"
   ]
  },
  {
   "cell_type": "markdown",
   "id": "114c77e9",
   "metadata": {},
   "source": [
    "Encontre um limitante para o erro no **Exercício 1** e compare-o com o erro exato."
   ]
  },
  {
   "cell_type": "markdown",
   "id": "263426df",
   "metadata": {},
   "source": [
    "#### Execício 3"
   ]
  },
  {
   "cell_type": "markdown",
   "id": "22b623b6",
   "metadata": {},
   "source": [
    "Resolva todo o **Exercício 1** usando $3$ pontos ao invés de $2$. Compare os resultados com o valor exato sempre que possível. Obtenha uma cota superior $E_{max}$."
   ]
  },
  {
   "cell_type": "markdown",
   "id": "a60a350f",
   "metadata": {},
   "source": [
    "#### Execício 4"
   ]
  },
  {
   "cell_type": "markdown",
   "id": "050b1307",
   "metadata": {},
   "source": [
    "Utilize a regra do trapézio nos itens abaixo com os valores de $n$ indicados.\n",
    "\n",
    "a) $\\int_{1}^{2} xln(x) dx$, $n=4$ ($n=4$ significa que são considerados os pontos $x_{0}, \\ldots, x_{4}$);\n",
    "\n",
    "b) $\\int_{-2}^{2}x^{3}e^{-x} dx$, $n=4$;\n",
    "\n",
    "c) $\\int_{0}^{2} \\frac{2}{x^{2}+4}dx$, $n=6$;\n",
    "\n",
    "d) $\\int_{1}^{3} \\frac{x}{x^2 + 4} dx$, $n=8$."
   ]
  },
  {
   "cell_type": "markdown",
   "id": "b455a855",
   "metadata": {},
   "source": [
    "# <div style=\"margin-top: -20px;\">\n",
    "<hr style=\"border: 2px solid black;\">\n",
    "\n",
    "<font color='black'><span style=\"font-size: 22px;\"><strong>Respostas dos Exercícios</strong></span></font>\n",
    "\n",
    "<hr style=\"border: 2px solid black;\">\n",
    "</div>"
   ]
  },
  {
   "cell_type": "markdown",
   "id": "6093dc75",
   "metadata": {},
   "source": [
    "#### Resposta do Exercício 1"
   ]
  },
  {
   "cell_type": "markdown",
   "id": "2be9177f",
   "metadata": {},
   "source": [
    " a) $0.265625$; b) $-0.267857142857143$; c) $0.183939720585721$; d) $0.218089506238715$."
   ]
  },
  {
   "cell_type": "markdown",
   "id": "9c2bdba4",
   "metadata": {},
   "source": [
    "#### Resposta do Exercício 2"
   ]
  },
  {
   "cell_type": "markdown",
   "id": "6bf3cda7",
   "metadata": {},
   "source": [
    "Seguem os erros exatos e as cotas para o erro:\n",
    "\n",
    "a) $-7.187499999999999e-02$ e $0.125000000000000$, b) $7.941428571430209e-04$ e $9.718172983479105e-04$, \n",
    "\n",
    "c) $2.333692644293300e-02$ e $0.166666666666667$, d) $6.634309232196300e-02$ e $8.074551218828077e-02$\n",
    "\n",
    "*Dica: a) $|[x^{4}]''| = |12x^{2}|$ atinge seu valor máximo em $x=1$, b) $\\left|\\left[\\frac{2}{x-4}\\right]''\\right| = \\left| \\frac{4}{(x-4)^{3}} \\right|$ atinge seu valor máximo em $x=0.5$, c) $|[x^{2}e^{-x}]''| = |e^{-x}(x^{2}-4x+2)|$ atinge seu valor máximo em $x=0$, d) $|[xsen(x)]''| = |2cos(x) - xsen(x)|$ atinge seu valor máximo em $x=0$.*"
   ]
  },
  {
   "cell_type": "markdown",
   "id": "ab03a2e5",
   "metadata": {},
   "source": [
    "#### Resposta do Exercício 3"
   ]
  },
  {
   "cell_type": "markdown",
   "id": "ffd4ec01",
   "metadata": {},
   "source": [
    "Usando a estimativa $(b-a)\\frac{h^{2}}{12}M$, com $M$ aproveitado da **Resposta do Exercício 2**, temos:\n",
    "\n",
    "a) $\\int_{0.5}^{1} x^{4} dx \\approx 0.2119140625$, $E_{ext} = 1.816406249999999e-02$, $E_{max} = 3.125000000000000e-02$, \n",
    "\n",
    "b) $\\int_{0}^{0.5} \\frac{2}{x-4} dx \\approx 0.267261904761905$, $E_{ext} = 1.989047619049833e-04$, $E_{max} = 2.429543245869776e-04$\n",
    "\n",
    "c) $\\int_{0}^{1}x^{2}e^{-x} dx \\approx 0.167786192756940$, $E_{ext} = 7.183398614152015e-03$, $E_{max} = 4.166666666666666e-02$\n",
    "\n",
    "d) $\\int_{0}^{\\pi/4} xsen(x)dx \\approx 0.168059348248958$, $E_{ext} = 1.631293433220599e-02$, $E_{max} = 2.018637804707019e-02.$"
   ]
  },
  {
   "cell_type": "markdown",
   "id": "17f772de",
   "metadata": {},
   "source": [
    "#### Resposta do Exercício 4"
   ]
  },
  {
   "cell_type": "markdown",
   "id": "87b37ad4",
   "metadata": {},
   "source": [
    "a) $0.639900477687986$, b) $-31.36528565006375$, c) $0.784240766617816$, d) $0.476976866514718$."
   ]
  },
  {
   "cell_type": "markdown",
   "id": "c8fb0c17",
   "metadata": {},
   "source": [
    "# <div style=\"margin-top: -20px;\">\n",
    "<hr style=\"border: 2px solid black;\">\n",
    "\n",
    "<font color='black'><span style=\"font-size: 22px;\"><strong>Vídeo Aulas</strong></span></font>\n",
    "\n",
    "<hr style=\"border: 2px solid black;\">\n",
    "</div>"
   ]
  },
  {
   "cell_type": "markdown",
   "id": "f54580f2",
   "metadata": {},
   "source": [
    "Clicando nos links a seguir você será redirecionado às aulas referentes a este capítulo:\n",
    "\n",
    "[Regra do Trapézio](https://youtu.be/BgDlqbsqCOk)\n",
    "\n",
    "[Erro na Regra do Trapézio](https://youtu.be/OXIccN5ci6Y)\n",
    "\n",
    "[Regra do Trapézio Generalizada](https://youtu.be/Q50t4neO4-A)\n",
    "\n",
    "[Erro na Regra do Trapézio Generalizada](https://youtu.be/1r3rYVsxuQo)\n",
    "\n",
    "[Exemplo Envolvendo Estimativa de Número de Pontos Usando a Regra do Trapézio](https://youtu.be/OiyPSXRm12Y)\n",
    "\n",
    "[Exemplo Envolvendo Estimativa de Número de Pontos Usando a Regra do Trapézio (Software)](https://youtu.be/tqJydmyyJl4)"
   ]
  }
 ],
 "metadata": {
  "kernelspec": {
   "display_name": "Python 3 (ipykernel)",
   "language": "python",
   "name": "python3"
  },
  "language_info": {
   "codemirror_mode": {
    "name": "ipython",
    "version": 3
   },
   "file_extension": ".py",
   "mimetype": "text/x-python",
   "name": "python",
   "nbconvert_exporter": "python",
   "pygments_lexer": "ipython3",
   "version": "3.11.5"
  },
  "varInspector": {
   "cols": {
    "lenName": 16,
    "lenType": 16,
    "lenVar": 40
   },
   "kernels_config": {
    "python": {
     "delete_cmd_postfix": "",
     "delete_cmd_prefix": "del ",
     "library": "var_list.py",
     "varRefreshCmd": "print(var_dic_list())"
    },
    "r": {
     "delete_cmd_postfix": ") ",
     "delete_cmd_prefix": "rm(",
     "library": "var_list.r",
     "varRefreshCmd": "cat(var_dic_list()) "
    }
   },
   "types_to_exclude": [
    "module",
    "function",
    "builtin_function_or_method",
    "instance",
    "_Feature"
   ],
   "window_display": false
  }
 },
 "nbformat": 4,
 "nbformat_minor": 5
}

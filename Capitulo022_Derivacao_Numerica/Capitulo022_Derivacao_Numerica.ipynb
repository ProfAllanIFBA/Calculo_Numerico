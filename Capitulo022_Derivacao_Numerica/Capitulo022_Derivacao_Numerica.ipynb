{
 "cells": [
  {
   "cell_type": "markdown",
   "id": "3074ccf4",
   "metadata": {
    "slideshow": {
     "slide_type": "slide"
    }
   },
   "source": [
    "<center> <img src=\"logo_ifba.jpg\" alt=\"jpg_python\" width=\"100\" height=\"200\"> </center>\n",
    "<br><br>\n",
    "<div align=\"center\"><span style=\"font-size: 26px;\"><strong>Cálculo Numérico <br></strong></span></div> <br>\n",
    "<center> <img src=\"python_gif.gif\" alt=\"gif_python\" width=\"80\"> </center>"
   ]
  },
  {
   "cell_type": "markdown",
   "id": "c9da88c9",
   "metadata": {},
   "source": [
    "<div style=\"border: 2px solid black; padding: 10px; width: 95%; background-color: lightgray; display: flex; align-items: center;\">\n",
    "    <h1 style=\"color: red; text-align: center; margin: auto;\">\n",
    "        Capítulo 22: Derivação Numérica\n",
    "    </h1>\n",
    "</div>\n",
    "\n",
    "<font color='red'></font>\n",
    "<a href=\"\"></a>\n",
    "\n",
    "*Este é um capítulo extra. Sua cobrança em provas presenciais, em geral, não é obrigatória.*"
   ]
  },
  {
   "cell_type": "markdown",
   "id": "8a7a08f3",
   "metadata": {},
   "source": [
    "# <div style=\"margin-top: -20px;\">\n",
    "<hr style=\"border: 2px solid black;\">\n",
    "\n",
    "<font color='black'><span style=\"font-size: 22px;\"><strong>22.1 Introdução </strong></span></font>\n",
    "\n",
    "<hr style=\"border: 2px solid black;\">\n",
    "</div>"
   ]
  },
  {
   "cell_type": "markdown",
   "id": "2bfbcaed",
   "metadata": {
    "slideshow": {
     "slide_type": "slide"
    }
   },
   "source": [
    "A derivada de uma função $f$ em $x_{0}$ é\n",
    "\n",
    "$$f'(x_{0}) = lim_{h \\rightarrow 0} \\frac{f(x_{0}+h)-f(x)}{h}$$\n",
    "\n",
    "Se considerarmos a fórmula acima sem o limite, temos uma forma óbvia de gerar aproximações para $f'(x_{0})$. Para tanto, supomos $x_{0}$ e $x_{1}$ tais que $x_{0} \\in (a,b)$ em que $f \\in C^{2}[a,b]$ e $x_{1} = x_{0} + h$ para algum $h \\neq 0$ que seja suficientemente pequeno para garantir que $x_{1} \\in [a,b]$.\n",
    "\n",
    "Analisemos o primeiro polinômio de Lagrange $P_{0,1}(x)$ de $f$ determinado por $x_{0}$ e $x_{1}$ juntamente com seu erro:\n",
    "\n",
    "$$f(x) = P_{0,1}(x) + \\frac{(x-x_{0})(x-x_{1})}{2!}f''(\\xi(x)) = $$\n",
    "\n",
    "$$ = f(x_{0})\\frac{x - x_{0} - h}{-h} + f(x_{0}+h)\\frac{x - x_{0}}{h} + \\frac{(x-x_{0})(x-x_{0}-h)}{2}f''(\\xi(x)),$$\n",
    "\n",
    "para algum $\\xi(x)$ em $[a,b]$. A derivação resulta em\n",
    "\n",
    "$$f'(x) = \\frac{f(x_{0}+h)}{h} + \\frac{f(x_{0})}{-h} + \\frac{2(x-x_{0})-h}{2}f''(\\xi(x)) + \\frac{(x-x_{0})(x-x_{0}-h)}{2}D_{x}(f''(\\xi(x)))$$\n",
    "\n",
    "de modo que\n",
    "\n",
    "$$f'(x) \\approx \\frac{f(x_{0}+h) - f(x_{0})}{h}.$$\n",
    "\n",
    "Um problema com a estimativa\n",
    "\n",
    "$$f'(x) \\approx \\frac{f(x_{0}+h) - f(x_{0})}{h}$$\n",
    "\n",
    "é que não temos informação sobre $D_{x}(f''(\\xi(x)))$ e, portanto, o erro de truncamento não pode ser estimado. Contudo, fazendo $x = x_{0}$, temos que\n",
    "\n",
    "$$f'(x_{0}) = \\frac{f(x_{0}+h) - f(x_{0})}{h} - \\frac{|h|}{2}f''(\\xi).$$\n",
    "\n",
    "Tal fórmula é conhecida como **fórmula de diferenças progressivas**. Além disso podemos considerar tanto $h > 0$ como $h < 0$."
   ]
  },
  {
   "cell_type": "markdown",
   "id": "a4e87911",
   "metadata": {},
   "source": [
    "#### <font color='blue'> Exemplo 1 </font>"
   ]
  },
  {
   "cell_type": "markdown",
   "id": "275d07ee",
   "metadata": {
    "slideshow": {
     "slide_type": "slide"
    }
   },
   "source": [
    "<font color='blue'> Seja $f(x) = ln(x)$ e $x_{0} = 1.8$. Apresente as estimativas para para $f'(1.8)$ considerando $h = 0.1, 0.01$ e $0.001$ juntamente com os erros exato e limitante $\\left(\\frac{|h|}{2}M, M_{h} > |f''(\\xi(x))_{h}|\\right)$.\n",
    "</font>"
   ]
  },
  {
   "cell_type": "markdown",
   "id": "b40dd664",
   "metadata": {},
   "source": [
    "##### <font color='blue'> Solução </font>"
   ]
  },
  {
   "cell_type": "markdown",
   "id": "cae00811",
   "metadata": {
    "slideshow": {
     "slide_type": "slide"
    }
   },
   "source": [
    "<font color='blue'> Temos que<br><br>\n",
    " $$ f(x) = ln(x) \\Rightarrow f'(x) = \\frac{1}{x} \\Rightarrow f'(1.8) = \\frac{1}{1.8} = 0.5555555555555556.$$<br>\n",
    " Além disso, temos que $f''(x) = -\\frac{1}{x^{2}}$. Os resultados estão expressos na tabela a seguir:<br><br>\n",
    " $$\\begin{array}{cccccccccc}\n",
    "\\hline\n",
    "h\t    & \t \\frac{f(1.8+h) - f(1.8)}{h}   & e_{max} = \\frac{h}{2}M_{h} & e_{ext} \\\\\n",
    "\\hline           \n",
    "0.1\t        & \t 0.5406722127027574  \t       & 0.0173010380622837     & 0.0148833428527981\\\\\n",
    "0.01\t    & \t 0.5540180375615322  \t       & 0.0015605006085952     & 0.0015375179940234\\\\\n",
    "0.01\t    & \t 0.5554012916999529  \t       & 0.0001544925984141     & 0.0001542638556027\\\\\n",
    "\\hline\n",
    "\\end{array}$$<br>\n",
    " Note que $e_{max}$ e $e_{ext}$ se aproximam à medida que $h$ diminui. Consideramos que $M_{h}$ ocorre em $x_{0}-h$ uma vez que $|f''(x)|$ é monótona decrescente para $x > 0$.\n",
    "</font>"
   ]
  },
  {
   "cell_type": "code",
   "execution_count": 1,
   "id": "a5bdb65e",
   "metadata": {
    "ExecuteTime": {
     "end_time": "2024-05-13T11:30:26.968206Z",
     "start_time": "2024-05-13T11:30:26.836550Z"
    },
    "slideshow": {
     "slide_type": "slide"
    }
   },
   "outputs": [],
   "source": [
    "# Definindo as funções\n",
    "import numpy as np\n",
    "\n",
    "x0,h = 1.8,0.001\n",
    "\n",
    "def f(x):\n",
    "    return np.log(x)\n",
    "\n",
    "def d_1f(x):\n",
    "    return 1/x\n",
    "\n",
    "def d_2f(x):\n",
    "    return -1/x**2"
   ]
  },
  {
   "cell_type": "code",
   "execution_count": 2,
   "id": "3c83cad5",
   "metadata": {
    "ExecuteTime": {
     "end_time": "2024-05-13T11:30:26.991186Z",
     "start_time": "2024-05-13T11:30:26.968206Z"
    },
    "slideshow": {
     "slide_type": "-"
    }
   },
   "outputs": [
    {
     "name": "stdout",
     "output_type": "stream",
     "text": [
      "0.5554012916999529\n",
      "0.0001544925984141\n",
      "0.0001542638556027\n"
     ]
    }
   ],
   "source": [
    "estimativa = (f(x0+h)-f(x0))/h\n",
    "print(estimativa)\n",
    "\n",
    "e_max = (h/2)*abs(d_2f(x0-h)) # x0-h caso h > 0 e x0+h caso h<0 (execute a célula anterior) (f monótona)\n",
    "print(round(e_max,16)) \n",
    "\n",
    "e_ext = abs(d_1f(x0)-estimativa)\n",
    "print(round(e_ext,16))"
   ]
  },
  {
   "cell_type": "markdown",
   "id": "b4d396da",
   "metadata": {},
   "source": [
    "# <div style=\"margin-top: -20px;\">\n",
    "<hr style=\"border: 2px solid black;\">\n",
    "\n",
    "<font color='black'><span style=\"font-size: 22px;\"><strong>22.2 Fórmulas de Três Pontos </strong></span></font>\n",
    "\n",
    "<hr style=\"border: 2px solid black;\">\n",
    "</div>"
   ]
  },
  {
   "cell_type": "markdown",
   "id": "92b13b27",
   "metadata": {
    "slideshow": {
     "slide_type": "slide"
    }
   },
   "source": [
    "Considerando o ponto $x_{0}$ e incremento $h$, temos:\n",
    "\n",
    "$$f'(x_{0}) = \\frac{1}{2h}(-3f(x_{0}) + 4f(x_{0}+h) - f(x_{0}+2h)) + \\frac{h^{2}}{3}f^{(3)}(\\xi_{0})$$\n",
    "\n",
    "em que $\\xi_{0}$ entre $x_{0}$ e $x_{0}+2h$\n",
    "\n",
    "e\n",
    "\n",
    "$$f'(x_{0}) = \\frac{1}{2h}(f(x_{0}+h) - f(x_{0}-h)) - \\frac{h^{2}}{6}f^{(3)}(\\xi_{1})$$\n",
    "\n",
    "em que $\\xi_{1}$ entre $x_{0}-h$ e $x_{0}+h$.<br><br>\n",
    "\n",
    "![](img1.jpg)"
   ]
  },
  {
   "cell_type": "markdown",
   "id": "03ec3111",
   "metadata": {},
   "source": [
    "#### <font color='blue'> Exemplo 2 </font>"
   ]
  },
  {
   "cell_type": "markdown",
   "id": "c53aeaec",
   "metadata": {},
   "source": [
    "<font color='blue'> Considere a função $f(x) = ln(x)$. Use as fórmulas de três pontos determine $f'(1.8)$ considerando $h = 0.1$ e $h = -0.1$. Obtenha cotas para o erro e compare com o valor real.\n",
    "</font>"
   ]
  },
  {
   "cell_type": "markdown",
   "id": "8213f4f2",
   "metadata": {},
   "source": [
    "##### <font color='blue'> Solução </font>"
   ]
  },
  {
   "cell_type": "markdown",
   "id": "7b8c2958",
   "metadata": {
    "slideshow": {
     "slide_type": "slide"
    }
   },
   "source": [
    "<font color='blue'>\n",
    "Solução: Temos que\n",
    "\n",
    "$$ f(x) = ln(x) \\Rightarrow f'(x) = \\frac{1}{x} \\Rightarrow f'(1.8) = \\frac{1}{1.8} = 0.5555555555555556.$$\n",
    "\n",
    "Além disso, temos que $f^{(3)}(x) = \\frac{2}{x^{3}}$. Os resultados estão expressos nas tabelas a seguir:\n",
    "</font>"
   ]
  },
  {
   "cell_type": "markdown",
   "id": "fbd09a9c",
   "metadata": {
    "slideshow": {
     "slide_type": "slide"
    }
   },
   "source": [
    "<font color='blue'> Considerando<br><br>\n",
    " $$f'(x_{0}) = \\frac{1}{2h}(-3f(x_{0}) + 4f(x_{0}+h) - f(x_{0}+2h)) + \\frac{h^{2}}{3}f^{(3)}(\\xi_{0})$$<br>\n",
    " temos<br><br>\n",
    " $$\\begin{array}{cccccccccc}\n",
    "\\hline\n",
    "h\t    & \t \\approx f'(x_{0})   & e_{max} = \\frac{h^{2}}{3}M_{h} & e_{ext} \\\\\n",
    "\\hline\n",
    "0.1\t        & \t 0.5545418471163838  \t       & 0.0013569441617477      & 0.0010137084391718\\\\\n",
    "-0.1\t    & \t 0.5542530985170565  \t       & 0.0013569441617477      & 0.0013024570384991\\\\\n",
    "\\hline\n",
    "\\end{array}$$\n",
    "</font>"
   ]
  },
  {
   "cell_type": "code",
   "execution_count": 3,
   "id": "3c254edc",
   "metadata": {
    "ExecuteTime": {
     "end_time": "2024-05-13T11:30:26.996935Z",
     "start_time": "2024-05-13T11:30:26.992187Z"
    },
    "slideshow": {
     "slide_type": "slide"
    }
   },
   "outputs": [],
   "source": [
    "# Definindo as funções\n",
    "import numpy as np\n",
    "\n",
    "x0,h = 1.8,0.1\n",
    "\n",
    "def f(x):\n",
    "    return np.log(x)\n",
    "\n",
    "def d_1f(x):\n",
    "    return 1/x\n",
    "\n",
    "def d_3f(x):\n",
    "    return 2/x**3"
   ]
  },
  {
   "cell_type": "code",
   "execution_count": 4,
   "id": "86e4c126",
   "metadata": {
    "ExecuteTime": {
     "end_time": "2024-05-13T11:30:27.004753Z",
     "start_time": "2024-05-13T11:30:26.999367Z"
    },
    "slideshow": {
     "slide_type": "-"
    }
   },
   "outputs": [
    {
     "name": "stdout",
     "output_type": "stream",
     "text": [
      "0.5545418471163838\n",
      "0.0013569441617477\n",
      "0.0010137084391718\n"
     ]
    }
   ],
   "source": [
    "estimativa = (-3*f(x0) + 4*f(x0+h)-f(x0+2*h))/(2*h)\n",
    "print(estimativa)\n",
    "\n",
    "e_max = ((h**2)/3)*abs(d_3f(x0-h)) # x0-h caso h > 0 e x0+h caso h<0 (execute a célula anterior) (f monótona)\n",
    "print(round(e_max,16)) \n",
    "\n",
    "e_ext = abs(d_1f(x0)-estimativa)\n",
    "print(round(e_ext,16))"
   ]
  },
  {
   "cell_type": "markdown",
   "id": "00a4d8aa",
   "metadata": {},
   "source": [
    "<font color='blue'> Considerando<br><br>\n",
    " $$f'(x_{0}) = \\frac{1}{2h}(f(x_{0}+h) - f(x_{0}-h)) - \\frac{h^{2}}{6}f^{(3)}(\\xi_{1})$$<br>\n",
    " temos<br><br>\n",
    " $$\\begin{array}{cccccccccc}\n",
    "\\hline\n",
    "h\t    & \t \\approx f'(x_{0})   & e_{max} = \\frac{h^{2}}{6}M_{h} & e_{ext} \\\\\n",
    "\\hline\n",
    "0.1\t        & \t 0.5561281755511222  \t       & 0.0006784720808739     & 0.0005726199955666\\\\\n",
    "-0.1\t    & \t 0.5561281755511222  \t       & 0.0006784720808739     & 0.0005726199955666\\\\\n",
    "\\hline\n",
    "\\end{array}$$<br>\n",
    " Obviamente, os valores são os mesmos uma vez que a fórmula de estimativa é simétrica em relação a $h$.\n",
    "</font>"
   ]
  },
  {
   "cell_type": "code",
   "execution_count": 5,
   "id": "258cdb1a",
   "metadata": {
    "ExecuteTime": {
     "end_time": "2024-05-13T11:30:27.011028Z",
     "start_time": "2024-05-13T11:30:27.006774Z"
    },
    "slideshow": {
     "slide_type": "slide"
    }
   },
   "outputs": [],
   "source": [
    "# Definindo as funções\n",
    "import numpy as np\n",
    "\n",
    "x0,h = 1.8,0.1\n",
    "\n",
    "def f(x):\n",
    "    return np.log(x)\n",
    "\n",
    "def d_1f(x):\n",
    "    return 1/x\n",
    "\n",
    "def d_3f(x):\n",
    "    return 2/x**3"
   ]
  },
  {
   "cell_type": "code",
   "execution_count": 6,
   "id": "29e321f9",
   "metadata": {
    "ExecuteTime": {
     "end_time": "2024-05-13T11:30:27.019137Z",
     "start_time": "2024-05-13T11:30:27.012028Z"
    },
    "slideshow": {
     "slide_type": "fragment"
    }
   },
   "outputs": [
    {
     "name": "stdout",
     "output_type": "stream",
     "text": [
      "0.5561281755511222\n",
      "0.0006784720808739\n",
      "0.0005726199955666\n"
     ]
    }
   ],
   "source": [
    "estimativa = (f(x0+h) - f(x0-h))/(2*h)\n",
    "print(estimativa)\n",
    "\n",
    "e_max = ((h**2)/6)*abs(d_3f(x0-h)) # x0-h caso h > 0 e x0+h caso h<0 (execute a célula anterior) (f monótona)\n",
    "print(round(e_max,16)) \n",
    "\n",
    "e_ext = abs(d_1f(x0)-estimativa)\n",
    "print(round(e_ext,16))"
   ]
  },
  {
   "cell_type": "markdown",
   "id": "e1ccfcf3",
   "metadata": {},
   "source": [
    "# <div style=\"margin-top: -20px;\">\n",
    "<hr style=\"border: 2px solid black;\">\n",
    "\n",
    "<font color='black'><span style=\"font-size: 22px;\"><strong>22.3 Fórmulas de Cinco Pontos </strong></span></font>\n",
    "\n",
    "<hr style=\"border: 2px solid black;\">\n",
    "</div>"
   ]
  },
  {
   "cell_type": "markdown",
   "id": "3e7e7c92",
   "metadata": {
    "slideshow": {
     "slide_type": "slide"
    }
   },
   "source": [
    "Considerando o ponto $x_{0}$ e incremento $h$, temos:\n",
    "\n",
    "$$f'(x_{0}) = \\frac{1}{12h}(f(x_{0}-2h) -8f(x_{0}-h) + 8f(x_{0}+h) - f(x_{0}+2h)) + \\frac{h^{4}}{30}f^{(5)}(\\xi_{0})$$\n",
    "\n",
    "em que $\\xi_{0}$ entre $x_{0}-2h$ e $x_{0}+2h$\n",
    "\n",
    "e\n",
    "\n",
    "$$f'(x_{0}) = \\frac{1}{12h}(-25f(x_{0}) + 48f(x_{0}+h) - 36f(x_{0}+2h) + 16f(x_{0}+3h) - 3f(x_{0} + 4h)) - \\frac{h^{4}}{5}f^{(5)}(\\xi_{1})$$\n",
    "\n",
    "em que $\\xi_{1}$ entre $x_{0}$ e $x_{0}+4h$."
   ]
  },
  {
   "cell_type": "markdown",
   "id": "2d68574c",
   "metadata": {},
   "source": [
    "#### <font color='blue'> Exemplo 3 </font>"
   ]
  },
  {
   "cell_type": "markdown",
   "id": "fc3a4c3a",
   "metadata": {
    "slideshow": {
     "slide_type": "slide"
    }
   },
   "source": [
    "<font color='blue'> Considere a função $f(x) = ln(x)$. Use as fórmulas de três pontos determine $f'(1.8)$ considerando $h = 0.1$. Obtenha cotas para o erro e compare com o valor real.\n",
    "</font>"
   ]
  },
  {
   "cell_type": "markdown",
   "id": "7a1cb4dd",
   "metadata": {},
   "source": [
    "##### <font color='blue'> Solução </font>"
   ]
  },
  {
   "cell_type": "markdown",
   "id": "1571b611",
   "metadata": {
    "slideshow": {
     "slide_type": "slide"
    }
   },
   "source": [
    "<font color='blue'> Temos que<br><br>\n",
    " $$ f(x) = ln(x) \\Rightarrow f'(x) = \\frac{1}{x} \\Rightarrow f'(1.8) = \\frac{1}{1.8} = 0.5555555555555556.$$<br>\n",
    " Além disso, temos que $f^{(5)}(x) = \\frac{24}{x^{5}}$. Os resultados estão expressos nas tabelas a seguir:<br><br>\n",
    " Considerando<br><br>\n",
    " $$f'(x_{0}) = \\frac{1}{12h}(f(x_{0}-2h) -8f(x_{0}-h) + 8f(x_{0}+h) - f(x_{0}+2h)) + \\frac{h^{4}}{30}f^{(5)}(\\xi_{0})$$ $$ $$\n",
    "temos<br><br>\n",
    " $$\\begin{array}{cccccccccc}\n",
    "\\hline\n",
    "h\t    & \t \\approx f'(x_{0})   & e_{max} = \\frac{h^{4}}{30}M_{h} & e_{ext} \\\\\n",
    "\\hline                                                                     0.5555512746396548 \n",
    "0.1\t        & \t 0.5555512746396548  \t       & 0.0000056343702218      & 0.0000042809159008\\\\\n",
    "\\hline\n",
    "\\end{array}$$\n",
    "</font>"
   ]
  },
  {
   "cell_type": "code",
   "execution_count": 7,
   "id": "4b8029d5",
   "metadata": {
    "ExecuteTime": {
     "end_time": "2024-05-13T11:30:27.025376Z",
     "start_time": "2024-05-13T11:30:27.021160Z"
    },
    "slideshow": {
     "slide_type": "slide"
    }
   },
   "outputs": [],
   "source": [
    "# Definindo as funções\n",
    "import numpy as np\n",
    "\n",
    "x0,h = 1.8,0.1\n",
    "\n",
    "def f(x):\n",
    "    return np.log(x)\n",
    "\n",
    "def d_1f(x):\n",
    "    return 1/x\n",
    "\n",
    "def d_5f(x):\n",
    "    return 24/x**5"
   ]
  },
  {
   "cell_type": "code",
   "execution_count": 8,
   "id": "7d6b2389",
   "metadata": {
    "ExecuteTime": {
     "end_time": "2024-05-13T11:30:27.032798Z",
     "start_time": "2024-05-13T11:30:27.026988Z"
    },
    "slideshow": {
     "slide_type": "-"
    }
   },
   "outputs": [
    {
     "name": "stdout",
     "output_type": "stream",
     "text": [
      "0.5555512746396548\n",
      "5.6343702218e-06\n",
      "4.2809159008e-06\n"
     ]
    }
   ],
   "source": [
    "estimativa = (f(x0-2*h) -8*f(x0-h) + 8*f(x0+h) - f(x0+2*h))/(12*h)\n",
    "print(estimativa)\n",
    "\n",
    "e_max = ((h**4)/30)*abs(d_5f(x0-h)) # x0-h caso h > 0 e x0+h caso h<0 (execute a célula anterior) (f monótona)\n",
    "print(round(e_max,16)) \n",
    "\n",
    "e_ext = abs(d_1f(x0)-estimativa)\n",
    "print(round(e_ext,16))"
   ]
  },
  {
   "cell_type": "markdown",
   "id": "e26fd628",
   "metadata": {},
   "source": [
    "<font color='blue'> Considerando<br><br>\n",
    " $$f'(x_{0}) = \\frac{1}{12h}(-25f(x_{0}) + 48f(x_{0}+h) - 36f(x_{0}+2h) + 16f(x_{0}+3h) - 3f(x_{0} + 4h)) - \\frac{h^{4}}{5}f^{(5)}(\\xi_{1})$$<br>\n",
    " temos<br><br>\n",
    " $$\\begin{array}{cccccccccc}\n",
    "\\hline\n",
    "h\t    & \t \\approx f'(x_{0})   & e_{max} = \\frac{h^{4}}{5}M_{h} & e_{ext} \\\\\n",
    "\\hline                                                                     \n",
    "0.1\t        & \t 0.5555390401176418  \t       & 0.0000338062213307      & 0.0000165154379138 \\\\\n",
    "\\hline\n",
    "\\end{array}$$\n",
    "</font>"
   ]
  },
  {
   "cell_type": "code",
   "execution_count": 9,
   "id": "6c17859f",
   "metadata": {
    "ExecuteTime": {
     "end_time": "2024-05-13T11:30:27.039902Z",
     "start_time": "2024-05-13T11:30:27.034808Z"
    },
    "slideshow": {
     "slide_type": "slide"
    }
   },
   "outputs": [],
   "source": [
    "# Definindo as funções\n",
    "import numpy as np\n",
    "\n",
    "x0,h = 1.8,0.1\n",
    "\n",
    "def f(x):\n",
    "    return np.log(x)\n",
    "\n",
    "def d_1f(x):\n",
    "    return 1/x\n",
    "\n",
    "def d_5f(x):\n",
    "    return 24/x**5"
   ]
  },
  {
   "cell_type": "code",
   "execution_count": 10,
   "id": "beba5a4a",
   "metadata": {
    "ExecuteTime": {
     "end_time": "2024-05-13T11:30:27.047605Z",
     "start_time": "2024-05-13T11:30:27.039902Z"
    },
    "scrolled": true,
    "slideshow": {
     "slide_type": "-"
    }
   },
   "outputs": [
    {
     "name": "stdout",
     "output_type": "stream",
     "text": [
      "0.5555390401176418\n",
      "3.38062213307e-05\n",
      "1.65154379138e-05\n"
     ]
    }
   ],
   "source": [
    "estimativa = (-25*f(x0) + 48*f(x0+h) - 36*f(x0+2*h) + 16*f(x0+3*h) -3*f(x0+4*h))/(12*h)\n",
    "print(estimativa)\n",
    "\n",
    "e_max = ((h**4)/5)*abs(d_5f(x0-h)) # x0-h caso h > 0 e x0+h caso h<0 (execute a célula anterior) (f monótona)\n",
    "print(round(e_max,16)) \n",
    "\n",
    "e_ext = abs(d_1f(x0)-estimativa)\n",
    "print(round(e_ext,16))"
   ]
  },
  {
   "cell_type": "markdown",
   "id": "76adcc0d",
   "metadata": {
    "slideshow": {
     "slide_type": "slide"
    }
   },
   "source": [
    "# <div style=\"margin-top: -20px;\">\n",
    "<hr style=\"border: 2px solid black;\">\n",
    "\n",
    "<font color='black'><span style=\"font-size: 22px;\"><strong>22.4 Limitações da Máquina </strong></span></font>\n",
    "\n",
    "<hr style=\"border: 2px solid black;\">\n",
    "</div>"
   ]
  },
  {
   "cell_type": "markdown",
   "id": "4c3255b1",
   "metadata": {
    "slideshow": {
     "slide_type": "slide"
    }
   },
   "source": [
    "Considere a diminuição sucessiva de $h$, digamos para $h = 10^{-1}, 10^{-2}, 10^{-3}, \\ldots$ com relação à estimativa de $f'(1.8)$ em que $f(x) = ln(x)$. Os resultados estão expressos na tabela a seguir:\n",
    "\n",
    "$$\\begin{array}{cccccccccc}\n",
    "\\hline\n",
    "h\t    & \t \\approx f'(x_{0})          & e_{ext} \\\\\n",
    "\\hline                                            \n",
    "10^{-1}\t        & 0.5561281755511222\t   \t& 0.0005726199955666 \\\\\n",
    "10^{-2}\t        & 0.5555612712535352\t   \t& 0.0000057156979796 \\\\\n",
    "10^{-3}\t        & 0.5555556127114225\t   \t& 0.0000000571558669 \\\\\n",
    "10^{-4}\t        & 0.5555555561270742\t   \t& 0.0000000005715186 \\\\\n",
    "\\hline\n",
    "10^{-5}\t        & 0.5555555555647462\t   \t& 0.0000000000091906 \\\\\n",
    "\\hline\n",
    "10^{-6}\t        & 0.5555555555036839\t   \t& 0.0000000000518717 \\\\\n",
    "10^{-7}\t        & 0.5555555560032842\t   \t& 0.0000000004477286 \\\\\n",
    "\\vdots\t        & \t\\vdots   \t& \\vdots \\\\\n",
    "10^{-15}\t    & 0.6106226635438361\t   \t& 0.0550671079882805 \\\\\n",
    "10^{-16}\t    & 0.0000000000000000\t   \t& 0.5555555555555556 \\\\\n",
    "10^{-17}\t    & 0.0000000000000000\t   \t& 0.5555555555555556 \\\\\n",
    "\\vdots\t        & \t\\vdots   \t& \\vdots \\\\\n",
    "\\hline\n",
    "\\end{array}$$\n",
    "\n",
    "Note que a melhor aproximação da derivada se deu para $h = 10^{-5}$ ao passo que começou a divergir a partir deste valor.\n",
    "\n",
    "$$\\begin{array}{cccccccccc}\n",
    "\\hline\n",
    "h\t    & \t \\approx f'(x_{0})          & e_{ext} \\\\\n",
    "\\hline\n",
    "\\vdots\t        & \t\\vdots   \t& \\vdots \\\\\n",
    "10^{-4}\t        & 0.5555555561270742\t   \t& 0.0000000005715186 \\\\\n",
    "\\hline\n",
    "10^{-5}\t        & 0.5555555555647462\t   \t& 0.0000000000091906 \\\\\n",
    "\\hline\n",
    "10^{-6}\t        & 0.5555555555036839\t   \t& 0.0000000000518717 \\\\\n",
    "\\vdots\t        & \t\\vdots   \t& \\vdots \\\\\n",
    "\\hline\n",
    "\\end{array}$$\n",
    "\n",
    "A razão de a diminuição de $h$ não necessariamente produzir uma aproximação de $f'(x_{0})$ cada vez melhor pode ser explicada pela necessidade de dividir por uma potência de $h$. A divisão por números pequenos tende a piorar os erros de arredondamento e essa opação deve ser evitada se possível. No caso da derivada numérica, é impossível evitar tal problema inteiramente, embora métodos de ordem superior reduzem esse impasse. Teste outros exemplos e outras das formas de aproximação apresentadas."
   ]
  },
  {
   "cell_type": "code",
   "execution_count": 11,
   "id": "01bd6580",
   "metadata": {
    "ExecuteTime": {
     "end_time": "2024-05-13T11:30:27.054771Z",
     "start_time": "2024-05-13T11:30:27.049246Z"
    }
   },
   "outputs": [],
   "source": [
    "# Definindo as funções\n",
    "import numpy as np\n",
    "\n",
    "def f(x):\n",
    "    return np.log(x)\n",
    "\n",
    "def d_1f(x):\n",
    "    return 1/x"
   ]
  },
  {
   "cell_type": "code",
   "execution_count": 12,
   "id": "11c9993b",
   "metadata": {
    "ExecuteTime": {
     "end_time": "2024-05-13T11:30:27.063126Z",
     "start_time": "2024-05-13T11:30:27.054771Z"
    }
   },
   "outputs": [
    {
     "name": "stdout",
     "output_type": "stream",
     "text": [
      "h = 0.1, f'(x0) = 0.5561281755511222,e_ext = 0.0005726199955666\n",
      "h = 0.01, f'(x0) = 0.5555612712535352,e_ext = 5.7156979796e-06\n",
      "h = 0.001, f'(x0) = 0.5555556127114225,e_ext = 5.71558669e-08\n",
      "h = 0.0001, f'(x0) = 0.5555555561270742,e_ext = 5.715186e-10\n",
      "h = 1e-05, f'(x0) = 0.5555555555647462,e_ext = 9.1906e-12\n",
      "h = 1.0000000000000002e-06, f'(x0) = 0.5555555555036839,e_ext = 5.18717e-11\n",
      "h = 1.0000000000000002e-07, f'(x0) = 0.5555555560032842,e_ext = 4.477286e-10\n",
      "h = 1.0000000000000002e-08, f'(x0) = 0.5555555515623921,e_ext = 3.9931635e-09\n",
      "h = 1.0000000000000003e-09, f'(x0) = 0.5555556015224282,e_ext = 4.59668726e-08\n",
      "h = 1.0000000000000003e-10, f'(x0) = 0.5555556015224282,e_ext = 4.59668726e-08\n",
      "h = 1.0000000000000003e-11, f'(x0) = 0.5555556015224282,e_ext = 4.59668726e-08\n",
      "h = 1.0000000000000002e-12, f'(x0) = 0.5556111126736595,e_ext = 5.55571181039e-05\n",
      "h = 1.0000000000000002e-13, f'(x0) = 0.5551115123125782,e_ext = 0.0004440432429774\n",
      "h = 1.0000000000000002e-14, f'(x0) = 0.5551115123125782,e_ext = 0.0004440432429774\n",
      "h = 1e-15, f'(x0) = 0.6106226635438361,e_ext = 0.0550671079882805\n",
      "h = 1.0000000000000001e-16, f'(x0) = 0.0,e_ext = 0.5555555555555556\n",
      "h = 1e-17, f'(x0) = 0.0,e_ext = 0.5555555555555556\n",
      "h = 1e-18, f'(x0) = 0.0,e_ext = 0.5555555555555556\n",
      "h = 1.0000000000000001e-19, f'(x0) = 0.0,e_ext = 0.5555555555555556\n"
     ]
    }
   ],
   "source": [
    "x0,h = 1.8,0.1\n",
    "for k in range(1,20):\n",
    "    estimativa = (f(x0+h) - f(x0-h))/(2*h)\n",
    "    e_ext = round(abs(d_1f(x0)-estimativa),16)\n",
    "    print(f\"h = {h}, f'(x0) = {estimativa},e_ext = {e_ext}\")\n",
    "    h = h/10"
   ]
  }
 ],
 "metadata": {
  "kernelspec": {
   "display_name": "Python 3 (ipykernel)",
   "language": "python",
   "name": "python3"
  },
  "language_info": {
   "codemirror_mode": {
    "name": "ipython",
    "version": 3
   },
   "file_extension": ".py",
   "mimetype": "text/x-python",
   "name": "python",
   "nbconvert_exporter": "python",
   "pygments_lexer": "ipython3",
   "version": "3.11.5"
  }
 },
 "nbformat": 4,
 "nbformat_minor": 5
}

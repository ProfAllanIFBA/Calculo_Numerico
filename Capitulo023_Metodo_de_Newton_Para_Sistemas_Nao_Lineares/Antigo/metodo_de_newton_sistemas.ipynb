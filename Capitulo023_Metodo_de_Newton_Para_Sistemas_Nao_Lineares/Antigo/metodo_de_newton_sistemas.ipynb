{
 "cells": [
  {
   "cell_type": "markdown",
   "id": "26eba7ba",
   "metadata": {
    "slideshow": {
     "slide_type": "slide"
    }
   },
   "source": [
    "# Método de Newton Para Sistemas"
   ]
  },
  {
   "cell_type": "markdown",
   "id": "b4ff86f8",
   "metadata": {
    "slideshow": {
     "slide_type": "slide"
    }
   },
   "source": [
    "A seguir apresentaremos uma abordagem sucinta sobre o **Método de Newton Para Sistemas Não-Lineares**. Informações mais detalhadas podem ser obtidas em $[1]$."
   ]
  },
  {
   "cell_type": "markdown",
   "id": "f833ef00",
   "metadata": {
    "slideshow": {
     "slide_type": "slide"
    }
   },
   "source": [
    "Em linhas gerais o método de Newton estabelecia uma equação recursiva da forma $$ $$\n",
    "\n",
    "$$x_{n+1} = x_{n} - \\frac{f(x_{n})}{f'(x_{n})},$$\n",
    "\n",
    "sob certas condições, convergiria para um zero $p$ de $f$ em um intervalo $(a,b)$ contendo $p$. Obviamente, a exigência da continuidade das funções $f(x)$ e $f'(x)$ fica evidentemente necessária. Além disso busca-se aplicar o método em um valor $x_{0}$ tal que $f'(x_{0}) \\neq 0$ (ou até mesmo obter $(a,b)$ contendo $p$ tal que $f'(x) \\neq 0$ para todo $x \\in (a,b)$)."
   ]
  },
  {
   "cell_type": "markdown",
   "id": "562bd1dd",
   "metadata": {
    "slideshow": {
     "slide_type": "slide"
    }
   },
   "source": [
    "Existe uma versão mais geral do método de Newton que pode ser aplicada a um sistema de equações não lineares $m \\times m$:\n",
    "\n",
    "$$\\left\\{ \\begin{array}{ccc}\n",
    "f_{1}(x_{1},x_{2},\\ldots,x_{m})\t& = & 0  \\\\\n",
    "f_{2}(x_{1},x_{2},\\ldots,x_{m})\t& = & 0  \\\\\n",
    "\\vdots & \\vdots & \\vdots \\\\\n",
    "f_{n}(x_{1},x_{2},\\ldots,x_{m})\t& = & 0  \\\\\n",
    "\\end{array} \\right.$$\n"
   ]
  },
  {
   "cell_type": "markdown",
   "id": "1ff3bc90",
   "metadata": {
    "slideshow": {
     "slide_type": "slide"
    }
   },
   "source": [
    "De modo bem direto, podemos pensar a expressão $x_{n+1} = x_{n} - \\frac{f(x_{n})}{f'(x_{n})}$ na forma matricial, isto é: $$ $$\n",
    "\n",
    "$$[x_{n+1}] = [x_{n}] - [f'(x_{n})]^{-1}[f(x)],$$\n",
    "\n",
    "em que $[x_{n+1}]$ e $[x_{n}]$ são matrizes coluna $m \\times 1$, $[f'(x_{n})]^{-1}$ é uma matriz quadrada $m \\times m$ correspondente à matriz jacobiana de das funções $f_{1},f_{2},\\ldots,f_{m}$ com relação as variáveis $x_{1},x_{2},\\ldots,x_{m}$ e $[f(x)]$ é uma matriz $m \\times 1$ correspondente às funções $f_{1},f_{2},\\ldots,f_{m}$. "
   ]
  },
  {
   "cell_type": "markdown",
   "id": "94e84c20",
   "metadata": {
    "slideshow": {
     "slide_type": "slide"
    }
   },
   "source": [
    "Em uma linguagem mais apropriada, temos\n",
    "$$x^{(n+1)} = x^{(n)} - J_{F}^{-1}(x^{(n)})F(x^{(n)}), \\,\\, k\\geq 0.$$"
   ]
  },
  {
   "cell_type": "markdown",
   "id": "b5f73352",
   "metadata": {
    "slideshow": {
     "slide_type": "fragment"
    }
   },
   "source": [
    "Sob certa condições, a convergência da sequência $x^{(n)}$ é assegurada, isto é, quanto $n \\rightarrow \\infty$ temos que $x^{(n)} \\rightarrow \\overline{p}$, em que $\\overline{p} = (p_{1},p_{2},\\ldots,p_{m})$ tal que $f_{i}(p_{1},p_{2},\\ldots,p_{m})\t= 0$ para todo $i = 1,2,\\ldots,m$."
   ]
  },
  {
   "cell_type": "markdown",
   "id": "82ff245f",
   "metadata": {
    "slideshow": {
     "slide_type": "slide"
    }
   },
   "source": [
    "Vejamos a seguir exemplos para sistemas $2 \\times 2$ e $3 \\times 3$ juntamente com sua interpretação geomética."
   ]
  },
  {
   "cell_type": "markdown",
   "id": "72a7278d",
   "metadata": {
    "slideshow": {
     "slide_type": "slide"
    }
   },
   "source": [
    "## Sistemas 2x2"
   ]
  },
  {
   "cell_type": "markdown",
   "id": "5ef9e100",
   "metadata": {
    "slideshow": {
     "slide_type": "slide"
    }
   },
   "source": [
    "### <font color='blue'> Exemplo: </font>\n",
    "<font color='blue'> Considere o problema de se obter a intersecção da circunferência $x^{2} + y^{2} = 9$ e elipse $\\frac{x^{2}}{4} +\\frac{y^{2}}{25} = 1$. A seguir temos um esboço gráfico para nos basear na escolha da $x^{(0)}$.\n",
    "![](fig1.jpg)"
   ]
  },
  {
   "cell_type": "markdown",
   "id": "86a03ebb",
   "metadata": {
    "slideshow": {
     "slide_type": "slide"
    }
   },
   "source": [
    "<font color='blue'> Solução: Um ponto de partida conveniente parece ser o ponto $x^{(0)} = (2,2)^{T}$ por aparentemente estar próximo de a intersecção destacada. Contudo devemos organizar as equações na forma $f_{1}(x,y) = 0$ e $f_{2}(x,y) = 0$. Pois bem, $f_{1}(x,y) = x^{2} + y^{2} - 9$ e $f_{2}(x,y) = \\frac{x^{2}}{4} + \\frac{y^{2}}{25} - 1$."
   ]
  },
  {
   "cell_type": "code",
   "execution_count": 1,
   "id": "e2faeb65",
   "metadata": {
    "slideshow": {
     "slide_type": "slide"
    }
   },
   "outputs": [],
   "source": [
    "import matplotlib.pyplot as plt\n",
    "import numpy as np\n",
    "\n",
    "def plotar_elipse(a, b):\n",
    "    theta = np.linspace(0, 2 * np.pi, 100)\n",
    "    x = a * np.cos(theta)\n",
    "    y = b * np.sin(theta)\n",
    "    plt.plot(x, y, label='Elipse')\n",
    "\n",
    "def plotar_circunferencia(raio, centro_x, centro_y):\n",
    "    theta = np.linspace(0, 2 * np.pi, 100)\n",
    "    x = raio * np.cos(theta) + centro_x\n",
    "    y = raio * np.sin(theta) + centro_y\n",
    "    plt.plot(x, y, label='Circunferência')\n",
    "\n",
    "# Parâmetros da elipse e da circunferência\n",
    "a = 2  # Semi-eixo maior da elipse\n",
    "b = 5  # Semi-eixo menor da elipse\n",
    "raio = 3  # Raio da circunferência\n",
    "centro_x = 0  # Coordenada x do centro da circunferência\n",
    "centro_y = 0  # Coordenada y do centro da circunferência"
   ]
  },
  {
   "cell_type": "code",
   "execution_count": 2,
   "id": "8a4b4e12",
   "metadata": {
    "slideshow": {
     "slide_type": "slide"
    }
   },
   "outputs": [
    {
     "data": {
      "image/png": "[encoded data removed]",
      "text/plain": [
       "<Figure size 432x432 with 1 Axes>"
      ]
     },
     "metadata": {
      "needs_background": "light"
     },
     "output_type": "display_data"
    },
    {
     "data": {
      "text/plain": [
       "(<matplotlib.legend.Legend at 0x2b189897490>, None)"
      ]
     },
     "execution_count": 2,
     "metadata": {},
     "output_type": "execute_result"
    }
   ],
   "source": [
    "# Plotando a elipse e a circunferência\n",
    "plt.figure(figsize=(6, 6)), plotar_elipse(a, b), plotar_circunferencia(raio, centro_x, centro_y)\n",
    "\n",
    "# Configurações do gráfico\n",
    "plt.grid(True), plt.axis('equal')\n",
    "plt.xlim(-max(a, raio) - abs(centro_x), max(a, raio) + abs(centro_x))  # Ajustar limite do eixo x\n",
    "plt.ylim(-max(b, raio) - abs(centro_y), max(b, raio) + abs(centro_y))  # Ajustar limite do eixo y\n",
    "plt.legend(), plt.show()\n"
   ]
  },
  {
   "cell_type": "markdown",
   "id": "f756c8e2",
   "metadata": {
    "slideshow": {
     "slide_type": "slide"
    }
   },
   "source": [
    "Considerem que queiramos obter a intersecção das curvas "
   ]
  },
  {
   "cell_type": "code",
   "execution_count": null,
   "id": "232b3eba",
   "metadata": {
    "slideshow": {
     "slide_type": "slide"
    }
   },
   "outputs": [],
   "source": [
    "import numpy as np\n",
    "\n",
    "def NG(x, y, tol, N, f, Jf):\n",
    "    def itr(x, y, f, Jf):\n",
    "        F = np.array(eval(f))  # Avalia a função\n",
    "        invJF = np.linalg.inv(np.array(eval(Jf)))  # Avalia a matriz jacobiana\n",
    "        return F, invJF\n",
    "\n",
    "    delta = float('inf')\n",
    "\n",
    "    for k in range(N):\n",
    "        I0 = np.array([x, y])\n",
    "        F, invJF = itr(I0[0], I0[1], f, Jf)\n",
    "        I1 = I0 - np.dot(invJF, F)\n",
    "        delta = np.max(np.abs(I1 - I0))\n",
    "        print(f'n={k+1}, {I1}, {round(delta,8)}')\n",
    "        x, y = I1\n",
    "        if delta <= tol:\n",
    "            break\n",
    "\n",
    "    print(f'A solução é {np.array([x, y])} com erro {round(delta,8)}.')\n"
   ]
  },
  {
   "cell_type": "code",
   "execution_count": null,
   "id": "cf749b3c",
   "metadata": {},
   "outputs": [],
   "source": [
    "NG(2, 2,0.000000001, 10,'[x**2+y**2-9,(x**2)/4 + (y**2)/25 - 1]','[[2*x,2*y],[x/2,2*y/25]]')"
   ]
  },
  {
   "cell_type": "code",
   "execution_count": null,
   "id": "154d3947",
   "metadata": {},
   "outputs": [],
   "source": [
    "NG(-1, 1,0.01, 10,\n",
    "   '[x**2 + x*y + 2*y**2-3, x + np.exp(y) - 2]',\n",
    "   '[[2*x+y,x + 4*y], [1, np.exp(y)]]')"
   ]
  },
  {
   "cell_type": "code",
   "execution_count": null,
   "id": "9b4abaa2",
   "metadata": {},
   "outputs": [],
   "source": [
    "import numpy as np\n",
    "\n",
    "def NG(x, y,z, tol, N, f, Jf):\n",
    "    def itr(x, y, z, f, Jf):\n",
    "        F = np.array(eval(f))  # Avalia a função\n",
    "        invJF = np.linalg.inv(np.array(eval(Jf)))  # Avalia a matriz jacobiana\n",
    "        return F, invJF\n",
    "\n",
    "    delta = float('inf')\n",
    "\n",
    "    for k in range(N):\n",
    "        I0 = np.array([x, y, z])\n",
    "        print(I0)\n",
    "        F, invJF = itr(I0[0], I0[1], I0[2], f, Jf)\n",
    "        I1 = I0 - np.dot(invJF, F)\n",
    "        print(I1)\n",
    "        delta = np.max(np.abs(I1 - I0))\n",
    "        print(f'n={k+1}, {I1}, {delta}')\n",
    "        x, y, z = I1\n",
    "        if delta <= tol:\n",
    "            break\n",
    "\n",
    "    print(f'A solução é {np.array([x, y,z])} com erro {delta}.')"
   ]
  },
  {
   "cell_type": "code",
   "execution_count": null,
   "id": "3a6eded4",
   "metadata": {},
   "outputs": [],
   "source": [
    "NG(0.1,0.1,-0.1,0.00001, 10,\n",
    "   '[3*x-np.cos(y*z)-0.5,\\\n",
    "     x**2-81*(y+0.1)**2 + np.sin(z) + 1.06,\\\n",
    "     np.exp(-x*y)+20*z+(10*np.pi-3)/3]',\n",
    "   \n",
    "   '[[3,z*np.sin(y*z),y*np.sin(y*z)],\\\n",
    "     [2*x,-162*(y+0.1),np.cos(z)],\\\n",
    "     [-y*np.exp(-x*y),-x*np.exp(-x*y),20]]')"
   ]
  },
  {
   "cell_type": "markdown",
   "id": "05d241bb",
   "metadata": {},
   "source": [
    "## Referências\n",
    "\n",
    "[1] BURDEN, R.L; FAIRES, J. D. Análise Numérica. 8. ed. São Paulo: CENGAGE Learning, 2008.\n"
   ]
  }
 ],
 "metadata": {
  "celltoolbar": "Slideshow",
  "kernelspec": {
   "display_name": "Python 3 (ipykernel)",
   "language": "python",
   "name": "python3"
  },
  "language_info": {
   "codemirror_mode": {
    "name": "ipython",
    "version": 3
   },
   "file_extension": ".py",
   "mimetype": "text/x-python",
   "name": "python",
   "nbconvert_exporter": "python",
   "pygments_lexer": "ipython3",
   "version": "3.9.7"
  }
 },
 "nbformat": 4,
 "nbformat_minor": 5
}

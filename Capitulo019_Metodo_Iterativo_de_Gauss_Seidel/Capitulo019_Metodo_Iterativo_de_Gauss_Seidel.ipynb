{
 "cells": [
  {
   "cell_type": "markdown",
   "id": "d4ea28a8",
   "metadata": {
    "slideshow": {
     "slide_type": "slide"
    }
   },
   "source": [
    "<center> <img src=\"logo_ifba.jpg\" alt=\"jpg_python\" width=\"100\" height=\"200\"> </center>\n",
    "<br><br>\n",
    "<div align=\"center\"><span style=\"font-size: 26px;\"><strong>Cálculo Numérico <br></strong></span></div> <br>\n",
    "<center> <img src=\"python_gif.gif\" alt=\"gif_python\" width=\"80\"> </center>\n"
   ]
  },
  {
   "cell_type": "markdown",
   "id": "d76184a7",
   "metadata": {
    "slideshow": {
     "slide_type": "slide"
    }
   },
   "source": [
    "<div style=\"border: 2px solid black; padding: 10px; width: 95%; background-color: lightgray; display: flex; align-items: center;\">\n",
    "    <h1 style=\"color: red; text-align: center; margin: auto;\">\n",
    "        Capítulo 18: Método Iterativo de Gauss-Seidel\n",
    "    </h1>\n",
    "</div>\n",
    "\n",
    "<font color='red'></font>\n",
    "<a href=\"\"></a>"
   ]
  },
  {
   "cell_type": "markdown",
   "id": "868bf4da",
   "metadata": {},
   "source": [
    "O método de Gauss-Seidel surge a partir de uma simples modificação no método de Jacobi visto no capítulo anterior. Neste último tínhamos que a $i$-ésima coordenada de uma $k$-ésima iteração era da por\n",
    "\n",
    "$$x_{i}^{k} = \\frac{b_{i}}{a_{ii}} - \\frac{1}{a_{ii}} \\sum_{j=1, j \\neq i}^{n} a_{ij}x_{j}^{k-1}.$$\n",
    "\n",
    "Note que uma dada aproximação $x^{k}$ depende exclusivamente dos elementos (coordenadas) da aproximação anterior ($k-1$). No método de Gauss-Seidel, isto muda! Neste, usaremos tanto coordenadas da aproximação anterior como coordenadas da aproximação atual à medida que são obtidas.  Em particular, para um sistema $3 \\times 3$, temos:\n",
    "\n",
    "$$\\begin{array}{c}\n",
    "\t(L_{1}) \\\\\n",
    "\t(L_{2}) \\\\\n",
    "\t(L_{3}) \\\\\n",
    "\\end{array}\n",
    "\\left\\{ \\begin{array}{ccccccc}\n",
    "\ta_{11}x_{1}  &+& a_{12}x_{2} &+& a_{13}x_{3}  &=& b_{1} \\\\\n",
    "\ta_{21}x_{1}  &+& a_{22}x_{2} &+& a_{23}x_{3}  &=& b_{2} \\\\\n",
    "\ta_{31}x_{1}  &+& a_{32}x_{2} &+& a_{33}x_{3}  &=& b_{3} \\\\\n",
    "\\end{array}\\right. \\Rightarrow\n",
    "\\begin{array}{ccccccc}\n",
    "\tx_{1}^{k}  &=& \\frac{b_{1}}{a_{11}} &-& \\frac{a_{12}}{a_{11}}x_{2}^{k-1} &-& \\frac{a_{13}}{a_{11}}x_{3}^{k-1} \\\\\n",
    "\tx_{2}^{k}  &=& \\frac{b_{2}}{a_{22}} &-& \\frac{a_{21}}{a_{22}}x_{1}^{k}  &-& \\frac{a_{23}}{a_{22}}x_{3}^{k-1} \\\\\n",
    "\tx_{3}^{k}  &=& \\frac{b_{3}}{a_{33}} &-& \\frac{a_{31}}{a_{33}}x_{1}^{k}  &-& \\frac{a_{32}}{a_{33}}x_{2}^{k} \\\\\n",
    "\\end{array}.$$\n",
    "\n",
    "Note que, em $L_{2}$, usamos o valor $x_{1}^{k}$ atual ao invés de $x_{1}^{k-1}$ como ocorria no método de Jacobi. De forma semelhante, em $L_{3}$, usamos os valores atuais $x_{1}^{k}$ e $x_{2}^{k}$ ao invés de $x_{1}^{k-1}$ e $x_{2}^{k-1}$.\n",
    "\n",
    "De modo geral,\n",
    "\n",
    "<font color='red'>$$x_{i}^{k} = \\frac{b_{i}}{a_{ii}} - \\frac{1}{a_{ii}} (\\sum_{j=1(i\\neq1)}^{i-1} a_{ij}x_{j}^{k} + \\sum_{j=i+1}^{n} a_{ij}x_{j}^{k-1})$$"
   ]
  },
  {
   "cell_type": "markdown",
   "id": "40f7c9be",
   "metadata": {},
   "source": [
    "#### <font color='blue'> Exemplo 1 </font>"
   ]
  },
  {
   "cell_type": "markdown",
   "id": "1a2a5240",
   "metadata": {},
   "source": [
    "<font color='blue'> Resolva, por meio do método de Gauss-Seidel, os sistemas a seguir considerando $\\delta = 0.2$:<br><br>\n",
    " a) $\\left\\{ \\begin{array}{ccccc}\n",
    "2x_{1}  &-&  x_{2} &=& 1  \\\\\n",
    " x_{1}  &+&  2x_{2} &=& 3 \\\\\n",
    "\\end{array}\\right., \\ \\ x^{0} = [0,0]^{T}$<br><br>\n",
    " b) $\\left\\{ \\begin{array}{ccccccc}\n",
    "3x_{1}  &+&  x_{2} &-& x_{3}  &=& 3  \\\\\n",
    " x_{1}  &+&  4x_{2} &+& x_{3}  &=& 6 \\\\\n",
    "2x_{1}  &-& x_{2}  &+& 6x_{3} &=& 7 \\\\\n",
    "\\end{array}\\right., \\ \\ x^{0} = [0.5,0.5,0]^{T}$"
   ]
  },
  {
   "cell_type": "markdown",
   "id": "8d43c277",
   "metadata": {},
   "source": [
    "##### <font color='blue'> Solução </font>"
   ]
  },
  {
   "cell_type": "markdown",
   "id": "a6385abb",
   "metadata": {},
   "source": [
    "<font color='blue'> Solução: a) Temos que a função de iteração de Gauss-Seidel é dada por:<br><br>\n",
    " $$\\phi(x_{1},x_{2}) = \\left\\{ \\begin{array}{ccccc}\n",
    "x_{1}^{k} &=& \\frac{1}{2} &+& \\frac{1}{2}x_{2}^{k-1}  \\\\\n",
    "x_{2}^{k} &=& \\frac{5}{2} &-& \\frac{1}{2}x_{2}^{k}    \\\\\n",
    "\\end{array},\\right.$$<br>\n",
    " Assim,<br><br>\n",
    " $$x^{1} = \\phi(x^{0}) = \n",
    "\\left[\\begin{array}{c}\n",
    "\t0.500000000000000 \\\\\n",
    "\t1.250000000000000 \\\\\n",
    "\\end{array}\\right],\n",
    "||x^{1} - x^{0}|| = 1.250000000000000 > \\delta;$$<br>\n",
    " $$x^{2} = \\phi(x^{1}) = \n",
    "\\left[\\begin{array}{c}\n",
    "\t1.125000000000000 \\\\\n",
    "\t0.937500000000000 \\\\\n",
    "\\end{array}\\right],\n",
    "||x^{2} - x^{1}|| = 0.625000000000000 > \\delta;$$<br>\n",
    " $$x^{3} = \\phi(x^{2}) = \n",
    "\\left[\\begin{array}{c}\n",
    "\t0.968750000000000 \\\\\n",
    "\t1.015625000000000 \\\\\n",
    "\\end{array}\\right],\n",
    "||x^{2} - x^{1}|| = 0.156250000000000 < \\delta;$$<br>\n",
    " Logo, a solução procurada é $x^{3} = [0.968750000000000,1.015625000000000]^{T}$.<br><br>\n",
    " b) Temos que a função de iteração de Gauss-Seidel é dada por:<br><br>\n",
    " $$\\phi(x_{1},x_{2},x_{3}) = \\left\\{ \\begin{array}{ccccccc}\n",
    "x_{1}^{k} &=& 1 &-& \\frac{1}{3}x_{2}^{k-1} &+& \\frac{1}{3}x_{3}^{k-1} \\\\\n",
    "x_{2}^{k} &=& \\frac{3}{2} &-& \\frac{1}{4}x_{1}^{k} &-& \\frac{1}{4}x_{3}^{k-1} \\\\\n",
    "x_{3}^{k} &=& \\frac{7}{6} &-& \\frac{1}{3}x_{1}^{k} &+& \\frac{1}{6}x_{2}^{k} \\\\\n",
    "\\end{array},\\right.$$<br>\n",
    " Assim,<br><br>\n",
    " $$x^{1} = \\phi(x^{0}) = \n",
    "\\left[\\begin{array}{c}\n",
    "0.833333333333333 \\\\\n",
    "1.291666666666667 \\\\\n",
    "1.104166666666667 \\\\\n",
    "\\end{array}\\right],\n",
    "||x^{1} - x^{0}|| = 1.104166666666667 > \\delta;$$<br>\n",
    " $$x^{2} = \\phi(x^{1}) = \n",
    "\\left[\\begin{array}{c}\n",
    "0.937500000000000 \\\\\n",
    "0.989583333333333 \\\\\n",
    "1.019097222222222 \\\\\n",
    "\\end{array}\\right],\n",
    "||x^{2} - x^{1}|| = 0.302083333333333 > \\delta;$$<br>\n",
    " $$x^{3} = \\phi(x^{2}) = \n",
    "\\left[\\begin{array}{c}\n",
    "1.009837962962963 \\\\\n",
    "0.992766203703704 \\\\\n",
    "0.995515046296296\\\\\n",
    "\\end{array}\\right],\n",
    "||x^{3} - x^{2}|| = 7.233796296296302e-02 < \\delta;$$<br>\n",
    " Logo, a solução procurada é $x^{3} = [1.009837962962963,0.992766203703704,0.995515046296296]^{T}$."
   ]
  },
  {
   "cell_type": "markdown",
   "id": "101b90e9",
   "metadata": {},
   "source": [
    "# <div style=\"margin-top: -20px;\">\n",
    "<hr style=\"border: 2px solid black;\">\n",
    "\n",
    "<font color='black'><span style=\"font-size: 22px;\"><strong>Implementações</strong></span></font>\n",
    "\n",
    "<hr style=\"border: 2px solid black;\">\n",
    "</div>"
   ]
  },
  {
   "cell_type": "markdown",
   "id": "5c4759a3",
   "metadata": {},
   "source": [
    "#### <font color='darkblue'> Código Python: Método de Jacobi</font>"
   ]
  },
  {
   "cell_type": "code",
   "execution_count": 17,
   "id": "df6f2e42",
   "metadata": {
    "ExecuteTime": {
     "end_time": "2024-04-29T11:41:59.080720Z",
     "start_time": "2024-04-29T11:41:59.073566Z"
    }
   },
   "outputs": [],
   "source": [
    "import numpy as np\n",
    "\n",
    "def gauss_seidel(A, B, x0, tol, N):\n",
    "\n",
    "        A = np.matrix(A, dtype=float)\n",
    "        B = np.matrix(B, dtype=float)\n",
    "        x0 = np.ravel(np.matrix(x0))\n",
    "        tol = float(tol)\n",
    "        N = int(N)\n",
    "\n",
    "        n = len(A)\n",
    "        x = np.copy(x0+1/np.inf)\n",
    "\n",
    "        it = 0\n",
    "        print('As iterações e o erro, via método de Gauss-Seidel, são dados a seguir:')\n",
    "        print('i           erro                             iterações')\n",
    "        while (it < N):\n",
    "            it = it + 1\n",
    "            for i in np.arange(n):\n",
    "                x[i] = B[i]\n",
    "                for j in np.concatenate((np.arange(0, i), np.arange(i + 1, n))):\n",
    "                    x[i] -= A[i, j] * x[j]\n",
    "                x[i] /= A[i, i]\n",
    "\n",
    "            print('%d     %0.13f            %0.1000s^T' % (it, np.linalg.norm(x - x0, np.inf), x))\n",
    "\n",
    "            if (it == N):\n",
    "                print('O número de iterações foi execido.')\n",
    "                print('')\n",
    "                break\n",
    "\n",
    "            if (np.linalg.norm(x - x0, np.inf) < tol):\n",
    "                print(f'A solução do sistema é: x{it} = {x}.')\n",
    "                print('')\n",
    "                break\n",
    "                \n",
    "            x0 = np.copy(x)\n"
   ]
  },
  {
   "cell_type": "code",
   "execution_count": 19,
   "id": "63c711b9",
   "metadata": {
    "ExecuteTime": {
     "end_time": "2024-04-29T11:42:09.818179Z",
     "start_time": "2024-04-29T11:42:09.810508Z"
    }
   },
   "outputs": [
    {
     "name": "stdout",
     "output_type": "stream",
     "text": [
      "As iterações e o erro, via método de Gauss-Seidel, são dados a seguir:\n",
      "i           erro                             iterações\n",
      "1     1.1041666666667            [0.83333333 1.29166667 1.10416667]^T\n",
      "2     0.3020833333333            [0.9375     0.98958333 1.01909722]^T\n",
      "3     0.0723379629630            [1.00983796 0.9927662  0.99551505]^T\n",
      "A solução do sistema é: x3 = [1.00983796 0.9927662  0.99551505].\n",
      "\n"
     ]
    }
   ],
   "source": [
    "A = [[3,1,-1],\n",
    "     [1,4,1],\n",
    "     [2,-1,6]]\n",
    "B = [[3],\n",
    "     [6],\n",
    "     [7]]\n",
    "x0 = [[0.5],[0.5],[0]]\n",
    "delta = 0.2\n",
    "N = 10\n",
    "gauss_seidel(A,B,x0,delta,N)"
   ]
  },
  {
   "cell_type": "markdown",
   "id": "935f8cd2",
   "metadata": {},
   "source": [
    "# <div style=\"margin-top: -20px;\">\n",
    "<hr style=\"border: 2px solid black;\">\n",
    "\n",
    "<font color='black'><span style=\"font-size: 22px;\"><strong>Exercícios</strong></span></font>\n",
    "\n",
    "<hr style=\"border: 2px solid black;\">\n",
    "</div>"
   ]
  },
  {
   "cell_type": "markdown",
   "id": "2f79fb71",
   "metadata": {},
   "source": [
    "#### Exercício 1"
   ]
  },
  {
   "cell_type": "markdown",
   "id": "7664f9b4",
   "metadata": {},
   "source": [
    "Utilize o método de Gauss-Seidel aos intens a), b) e c) do **Exercício 1** do **Capítulo 18**."
   ]
  },
  {
   "cell_type": "markdown",
   "id": "8284ffd3",
   "metadata": {},
   "source": [
    "#### Exercício 2"
   ]
  },
  {
   "cell_type": "markdown",
   "id": "2aaa77d6",
   "metadata": {},
   "source": [
    "Dado o sistema\n",
    "\n",
    "$$\\left\\{ \\begin{array}{ccccccc}\n",
    "5x_{1} &-& 2x_{2}   &-& x_{3}  &=&  -2\\\\\n",
    "x_{1}  &+& 8x_{2}   &+& x_{3}  &=&  20\\\\\n",
    "x_{1}  &-&  x_{2}   &+&4x_{3}  &=&  11\\\\\n",
    "\\end{array},\\right.$$\n",
    "\n",
    "i) determine a solução exata\n",
    "\n",
    "ii) calcule 5 iterações para os métodos de Jacobi e Gauss-Seidel e compare os resultados com a solução real. Considere $x^{0} = [0,0,0]^{T}$."
   ]
  },
  {
   "cell_type": "markdown",
   "id": "50d2d60e",
   "metadata": {},
   "source": [
    "# <div style=\"margin-top: -20px;\">\n",
    "<hr style=\"border: 2px solid black;\">\n",
    "\n",
    "<font color='black'><span style=\"font-size: 22px;\"><strong>Respostas dos Exercícios</strong></span></font>\n",
    "\n",
    "<hr style=\"border: 2px solid black;\">\n",
    "</div>"
   ]
  },
  {
   "cell_type": "markdown",
   "id": "05353962",
   "metadata": {},
   "source": [
    "#### Resposta do Exercício 1"
   ]
  },
  {
   "cell_type": "markdown",
   "id": "9582a025",
   "metadata": {},
   "source": [
    "a) $x^{4} = [0.486280000000000; 0.590996250000000]^{T}$; \n",
    "\n",
    "b) $x^{3} = [1.017361111111111, 2.995370370370370, 1.993441358024691]^{T}$; \n",
    "\n",
    "c) $x^{4} = [1.007818419825073, 1.003334964285714, 0.995768344606414,1.003923338979592]^{T}$."
   ]
  },
  {
   "cell_type": "markdown",
   "id": "659769a5",
   "metadata": {},
   "source": [
    "#### Resposta do Exercício 2"
   ]
  },
  {
   "cell_type": "markdown",
   "id": "c2c26d96",
   "metadata": {},
   "source": [
    "i) Gauss $[1,2,3]^{T}$; \n",
    "\n",
    "ii) Jacobi $[0.977640625000000, 2.011542968750000, 3.001123046875000]^{T}$,\n",
    "\n",
    "Gauss-Seidel $[0.997533608398438, 2.000823402099609, 3.000822448425293]^{T}$. \n",
    "\n",
    "Erros: $e_{J} =6.502929687500014e-02$, $e_{G-S} = 1.484412597656248e-02$."
   ]
  },
  {
   "cell_type": "markdown",
   "id": "c8fb0c17",
   "metadata": {},
   "source": [
    "# <div style=\"margin-top: -20px;\">\n",
    "<hr style=\"border: 2px solid black;\">\n",
    "\n",
    "<font color='black'><span style=\"font-size: 22px;\"><strong>Vídeo Aulas</strong></span></font>\n",
    "\n",
    "<hr style=\"border: 2px solid black;\">\n",
    "</div>"
   ]
  },
  {
   "cell_type": "markdown",
   "id": "f54580f2",
   "metadata": {},
   "source": [
    "Clicando nos links a seguir você será redirecionado às aulas referentes a este capítulo:\n",
    "\n",
    "[Aula 19.1: Método Iterativo de Gauss-Seidel](https://youtu.be/Pn_utdtAsrQ)\n",
    "\n",
    "[Aula 19.2: Exemplo Envolvendo o Método de Gauss-Seidel (3 x 3)](https://youtu.be/ksx-7S-mi20)"
   ]
  }
 ],
 "metadata": {
  "kernelspec": {
   "display_name": "Python 3 (ipykernel)",
   "language": "python",
   "name": "python3"
  },
  "language_info": {
   "codemirror_mode": {
    "name": "ipython",
    "version": 3
   },
   "file_extension": ".py",
   "mimetype": "text/x-python",
   "name": "python",
   "nbconvert_exporter": "python",
   "pygments_lexer": "ipython3",
   "version": "3.11.5"
  },
  "varInspector": {
   "cols": {
    "lenName": 16,
    "lenType": 16,
    "lenVar": 40
   },
   "kernels_config": {
    "python": {
     "delete_cmd_postfix": "",
     "delete_cmd_prefix": "del ",
     "library": "var_list.py",
     "varRefreshCmd": "print(var_dic_list())"
    },
    "r": {
     "delete_cmd_postfix": ") ",
     "delete_cmd_prefix": "rm(",
     "library": "var_list.r",
     "varRefreshCmd": "cat(var_dic_list()) "
    }
   },
   "types_to_exclude": [
    "module",
    "function",
    "builtin_function_or_method",
    "instance",
    "_Feature"
   ],
   "window_display": false
  }
 },
 "nbformat": 4,
 "nbformat_minor": 5
}

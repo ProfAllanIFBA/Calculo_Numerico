{
 "cells": [
  {
   "cell_type": "markdown",
   "id": "d4ea28a8",
   "metadata": {
    "slideshow": {
     "slide_type": "slide"
    }
   },
   "source": [
    "<center> <img src=\"logo_ifba.jpg\" alt=\"jpg_python\" width=\"100\" height=\"200\"> </center>\n",
    "<br><br>\n",
    "<div align=\"center\"><span style=\"font-size: 26px;\"><strong>Cálculo Numérico <br></strong></span></div> <br>\n",
    "<center> <img src=\"python_gif.gif\" alt=\"gif_python\" width=\"80\"> </center>\n"
   ]
  },
  {
   "cell_type": "markdown",
   "id": "d76184a7",
   "metadata": {
    "slideshow": {
     "slide_type": "slide"
    }
   },
   "source": [
    "<div style=\"border: 2px solid black; padding: 10px; width: 95%; background-color: lightgray; display: flex; align-items: center;\">\n",
    "    <h1 style=\"color: red; text-align: center; margin: auto;\">\n",
    "        Capítulo 13: Método de Euler\n",
    "    </h1>\n",
    "</div>\n",
    "\n",
    "<font color='red'></font>\n",
    "<a href=\"\"></a>"
   ]
  },
  {
   "cell_type": "markdown",
   "id": "a724288e",
   "metadata": {},
   "source": [
    "# <div style=\"margin-top: -20px;\">\n",
    "<hr style=\"border: 2px solid black;\">\n",
    "\n",
    "<font color='black'><span style=\"font-size: 22px;\"><strong>13.1 Problema de Valor Inicial</strong></span></font>\n",
    "\n",
    "<hr style=\"border: 2px solid black;\">\n",
    "</div>"
   ]
  },
  {
   "cell_type": "markdown",
   "id": "00d2e73a",
   "metadata": {},
   "source": [
    "As equações diferenciais são usadas para modelar inúmeras situações nas mais diversas áreas da ciência. A maioria destes problemas requer a solução de um **problema de valor inicial (PVI)**, isto é, a solução de uma equação diferencial sujeita a uma condição inicial.\n",
    "\n",
    "Listaremos a seguir algumas definições e resultados da teoria das equações diferenciais ordinárias antes de considerar métodos de aproximação da soluções para um problema de valor inicial."
   ]
  },
  {
   "cell_type": "markdown",
   "id": "ad1e8644",
   "metadata": {},
   "source": [
    "#### <font color='red'> Definição 1 </font>"
   ]
  },
  {
   "cell_type": "markdown",
   "id": "3eea76a8",
   "metadata": {},
   "source": [
    "<font color='red'> Uma função $f(t,y)$ satisfaz uma condição de Lipschitz na variável $y$ em um conjunto $D \\subset \\mathbb{R}^{2}$ se existir uma constante $L > 0$ tal que<br><br>\n",
    " $$|f(t,y_{1}) - f(t,y_{2})| \\leq L|y_{1}-y_{2}|,$$<br>\n",
    " sempre que $(t, y_{1}), (t,y_{2}) \\in D$. A constante $L$ é chamada de constante de Lipschitz para $f$."
   ]
  },
  {
   "cell_type": "markdown",
   "id": "b9537ad4",
   "metadata": {},
   "source": [
    "#### <font color='blue'> Exemplo 1 </font>"
   ]
  },
  {
   "cell_type": "markdown",
   "id": "3263d30a",
   "metadata": {},
   "source": [
    "<font color='blue'> Considere a função $f(t,y) = t|y|$ sobre o domínio $D = \\{(t,y)| 1 \\leq t \\leq 2, -3 \\leq y \\leq 4\\}$. Verifique se $f$ satisfaz uma condição de Lipschitz em $D$."
   ]
  },
  {
   "cell_type": "markdown",
   "id": "d4fd8691",
   "metadata": {},
   "source": [
    "##### <font color='blue'> Solução </font>"
   ]
  },
  {
   "cell_type": "markdown",
   "id": "2c85f35d",
   "metadata": {},
   "source": [
    "<font color='blue'> Note que, para cada par de pontos $(t,y_{1})$ e $(t,y_{2})$ em $D$, temos<br><br>\n",
    " $$|f(t,y_{1}) - f(t,y_{2})| = |t|y_{1}| - t|y_{2}|| = |t|||y_{1}| - |y_{2}|| \\leq 2|y_{1}-y_{2}|.$$<br>\n",
    " Assim, $f$ satisfaz a condição de Lipschitz em $D$ na variável $y$ com $L=2$."
   ]
  },
  {
   "cell_type": "markdown",
   "id": "7051c3c8",
   "metadata": {},
   "source": [
    "#### <font color='purple'> Revisando 1 </font>"
   ]
  },
  {
   "cell_type": "markdown",
   "id": "d95c5928",
   "metadata": {},
   "source": [
    "<font color='purple'> Um conjunto $D \\subset \\mathbb{R}^{2}$ é dito convexo se, sempre que $(t_{1},y_{1})$ e $(t_{2},y_{2})$ pertencerem a $D$, então $((1-\\lambda)t_{1} + \\lambda t_{2},(1-\\lambda)y_{1} + \\lambda y_{2})$ também pertencer a $D$ para todo $\\lambda \\in [0,1]$. Um objeto que não é convexo é dito côncavo. Acompanhe na figura a seguir uma forma convexa e uma forma côncava.<br><br>\n",
    " <center> <img src=\"fig13-1.jpg\" alt=\"jpg_python\" width=\"400\" height=\"\"> </center>\n"
   ]
  },
  {
   "cell_type": "markdown",
   "id": "ed44d58c",
   "metadata": {},
   "source": [
    "#### <font color='red'> Teorema 1</font>"
   ]
  },
  {
   "cell_type": "markdown",
   "id": "73d2143e",
   "metadata": {},
   "source": [
    "<font color='red'> Suponha que $f(t,y)$ seja definido em um conjunto convexo $D \\subset \\mathbb{R}^{2}$. Se existir uma constante $L > 0$ tal que<br><br>\n",
    " $$\\left|\\frac{\\partial f}{\\partial y}(t,y)\\right| \\leq L,$$<br>\n",
    " para todo $(t,y) \\in D$, então $f$ satisfaz uma condição de Lipschitz em $D$ na variável $y$ como constante de Lipschitz $L$."
   ]
  },
  {
   "cell_type": "markdown",
   "id": "a5c06c50",
   "metadata": {},
   "source": [
    "##### <font color='red'> Demonstração</font>"
   ]
  },
  {
   "cell_type": "markdown",
   "id": "2eb99ab7",
   "metadata": {},
   "source": [
    "<font color='red'> Para detalhes sobre a demonstração consulte $[1]$, pg. 286."
   ]
  },
  {
   "cell_type": "markdown",
   "id": "e9ca4e84",
   "metadata": {},
   "source": [
    "#### <font color='red'> Teorema 2</font>"
   ]
  },
  {
   "cell_type": "markdown",
   "id": "609894cf",
   "metadata": {},
   "source": [
    "<font color='red'> Suponha que $D = \\{(t,y)| a \\leq t \\leq c, -\\infty \\leq y \\leq + \\infty\\}$ e que $f(t,y)$ seja contínua em $D$. Se $f$ satisfizer a uma condição de Lipschitz em $D$ na variável $y$, então o problema de valor inicial<br><br>\n",
    " $$y' = f(t,y), \\ \\ \\  a \\leq t \\leq b, \\ \\ \\  y(a) = \\alpha,$$<br>\n",
    " tem uma única solução $y(t)$ para $a \\leq t \\leq b$."
   ]
  },
  {
   "cell_type": "markdown",
   "id": "0aa96139",
   "metadata": {},
   "source": [
    "#### <font color='blue'> Exemplo 2 </font>"
   ]
  },
  {
   "cell_type": "markdown",
   "id": "00488800",
   "metadata": {},
   "source": [
    "<font color='blue'> Seja $D = \\{(t,y)| 0 \\leq t \\leq 0.4, -\\infty \\leq y \\leq \\infty\\}$ e considere o problema de valor inicial<br><br>\n",
    " $$\\frac{dy}{dt} = y - t^{2} + 1, \\ \\ \\ 0 \\leq t \\leq 0.4, \\ \\ \\ y(0) = 0,5.$$<br>\n",
    " Verifique se o $PVI$ dado satisfaz a condição de Lipschitz."
   ]
  },
  {
   "cell_type": "markdown",
   "id": "a941509e",
   "metadata": {},
   "source": [
    "##### <font color='blue'> Solução</font>"
   ]
  },
  {
   "cell_type": "markdown",
   "id": "43bdcca1",
   "metadata": {},
   "source": [
    "<font color='blue'> Note que $\\left|\\frac{\\partial (y-t^{2}+1)}{\\partial y}\\right| = |1| = 1$. Decorre do **Teorema 1** que $f(t,y) = y-t^{2}+1$ satisfaz uma condição de Lipschitz em $y \\in D$, com $L=1$."
   ]
  },
  {
   "cell_type": "markdown",
   "id": "7c6e0b05",
   "metadata": {},
   "source": [
    "# <div style=\"margin-top: -20px;\">\n",
    "<hr style=\"border: 2px solid black;\">\n",
    "\n",
    "<font color='black'><span style=\"font-size: 22px;\"><strong>13.2 Método de Euler</strong></span></font>\n",
    "\n",
    "<hr style=\"border: 2px solid black;\">\n",
    "</div>"
   ]
  },
  {
   "cell_type": "markdown",
   "id": "fb386ab0",
   "metadata": {},
   "source": [
    "Agora veremos nosso primeiro método numérico para aproximarmos a solução de um PVI. De modo geral, os métodos numéricos que serão apresentados, de agora em diante, produzem aproximações passo a passo de tal sorte que será possível obtermos uma poligonal que aproxima a solução do nosso PVI."
   ]
  },
  {
   "cell_type": "markdown",
   "id": "71c8a2a6",
   "metadata": {},
   "source": [
    "#### Dedução do Método de Euler"
   ]
  },
  {
   "cell_type": "markdown",
   "id": "b996eeb0",
   "metadata": {},
   "source": [
    "O objetivo do método de Euler é obter uma aproximação para a solução do problema de valor inicial\n",
    "\n",
    "$$ y' = f(t,y), \\ \\ \\ a \\leq t \\leq b, \\ \\ \\ y(a) = \\alpha. \\tag{1}$$\n",
    "\n",
    "O método não produzirá uma solução no contínuo, mas sim aproximações de $y$ serão geradas em vários valores, chamados pontos de malha, no intervalo $[a,b]$.\n",
    "\t\n",
    "Dado um inteiro $N$ consideremos a malha\n",
    "\n",
    "$$t_{i} = a + ih, \\ \\ \\ i=0,1,2,\\ldots, N,$$\n",
    "\n",
    "em que $h = (b-a)/N = t_{i+1}-t_{i}$ é o tamanho do passo. Consideremos além disso a fórmula de Taylor e que a solução $y(t)$ seja única com $y'$ e $y''$ contínuas em $[a,b]$. Assim, para cada $i=0,1,2,\\ldots,N-1,$\n",
    "\n",
    "$$y(t_{i+1}) = y(t_{i}) + (t_{i+1}-t_{i})y'(t_{i}) + \\frac{(t_{i+1}-t_{i})}{2}y''(\\xi_{i}),$$\n",
    "\n",
    "para algum número $\\xi_{i} \\in (t_{i},t_{i+1})$. Como $h = t_{i+1} - t_{i}$, temos\n",
    "\n",
    "$$ y(t_{i+1}) = y(t_{i}) + hy'(t_{i}) + \\frac{h^{2}}{2}y''(\\xi_{i}). \\tag{2}$$\n",
    "\n",
    "Decorre das equações ($1$) e ($2$) que:\n",
    "\n",
    "$$ y(t_{i+1}) = y(t_{i}) + hf(t_{i},y(t_{i})) + \\frac{h^{2}}{2}y''(\\xi_{i}). \\tag{3}$$\n",
    "\n",
    "Ignorando-se o erro em ($3$) temos que $\\omega_{i} \\approx y(t_{i})$ em que $i=1,2,\\ldots,N$ donde segue o método de Euler:\n",
    "\n",
    "<font color='red'> $\\omega_{0} = \\alpha,$<br><br>\n",
    " $\\omega_{i+1} = \\omega_{i} + hf(t_{i},\\omega_{i}), \\ \\ \\ i=0,1,2,\\ldots,N-1$"
   ]
  },
  {
   "cell_type": "markdown",
   "id": "80995e41",
   "metadata": {},
   "source": [
    "#### <font color='blue'> Exemplo 3 </font>"
   ]
  },
  {
   "cell_type": "markdown",
   "id": "bb7fc22b",
   "metadata": {},
   "source": [
    "<font color='blue'> Aplique o método de Euler para fornecer uma aproximação para a solução do problema de valor inicial<br><br>\n",
    " $$y' = y-t^{2}+1 \\ \\ \\ 0 \\leq t \\leq 0.4, \\ \\ \\ y(0) = 0.5,$$<br>\n",
    " com $N=2$. Compare os resultados em cada passo com a solução exata $y(t) = (t+1)^{2} - 0.5e^{t}$."
   ]
  },
  {
   "cell_type": "markdown",
   "id": "9456ae61",
   "metadata": {},
   "source": [
    "##### <font color='blue'> Solução </font>"
   ]
  },
  {
   "cell_type": "markdown",
   "id": "9d1bc925",
   "metadata": {},
   "source": [
    "<font color='blue'> Temos que,<br><br>\n",
    " $$h=\\frac{b-a}{N} = \\frac{0.4-0}{2} = 0.2, \\ \\ \\ t_{i} = a + ih = 0 + i\\cdot 0.2 = 0.2i \\ \\ \\ e \\ \\ \\ \\omega_{0} = \\alpha = y(0) = 0.5.$$<br>\n",
    " Assim, montamos a seguinte equação recursiva<br><br>\n",
    " $$\\omega_{i+1} = \\omega_{i} + h(\\omega_{i}-t^{2} + 1) = \\omega_{i} + 0.2(\\omega_{i}-0.04i^{2} + 1) = 1.2\\omega_{i} - 0.008i^{2} + 0.2,$$<br>\n",
    " para $i=0,1$.<br><br>\n",
    " Considerando a solução exata $y(t) = (t+1)^{2} - 0,5e^{t}$ montamos a tabela a seguir:<br><br>\n",
    " $$\\begin{array}{cccc}\n",
    "t_{i}  & \\omega_{i}    & y_{i} = y(t_{i})  \t& |y_{i} - \\omega_{i}|\\\\\n",
    "0.0    & 0.500000000000000     & 0.500000000000000       \t& 0.000000000000000\\\\\n",
    "0.2    & 0.800000000000000     & 0.829298620919915       \t& 2.929862091991497e-02\\\\\n",
    "0.4    & 1.152000000000000     & 1.214087651179365      \t& 6.208765117936510e-02\\\\\n",
    "\\end{array}$$"
   ]
  },
  {
   "cell_type": "markdown",
   "id": "c0153c2a",
   "metadata": {},
   "source": [
    "#### Limitante Para o Erro"
   ]
  },
  {
   "cell_type": "markdown",
   "id": "9d9ffa5f",
   "metadata": {},
   "source": [
    "Um limitante para o erro, é dado pelo **Teorema 3**."
   ]
  },
  {
   "cell_type": "markdown",
   "id": "c3690d2f",
   "metadata": {},
   "source": [
    "#### <font color='red'> Teorema 3</font>"
   ]
  },
  {
   "cell_type": "markdown",
   "id": "e4217c47",
   "metadata": {},
   "source": [
    "<font color='red'> Suponha que $f$ seja contínua e satisfaça uma condição de Lipschitz com constante $L$ em $D = \\{(t,y)|a \\leq t \\leq b, -\\infty < y < \\infty\\}$ e que exista uma constante $M$ com $|y''(t)| \\leq M$, para todo $t \\in [a,b]$. Denote por $y(t)$ a única solução do problema de valor inicial<br><br>\n",
    " $$y'(t) = f(t,y), \\ \\ \\ a \\leq t \\leq b, \\ \\ \\ y(a) = \\alpha$$<br>\n",
    " e sejam $\\omega_{0},\\omega_{1}, \\ldots, \\omega_{N}$ as aproximações geradas pelo método de Euler para algum número inteiro positivo $N$. Então, para cada $i=1,\\ldots,N$,<br>\n",
    " $$|y(t_{i})-\\omega_{i}| \\leq \\frac{hM}{2L}\\left(e^{L(t_{i}-a)}-1\\right).$$"
   ]
  },
  {
   "cell_type": "markdown",
   "id": "38e0b71c",
   "metadata": {},
   "source": [
    "#### <font color='blue'> Exemplo 4 </font>"
   ]
  },
  {
   "cell_type": "markdown",
   "id": "7312db53",
   "metadata": {},
   "source": [
    "<font color='blue'> Aplique o **Teorema 3** para encontrar os limitantes para o erros no **Exemplo 3** e compare com os erros exatos."
   ]
  },
  {
   "cell_type": "markdown",
   "id": "34ead60d",
   "metadata": {},
   "source": [
    "##### <font color='blue'> Solução </font>"
   ]
  },
  {
   "cell_type": "markdown",
   "id": "1a1ce4d6",
   "metadata": {},
   "source": [
    "<font color='blue'> Considerando o problema de valor inicial<br><br>\n",
    " $$y' = y-t^{2}+1 \\ \\ \\  0 \\leq t \\leq 0.4, \\ \\ \\ y(0) = 0,5,$$<br>\n",
    " temos que, pelo **Exemplo 3** que $L=1$. Considerando a solução $y(t) = (t+1)^{2} -0,5e^{t}$, temos que $y''(t) = 2-0,5e^{t}$ donde segue que<br><br>\n",
    " $$|y''(t)| = |2 - 0,5e^{t}| \\leq 2 - 0.5e^{0} = 1.5, \\,\\,\\,\\,\\, \\forall t \\in [0,0.4].$$<br>\n",
    " Portanto, $M = 1.5$. Temos que $h=0,2$ e portanto, decorre do **Teorema 3**<br><br>\n",
    " $$|y_{i}-\\omega_{i}| \\leq \\frac{0.2\\cdot1.5}{2\\cdot1}(e^{t_{i}}-1) =  \\frac{3}{20}(e^{t_{i}}-1).$$<br>\n",
    " Os erros exatos e limitantes estão apresentados a seguir:<br><br>\n",
    " $$\\begin{array}{ccc}\n",
    "t_{i}  \t& E_{lim} \t\t\t\t\t&|y_{i} - \\omega_{i}|\\\\\n",
    "0.0\t\t& 0.000000000000000\t\t\t& 0.000000000000000\\\\\n",
    "0.2    \t& 3.321041372402549e-02\t\t& 2.929862091991497e-02\\\\\n",
    "0.4 \t& 7.377370464619057e-02\t    & 6.208765117936510e-02\\\\\n",
    "\\end{array}$$<br>\n",
    " A figura a seguir apresenta uma poligonal ligando os valores obtidos em cada passo juntamente com a solução do problema de valor inicial. Note que a poligonal apresenta certo distanciamento da solução exata.<br><br>\n",
    " <center> <img src=\"fig13-2.jpg\" alt=\"jpg_python\" width=\"300\" height=\"\"> </center>"
   ]
  },
  {
   "cell_type": "markdown",
   "id": "cd2533e4",
   "metadata": {},
   "source": [
    "# <div style=\"margin-top: -20px;\">\n",
    "<hr style=\"border: 2px solid black;\">\n",
    "\n",
    "<font color='black'><span style=\"font-size: 22px;\"><strong>Implementações</strong></span></font>\n",
    "\n",
    "<hr style=\"border: 2px solid black;\">\n",
    "</div>"
   ]
  },
  {
   "cell_type": "markdown",
   "id": "94d15b60",
   "metadata": {},
   "source": [
    "Apresentaremos a seguir  o algoritmo referente ao Método de Euler e sua posterior implementação. "
   ]
  },
  {
   "cell_type": "markdown",
   "id": "b414552e",
   "metadata": {},
   "source": [
    "#### <font color='darkpurple'> Algoritmo: Método de Euler</font>"
   ]
  },
  {
   "cell_type": "markdown",
   "id": "4c81ceec",
   "metadata": {},
   "source": [
    "\n",
    "<font color='darkpurple'> Método de Euler: Para encontrar uma aproximação da solução do problema de valor inicial<br><br>\n",
    " $$y' = f(t,y), \\,\\,\\, a \\leq t \\leq b, \\,\\,\\, y(a) = \\alpha,$$<br>\n",
    " em $N+1$ números igualmente espaçados no intervalo $[a,b]$.<br><br>\n",
    " **ENTRADAS:** função $f$; extremidades $a$, $b$; número inteiro $N$; condição inicial $\\alpha$.<br><br>\n",
    " **SAÍDA:** aproximação $\\omega$ de $y$ nos $N+1$ valores de $t$.<br><br>\n",
    " **Passo 1:** Faça $h = \\frac{b-a}{N}$;<br><br>\n",
    " $\\ \\ \\ $ Faça $t = a$;<br><br>\n",
    " $\\ \\ \\ $ Faça $\\omega = \\alpha$<br><br>\n",
    " $\\ \\ \\ $ SAÍDA $(t,\\omega)$<br><br>\n",
    " **Passo 2:** Para $i=1,2, \\ldots, N$ execute os Passos $3$ e $4$;<br><br>\n",
    " $\\ \\ \\ $ **Passo 3:** Faça $\\omega = \\omega + hf(t,\\omega)$; (*Calcule $\\omega_{i}$*);<br><br>\n",
    " $\\ \\ \\ \\ \\ \\ \\ \\ \\ \\ \\ \\ \\ \\ \\ \\ \\ $ Faça $t = a + ih$; (*Calcule $t_{i}$*)<br><br>\n",
    " $\\ \\ \\ $ **Passo 4:** SAÍDA $(t,\\omega)$<br><br>\n",
    " **Passo 5:** PARE."
   ]
  },
  {
   "cell_type": "markdown",
   "id": "4ee7046e",
   "metadata": {},
   "source": [
    "#### <font color='darkblue'> Código Python: Método de Euler</font>"
   ]
  },
  {
   "cell_type": "code",
   "execution_count": 17,
   "id": "400d9b84",
   "metadata": {
    "ExecuteTime": {
     "end_time": "2024-03-17T13:30:09.783375Z",
     "start_time": "2024-03-17T13:30:09.777317Z"
    }
   },
   "outputs": [],
   "source": [
    "def euler(f, a, b, w0, n):\n",
    "    F = lambda t, y: eval(f)\n",
    "    a = float(a)\n",
    "    b = float(b)\n",
    "    w0 = float(w0)\n",
    "    n = int(n)\n",
    "    \n",
    "    h = (b - a) / n\n",
    "    t = a\n",
    "    w = w0\n",
    "    i = 1\n",
    "    print(f'Uma aproximação discreta de {n} passos para o PVI  y´={f},  {a} <= t <= {b},  y({a}) = {w0},  via '\n",
    "              f'método de Euler, é dada por:')\n",
    "    print(f'i                  w_i')\n",
    "    print(f'%d           %0.13f' % (i - 1, w))\n",
    "    while i <= n:\n",
    "        w = w + h * F(t, w)\n",
    "        t = a + i * h\n",
    "        i = i + 1\n",
    "        print(f'%d           %0.13f' % (i - 1, w))\n",
    "    print('')"
   ]
  },
  {
   "cell_type": "code",
   "execution_count": 18,
   "id": "684fb4c0",
   "metadata": {
    "ExecuteTime": {
     "end_time": "2024-03-17T13:30:12.357448Z",
     "start_time": "2024-03-17T13:30:12.352975Z"
    }
   },
   "outputs": [
    {
     "name": "stdout",
     "output_type": "stream",
     "text": [
      "Uma aproximação discreta de 2 passos para o PVI  y´=y-t**2+1,  0.0 <= t <= 0.4,  y(0.0) = 0.5,  via método de Euler, é dada por:\n",
      "i                  w_i\n",
      "0           0.5000000000000\n",
      "1           0.8000000000000\n",
      "2           1.1520000000000\n",
      "\n"
     ]
    }
   ],
   "source": [
    "euler('y-t**2+1',0,0.4,0.5,2)"
   ]
  },
  {
   "cell_type": "markdown",
   "id": "09065007",
   "metadata": {},
   "source": [
    "# <div style=\"margin-top: -20px;\">\n",
    "<hr style=\"border: 2px solid black;\">\n",
    "\n",
    "<font color='black'><span style=\"font-size: 22px;\"><strong>Exercícios</strong></span></font>\n",
    "\n",
    "<hr style=\"border: 2px solid black;\">\n",
    "</div>"
   ]
  },
  {
   "cell_type": "markdown",
   "id": "a5b39009",
   "metadata": {},
   "source": [
    "#### Exercício 1"
   ]
  },
  {
   "cell_type": "markdown",
   "id": "5c5c78d3",
   "metadata": {},
   "source": [
    "Use o método de Euler para obter uma aproximação para cada um dos seguintes problemas de valor inicial. Calcule o valor exato e o erro em cada passo a partir da solução fornecida.\n",
    "\n",
    "a) $y' = te^{3t}-2y, \\ \\ \\ 0 \\leq t \\leq 1, \\ \\ \\ y(0) = 0, \\ \\ \\ h=0.5.$ $\\ \\ \\ $ Solução: $y(t) = \\frac{1}{25}e^{-2t} \\left(1 + e^{5t}(-1 + 5t)\\right)$\n",
    "\n",
    "b $y' = 1 + (t-y)^{2}, \\ \\ \\ 2 \\leq t \\leq 3, \\ \\ \\ y(2) = 1, \\ \\ \\ h=0.5.$ $\\ \\ \\ $ Solução: $y(t) = \\frac{t^{2}-t-1}{t-1}$\n",
    "\n",
    "c) $y' = cos(2t) + sen(3t), \\ \\ \\ 0 \\leq t \\leq 1, \\ \\ \\ y(0) = 1, \\ \\ \\ h=0.25.$ $\\ \\ \\ $ Solução: $y(t) = \\frac{1}{6}(3sen(2t) - 2cos(3t) + 8)$"
   ]
  },
  {
   "cell_type": "markdown",
   "id": "5596ec1d",
   "metadata": {},
   "source": [
    "#### Exercício 2"
   ]
  },
  {
   "cell_type": "markdown",
   "id": "8ca2f7da",
   "metadata": {},
   "source": [
    "Use o método de Euler para obter uma aproximação para o problema de valor inicial\n",
    "\n",
    "$$y' = 1 + \\frac{y}{t}, \\ \\ \\ 1 \\leq t \\leq 2, \\ \\ \\ y(1) = 2, \\ \\ \\ h=0.25.$$\n",
    "\n",
    "Em seguida, considerando a solução exata $y(t) = tln(t) + 2t$, encontre o erro exato e limitante para o erro em cada passo."
   ]
  },
  {
   "cell_type": "markdown",
   "id": "50d2d60e",
   "metadata": {},
   "source": [
    "# <div style=\"margin-top: -20px;\">\n",
    "<hr style=\"border: 2px solid black;\">\n",
    "\n",
    "<font color='black'><span style=\"font-size: 22px;\"><strong>Respostas dos Exercícios</strong></span></font>\n",
    "\n",
    "<hr style=\"border: 2px solid black;\">\n",
    "</div>"
   ]
  },
  {
   "cell_type": "markdown",
   "id": "05353962",
   "metadata": {},
   "source": [
    "#### Resposta do Exercício 1"
   ]
  },
  {
   "cell_type": "markdown",
   "id": "8285d1cb",
   "metadata": {},
   "source": [
    "a) A tabela a seguir apresenta os valores solicitados em cada passo:\n",
    "\n",
    "$\\begin{array}{ccccc}\n",
    "i  & t_{i}    & w_{i}  \t& y(t_{i}) & |y(t_{i})-w_{i}|\\\\\n",
    "1  & 0.5    & 0.000000000000000  \t& 0.283616521867142 & 0.283616521867142\\\\\n",
    "2  & 1.0    & 1.120422267584516  \t& 3.219099319039491 & 2.098677051454975 \\\\\n",
    "\\end{array}$\n",
    "\n",
    "b) A tabela a seguir apresenta os valores solicitados em cada passo:\n",
    "\n",
    "$\\begin{array}{ccccc}\n",
    "i  & t_{i}    & w_{i}  \t& y(t_{i}) & |y(t_{i})-w_{i}| \\\\\n",
    "1  & 2.5  & 2.000000000000000  \t& 1.833333333333333 & 0.166666666666667\\\\\n",
    "2  & 3.0  & 2.625000000000000  \t& 2.500000000000000 & 0.125000000000000\\\\\n",
    "\\end{array}$\n",
    "\n",
    "c)A tabela a seguir apresenta os valores solicitados em cada passo:\n",
    "\n",
    "$\\begin{array}{ccccc}\n",
    "i  & t_{i}    & w_{i}  \t& y(t_{i}) & |y(t_{i})-w_{i}|\\\\\n",
    "1  & 0.25    & 1.250000000000000  \t& 1.329149813010828 & 7.914981301082791e-02\\\\\n",
    "2  & 0.50    & 1.639805330478427  \t& 1.730489758514714 & 9.068442803628707e-02\\\\\n",
    "3  & 0.75    & 2.024254653596476  \t& 2.041472034209607 & 1.721738061313083e-02 \\\\\n",
    "4  & 1.00    & 2.236457253235382  \t& 2.117979545612989 & 0.118477707622393\\\\\n",
    "\\end{array}$"
   ]
  },
  {
   "cell_type": "markdown",
   "id": "6b62cbe1",
   "metadata": {},
   "source": [
    "#### Resposta do Exercício 2"
   ]
  },
  {
   "cell_type": "markdown",
   "id": "80f9d700",
   "metadata": {},
   "source": [
    "Considerando a solução $y(t) = tln(t) + 2t$, temos que $y''(t) = \\frac{1}{t}$ donde segue que $|y''(t)| = \\left|\\frac{1}{t}\\right| \\leq 1$ para todo $t \\in [1,2]$. Além disso, $\\left|\\frac{\\partial\\left(1 + \\frac{y}{t}\\right)}{\\partial y} \\right|= \\left|\\frac{1}{t}\\right| \\leq 1$ para todo $x \\in [1,2]$. Aplicando a relação \n",
    "\n",
    "$$|y(t_{i})-\\omega_{i}| \\leq \\frac{hM}{2L}\\left(e^{L(t_{i}-a)}-1\\right) =\\frac{0.25\\cdot1}{2\\cdot1}\\left(e^{t_{i}-1}-1\\right)=\\frac{1}{8}\\left(e^{t_{i}-1}-1\\right),$$\n",
    "temos:\n",
    "\n",
    "$\\begin{array}{cccccc}\n",
    "i  & t_{i}    & w_{i}  \t& y(t_{i}) & |y(t_{i})-w_{i}| & \\frac{1}{8}\\left(e^{t_{i}-1}-1\\right)\\\\\n",
    "1  & 1.25    & 2.750000000000000  \t& 2.778929439142762 & 2.892943914276191e-02 & 3.550317708596767e-02\\\\\n",
    "2  & 1.50    & 3.550000000000000  \t& 3.608197662162247 & 5.819766216224709e-02 & 8.109015883751602e-02\\\\\n",
    "3  & 1.75    & 4.391666666666667  \t& 4.479327628886990 & 8.766096222032349e-02 & 0.139625002076584\\\\\n",
    "4  & 2.00    & 5.269047619047619  \t& 5.386294361119891 & 0.117246742072272 & 0.214785228557381\\\\\n",
    "\\end{array}$"
   ]
  },
  {
   "cell_type": "markdown",
   "id": "c8fb0c17",
   "metadata": {},
   "source": [
    "# <div style=\"margin-top: -20px;\">\n",
    "<hr style=\"border: 2px solid black;\">\n",
    "\n",
    "<font color='black'><span style=\"font-size: 22px;\"><strong>Vídeo Aulas</strong></span></font>\n",
    "\n",
    "<hr style=\"border: 2px solid black;\">\n",
    "</div>"
   ]
  },
  {
   "cell_type": "markdown",
   "id": "f54580f2",
   "metadata": {},
   "source": [
    "Clicando nos links a seguir você será redirecionado às aulas referentes a este capítulo:\n",
    "\n",
    "[Condições de Lipschitz e a Existência e Unicidade da Solução de Uma Equação Diferencial](https://youtu.be/EO57WXUyGjI)\n",
    "\n",
    "[Dedução do Método de Euler](https://youtu.be/_kIpu3Ah99Y)\n",
    "\n",
    "[Exemplo Envolvendo o Método de Euler](https://youtu.be/08za4RNz2SA)\n",
    "\n",
    "[Limitante Para o Erro no Método de Euler](https://youtu.be/ksjK6ntL0e0)"
   ]
  }
 ],
 "metadata": {
  "kernelspec": {
   "display_name": "Python 3 (ipykernel)",
   "language": "python",
   "name": "python3"
  },
  "language_info": {
   "codemirror_mode": {
    "name": "ipython",
    "version": 3
   },
   "file_extension": ".py",
   "mimetype": "text/x-python",
   "name": "python",
   "nbconvert_exporter": "python",
   "pygments_lexer": "ipython3",
   "version": "3.11.5"
  },
  "varInspector": {
   "cols": {
    "lenName": 16,
    "lenType": 16,
    "lenVar": 40
   },
   "kernels_config": {
    "python": {
     "delete_cmd_postfix": "",
     "delete_cmd_prefix": "del ",
     "library": "var_list.py",
     "varRefreshCmd": "print(var_dic_list())"
    },
    "r": {
     "delete_cmd_postfix": ") ",
     "delete_cmd_prefix": "rm(",
     "library": "var_list.r",
     "varRefreshCmd": "cat(var_dic_list()) "
    }
   },
   "types_to_exclude": [
    "module",
    "function",
    "builtin_function_or_method",
    "instance",
    "_Feature"
   ],
   "window_display": false
  }
 },
 "nbformat": 4,
 "nbformat_minor": 5
}

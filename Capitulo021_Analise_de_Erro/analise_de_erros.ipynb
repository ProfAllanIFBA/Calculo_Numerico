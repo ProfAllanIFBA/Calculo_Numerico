{
 "cells": [
  {
   "cell_type": "markdown",
   "id": "3074ccf4",
   "metadata": {
    "slideshow": {
     "slide_type": "slide"
    }
   },
   "source": [
    "# <font color='red'><p style=\"text-align:center;\"> Análise de Erros</p></font>\n",
    "![](img1.jpg)"
   ]
  },
  {
   "cell_type": "markdown",
   "id": "2a8bceec",
   "metadata": {
    "slideshow": {
     "slide_type": "slide"
    }
   },
   "source": [
    "# 1. Erros de Arredondamento e Arimtética no Computador"
   ]
  },
  {
   "cell_type": "markdown",
   "id": "56e02482",
   "metadata": {
    "slideshow": {
     "slide_type": "-"
    }
   },
   "source": [
    "A aritmética executada por um calculadora ou computador é diferente daquela dos nossos cursos de álgebra ou cálculo. Consideremos alguns exemplos..."
   ]
  },
  {
   "cell_type": "markdown",
   "id": "165d4e21",
   "metadata": {
    "slideshow": {
     "slide_type": "slide"
    }
   },
   "source": [
    "# <font color='blue'>Exemplos</font>"
   ]
  },
  {
   "cell_type": "code",
   "execution_count": null,
   "id": "3c952771",
   "metadata": {
    "slideshow": {
     "slide_type": "slide"
    }
   },
   "outputs": [],
   "source": [
    "# Exemplo 1\n",
    "a1 = 2\n",
    "b1 = 1 + 1\n",
    "print(f'a = {a1}')\n",
    "print(f'b = {b1}')\n",
    "print(a1 == b1)"
   ]
  },
  {
   "cell_type": "code",
   "execution_count": null,
   "id": "601de6ad",
   "metadata": {
    "slideshow": {
     "slide_type": "slide"
    }
   },
   "outputs": [],
   "source": [
    "# Exemplo 2\n",
    "a2 = 1-1/7\n",
    "b2 = 6/7\n",
    "print(f'a = {a2}')\n",
    "print(f'b = {b2}')\n",
    "print(a2 == b2)"
   ]
  },
  {
   "cell_type": "code",
   "execution_count": null,
   "id": "dd9aa705",
   "metadata": {
    "slideshow": {
     "slide_type": "slide"
    }
   },
   "outputs": [],
   "source": [
    "# Exemplo 3\n",
    "import numpy as np\n",
    "a3 = np.sqrt(3)**2            # sqrt(a) é a raiz quadada de a\n",
    "b3 = 3\n",
    "print(f'a = {a3}')\n",
    "print(f'b = {b3}')\n",
    "print(a3 == b3)"
   ]
  },
  {
   "cell_type": "markdown",
   "id": "fce6fbe7",
   "metadata": {
    "slideshow": {
     "slide_type": "-"
    }
   },
   "source": [
    "*Observação: O operador relacional 'a == b' retorna o valor True caso 'a' seja igual a 'b' e False caso contrário.*"
   ]
  },
  {
   "cell_type": "markdown",
   "id": "d0c2caa6",
   "metadata": {
    "slideshow": {
     "slide_type": "slide"
    }
   },
   "source": [
    "Espere erros devido ao arredondamento sempre que forem feitos cálculos usando números que não sejam potências de 2. Manter esse erro sob controle é extremamente importante quando o número de cálculos for grande."
   ]
  },
  {
   "cell_type": "markdown",
   "id": "afcda9e7",
   "metadata": {
    "slideshow": {
     "slide_type": "slide"
    }
   },
   "source": [
    "## 1.1 Dentro do PC\n",
    "Cálculos internos à máquina são, em geral, efetuados em outras bases que não a base 10 (**decimal**)."
   ]
  },
  {
   "cell_type": "markdown",
   "id": "d9cc3d8c",
   "metadata": {
    "slideshow": {
     "slide_type": "slide"
    }
   },
   "source": [
    "A base decimal é a base numérica padrão utilizada em nosso sistema cotidiano. Os números decimais são compostos por dígitos de 0 a 9, e cada posição em um número decimal representa uma potência de 10.\n",
    "$$324_{10} = 3\\cdot10^{2} + 2\\cdot10^{1} + 4\\cdot10^{0}$$\n",
    "\n",
    "Existem outras bases numéricas importantes na programação: a base **binária**, a **base octal** e a **base hexadecimal**.\n",
    "\n",
    "\n",
    "\n",
    "\n",
    "\n"
   ]
  },
  {
   "cell_type": "markdown",
   "id": "bedac865",
   "metadata": {
    "slideshow": {
     "slide_type": "slide"
    }
   },
   "source": [
    "A base **binária** é a base numérica utilizada pelos computadores para armazenar e processar informações. Os números binários são compostos apenas pelos dígitos 0 e 1, e cada posição em um número binário representa uma potência de 2. \n",
    "$$1101_{2} = 1\\cdot2^{3} + 1\\cdot2^{2} + 0\\cdot2^{1} + 1\\cdot2^{0} = 8 + 4 + 0 + 1 = 13_{10}$$\n",
    "A base binária é essencial em áreas como a engenharia de computação e a ciência da computação, pois permite que as informações sejam armazenadas e processadas de forma eficiente pelos computadores."
   ]
  },
  {
   "cell_type": "markdown",
   "id": "145b9e55",
   "metadata": {
    "slideshow": {
     "slide_type": "slide"
    }
   },
   "source": [
    "A base **octal** é uma base numérica que utiliza os dígitos de 0 a 7. Cada posição em um número octal representa uma potência de 8.\n",
    "$$314_{8} = 3\\cdot8^{2} + 1\\cdot8^{1} + 4\\cdot8^{0} = 192 + 8 + 4 = 204_{10}$$\n",
    "A base octal é utilizada principalmente em sistemas de permissões de arquivos em sistemas operacionais Unix e Linux, bem como em linguagens de programação como o C e o Perl."
   ]
  },
  {
   "cell_type": "markdown",
   "id": "787400bf",
   "metadata": {
    "slideshow": {
     "slide_type": "slide"
    }
   },
   "source": [
    "A base **hexadecimal** é uma base numérica que utiliza os dígitos de 0 a 9 e as letras de A a F (representando os valores de 10 a 15). Cada posição em um número hexadecimal representa uma potência de 16. \n",
    "$$E3_{16} = 14\\cdot16^{1} + 3\\cdot16^{0} = 227_{10}$$\n",
    "A base hexadecimal é amplamente utilizada em programação, especialmente em linguagens de programação como o C, o C++, o Java e o Python, para representar cores, endereços de memória, números de porta e outros valores numéricos."
   ]
  },
  {
   "cell_type": "markdown",
   "id": "12bc2a32",
   "metadata": {
    "slideshow": {
     "slide_type": "slide"
    }
   },
   "source": [
    "O coprocessador numérico para PCs implementa uma representação de $64$ bits para números reais, conhecida como real longo. O primeiro bit é o indicador de sinal (s), seguido por um expoente de $11$ bits (c), chamado de característica, e uma mantissa binária de $52$ bits (f). A base do expoente é $2$. A célula a seguir mostra que um número binárico com 52 dígitos corresponde a um número decimal contendo entre $15$ e $16$ dígitos decimais."
   ]
  },
  {
   "cell_type": "code",
   "execution_count": 15,
   "id": "cd2ff5fb",
   "metadata": {
    "slideshow": {
     "slide_type": "slide"
    }
   },
   "outputs": [
    {
     "name": "stdout",
     "output_type": "stream",
     "text": [
      "True\n"
     ]
    }
   ],
   "source": [
    "# Sobre a afirmação anterior...\n",
    "print(10**15<2**52<10**16)"
   ]
  },
  {
   "cell_type": "markdown",
   "id": "56085ac7",
   "metadata": {
    "slideshow": {
     "slide_type": "slide"
    }
   },
   "source": [
    "Podemos assumir que um número representado neste sistema tenha pelo menos $15$ dígitos decimais de precisão. O expoente de $11$ dígitos binários dá um intervalo de $0$ a $2^{11} − 1 = 2047$. No entanto, usando apenas inteiros positivos para o expoente não teríamos uma representação adequada de números de pequena magnitude. Para garantir que os números com magnitude pequena sejam igualmente representáveis, $1023$ é subtraído da característica (expoente). Então o intervalo do expoente é na verdade, de $-1023$ a $1024$."
   ]
  },
  {
   "cell_type": "markdown",
   "id": "7584e915",
   "metadata": {
    "slideshow": {
     "slide_type": "fragment"
    }
   },
   "source": [
    "Para economizar armazenamento e fornecer uma representação exclusiva para cada número de ponto flutuante, impomos a seguinte normalização. O uso desse sistema fornece um número de ponto flutuante da forma:\n",
    "$$(-1)^{s}2^{c-1023}(1+f).$$"
   ]
  },
  {
   "cell_type": "markdown",
   "id": "6d498754",
   "metadata": {
    "slideshow": {
     "slide_type": "slide"
    }
   },
   "source": [
    "Considere por exemplo o número de máquina:\n",
    "\n",
    "$$n =0\\,10000000011\\,1011100100010000000000000000000000000000000000000000.$$"
   ]
  },
  {
   "cell_type": "markdown",
   "id": "ad6d3ad8",
   "metadata": {
    "slideshow": {
     "slide_type": "fragment"
    }
   },
   "source": [
    "Considerando a forma $n = (-1)^{s}2^{c-1023}(1+f)$, temos que bit mais a esquerda sendo $0$ indica que o número $n$ é positivo $(-1)^{0} = 1$ (se fosse $s=1$, teríamos $n$ negativo). Os próximos $11$ bits $10000000011$ que fornecem a característica(expoente) são equivalentes ao decimal\n",
    "$$c = 1\\cdot2^{10} + 0\\cdot2^{9} + 0\\cdot2^{8} + 0\\cdot2^{7} + 0\\cdot2^{6} + 0\\cdot2^{5} + 0\\cdot2^{4} + 0\\cdot2^{3} + 0\\cdot2^{2} + 1\\cdot2^{1} + 1\\cdot2^{0} = 1024 + 2 + 1 = 1027.$$\n",
    "Portanto, a parte exponencial do número é dada por $2^{1027-1023} = 2^{4} = 16$. Os $52$ bits finais especificam que a mantissa seja:\n",
    "$$f  = 1\\cdot\\left(\\frac{1}{2}\\right)^{1} + 1\\cdot\\left(\\frac{1}{2}\\right)^{3} + 1\\cdot\\left(\\frac{1}{2}\\right)^{4} + 1\\cdot\\left(\\frac{1}{2}\\right)^{5} + 1\\cdot\\left(\\frac{1}{2}\\right)^{8} + 1\\cdot\\left(\\frac{1}{2}\\right)^{12}.$$\n",
    "Por fim,\n",
    "$$n = (-1)^{s}2^{c-1023}(1+f) = (-1)^{0}2^{4}\\left(1+ \\left(\\frac{1}{2} + \\frac{1}{8} + \\frac{1}{16} + \\frac{1}{32} + \\frac{1}{256} + \\frac{1}{4096}\\right)\\right) = 27.56640625.$$"
   ]
  },
  {
   "cell_type": "markdown",
   "id": "49aaa985",
   "metadata": {
    "slideshow": {
     "slide_type": "slide"
    }
   },
   "source": [
    "Além disso,\n",
    "$$x<0\\,\\,10000000011\\,\\,1011100100010000000000000000000000000000000000000000<y$$ $$ $$\n",
    "temos que este está entre os números de máquina $$ $$\n",
    "$$x = 0\\,\\,10000000011\\,\\,1011100100001111111111111111111111111111111111111111$$\n",
    "e $$ $$\n",
    "$$y = 0\\,\\,10000000011\\,\\,1011100100010000000000000000000000000000000000000001$$ $$ $$\n",
    "sendo $x$ e $y$ os números de máquina mais próximos de $n$."
   ]
  },
  {
   "cell_type": "markdown",
   "id": "74112697",
   "metadata": {
    "slideshow": {
     "slide_type": "slide"
    }
   },
   "source": [
    "Neste caso, o número de máquina $27.56640625$ representa não somente ele próxprio como metade dos números reais que estão entre $27.56640625$ e seus dois números de máquina mais próximos. Para ser mais preciso, $$ $$\n",
    "$$27.56640625 \\equiv [27.5664062499999982236431605997495353221893310546875,\n",
    "27.5664062500000017763568394002504646778106689453125).$$ $$ $$\n",
    "O símbolo $\\equiv$ usado nos diz que quais quer números no intervalo à direita terá a mesma representação, isto é, $27.56640625$."
   ]
  },
  {
   "cell_type": "markdown",
   "id": "b7d25215",
   "metadata": {
    "slideshow": {
     "slide_type": "slide"
    }
   },
   "source": [
    "### <font color='blue'> Exemplo: </font>\n",
    "<font color='blue'> Obtenha o número de máquina correspondente ao número binário: $$ $$\n",
    "$$n = 1\\,\\,10000000101\\,\\,0010101000000000000000000000000000000000000000000000.$$\n",
    "</font>"
   ]
  },
  {
   "cell_type": "markdown",
   "id": "53664105",
   "metadata": {
    "slideshow": {
     "slide_type": "fragment"
    }
   },
   "source": [
    "<font color='blue'>\n",
    "Solução: Temos que \n",
    "    $$s = -1 \\,\\, e \\,\\, c = 1\\cdot2^{10} + 1\\cdot2^{2} + 1\\cdot2^{0} = 1024 + 4 + 1 = 1029$$ $$ $$\n",
    "donde segue que a parte exponencial de $n$ é $2^{1029-1023} = 2^{6}$. Continuando, $$ $$\n",
    "$$f = 1\\cdot\\left(\\frac{1}{2}\\right)^{3} + 1\\cdot\\left(\\frac{1}{2}\\right)^{5} + 1\\cdot\\left(\\frac{1}{2}\\right)^{7}.$$ $$ $$\n",
    "Portanto, $$ $$\n",
    "$$n = (-1)^{1}2^{1029-1023}\\left(1+\\left(\\frac{1}{8} + \\frac{1}{32} + \\frac{1}{128}\\right)\\right) = -74.5$$\n",
    "</font>"
   ]
  },
  {
   "cell_type": "markdown",
   "id": "d159c21c",
   "metadata": {
    "slideshow": {
     "slide_type": "slide"
    }
   },
   "source": [
    "***Observação:*** Para facilitar, indique as posições conforme a seguir:\n",
    "$ $\n",
    "\n",
    "$$n = 1\\,\\,10000000\\underline{1}0\\underline{1}\\,\\,00\\underline{1}0\\underline{1}0\\underline{1}000000000000000000000000000000000000000000000$$ $$ $$\n",
    "$$\\hspace{0.5cm}\\color{white}{.}1\\,\\,\\underline{10}.....543\\underline{2}1\\underline{0}\\,\\,12\\underline{3}4\\underline{5}6\\underline{7}....................................................,$$\n",
    "$$ $$\n",
    "isto é, a parte exponecial tem suas posições começando de $0$ indo da direita para a esquerda e a mantissa tem suas posições começando de $1$ indo da esquerda para a direita. Note que o número de máquina $-74.5$ representará uma classe de números e não somente o real $-74.5$.\n"
   ]
  },
  {
   "cell_type": "markdown",
   "id": "f74994cd",
   "metadata": {
    "slideshow": {
     "slide_type": "slide"
    }
   },
   "source": [
    "## Limites\n",
    "\n",
    "O **menor** número positivo normalizado que pode ser representado tem $s = 0$, $c = 1$ e $f = 0$ e é equivalente a\n",
    "$ $\n",
    "\n",
    "$$(-1)^{0}2^{1-1023}(1+0) = 2^{-1022}(1+0) \\approx 0.2225\\times10^{-307}.$$\n",
    "\n",
    "e o **maior** tem $s = 0$, $c = 2046$ e $f = 1 - 2^{-52}$ e é equivalente a\n",
    "$ $\n",
    "\n",
    "$$(-1)^{0}2^{2046-1023}(1+(1-2^{-52})) = 2^{1023}(2-2^{-52}) \\approx 0.17977\\times10^{309}$$\n",
    "\n",
    "Números maiores que $0.2225\\times10^{-307}$ resultam em **underflow** e igualados a zero. Por outro lado, números maiores que $0.17977\\times10^{309}$ resultam em **overflow**. Para mais informações consulte [1]."
   ]
  },
  {
   "cell_type": "code",
   "execution_count": 16,
   "id": "73fc76f7",
   "metadata": {
    "slideshow": {
     "slide_type": "slide"
    }
   },
   "outputs": [
    {
     "name": "stdout",
     "output_type": "stream",
     "text": [
      "menor = 2.2250738585072014e-308\n",
      "maior = 1.7976931348623157e+308\n"
     ]
    }
   ],
   "source": [
    "# No Jupyter\n",
    "import sys    #fornece acesso a algumas variáveis e funções do interpretador Python \n",
    "print(f'menor = {sys.float_info.min}')\n",
    "print(f'maior = {sys.float_info.max}')\n"
   ]
  },
  {
   "cell_type": "markdown",
   "id": "c8f7d151",
   "metadata": {
    "slideshow": {
     "slide_type": "slide"
    }
   },
   "source": [
    "## Trucamento, Arredondamento e Algarismos Significativos"
   ]
  },
  {
   "cell_type": "markdown",
   "id": "723e124b",
   "metadata": {
    "slideshow": {
     "slide_type": "slide"
    }
   },
   "source": [
    "Qualquer número real positivo dentro do intervalo numérico da máquina pode ser normalizado na forma\n",
    "$ $\n",
    "\n",
    "$$y = 0.d_{1}d_{2}...d_{k}d_{k+1}...\\times10^{n}.$$"
   ]
  },
  {
   "cell_type": "markdown",
   "id": "ed4e9844",
   "metadata": {
    "slideshow": {
     "slide_type": "fragment"
    }
   },
   "source": [
    "### Truncamento\n",
    "A forma em ponto flutuante de $y$, denotada por $fl_{k}(y)$, é obtida terminando a mantissa de $y$ em $k$ algarismos decimais.\n",
    "$ $\n",
    "\n",
    "$$fl_{k}(y) = 0.d_{1}d_{2}...d_{k}\\times10^{n}.$$"
   ]
  },
  {
   "cell_type": "markdown",
   "id": "b96b303f",
   "metadata": {
    "slideshow": {
     "slide_type": "fragment"
    }
   },
   "source": [
    "### Arredondamento\n",
    "A forma em ponto flutuante de $y$, denotada por $fl_{k}(y)$, é obtida terminando a mantissa de $y$ em $k$ algarismos decimais. Contudo o algarismo $d_{k}$ é aumentado de $1$ caso $d_{k+1} \\geq 5$.\n",
    "$$ $$\n",
    "$$fl_{k}(y) = 0.\\delta_{1}\\delta_{2}...\\delta_{k}\\times10^{n}.$$ $$ $$\n",
    "*Usamos $\\delta$ para ilustrar que o arredondamento de $d_{k}$ pode acarretar mudanças em $d_{k-1},...,d_{2},d_{1}$.*"
   ]
  },
  {
   "cell_type": "markdown",
   "id": "5295aac4",
   "metadata": {
    "slideshow": {
     "slide_type": "slide"
    }
   },
   "source": [
    "### <font color='blue'> Exemplo: </font>\n",
    "<font color='blue'> O número $\\pi$ tem uma expansão decimal infinita da forma $\\pi = 3.14159265...$ $$ $$\n",
    "a) Escreva $\\pi$ na forma decimal normalizada; $$ $$\n",
    "b) Apresente a forma em ponto flutuante de $\\pi$ usando truncamento para $5$ casas decimais; $$ $$\n",
    "c) Apresente a forma em ponto flutuante de $\\pi$ usando arredondamento também para $5$ casas decimais.\n",
    "</font>\n",
    "\n"
   ]
  },
  {
   "cell_type": "markdown",
   "id": "e00dc5d2",
   "metadata": {
    "slideshow": {
     "slide_type": "slide"
    }
   },
   "source": [
    "<font color='blue'> \n",
    "Solução:  a) Temos que a forma normalizada de $\\pi$ é\n",
    "$ $\n",
    "\n",
    "$$\\pi = 3.14159265\\times10^{1}.$$\n",
    "\n",
    "b) A forma em ponto flutuante de $\\pi$ usando truncamento com $5$ casas decimais é:\n",
    "$ $\n",
    "    \n",
    "$$fl_{5}(\\pi) = 0.31415\\times10^{1} = 3.1415.$$\n",
    "    \n",
    "c) A forma em ponto flutuante de $\\pi$ usando arredondamento com $5$ casas decimais é:\n",
    "$ $\n",
    "    \n",
    "$$fl_{5}(\\pi) = (0.31415 + 1)\\times 10^{1} = 0.31416 = 3.1416.$$\n",
    "</font>"
   ]
  },
  {
   "cell_type": "markdown",
   "id": "e69da09c",
   "metadata": {
    "slideshow": {
     "slide_type": "slide"
    }
   },
   "source": [
    "<font color='red'> Definição: Se $p^{*}$ é uma aproximação de $p$, o **erro absoluto** é $|p-p^{*}|$ e o **erro relativo** é $\\frac{|p-p^{*}|}{|p|}$, contanto que $p \\neq 0$.\n",
    "</font>"
   ]
  },
  {
   "cell_type": "markdown",
   "id": "69b12eff",
   "metadata": {
    "slideshow": {
     "slide_type": "slide"
    }
   },
   "source": [
    "### <font color='blue'> Exemplo: </font>\n",
    "\n",
    "<font color='blue'> Calcule o erro relativo e o erro absoluto ao se considerar a aproximação $$ $$\n",
    "a) $p^{*} = 0.3100\\times10^{1}$ de $p = 0.3000\\times10^{1}$. $$ $$\n",
    "b) $p^{*} = 0.3100\\times10^{-3}$ de $p = 0.3000\\times10^{-3}$. $$ $$\n",
    "</font>"
   ]
  },
  {
   "cell_type": "markdown",
   "id": "6384fde7",
   "metadata": {
    "slideshow": {
     "slide_type": "fragment"
    }
   },
   "source": [
    "<font color='blue'>\n",
    "Solução:  a) Temos que\n",
    "$ $\n",
    "$$|p-p^{*}| = |0.3000\\times10^{1}-0.3100\\times10^{1}| = 0.1\\times10^{-1} \\,\\, e$$ $$ $$\n",
    "$$\\frac{|p-p^{*}|}{|p|} = \\frac{|0.3000\\times10^{1}-0.3100\\times10^{1}|}{|0.3000\\times10^{1}|} = 0.333\\overline{3}\\times10^{-1}$$ $$ $$\n",
    "b) Temos que $$ $$\n",
    "$$|p-p^{*}| = |0.3000\\times10^{4}-0.3100\\times10^{4}| = 0.1\\times10^{3} \\,\\, e$$ $$ $$\n",
    "$$\\frac{|p-p^{*}|}{|p|} = \\frac{|0.3000\\times10^{4}-0.3100\\times10^{4}|}{|0.3000\\times10^{4}|} = 0.333\\overline{3}\\times10^{-1}$$ \n",
    "</font>"
   ]
  },
  {
   "cell_type": "code",
   "execution_count": 17,
   "id": "491c0f3a",
   "metadata": {
    "slideshow": {
     "slide_type": "slide"
    }
   },
   "outputs": [
    {
     "name": "stdout",
     "output_type": "stream",
     "text": [
      "Erro absoluto = 0.1\n",
      "Erro relativo = 0.0333333333\n"
     ]
    }
   ],
   "source": [
    "# a)\n",
    "p = round(0.3000*10**1,4)\n",
    "p_aprox = round(0.3100*10**1,4)\n",
    "e_abs = round(abs(p-p_aprox),4)\n",
    "e_rel = round(abs((p-p_aprox)/p),10)\n",
    "print(f'Erro absoluto = {e_abs}')\n",
    "print(f'Erro relativo = {e_rel}')"
   ]
  },
  {
   "cell_type": "code",
   "execution_count": 18,
   "id": "6a780ed1",
   "metadata": {
    "slideshow": {
     "slide_type": "-"
    }
   },
   "outputs": [
    {
     "name": "stdout",
     "output_type": "stream",
     "text": [
      "Erro absoluto = 100.0\n",
      "Erro relativo = 0.0333333333\n"
     ]
    }
   ],
   "source": [
    "# b)\n",
    "p = round(0.3000*10**4,4)\n",
    "p_aprox = round(0.3100*10**4,4)\n",
    "e_abs = round(abs(p-p_aprox),4)\n",
    "e_rel = round(abs((p-p_aprox)/p),10)\n",
    "print(f'Erro absoluto = {e_abs}')\n",
    "print(f'Erro relativo = {e_rel}')"
   ]
  },
  {
   "cell_type": "markdown",
   "id": "5113fc28",
   "metadata": {
    "slideshow": {
     "slide_type": "fragment"
    }
   },
   "source": [
    "Note que o erro relativo é, em geral, uma medida melhor que o erro absoluto pois leva em conta o tamanho do número que está sendo aredondado."
   ]
  },
  {
   "cell_type": "markdown",
   "id": "a1b3805a",
   "metadata": {
    "slideshow": {
     "slide_type": "slide"
    }
   },
   "source": [
    "Em geral não se pode determinar o erro exato em uma aproximação. O que se faz é encontrar um limitante para o erro, o que fornece o **pior caso de erro**, ou um valor *não muito exagerado* que certamente seja superior ao erro exato.\n",
    "\n",
    "***Observação:*** Uma expressão mais adequada para **pior caso de erro** seria o **melhor entre os piores erros**, uma vez que, em teoria, o erro pode ser praticamente infinito. Podemos, por exemplo, dizer que $1000$ é uma estimativa para $1200$ ou para $10000$..."
   ]
  },
  {
   "cell_type": "markdown",
   "id": "09cae9b1",
   "metadata": {
    "slideshow": {
     "slide_type": "slide"
    }
   },
   "source": [
    "<font color='red'> Definição: Diz-se que o número $p^{*}$ aproxima $p$ até $t$ **algarismos significativos** se $t$ for o maior inteiro não negativo para o qual</font>\n",
    "$ $\n",
    "\n",
    "<font color='red'>$$\\frac{|p-p^{*}|}{|p|} \\leq 5\\times10^{-t}.$$\n",
    "</font>"
   ]
  },
  {
   "cell_type": "markdown",
   "id": "2e110980",
   "metadata": {
    "slideshow": {
     "slide_type": "slide"
    }
   },
   "source": [
    "### Cota Superior Para o Erro Devido a Utilização de Truncamento"
   ]
  },
  {
   "cell_type": "markdown",
   "id": "92e6fbac",
   "metadata": {
    "slideshow": {
     "slide_type": "slide"
    }
   },
   "source": [
    "A representação de números de máquina em Ponto Flutuante $fl_{k}(y)$ é tal que o erro relativo é:\n",
    "$ $\n",
    "\n",
    "$$\\left|\\frac{y-fl_{k}(y)}{y}\\right| = \\left|\\frac{0.d_{1}d_{2}...d_{k}d_{k+1}...\\times10^{n} - 0.d_{1}d_{2}...d_{k}\\times10^{n}}{0.d_{1}d_{2}...d_{k}d_{k+1}...\\times10^{n}}\\right| =$$\n",
    "\n",
    "$$=\\left|\\frac{0.d_{k+1}d_{k+2}...\\times10^{n-k}}{0.d_{1}d_{2}...\\times10^{n}}\\right| = \\left|\\frac{0.d_{k+1}d_{k+2}...}{0.d_{1}d_{2}...}\\right|\\times10^{-k}$$\n",
    "\n",
    "Uma vez que $d_{1} \\neq 0$ temos que o denominador é limitado inferiormente por $0.1$. Além disso, note que o numerador é limitado superiormente por $1$. Portanto,\n",
    "$ $\n",
    "$$\\left|\\frac{y-fl_{k}(y)}{y}\\right| \\leq  \\frac{1}{0.1}\\times10^{-k} = 10\\times10^{-k} = 10^{-k+1}.$$"
   ]
  },
  {
   "cell_type": "code",
   "execution_count": 19,
   "id": "affa1f1a",
   "metadata": {
    "slideshow": {
     "slide_type": "slide"
    }
   },
   "outputs": [
    {
     "name": "stdout",
     "output_type": "stream",
     "text": [
      "e_rel = 0.0009906991339454106 < 0.001 \n"
     ]
    }
   ],
   "source": [
    "# Erro relativo máximo com k = 4 (4 casas decimais de truncamento)\n",
    "k = 4\n",
    "y = 0.100599664\n",
    "fl_y =  0.1005\n",
    "e_rel_y = abs((y-fl_y)/y)\n",
    "if e_rel_y < 10**(-k+1):\n",
    "    print(f'e_rel = {e_rel_y} < {10**(-k+1)} ')"
   ]
  },
  {
   "cell_type": "markdown",
   "id": "0c46dcc7",
   "metadata": {
    "slideshow": {
     "slide_type": "fragment"
    }
   },
   "source": [
    "Esperava-se um erro da ordem de no máximo $10^{-4+1} = 0.1\\times10^{-3} = 0.001$ como de fato ocorreu (neste caso). Ao final, no tópico **Extras** apresentamos dois códigos que tentam estourar essa cota (sem sucesso, é claro)..."
   ]
  },
  {
   "cell_type": "markdown",
   "id": "436d6c53",
   "metadata": {
    "slideshow": {
     "slide_type": "slide"
    }
   },
   "source": [
    "### Cota Superior Para o Erro Devido a Utilização de Arredondamento"
   ]
  },
  {
   "cell_type": "markdown",
   "id": "18ad2db7",
   "metadata": {
    "slideshow": {
     "slide_type": "slide"
    }
   },
   "source": [
    "A representação de números de máquina em Ponto Flutuante $fl_{k}(y)$ é tal que o erro relativo é:\n",
    "$ $\n",
    "\n",
    "$$\\left|\\frac{y-fl_{k}(y)}{y}\\right| = \\left|\\frac{0.d_{1}d_{2}...d_{k}d_{k+1}...\\times10^{n} - 0.\\delta_{1}\\delta_{2}...\\delta_{k}\\times10^{n}}{0.d_{1}d_{2}...d_{k}d_{k+1}...\\times10^{n}}\\right| =$$\n",
    "\n",
    "$$=\\left|\\frac{0.\\delta'_{k+1}\\delta'_{k+2}...\\times10^{n-k}}{0.d_{1}d_{2}...\\times10^{n}}\\right| = \\left|\\frac{0.\\delta'_{k+1}\\delta'_{k+2}...}{0.d_{1}d_{2}...}\\right|\\times10^{-k}$$\n",
    "\n",
    "Uma vez que $d_{1} \\neq 0$ temos que o denominador é limitado inferiormente por $0.1$. Além disso, note que o numerador é limitado superiormente por $0.5$. Portanto,\n",
    "$ $\n",
    "$$\\left|\\frac{y-fl_{k}(y)}{y}\\right| \\leq \\frac{0.5}{0.1}\\times10^{-k} = 5\\times10^{-k} = 0.5\\times10^{-k+1}.$$"
   ]
  },
  {
   "cell_type": "code",
   "execution_count": 20,
   "id": "ff7e9115",
   "metadata": {
    "slideshow": {
     "slide_type": "slide"
    }
   },
   "outputs": [
    {
     "name": "stdout",
     "output_type": "stream",
     "text": [
      "e_rel = 0.0004915544982435259 < 0.0005 \n"
     ]
    }
   ],
   "source": [
    "# Erro relativo máximo (Veja em extras como foi gerado o valor de y para encostar em 0.5*10**(-k+1), k = 4)\n",
    "k = 4\n",
    "y = 0.10005081956958761\n",
    "fl_y =  0.1001\n",
    "e_rel_y = abs((y-fl_y)/y)\n",
    "if e_rel_y < 0.5*10**(-k+1):\n",
    "    print(f'e_rel = {e_rel_y} < {0.5*10**(-k+1)} ')"
   ]
  },
  {
   "cell_type": "markdown",
   "id": "baffb8f3",
   "metadata": {
    "slideshow": {
     "slide_type": "fragment"
    }
   },
   "source": [
    "Esperava-se um erro da ordem de no máximo $0.5\\times10^{-4+1} = 0.5\\times10^{-3} = 0.0005$ como de fato ocorreu!"
   ]
  },
  {
   "cell_type": "markdown",
   "id": "69ebb38a",
   "metadata": {
    "slideshow": {
     "slide_type": "slide"
    }
   },
   "source": [
    "### Adptação a Erros de Máquina Envolvendo as Operações $+$, $-$, $\\times$, $\\div$\n",
    "\n",
    "A seguir apresentaremos um exemplo envolvendo erros computacionais associados às operações de $+$, $-$, $\\times$ e $\\div$. A abordagem deste tópico será breve. Para mais informações consulte [1]."
   ]
  },
  {
   "cell_type": "markdown",
   "id": "1b7b5e00",
   "metadata": {
    "slideshow": {
     "slide_type": "slide"
    }
   },
   "source": [
    "### <font color='blue'> Exemplo: </font>\n",
    "\n",
    "<font color='blue'> Considerando $x = \\frac{5}{7}$ e $y = \\frac{1}{3}$ calcule as operações de $+$, $-$, $\\times$ e $\\div$ admitindo um truncamento de $5$ algarismos para cálculos. Calcule os erros absoluto e relativo.\n",
    "</font>    "
   ]
  },
  {
   "cell_type": "markdown",
   "id": "c4ae7c7e",
   "metadata": {
    "slideshow": {
     "slide_type": "fragment"
    }
   },
   "source": [
    "<font color='blue'> O respectivos valores de truncamento de $x = \\frac{5}{7}$ e $y = \\frac{1}{3}$ com $5$ algarismos são, respectivamente, $fl_{5}(x) = 0.71428$ e $fl_{5}(y) = 0.33333$. A tabela a seguir apresenta todos os cálculos: $$ $$\n",
    "$$\n",
    "\\begin{array}{cccccccccc}\n",
    "\\hline\n",
    "Operação\t    & \t Resultado   \t            & Valor \\, Real & Erro \\, Absoluto      & Erro \\, Relativo       \\\\\n",
    "\\hline\n",
    "    x+y     \t& \t 0.10476\\times10^{1}        & 22/21      & 0.190\\times10^{-4} & 0.182\\times10^{-4}  \\\\\n",
    "    x-y   \t\t& \t 0.38095\\times10^{0}        &  8/21      & 0.238\\times10^{-4} & 0.625\\times10^{-5}  \\\\\n",
    " x\\times y     \t& \t 0.23809\\times10^{0}        &  5/21      & 0.524\\times10^{-5} & 0.220\\times10^{-4}  \\\\\n",
    "  x\\div y       & \t 0.21428\\times10^{1}        & 15/7       & 0.571\\times10^{-5} & 0.267\\times10^{-4}  \\\\\n",
    "\\hline\n",
    "\\end{array}\n",
    "$$\n",
    "</font>"
   ]
  },
  {
   "cell_type": "markdown",
   "id": "0ce322f4",
   "metadata": {
    "slideshow": {
     "slide_type": "slide"
    }
   },
   "source": [
    "### <font color='blue'> Exemplo: </font>\n",
    "\n",
    "<font color='blue'> Considerando $x = \\frac{5}{7}$ e $y = \\frac{1}{3}$ calcule as operações de $+$, $-$, $\\times$ e $\\div$ admitindo um arredondamento de $5$ algarismos para cálculos. Calcule os erros absoluto e relativo.\n",
    "</font>   "
   ]
  },
  {
   "cell_type": "markdown",
   "id": "a936354f",
   "metadata": {
    "slideshow": {
     "slide_type": "fragment"
    }
   },
   "source": [
    "<font color='blue'>    \n",
    "<font color='blue'> O respectivos valores de truncamento de $x = \\frac{5}{7}$ e $y = \\frac{1}{3}$ com $5$ algarismos são, respectivamente, $fl_{5}(x) = 0.7142\\underline{9}$ e $fl_{5}(y) = 0.33333$. A tabela a seguir apresenta todos os cálculos: $$ $$\n",
    "    \n",
    "$$\n",
    "\\begin{array}{cccccccccc}\n",
    "\\hline\n",
    "Operação\t    & \t Resultado   \t            & Valor Real & Erro Absoluto      & Erro Relativo       \\\\\n",
    "\\hline\n",
    "    x+y     \t& \t 0.10476\\times10^{1}        & 22/21      & 0.190\\times10^{-4} & 0.182\\times10^{-4}  \\\\\n",
    "    x-y   \t\t& \t 0.38095\\times10^{0}        &  8/21      & 0.762\\times10^{-5} & 0.200\\times10^{-4}  \\\\\n",
    " x\\times y     \t& \t 0.23809\\times10^{0}        &  5/21      & 0.524\\times10^{-5} & 0.220\\times10^{-4}  \\\\\n",
    "  x\\div y       & \t 0.21429\\times10^{1}        & 15/7       & 0.429\\times10^{-4} & 0.200\\times10^{-4}  \\\\\n",
    "\\hline\n",
    "\\end{array}\n",
    "$$\n"
   ]
  },
  {
   "cell_type": "markdown",
   "id": "d567280e",
   "metadata": {
    "slideshow": {
     "slide_type": "slide"
    }
   },
   "source": [
    "### <font color='blue'> Exemplo: </font>\n",
    "\n",
    "<font color='blue'> Considerando $x = \\frac{3}{7}$, $y = \\frac{2}{3}$ e $z = \\frac{1}{9}$ calcule o valor de $(x+y)\\times z^{2}$ considerando truncamento e arredondamento para $5$ casas decimais. Calcule os erros absoluto e relativo.\n",
    "</font>   "
   ]
  },
  {
   "cell_type": "markdown",
   "id": "58234664",
   "metadata": {
    "slideshow": {
     "slide_type": "slide"
    }
   },
   "source": [
    "## Referências\n",
    "\n",
    "[1] BURDEN, R.L; FAIRES, J. D. Análise Numérica. 8. ed. São Paulo: CENGAGE Learning, 2008.\n"
   ]
  },
  {
   "cell_type": "markdown",
   "id": "6bd33b11",
   "metadata": {
    "slideshow": {
     "slide_type": "slide"
    }
   },
   "source": [
    "## Extras"
   ]
  },
  {
   "cell_type": "code",
   "execution_count": null,
   "id": "a9be115e",
   "metadata": {
    "slideshow": {
     "slide_type": "slide"
    }
   },
   "outputs": [],
   "source": [
    "import random\n",
    "k = 4\n",
    "for n in range(1,10000000):\n",
    "    y = numero_aleatorio = random.random()\n",
    "    f = math.trunc(10**k*y)/10**k\n",
    "    if y>0.1:\n",
    "        e = abs((y-f)/y)\n",
    "        if e>0.99*10**(-k+1):\n",
    "            print(f'y = {y}')\n",
    "            print(f'f ={f}')\n",
    "            print(f'e = {e}')\n",
    "            print('------')\n",
    "\n"
   ]
  },
  {
   "cell_type": "code",
   "execution_count": null,
   "id": "b50eee98",
   "metadata": {
    "slideshow": {
     "slide_type": "slide"
    }
   },
   "outputs": [],
   "source": [
    "import random\n",
    "k = 4\n",
    "for n in range(1,10000000):\n",
    "    y = numero_aleatorio = random.random()\n",
    "    f =round(y,k)\n",
    "    if y>0.1:\n",
    "        e = abs((y-f)/y)\n",
    "        if e>0.49*10**(-k+1):\n",
    "            print(f'y = {y}')\n",
    "            print(f'f ={f}')\n",
    "            print(f'e = {e}')\n",
    "            print('------')\n"
   ]
  }
 ],
 "metadata": {
  "celltoolbar": "Slideshow",
  "kernelspec": {
   "display_name": "Python 3 (ipykernel)",
   "language": "python",
   "name": "python3"
  },
  "language_info": {
   "codemirror_mode": {
    "name": "ipython",
    "version": 3
   },
   "file_extension": ".py",
   "mimetype": "text/x-python",
   "name": "python",
   "nbconvert_exporter": "python",
   "pygments_lexer": "ipython3",
   "version": "3.11.5"
  }
 },
 "nbformat": 4,
 "nbformat_minor": 5
}

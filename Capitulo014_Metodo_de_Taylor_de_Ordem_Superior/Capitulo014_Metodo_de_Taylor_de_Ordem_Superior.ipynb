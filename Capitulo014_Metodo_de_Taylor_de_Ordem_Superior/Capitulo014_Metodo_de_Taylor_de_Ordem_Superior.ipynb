{
 "cells": [
  {
   "cell_type": "markdown",
   "id": "d4ea28a8",
   "metadata": {
    "slideshow": {
     "slide_type": "slide"
    }
   },
   "source": [
    "<center> <img src=\"logo_ifba.jpg\" alt=\"jpg_python\" width=\"100\" height=\"200\"> </center>\n",
    "<br><br>\n",
    "<div align=\"center\"><span style=\"font-size: 26px;\"><strong>Cálculo Numérico <br></strong></span></div> <br>\n",
    "<center> <img src=\"python_gif.gif\" alt=\"gif_python\" width=\"80\"> </center>\n"
   ]
  },
  {
   "cell_type": "markdown",
   "id": "d76184a7",
   "metadata": {
    "slideshow": {
     "slide_type": "slide"
    }
   },
   "source": [
    "<div style=\"border: 2px solid black; padding: 10px; width: 95%; background-color: lightgray; display: flex; align-items: center;\">\n",
    "    <h1 style=\"color: red; text-align: center; margin: auto;\">\n",
    "        Capítulo 14: Método de Taylor de Ordem Superior\n",
    "    </h1>\n",
    "</div>\n",
    "\n",
    "<font color='red'></font>\n",
    "<a href=\"\"></a>"
   ]
  },
  {
   "cell_type": "markdown",
   "id": "ca347942",
   "metadata": {},
   "source": [
    "# <div style=\"margin-top: -20px;\">\n",
    "<hr style=\"border: 2px solid black;\">\n",
    "\n",
    "<font color='black'><span style=\"font-size: 22px;\"><strong>14. Método de Taylor de Ordem Superior</strong></span></font>\n",
    "\n",
    "<hr style=\"border: 2px solid black;\">\n",
    "</div>"
   ]
  },
  {
   "cell_type": "markdown",
   "id": "af2dcc75",
   "metadata": {},
   "source": [
    "Os métodos apresentados a seguir usam os polinômios de Taylor e o conhecimento da derivada em um nó para aproximar o valor da função em um novo nó.\n",
    "\n",
    "Suponha que a solução $y(t)$ do problema de valor inicial\n",
    "\n",
    "$$y'(t) = f(t,y), \\ \\ \\ a \\leq t \\leq b, \\ \\ \\ y(a) = \\alpha$$\n",
    "\n",
    "tenha $(n+1)$ derivadas contínuas. Se expandirmos a solução, $y(t)$, em termos de seu $n$-ésimo polinômio de Taylor em torno de $t_{i}$ e calculamos $t_{i+1}$, obtemos\n",
    "\n",
    "$$ y(t_{i+1}) = y(t_{i}) + hy'(t_{i}) + \\frac{h^{2}}{2}y''(t_{i}) + \\dots + \\frac{h^{n}}{n!}y^{(n)}(t_{i}) + \\frac{h^{n+1}}{(n+1)!}y^{(n+1)}(\\xi_{i}) \\tag{1}$$\n",
    "para algum $\\xi_{i}$ em $(t_{i},t_{i+1})$. \n",
    "\n",
    "A derivação sucessiva da solução, $y(t)$, fornece\n",
    "$$y'(t) = f(t,y(t)), \\,\\, y''(t) = f'(t,y(t)), \\,\\, \\ldots, y^{(k)} = f^{(k-1)}(t,y(t))$$\n",
    " \n",
    "Substituindo $y'(t), y''(t), \\ldots, y^{(k)}$ na equação ($1$), teremos:\n",
    "\n",
    "$$y(t_{i+1}) = y(t_{i}) + hf(t_{i},y(t_{i})) + \\frac{h^{2}}{2}f'(t_{i},y(t_{i})) + \\ldots + \\frac{h^{n}}{n!}f^{(n-1)}(t_{i},y(t_{i})) + \\frac{h^{n+1}}{(n+1)!}f^{(n)}(\\xi_{i},y(\\xi_{i}))$$\n",
    "\n",
    "Ignorando o termo de erro $\\frac{h^{n+1}}{(n+1)!}f^{(n)}(\\xi_{i},y(\\xi_{i}))$ temos $\\omega{i} \\approx y(t_{i})$. Assim, deduzimos o método de Taylor de Ordem $n$:\n",
    "\n",
    "<font color='red'> $\\omega_{0} = \\alpha,$<br><br>\n",
    " $\\omega_{i+1} = \\omega_{i} + hT^{(n)}(t_{i},\\omega_{i}), \\,\\,\\, i = 0,1,\\ldots,N-1,$ </font><br><br>\n",
    " em que<br><br>\n",
    " <font color='red'> $$T^{(n)}(t_{i},\\omega_{i}) = f(t_{i},\\omega_{i}) + \\frac{h}{2}f'(t_{i},\\omega_{i}) + \\ldots + \\frac{h^{n-1}}{n!}f^{(n-1)}(t_{i},\\omega_{i}). $$</font>"
   ]
  },
  {
   "cell_type": "markdown",
   "id": "5217dac1",
   "metadata": {},
   "source": [
    "#### <font color='blue'> Exemplo 1 </font>"
   ]
  },
  {
   "cell_type": "markdown",
   "id": "b0857ddf",
   "metadata": {},
   "source": [
    "<font color='blue'> Aplique o método de Taylor de segunda ordem ao problema de valor inicial<br><br>\n",
    " $$y' = y-t^{2}+1 \\ \\ \\ 0 \\leq t \\leq 0.4, \\ \\ \\ y(0) = 0.5,$$<br>\n",
    " com $N=2$. Compare o resultado obtido com a solução exata $y(t) = (t+1)^{2} -0.5e^{t}$."
   ]
  },
  {
   "cell_type": "markdown",
   "id": "51f8a90f",
   "metadata": {},
   "source": [
    "##### <font color='blue'> Solução </font>"
   ]
  },
  {
   "cell_type": "markdown",
   "id": "9ba2cd9f",
   "metadata": {},
   "source": [
    "<font color='blue'> Tomemos $N=2$, $h=0.2$, $t_{i} = 0.2i$ e $\\omega_{0} = 0.5$. Note que<br><br>\n",
    " $$f(t,y(t)) = y(t) - t^{2} + 1 \\Rightarrow f'(t,y(t)) = y'(t) - 2t = (y(t) - t^{2} + 1) - 2t = y(t) - t^{2} - 2t + 1.$$<br>\n",
    " Assim,<br><br>\n",
    " $$T^{(2)}(t_{i},\\omega_{i}) = f(t_{i},\\omega_{i}) + \\frac{h}{2}f'(t_{i},\\omega_{i}) = \\omega_{i} - t_{i}^{2} + 1 + \\frac{h}{2}(\\omega_{i} - t_{i}^{2}-2t_{i} +1) = \\left(1 + \\frac{h}{2}\\right)(\\omega_{i} - t_{i}^{2} + 1) - ht_{i}.$$<br>\n",
    " A equação iterativa é dada por: $\\omega_{i+1} = \\omega_{i} + h\\left(\\left(1 + \\frac{h}{2}\\right)(\\omega_{i} - t_{i}^{2} + 1) - ht_{i}\\right)$, $i=0,1$.<br><br>\n",
    " Acompanhe os resultados na tabela a seguir:<br><br>\n",
    " $$\\begin{array}{cccc}\n",
    "t_{i}  & \\omega_{i}    \t\t   & y_{i} = y(t_{i})  \t\t\t& |y_{i} - \\omega_{i}|\\\\\n",
    "0.0    & 0.500000000000000     & 0.500000000000000       \t& 0.000000000000000\\\\\n",
    "0.2    & 0.830000000000000     & 0.829298620919915       \t& 7.013790800850517e-04\\\\\n",
    "0.4    & 1.215800000000000     & 1.214087651179365      \t& 1.712348820635645e-03\\\\\n",
    "\\end{array}$$"
   ]
  },
  {
   "cell_type": "markdown",
   "id": "ef68956e",
   "metadata": {},
   "source": [
    "#### <font color='blue'> Exemplo 2 </font>"
   ]
  },
  {
   "cell_type": "markdown",
   "id": "699395ea",
   "metadata": {},
   "source": [
    "<font color='blue'> Aplique o método de Taylor de terceira ordem ao problema de valor inicial<br><br>\n",
    " $$y' = y-t^{2}+1 \\ \\ \\ 0 \\leq t \\leq 0.4, \\ \\ \\ y(0) = 0.5,$$<br>\n",
    " com $N=2$. Compare o resultado obtido com a solução exata $y(t) = (t+1)^{2} -0.5e^{t}$."
   ]
  },
  {
   "cell_type": "markdown",
   "id": "47ad7f3d",
   "metadata": {},
   "source": [
    "##### <font color='blue'> Solução </font>"
   ]
  },
  {
   "cell_type": "markdown",
   "id": "6645b2b2",
   "metadata": {},
   "source": [
    "<font color='blue'> Aproveitando os dados do **Exemplo 1**, basta calcularmos as derivadas $f''$ e obtermos $T^{(3)}(t_{i},\\omega_{i})$ para montarmos nossa equação iterativa.<br><br>\n",
    " $$f'(t,y(t)) = y(t) - t^{2} - 2t + 1 \\Rightarrow f''(t,y(t)) = y'(t) - 2t - 2 = (y(t)-t^{2}+1) - 2t - 2 = y(t) - t^{2} - 2t - 1$$<br>\n",
    " Assim,<br><br>\n",
    " $$T^{(3)}(t_{i},\\omega_{i}) = f(t_{i},\\omega_{i}) + \\frac{h}{2}f'(t_{i},\\omega_{i}) + \\frac{h^{2}}{6}f''(t_{i},\\omega_{i}) = $$<br>\n",
    " $$= \\omega_{i}-t_{i}^{2} + 1 + \\frac{h}{2}(\\omega_{i}-t_{i}^{2}-2t_{i}+1) + \\frac{h^{2}}{6}(\\omega_{i}-t_{i}^{2}-2t_{i}-1)$$<br>\n",
    " A equação iterativa é dada por: $\\omega_{i+1} = \\omega_{i} + h\\left(\\omega_{i}-t_{i}^{2} + 1 + \\frac{h}{2}(\\omega_{i}-t_{i}^{2}-2t_{i}+1) + \\frac{h^{2}}{6}(\\omega_{i}-t_{i}^{2}-2t_{i}-1)\\right)$, $i=0,1$.<br><br>\n",
    " $$\\begin{array}{cccc}\n",
    "t_{i}  & \\omega_{i}    \t\t   & y_{i} = y(t_{i})  \t\t\t& |y_{i} - \\omega_{i}|\\\\\n",
    "0.0    & 0.500000000000000     & 0.500000000000000       \t& 0.000000000000000{\\color{white}.........}\\\\\n",
    "0.2    & 0.829333333333333     & 0.829298620919915       \t& 3.471241341801434e-05\\\\\n",
    "0.4    & 1.214172444444444     & 1.214087651179365      \t& 8.479326507893070e-05\\\\\n",
    "\\end{array}$$"
   ]
  },
  {
   "cell_type": "markdown",
   "id": "cd2533e4",
   "metadata": {},
   "source": [
    "# <div style=\"margin-top: -20px;\">\n",
    "<hr style=\"border: 2px solid black;\">\n",
    "\n",
    "<font color='black'><span style=\"font-size: 22px;\"><strong>Implementações</strong></span></font>\n",
    "\n",
    "<hr style=\"border: 2px solid black;\">\n",
    "</div>"
   ]
  },
  {
   "cell_type": "markdown",
   "id": "94d15b60",
   "metadata": {},
   "source": [
    "Apresentaremos a seguir  o algoritmo referente ao Método de Euler e sua posterior implementação. "
   ]
  },
  {
   "cell_type": "markdown",
   "id": "b414552e",
   "metadata": {},
   "source": [
    "#### <font color='darkpurple'> Algoritmo: Método de Taylor de Ordem 2</font>"
   ]
  },
  {
   "cell_type": "markdown",
   "id": "a095d722",
   "metadata": {},
   "source": [
    "<font color='darkpurple'> Método de Taylor de Ordem 2: Para encontrar uma aproximação da solução do problema de valor inicial<br><br>\n",
    " $$y' = f(t,y), \\ \\ \\ a \\leq t \\leq b, \\ \\ \\ y(a) = \\alpha,$$<br>\n",
    " em $N+1$ números igualmente espaçados no intervalo $[a,b]$.<br><br>\n",
    " **ENTRADAS:** função $f$; derivada $f'$; extremidades $a$, $b$; número inteiro $N$; condição inicial $\\alpha$.<br><br>\n",
    " **SAÍDA:** aproximação $\\omega$ de $y$ nos $N+1$ valores de $t$.<br><br>\n",
    " **Passo 1:** Faça $h = \\frac{b-a}{N}$;<br><br>\n",
    " $\\ \\ \\ $ Faça $t = a$;<br><br>\n",
    " $\\ \\ \\ $ Faça $\\omega = \\alpha$<br><br>\n",
    " $\\ \\ \\ $ SAÍDA $(t,\\omega)$<br><br>\n",
    " **Passo 2:** Para $i=1,2, \\ldots, N$ execute os Passos $3$ e $4$;<br><br>\n",
    " $\\ \\ \\ $ **Passo 3:** Faça $\\omega = \\omega + hf(t,\\omega) + \\frac{h^{2}}{2}f'(t,\\omega)$; (*Calcule $\\omega_{i}$*);<br><br>\n",
    " $\\ \\ \\ \\ \\ \\ \\ \\ \\ \\ \\ \\ \\ \\ \\ \\ \\ $ Faça $t = a + ih$; (*Calcule $t_{i}$*)<br><br>\n",
    " $\\ \\ \\ $ **Passo 4:** SAÍDA $(t,\\omega)$<br><br>\n",
    " **Passo 5:** PARE."
   ]
  },
  {
   "cell_type": "markdown",
   "id": "0637299b",
   "metadata": {},
   "source": [
    "#### <font color='darkblue'> Código Python: Método de Taylor de Ordem 2</font>"
   ]
  },
  {
   "cell_type": "code",
   "execution_count": 8,
   "id": "acfd3fa8",
   "metadata": {
    "ExecuteTime": {
     "end_time": "2024-04-01T13:34:25.997286Z",
     "start_time": "2024-04-01T13:34:25.990608Z"
    }
   },
   "outputs": [],
   "source": [
    "def taylor2(f, df, a, b, w0, n):\n",
    "    F = lambda t, y: eval(f)\n",
    "    DF = lambda t, y: eval(df)\n",
    "    a = float(a)\n",
    "    b = float(b)\n",
    "    w0 = float(w0)\n",
    "    n = int(n)\n",
    "    \n",
    "    h = (b - a) / n\n",
    "    t = a\n",
    "    w = w0\n",
    "    i = 1\n",
    "    print(f'Uma aproximação discreta de {n} passos para o PVI  y´={f},  {a} <= t <= {b},  y({a}) = {w0},  via '\n",
    "              f'método de Taylor de Ordem 2, é dada por:')\n",
    "    print(f'i                  w_i')\n",
    "    print(f'%d           %0.13f' % (i - 1, w))\n",
    "    while i <= n:\n",
    "        w = w + h * F(t, w) + ((h**2)/2)*DF(t, w)\n",
    "        t = a + i * h\n",
    "        i = i + 1\n",
    "        print(f'%d           %0.13f' % (i - 1, w))\n",
    "    print('')"
   ]
  },
  {
   "cell_type": "code",
   "execution_count": 9,
   "id": "a89dbb53",
   "metadata": {
    "ExecuteTime": {
     "end_time": "2024-04-01T13:34:27.635971Z",
     "start_time": "2024-04-01T13:34:27.631195Z"
    },
    "scrolled": true
   },
   "outputs": [
    {
     "name": "stdout",
     "output_type": "stream",
     "text": [
      "Uma aproximação discreta de 2 passos para o PVI  y´=y-t**2+1,  0.0 <= t <= 0.4,  y(0.0) = 0.5,  via método de Taylor de Ordem 2, é dada por:\n",
      "i                  w_i\n",
      "0           0.5000000000000\n",
      "1           0.8300000000000\n",
      "2           1.2158000000000\n",
      "\n"
     ]
    }
   ],
   "source": [
    "taylor2('y-t**2+1', 'y - t**2 - 2*t + 1',0,0.4,0.5,2)"
   ]
  },
  {
   "cell_type": "markdown",
   "id": "09065007",
   "metadata": {},
   "source": [
    "# <div style=\"margin-top: -20px;\">\n",
    "<hr style=\"border: 2px solid black;\">\n",
    "\n",
    "<font color='black'><span style=\"font-size: 22px;\"><strong>Exercícios</strong></span></font>\n",
    "\n",
    "<hr style=\"border: 2px solid black;\">\n",
    "</div>"
   ]
  },
  {
   "cell_type": "markdown",
   "id": "a5b39009",
   "metadata": {},
   "source": [
    "#### Exercício 1"
   ]
  },
  {
   "cell_type": "markdown",
   "id": "efe8c74f",
   "metadata": {},
   "source": [
    "Use o método de Taylor de segunda ordem para obter uma aproximação para cada um dos seguintes problemas de valor inicial. Calcule o valor exato e o erro em cada passo a partir da solução fornecida.\n",
    "\n",
    "a) $y' = te^{3t}-2y, \\ \\ \\ 0 \\leq t \\leq 1, \\ \\ \\ y(0) = 0, \\ \\ \\ h=0.5.$ (Solução: $y(t) = \\frac{1}{25}e^{-2t} \\left(1 + e^{5t}(-1 + 5t)\\right)$)\n",
    "\n",
    "b $y' = 1 + (t-y)^{2}, \\ \\ \\ 2 \\leq t \\leq 3, \\ \\ \\ y(2) = 1, \\ \\ \\ h=0.5.$ (Solução: $y(t) = \\frac{t^{2}-t-1}{t-1}$)\n",
    "\n",
    "c) $y' = cos(2t) + sen(3t), \\ \\ \\ 0 \\leq t \\leq 1, \\ \\ \\ y(0) = 1, \\ \\ \\ h=0.25.$ (Solução: $y(t) = \\frac{1}{6}(3sen(2t) - 2cos(3t) + 8)$)"
   ]
  },
  {
   "cell_type": "markdown",
   "id": "b97ef50a",
   "metadata": {},
   "source": [
    "#### Exercício 2"
   ]
  },
  {
   "cell_type": "markdown",
   "id": "13b987b1",
   "metadata": {},
   "source": [
    "Aplique o método de Taylor de quarta ordem ao problema de valor inicial\n",
    "\n",
    "$$y' = y-t^{2}+1 \\ \\ \\ 0 \\leq t \\leq 2, \\ \\ \\ y(0) = 0.5,$$\n",
    "\n",
    "com $N=2$. Compare o resultado obtido com a solução exata $y(t) = (t+1)^{2} -0.5e^{t}$."
   ]
  },
  {
   "cell_type": "markdown",
   "id": "50d2d60e",
   "metadata": {},
   "source": [
    "# <div style=\"margin-top: -20px;\">\n",
    "<hr style=\"border: 2px solid black;\">\n",
    "\n",
    "<font color='black'><span style=\"font-size: 22px;\"><strong>Respostas dos Exercícios</strong></span></font>\n",
    "\n",
    "<hr style=\"border: 2px solid black;\">\n",
    "</div>"
   ]
  },
  {
   "cell_type": "markdown",
   "id": "05353962",
   "metadata": {},
   "source": [
    "#### Resposta do Exercício 1"
   ]
  },
  {
   "cell_type": "markdown",
   "id": "8a8f688e",
   "metadata": {},
   "source": [
    "$\\text{a)} \\ \\ \\ \\begin{array}{ccccc}\n",
    "i  & t_{i}    & w_{i}  \t& y(t_{i}) & |y(t_{i})-w_{i}|\\\\\n",
    "1  & 0.5    & 0.125000000000000  \t& 0.283616521867142 & 0.158616521867142\\\\\n",
    "2  & 1.0    & 2.023238968272903  \t& 3.219099319039491 & 1.195860350766588 \\\\\n",
    "\\end{array}$\n",
    "\n",
    "$\\text{b)} \\ \\ \\ \\begin{array}{ccccc}\n",
    "i  & t_{i}    & w_{i}  \t& y(t_{i}) & |y(t_{i})-w_{i}| \\\\\n",
    "1  & 2.5  & 1.750000000000000  \t& 1.833333333333333 & 8.333333333333304e-02\\\\\n",
    "2  & 3.0  & 2.425781250000000  \t& 2.500000000000000 & 7.421875000000000e-02\\\\\n",
    "\\end{array}$\n",
    "\n",
    "$\\text{c)} \\ \\ \\ \\begin{array}{ccccc}\n",
    "i  & t_{i}    & w_{i}  \t& y(t_{i}) & |y(t_{i})-w_{i}|\\\\\n",
    "1  & 0.25    & 1.343750000000000  \t& 1.329149813010828 & 1.460018698917209e-02\\\\\n",
    "2  & 0.50    & 1.772187065772585  \t& 1.730489758514714 & 4.169730725787080e-02\\\\\n",
    "3  & 0.75    & 2.110676064996487  \t& 2.041472034209607 & 6.920403078688020e-02 \\\\\n",
    "4  & 1.00    & 2.201643950842383  \t& 2.117979545612989 & 8.366440522939378e-02\\\\\n",
    "\\end{array}$"
   ]
  },
  {
   "cell_type": "markdown",
   "id": "45acbb64",
   "metadata": {},
   "source": [
    "#### Resposta do Exercício 2"
   ]
  },
  {
   "cell_type": "markdown",
   "id": "e3304a6d",
   "metadata": {},
   "source": [
    "Temos que $N=2$, h = $0.2$, $t_{i} = 0.2i$ e $\\omega_{0} = 0.5$. Note que\n",
    "\n",
    "$$f(t,y(t)) = y(t) - t^{2} + 1 \\Rightarrow f'(t,y(t)) = y'(t) - 2t = (y(t) - t^{2} + 1) - 2t = y(t) - t^{2} - 2t + 1.$$\n",
    "\n",
    "$$f'(t,y(t)) = y(t) - t^{2} - 2t + 1 \\Rightarrow f''(t,y(t)) = y'(t) - 2t - 2 = (y(t)-t^{2}+1) - 2t - 2 = y(t) - t^{2} - 2t - 1$$\n",
    "\n",
    "$$f''(t,y(t)) = y(t) - t^{2} - 2t - 1 \\Rightarrow f'''(t,y(t)) = y'(t) - 2t - 2 = (y(t)-t^{2}+1) - 2t - 2 = y(t) - t^{2} - 2t - 1$$\n",
    "\n",
    "Assim,\n",
    "\n",
    "$$T^{(4)}(t_{i},\\omega_{i}) = f(t_{i},\\omega_{i}) + \\frac{h}{2}f'(t_{i},\\omega_{i}) + \\frac{h^{2}}{6}f''(t_{i},\\omega_{i}) + \\frac{h^{3}}{24}f'''(t_{i},\\omega_{i}) = $$\n",
    "\n",
    "$$= \\omega_{i}-t_{i}^{2} + 1 + \\frac{h}{2}(\\omega_{i}-t_{i}^{2}-2t_{i}+1) + \\frac{h^{2}}{6}(\\omega_{i}-t_{i}^{2}-2t_{i}-1) + \\frac{h^{3}}{24}(\\omega_{i}-t_{i}^{2}-2t_{i}-1)=$$\n",
    "\n",
    "$$= \\left(1 + \\frac{h}{2} + \\frac{h^{2}}{6}+ \\frac{h^{3}}{24}\\right) (\\omega_{i}-t_{i}^{2}) - \\left(1 + \\frac{h}{3} + \\frac{h^{2}}{12}\\right)ht_{i} + 1 + \\frac{h}{2} - \\frac{h^{2}}{6} - \\frac{h^{3}}{24}$$\n",
    "\n",
    "A equação iterativa é dada por: $\\omega_{i+1} = \\omega_{i} + h\\left(\\left(1 + \\frac{h}{2} + \\frac{h^{2}}{6} + \\frac{h^{3}}{24}\\right)(\\omega_{i}-t_{i}^{2}) - \\left(1 + \\frac{h}{3} + \\frac{h^{2}}{12}\\right)ht_{i} + 1 + \\frac{h}{2} - \\frac{h^{2}}{6} - \\frac{h^{3}}{24}\\right)$, $i=0,1$.\n",
    "\n",
    "$$\\begin{array}{cccc}\n",
    "t_{i}  & \\omega_{i}    \t\t   & y_{i} = y(t_{i})  \t\t\t& |y_{i} - \\omega_{i}|\\\\\n",
    "0.0    & 0.500000000000000     & 0.500000000000000       \t& 0.000000000000000\\\\\n",
    "0.2    & 0.829300000000000     & 0.829298620919915       \t& 1.379080085128770e-06\\\\\n",
    "0.4    & 1.214091020000000     & 1.214087651179365      \t& 3.368820635119008e-06\\\\\n",
    "\\end{array}$$"
   ]
  },
  {
   "cell_type": "markdown",
   "id": "c8fb0c17",
   "metadata": {},
   "source": [
    "# <div style=\"margin-top: -20px;\">\n",
    "<hr style=\"border: 2px solid black;\">\n",
    "\n",
    "<font color='black'><span style=\"font-size: 22px;\"><strong>Vídeo Aulas</strong></span></font>\n",
    "\n",
    "<hr style=\"border: 2px solid black;\">\n",
    "</div>"
   ]
  },
  {
   "cell_type": "markdown",
   "id": "f54580f2",
   "metadata": {},
   "source": [
    "Clicando nos links a seguir você será redirecionado às aulas referentes a este capítulo:\n",
    "\n",
    "[Método de Taylor de Ordem Superior](https://youtu.be/kebLCp_TZ6I)\n",
    "\n",
    "[Exemplo Envolvendo o Método de Taylor de Ordem 2](https://youtu.be/HsPvaDvXsgk)\n",
    "\n",
    "[Exemplo Envolvendo o Método de Taylor de Ordem 3](https://youtu.be/fgZbtHg_wTU)"
   ]
  },
  {
   "cell_type": "markdown",
   "id": "af9a7e06",
   "metadata": {},
   "source": [
    "# <div style=\"margin-top: -20px;\">\n",
    "<hr style=\"border: 2px solid black;\">\n",
    "\n",
    "<font color='black'><span style=\"font-size: 22px;\"><strong>Implementações</strong></span></font>\n",
    "\n",
    "<hr style=\"border: 2px solid black;\">\n",
    "</div>"
   ]
  },
  {
   "cell_type": "markdown",
   "id": "d573ccfa",
   "metadata": {},
   "source": [
    "Apresentaremos a seguir  o algoritmo referente ao Método de Euler e sua posterior implementação. "
   ]
  },
  {
   "cell_type": "markdown",
   "id": "4c1115e1",
   "metadata": {},
   "source": [
    "#### <font color='darkpurple'> Algoritmo: Método de Taylor de Ordem 2</font>"
   ]
  },
  {
   "cell_type": "markdown",
   "id": "05acfc11",
   "metadata": {},
   "source": [
    "<font color='darkpurple'> Método de Taylor de Ordem 2: Para encontrar uma aproximação da solução do problema de valor inicial<br><br>\n",
    " $$y' = f(t,y), \\ \\ \\ a \\leq t \\leq b, \\ \\ \\ y(a) = \\alpha,$$<br>\n",
    " em $N+1$ números igualmente espaçados no intervalo $[a,b]$.<br><br>\n",
    " **ENTRADAS:** função $f$; derivada $f'$; extremidades $a$, $b$; número inteiro $N$; condição inicial $\\alpha$.<br><br>\n",
    " **SAÍDA:** aproximação $\\omega$ de $y$ nos $N+1$ valores de $t$.<br><br>\n",
    " **Passo 1:** Faça $h = \\frac{b-a}{N}$;<br><br>\n",
    " $\\ \\ \\ $ Faça $t = a$;<br><br>\n",
    " $\\ \\ \\ $ Faça $\\omega = \\alpha$<br><br>\n",
    " $\\ \\ \\ $ SAÍDA $(t,\\omega)$<br><br>\n",
    " **Passo 2:** Para $i=1,2, \\ldots, N$ execute os Passos $3$ e $4$;<br><br>\n",
    " $\\ \\ \\ $ **Passo 3:** Faça $\\omega = \\omega + hf(t,\\omega) + \\frac{h^{2}}{2}f'(t,\\omega)$; (*Calcule $\\omega_{i}$*);<br><br>\n",
    " $\\ \\ \\ \\ \\ \\ \\ \\ \\ \\ \\ \\ \\ \\ \\ \\ \\ $ Faça $t = a + ih$; (*Calcule $t_{i}$*)<br><br>\n",
    " $\\ \\ \\ $ **Passo 4:** SAÍDA $(t,\\omega)$<br><br>\n",
    " **Passo 5:** PARE."
   ]
  },
  {
   "cell_type": "markdown",
   "id": "db7e4417",
   "metadata": {},
   "source": [
    "#### <font color='darkblue'> Código Python: Método de Taylor de Ordem 2</font>"
   ]
  },
  {
   "cell_type": "code",
   "execution_count": 8,
   "id": "e1501b94",
   "metadata": {
    "ExecuteTime": {
     "end_time": "2024-04-01T13:34:25.997286Z",
     "start_time": "2024-04-01T13:34:25.990608Z"
    }
   },
   "outputs": [],
   "source": [
    "def taylor2(f, df, a, b, w0, n):\n",
    "    F = lambda t, y: eval(f)\n",
    "    DF = lambda t, y: eval(df)\n",
    "    a = float(a)\n",
    "    b = float(b)\n",
    "    w0 = float(w0)\n",
    "    n = int(n)\n",
    "    \n",
    "    h = (b - a) / n\n",
    "    t = a\n",
    "    w = w0\n",
    "    i = 1\n",
    "    print(f'Uma aproximação discreta de {n} passos para o PVI  y´={f},  {a} <= t <= {b},  y({a}) = {w0},  via '\n",
    "              f'método de Taylor de Ordem 2, é dada por:')\n",
    "    print(f'i                  w_i')\n",
    "    print(f'%d           %0.13f' % (i - 1, w))\n",
    "    while i <= n:\n",
    "        w = w + h * F(t, w) + ((h**2)/2)*DF(t, w)\n",
    "        t = a + i * h\n",
    "        i = i + 1\n",
    "        print(f'%d           %0.13f' % (i - 1, w))\n",
    "    print('')"
   ]
  },
  {
   "cell_type": "code",
   "execution_count": 9,
   "id": "f456392c",
   "metadata": {
    "ExecuteTime": {
     "end_time": "2024-04-01T13:34:27.635971Z",
     "start_time": "2024-04-01T13:34:27.631195Z"
    },
    "scrolled": true
   },
   "outputs": [
    {
     "name": "stdout",
     "output_type": "stream",
     "text": [
      "Uma aproximação discreta de 2 passos para o PVI  y´=y-t**2+1,  0.0 <= t <= 0.4,  y(0.0) = 0.5,  via método de Taylor de Ordem 2, é dada por:\n",
      "i                  w_i\n",
      "0           0.5000000000000\n",
      "1           0.8300000000000\n",
      "2           1.2158000000000\n",
      "\n"
     ]
    }
   ],
   "source": [
    "taylor2('y-t**2+1', 'y - t**2 - 2*t + 1',0,0.4,0.5,2)"
   ]
  }
 ],
 "metadata": {
  "kernelspec": {
   "display_name": "Python 3 (ipykernel)",
   "language": "python",
   "name": "python3"
  },
  "language_info": {
   "codemirror_mode": {
    "name": "ipython",
    "version": 3
   },
   "file_extension": ".py",
   "mimetype": "text/x-python",
   "name": "python",
   "nbconvert_exporter": "python",
   "pygments_lexer": "ipython3",
   "version": "3.11.5"
  },
  "varInspector": {
   "cols": {
    "lenName": 16,
    "lenType": 16,
    "lenVar": 40
   },
   "kernels_config": {
    "python": {
     "delete_cmd_postfix": "",
     "delete_cmd_prefix": "del ",
     "library": "var_list.py",
     "varRefreshCmd": "print(var_dic_list())"
    },
    "r": {
     "delete_cmd_postfix": ") ",
     "delete_cmd_prefix": "rm(",
     "library": "var_list.r",
     "varRefreshCmd": "cat(var_dic_list()) "
    }
   },
   "types_to_exclude": [
    "module",
    "function",
    "builtin_function_or_method",
    "instance",
    "_Feature"
   ],
   "window_display": false
  }
 },
 "nbformat": 4,
 "nbformat_minor": 5
}

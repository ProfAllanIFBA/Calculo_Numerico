{
 "cells": [
  {
   "cell_type": "markdown",
   "id": "d4ea28a8",
   "metadata": {
    "slideshow": {
     "slide_type": "slide"
    }
   },
   "source": [
    "<center> <img src=\"logo_ifba.jpg\" alt=\"jpg_python\" width=\"100\" height=\"200\"> </center>\n",
    "<br><br>\n",
    "<div align=\"center\"><span style=\"font-size: 26px;\"><strong>Cálculo Numérico <br></strong></span></div> <br>\n",
    "<center> <img src=\"python_gif.gif\" alt=\"gif_python\" width=\"80\"> </center>\n"
   ]
  },
  {
   "cell_type": "markdown",
   "id": "d76184a7",
   "metadata": {
    "slideshow": {
     "slide_type": "slide"
    }
   },
   "source": [
    "<div style=\"border: 2px solid black; padding: 10px; width: 95%; background-color: lightgray; display: flex; align-items: center;\">\n",
    "    <h1 style=\"color: red; text-align: center; margin: auto;\">\n",
    "        Capítulo 17: Método Direto da Decomposição LU\n",
    "    </h1>\n",
    "</div>\n",
    "\n",
    "<font color='red'></font>\n",
    "<a href=\"\"></a>"
   ]
  },
  {
   "cell_type": "markdown",
   "id": "b1b96b38",
   "metadata": {},
   "source": [
    "# <div style=\"margin-top: -20px;\">\n",
    "<hr style=\"border: 2px solid black;\">\n",
    "\n",
    "<font color='black'><span style=\"font-size: 22px;\"><strong>17.1 Decomposição LU</strong></span></font>\n",
    "\n",
    "<hr style=\"border: 2px solid black;\">\n",
    "</div>"
   ]
  },
  {
   "cell_type": "markdown",
   "id": "e349fb1f",
   "metadata": {},
   "source": [
    "A decomposição $LU$ é uma forma de fatoração de uma matriz não singular como o produto de uma matriz triangular inferior (lower) e uma matriz triangular superior (upper), isto é:<br><br>\n",
    "$$\n",
    "A = LU \\Leftrightarrow \\left[ \\begin{array}{cccc}\n",
    "a_{11} & a_{12} & \\ldots & a_{1n} \\\\\n",
    "a_{21} & a_{22} & \\ldots & a_{2n} \\\\\n",
    "\\vdots & \\vdots & \\ldots & \\vdots \\\\\n",
    "a_{n1} & a_{n2} & \\ldots & a_{nn} \\\\\n",
    "\\end{array}\\right]\n",
    "=\n",
    "\\left[ \\begin{array}{cccc}\n",
    "1 \t\t& 0 \t  & \\ldots & 0 \\\\\n",
    "-m_{21} & 1 \t  & \\ldots & 0 \\\\\n",
    "\\vdots & \\vdots \t  & \\ldots & \\vdots \\\\\n",
    "-m_{n1} & -m_{n2} & \\ldots& 1 \\\\\n",
    "\\end{array}\\right]\n",
    "\\cdot\n",
    "\\left[ \\begin{array}{cccc}\n",
    "u_{11} \t& u_{12} & \\ldots & u_{13} \\\\\n",
    "0 \t\t& u_{22} & & u_{23} \\\\\n",
    "\\vdots \t\t& \\vdots & \\ldots & \\vdots \\\\\n",
    "0\t \t& 0\t\t & \\ldots & u_{nn} \\\\\n",
    "\\end{array}\\right]\n",
    "$$<br>\n",
    "É possível mostrar que os valores $m_{ij}$ são os fatores multiplicativos resultantes do escalonamento da matriz $A$ e os valores $u_{ij}$ são advindos da matriz triangular superior resultante. Em particular, para matrizes $3 \\times 3$, temos:<br><br>\n",
    "$$\n",
    "\\left[ \\begin{array}{ccc}\n",
    "a_{11} & a_{12} & a_{13} \\\\\n",
    "a_{21} & a_{22} & a_{23} \\\\\n",
    "a_{31} & a_{32} & a_{33} \\\\\n",
    "\\end{array}\\right]\n",
    "=\n",
    "\\left[ \\begin{array}{ccc}\n",
    "1 \t\t& 0 \t  & 0 \\\\\n",
    "-m_{21} & 1 \t  & 0 \\\\\n",
    "-m_{31} & -m_{32} & 1 \\\\\n",
    "\\end{array}\\right]\n",
    "\\cdot\n",
    "\\left[ \\begin{array}{ccc}\n",
    "u_{11} \t& u_{12} & u_{13} \\\\\n",
    "0 \t\t& u_{22} & u_{23} \\\\\n",
    "0\t \t& 0\t\t & u_{33} \\\\\n",
    "\\end{array}\\right]\n",
    "$$"
   ]
  },
  {
   "cell_type": "markdown",
   "id": "e93a27b3",
   "metadata": {},
   "source": [
    "#### <font color='red'> Teorema 1 </font>"
   ]
  },
  {
   "cell_type": "markdown",
   "id": "0e975403",
   "metadata": {},
   "source": [
    "<font color='red'> Seja $A_{n \\times n}$ uma matriz qualquer e $A_{kk}$ uma submatriz de $A_{n \\times n}$ formada pela intersecção das primeiras $k$ linha e $k$ colunas. Se $det(A) \\neq 0$ para $k = 1, \\ldots, n-1$, então existem e são \\'unicasas matrizes $L$ e $U$."
   ]
  },
  {
   "cell_type": "markdown",
   "id": "37f3f0b7",
   "metadata": {},
   "source": [
    "#### <font color='blue'> Exemplo 1 </font>"
   ]
  },
  {
   "cell_type": "markdown",
   "id": "6f4f7e50",
   "metadata": {},
   "source": [
    "<font color='blue'> Obtenha as matrizes $L$ e $U$ associadas a matriz<br><br>\n",
    " $$\n",
    "A = \\left[ \\begin{array}{ccc}\n",
    "1 & 3 & 2 \\\\\n",
    "2 & 1 & -1 \\\\\n",
    "1 & 0 & 1 \\\\\n",
    "\\end{array}\\right].\n",
    "$$"
   ]
  },
  {
   "cell_type": "markdown",
   "id": "0f851ced",
   "metadata": {},
   "source": [
    "##### <font color='blue'> Solução </font>"
   ]
  },
  {
   "cell_type": "markdown",
   "id": "b00ec66a",
   "metadata": {},
   "source": [
    "<font color='blue'> Tomando $m_{21} = -\\frac{a_{21}}{a_{11}} = -2$ e $m_{31} = -\\frac{a_{31}}{a_{11}} = -1$ temos:<br><br>\n",
    " $$\n",
    "\\left[ \\begin{array}{ccc}\n",
    "\t1       & 3    & 2 \\\\\n",
    "\t2 \t    & 1    & -1 \\\\\n",
    "\t1       & 0    & 1  \\\\\n",
    "\\end{array}\\right]\n",
    "\\begin{array}{c}\n",
    "\tL_{2} \\leftrightarrow L_{2} + m_{21}L_{1}   \\Rightarrow  \\\\\n",
    "\tL_{3} \\leftrightarrow L_{3} + m_{31}L_{1}   \\Rightarrow  \\\\\n",
    "\\end{array}\n",
    "\\left[ \\begin{array}{ccc}\n",
    "\t1       & 3    & 2 \\\\\n",
    "\t0 \t    & -5    & -5 \\\\\n",
    "\t0       & -3    & -1 \\\\\n",
    "\\end{array}\\right].\n",
    "$$<br>\n",
    " Tomando $m_{23} = -\\frac{a_{23}}{a_{22}} = -\\frac{3}{5}$, temos:<br><br>\n",
    " $$\n",
    "\\left[ \\begin{array}{ccc}\n",
    "\t1       & 3     & 2 \\\\\n",
    "\t0 \t    & -5    & -5 \\\\\n",
    "\t0       & -3     & -1  \\\\\n",
    "\\end{array}\\right]\n",
    "L_{3} \\leftrightarrow L_{3} + m_{32}L_{2}   \\Rightarrow  \\left[ \\begin{array}{ccc}\n",
    "\t1       & 3     & 2 \\\\\n",
    "\t0 \t    & -5    & -5 \\\\\n",
    "\t0       & 0     & 2  \\\\\n",
    "\\end{array}\\right].\n",
    "$$<br>\n",
    " Portanto,<br><br>\n",
    " $$\n",
    "L = \\left[ \\begin{array}{ccc}\n",
    "\t1       & 0    & 0 \\\\\n",
    "\t2 \t    & 1    & 0 \\\\\n",
    "\t1       & \\frac{3}{5}    & 1  \\\\\n",
    "\\end{array}\\right]\n",
    "\\, \\, \\, \\, \\, \\, \\, e \\, \\, \\, \\, \\, \\, \\,\n",
    "U = \\left[ \\begin{array}{ccc}\n",
    "\t1       & 3     & 2 \\\\\n",
    "\t0 \t    & -5    & -5 \\\\\n",
    "\t0       &0      & 2  \\\\\n",
    "\\end{array}\\right].\n",
    "$$"
   ]
  },
  {
   "cell_type": "markdown",
   "id": "8adcb83d",
   "metadata": {},
   "source": [
    "# <div style=\"margin-top: -20px;\">\n",
    "<hr style=\"border: 2px solid black;\">\n",
    "\n",
    "<font color='black'><span style=\"font-size: 22px;\"><strong>17.2 Resolução de Um Sistema Linear Via Decomposição $LU$</strong></span></font>\n",
    "\n",
    "<hr style=\"border: 2px solid black;\">\n",
    "</div>"
   ]
  },
  {
   "cell_type": "markdown",
   "id": "53fe17f4",
   "metadata": {},
   "source": [
    "Considere o sistema $AX = B$ em sua forma matricial, com $det(A) \\neq 0$. Suponha que $A$ possa se decompor no produto de uma matriz triangular inferior $L$, e uma matriz triangular superior $U$, tal que $A = LU$. Assim, $AX = B$ equvale a $(LU)X = B$. Dessa forma, obtemos dois sistemas $LY = B$ e $UX = Y$. Como $L$ e $U$ são triangulares temos que a resolução destes sistemas é feita por substituição retroativa."
   ]
  },
  {
   "cell_type": "markdown",
   "id": "f837a7b7",
   "metadata": {},
   "source": [
    "#### <font color='blue'> Exemplo 2 </font>"
   ]
  },
  {
   "cell_type": "markdown",
   "id": "f8b24979",
   "metadata": {},
   "source": [
    "<font color='blue'> Aplique o método da decomposição $LU$ ao sistema<br><br>\n",
    " $$\\left\\{ \\begin{array}{ccccccc}\n",
    "2x_{1}  &+& 3x_{2} &-& x_{3}  &=& 5 \\\\\n",
    "4x_{1}  &+& 4x_{2} &-& 3x_{3} &=& 3 \\\\\n",
    "2x_{1}  &-& 3x_{2} &+& x_{3}  &=& -1\\\\\n",
    "\\end{array}.\\right.\n",
    "$$"
   ]
  },
  {
   "cell_type": "markdown",
   "id": "aa5dac72",
   "metadata": {},
   "source": [
    "##### <font color='blue'> Solução </font>"
   ]
  },
  {
   "cell_type": "markdown",
   "id": "b0954292",
   "metadata": {},
   "source": [
    "<font color='blue'> Nosso ponto de partida é a matriz $A$ do sistema, que é dada por<br><br>\n",
    " $$\n",
    "\\left[ \\begin{array}{ccc}\n",
    "2       & 3    & -1 \\\\\n",
    "4 \t    & 4    & -3 \\\\\n",
    "2       &-3    & 1  \\\\\n",
    "\\end{array}\\right]\n",
    "$$<br>\n",
    " Temos que $m_{21} = -\\frac{a_{21}}{a_{11}} = -2$ e $m_{31} = -\\frac{a_{31}}{a_{11}} = -1$, donde obtemos<br><br>\n",
    " $$\n",
    "\\left[ \\begin{array}{ccc}\n",
    "2       & 3    & -1 \\\\\n",
    "4 \t    & 4    & -3 \\\\\n",
    "2       &-3    & 1  \\\\\n",
    "\\end{array}\\right]\n",
    "\\begin{array}{c}\n",
    "L_{2} \\leftrightarrow L_{2} + m_{21}L_{1}   \\Rightarrow  \\\\\n",
    "L_{3} \\leftrightarrow L_{3} + m_{31}L_{1}   \\Rightarrow  \\\\\n",
    "\\end{array}\n",
    "\\left[ \\begin{array}{ccc}\n",
    "2       & 3    & -1 \\\\\n",
    "0 \t    & -2    & -1 \\\\\n",
    "0       &-6    & 2  \\\\\n",
    "\\end{array}\\right].\n",
    "$$<br>\n",
    " Tomando agora $m_{23} = -\\frac{a_{23}}{a_{22}}$, temos<br><br>\n",
    " $$\n",
    "\\left[ \\begin{array}{ccc}\n",
    "2       & 3    & -1 \\\\\n",
    "0 \t    & -2    & -1 \\\\\n",
    "0       &-6    & 2  \\\\\n",
    "\\end{array}\\right]\n",
    "L_{3} \\leftrightarrow L_{3} + m_{32}L_{2}   \\Rightarrow  \\\\\n",
    "\\left[ \\begin{array}{ccc}\n",
    "2       & 3    & -1 \\\\\n",
    "0 \t    & -2    & -1 \\\\\n",
    "0       &0    & 5  \\\\\n",
    "\\end{array}\\right].\n",
    "$$<br>\n",
    " Portanto,<br><br>\n",
    " $$\n",
    "L = \\left[ \\begin{array}{ccc}\n",
    "1       & 0    & 0 \\\\\n",
    "2 \t    & 1    & 0 \\\\\n",
    "1       &3    & 1  \\\\\n",
    "\\end{array}\\right]\n",
    "\\, \\, \\, \\, \\, \\, \\, e \\, \\, \\, \\, \\, \\, \\,\n",
    "U = \\left[ \\begin{array}{ccc}\n",
    "2       & 3    & -1 \\\\\n",
    "0 \t    & -2    & -1 \\\\\n",
    "0       &0    & 5  \\\\\n",
    "\\end{array}\\right].\n",
    "$$<br>\n",
    " Assim, o sistema $LY = B$ equivale a:<br><br>\n",
    " $$\n",
    "\\left[ \\begin{array}{ccc}\n",
    " 1  & 0 & 0  \\\\\n",
    " 2  & 1  & 0  \\\\\n",
    " 1 & 3 & 1 \\\\\n",
    "\\end{array}\\right]\n",
    "\\left[ \\begin{array}{c}\n",
    " y_{1}  \\\\\n",
    " y_{2}  \\\\\n",
    " y_{3} \\\\\n",
    "\\end{array}\\right]\n",
    "=\n",
    "\\left[ \\begin{array}{c}\n",
    " 5  \\\\\n",
    " 3  \\\\\n",
    " -1 \\\\\n",
    "\\end{array}\\right]\n",
    "\\Rightarrow\n",
    "\\left\\{ \\begin{array}{ccccccc}\n",
    "  & &  & & y_{1}  &=& 5 \\\\\n",
    "  & & 2y_{1} &+& y_{2} &=& 3 \\\\\n",
    "y_{1}  &+& 3y_{2} &+& y_{3}  &=& -1\\\\\n",
    "\\end{array}.\\right.\n",
    "$$<br>\n",
    " Por meio de substituição, temos $y_{1} = 5$, $y_{2} = -7$ e $y_{3} = 15$. Agora, podemos montar o sistema $UX = Y$.<br><br>\n",
    " $$\n",
    "\\left[ \\begin{array}{ccc}\n",
    " 2  & 3 & -1  \\\\\n",
    " 0  & -2  & -1  \\\\\n",
    " 0 & 0 & 5 \\\\\n",
    "\\end{array}\\right]\n",
    "\\left[ \\begin{array}{c}\n",
    " x_{1}  \\\\\n",
    " x_{2}  \\\\\n",
    " x_{3} \\\\\n",
    "\\end{array}\\right]\n",
    "=\n",
    "\\left[ \\begin{array}{c}\n",
    " 5  \\\\\n",
    " -7  \\\\\n",
    " 15 \\\\\n",
    "\\end{array}\\right]\n",
    "\\Rightarrow\n",
    "\\left\\{ \\begin{array}{ccccccc}\n",
    "2x_{1}  & +& 3x_{2} & -& x_{3}  &=& 5 \\\\\n",
    "  & & 2x_{2} &-& x_{3} &=& -7 \\\\\n",
    "  & &   & & 5x_{3}  &=& 15\\\\\n",
    "\\end{array}.\\right.\n",
    "$$<br>\n",
    " Novamente, por substituição, temos $x_{1} = 1$, $x_{2} = 2$ e $x_{3} = 3$."
   ]
  },
  {
   "cell_type": "markdown",
   "id": "7c515ed6",
   "metadata": {},
   "source": [
    "# <div style=\"margin-top: -20px;\">\n",
    "<hr style=\"border: 2px solid black;\">\n",
    "\n",
    "<font color='black'><span style=\"font-size: 22px;\"><strong>17.3 Inversão de Matrizes Usando Decomposição $LU$</strong></span></font>\n",
    "\n",
    "<hr style=\"border: 2px solid black;\">\n",
    "</div>"
   ]
  },
  {
   "cell_type": "markdown",
   "id": "c9f963c5",
   "metadata": {},
   "source": [
    "Sabemos que uma matriz $A_{n \\times n}$ tal que $det(A) \\neq 0$ possui inversa $A^{-1}$. Uma forma de se obter $A^{-1}$ consiste em resolvermos $n$ sistemas lineares. De fato, se quisermos obter a matriz $A^{-1}$, que denotaremos por $X_{A}$, devemos resolver o sistema geral $AX_{A} = I$, em que $I$ é a identidade de ordem $n$. Tal sistema pode ser decomposto em $n$ sistemas independentes:<br><br>\n",
    "$$AX_{1} = [1, 0, 0, \\ldots, 0]^{T}, \\, \\, AX_{2} = [0, 1, 0, \\ldots, 0]^{T}, \\ldots, AX_{j} = [0, 0, \\ldots, j, \\ldots, 0]^{T}, AX_{n}= [0; 0; 0; \\ldots; 1]^{T},$$<br>\n",
    "em que $X_{j}$ é o vetor coluna formado pela $j$-ésima coluna de $X_{A}$, isto é $X_{j} = [x_{1j}, x_{2j}, x_{3j}, \\ldots, x_{nj}]^{T}$. Ao final,<br><br>\n",
    "$$A^{-1} = X_{A} = \\left[ \\begin{array}{cccccc}\n",
    "\tx_{11} & x_{12} & \\ldots & x_{1j} & \\ldots & x_{1n} \\\\\n",
    "\tx_{21} & x_{22} & \\ldots & x_{2j} & \\ldots &x_{2n} \\\\\n",
    "\t\\vdots & \\vdots & \\vdots & \\vdots & \\vdots &\\vdots \\\\\n",
    "\tx_{n1} & x_{n2} & \\ldots & x_{nj} & \\ldots & x_{nn} \\\\\n",
    "\\end{array}\\right]$$"
   ]
  },
  {
   "cell_type": "markdown",
   "id": "3f08bbc5",
   "metadata": {},
   "source": [
    "#### <font color='blue'> Exemplo 3 </font>"
   ]
  },
  {
   "cell_type": "markdown",
   "id": "b678bf96",
   "metadata": {},
   "source": [
    "<font color='blue'> Encontre a inversa da matriz<br><br>\n",
    " $$A = \\left[ \\begin{array}{ccc}\n",
    "1 & 3 & 2 \\\\\n",
    "2 & 1 & -1 \\\\\n",
    "1 & 0 & 1 \\\\\n",
    "\\end{array}\\right].\n",
    "$$"
   ]
  },
  {
   "cell_type": "markdown",
   "id": "bf6c5ac5",
   "metadata": {},
   "source": [
    "##### <font color='blue'> Solução </font>"
   ]
  },
  {
   "cell_type": "markdown",
   "id": "896cf855",
   "metadata": {},
   "source": [
    "<font color='blue'> Aproveitando a decomposição $LU$ realizada no referido Exemplo, temos, apenas que resolver alguns sistemas lineares por substituição retroativa. Os dois primeiros são $LY = B_{1}$, em que $B_{1} = [1,0,0]^{T}$ e, $UX = Y$. Mais explicitamente,<br>\n",
    " $$\n",
    "\\left[ \\begin{array}{ccc}\n",
    "\t1  & 0 & 0  \\\\\n",
    "\t2  & 1  & 0  \\\\\n",
    "\t1 & \\frac{3}{5} & 1 \\\\\n",
    "\\end{array}\\right]\n",
    "\\left[ \\begin{array}{c}\n",
    "\ty_{11}  \\\\\n",
    "\ty_{21}  \\\\\n",
    "\ty_{31} \\\\\n",
    "\\end{array}\\right]\n",
    "=\n",
    "\\left[ \\begin{array}{c}\n",
    "\t1  \\\\\n",
    "\t0  \\\\\n",
    "\t0 \\\\\n",
    "\\end{array}\\right]\n",
    "\\Rightarrow\n",
    "\\left\\{ \\begin{array}{ccccccc}\n",
    "\t& &  & & y_{11}  &=& 1 \\\\\n",
    "\t& & 2y_{11} &+& y_{21} &=& 0 \\\\\n",
    "\ty_{11}  &+& \\frac{3}{5}y_{21} &+& y_{31}  &=& 0\\\\\n",
    "\\end{array}.\\right.\n",
    "$$<br>\n",
    " Por meio de substituição, temos $y_{11} = 1$, $y_{21} = -2$ e $y_{31} = \\frac{1}{5}$. Agora, podemos montar o sistema $UX = Y$.<br><br>\n",
    " $$\n",
    "\\left[ \\begin{array}{ccc}\n",
    "\t1  & 3   & 2  \\\\\n",
    "\t0  & -5  & -5  \\\\\n",
    "\t0  & 0   & 2 \\\\\n",
    "\\end{array}\\right]\n",
    "\\left[ \\begin{array}{c}\n",
    "\tx_{11}  \\\\\n",
    "\tx_{12}  \\\\\n",
    "\tx_{13} \\\\\n",
    "\\end{array}\\right]\n",
    "=\n",
    "\\left[ \\begin{array}{c}\n",
    "\t1  \\\\\n",
    "\t-2  \\\\\n",
    "\t\\frac{1}{5} \\\\\n",
    "\\end{array}\\right]\n",
    "\\Rightarrow\n",
    "\\left\\{ \\begin{array}{ccccccc}\n",
    "  x_{11}  & +& 3x_{21} & +& 2x_{31}  &=& 1 \\\\\n",
    "\t& -& 5x_{21} &-& 5x_{31} &=& -2 \\\\\n",
    "\t& &   & & 2x_{31}  &=& \\frac{1}{5} \\\\\n",
    "\\end{array}.\\right.\n",
    "$$<br>\n",
    " Novamente, aplicando substituição retroativa ao sistema anterior, obtemos: $x_{11} =-\\frac{1}{10}, x_{21} = \\frac{3}{10}, x_{31} =\\frac{1}{10}$.<br><br>\n",
    " Analogamente, repassando $B_{1}$ para $B_{2} = [0,1,0]^{T}$, temos:<br><br>\n",
    " $$\n",
    "\\left[ \\begin{array}{ccc}\n",
    "\t1  & 0 & 0  \\\\\n",
    "\t2  & 1  & 0  \\\\\n",
    "\t1 & \\frac{3}{5} & 1 \\\\\n",
    "\\end{array}\\right]\n",
    "\\left[ \\begin{array}{c}\n",
    "\ty_{21}  \\\\\n",
    "\ty_{22}  \\\\\n",
    "\ty_{23} \\\\\n",
    "\\end{array}\\right]\n",
    "=\n",
    "\\left[ \\begin{array}{c}\n",
    "\t0  \\\\\n",
    "\t1  \\\\\n",
    "\t0 \\\\\n",
    "\\end{array}\\right]\n",
    "\\Rightarrow \\,\\,\\, [\\ldots] \\,\\,\\, \\Rightarrow  x_{21} =\\frac{3}{10}, x_{22} = \\frac{1}{10}, x_{23} =-\\frac{3}{10}\n",
    "$$<br>\n",
    " Por fim, para $B_{3} = [0,0,1]^{T}$, temos:<br><br>\n",
    " $$\n",
    "\\left[ \\begin{array}{ccc}\n",
    "\t1  & 0 & 0  \\\\\n",
    "\t2  & 1  & 0  \\\\\n",
    "\t1 & \\frac{3}{5} & 1 \\\\\n",
    "\\end{array}\\right]\n",
    "\\left[ \\begin{array}{c}\n",
    "\ty_{31}  \\\\\n",
    "\ty_{32}  \\\\\n",
    "\ty_{33} \\\\\n",
    "\\end{array}\\right]\n",
    "=\n",
    "\\left[ \\begin{array}{c}\n",
    "\t0  \\\\\n",
    "\t0  \\\\\n",
    "\t1 \\\\\n",
    "\\end{array}\\right]\n",
    "\\Rightarrow \\,\\,\\, [\\ldots] \\,\\,\\, \\Rightarrow  x_{31} =\\frac{1}{2}, x_{32} = -\\frac{1}{2}, x_{33}= \\frac{1}{2}\n",
    "$$<br>\n",
    " Portanto,<br><br>\n",
    " $$A^{-1} = \n",
    "\\left[ \\begin{array}{ccc}\n",
    "\tx_{11}  & x_{12}   & x_{13} \\\\\n",
    "\tx_{21}  & x_{22}   & x_{23} \\\\\n",
    "\tx_{31}  & x_{32}   & x_{33} \\\\\n",
    "\\end{array}\\right] = \n",
    "\\left[ \\begin{array}{ccc}\n",
    "\t-\\frac{1}{10}  & \\frac{3}{10}   & \\frac{1}{2} \\\\\n",
    "\t\\frac{3}{10}   & \\frac{1}{10}   & -\\frac{1}{2}  \\\\\n",
    "\t\\frac{1}{10}   & -\\frac{3}{10}  & \\frac{1}{2} \\\\\n",
    "\\end{array}\\right].$$"
   ]
  },
  {
   "cell_type": "markdown",
   "id": "18d2bd68",
   "metadata": {},
   "source": [
    "# <div style=\"margin-top: -20px;\">\n",
    "<hr style=\"border: 2px solid black;\">\n",
    "\n",
    "<font color='black'><span style=\"font-size: 22px;\"><strong>Implementações</strong></span></font>\n",
    "\n",
    "<hr style=\"border: 2px solid black;\">\n",
    "</div>"
   ]
  },
  {
   "cell_type": "markdown",
   "id": "16f56a52",
   "metadata": {},
   "source": [
    "#### <font color='darkblue'> Código Python: Matrizes da Decomposição LU</font>"
   ]
  },
  {
   "cell_type": "code",
   "execution_count": 1,
   "id": "c0c17ce4",
   "metadata": {
    "ExecuteTime": {
     "end_time": "2024-04-21T11:19:33.683197Z",
     "start_time": "2024-04-21T11:19:33.553982Z"
    }
   },
   "outputs": [],
   "source": [
    "from numpy import*\n",
    "\n",
    "def decomposicao_LU(A):\n",
    "    A = matrix(A, dtype=float)\n",
    "    n = shape(A)[0]\n",
    "\n",
    "\n",
    "    U = copy(A)\n",
    "    n = shape(U)[0]\n",
    "\n",
    "    L = eye(n)\n",
    "    for j in arange(n - 1):\n",
    "        for i in arange(j + 1, n):\n",
    "            L[i, j] = U[i, j] / U[j, j]\n",
    "            for k in arange(j + 1, n):\n",
    "                U[i, k] = U[i, k] - L[i, j] * U[j, k]\n",
    "            U[i, j] = 0\n",
    "\n",
    "    print(f'As matrizes L e U associadas à decomposição LU da matriz em questão são dadas por:\\n'\n",
    "          '  Matriz L\\n'\n",
    "          f'{L}\\n'\n",
    "          '  Matriz U\\n'\n",
    "          f'{U}')\n",
    "    print('')\n"
   ]
  },
  {
   "cell_type": "code",
   "execution_count": 2,
   "id": "b49c79c9",
   "metadata": {
    "ExecuteTime": {
     "end_time": "2024-04-21T11:19:35.568037Z",
     "start_time": "2024-04-21T11:19:35.560877Z"
    }
   },
   "outputs": [
    {
     "name": "stdout",
     "output_type": "stream",
     "text": [
      "As matrizes L e U associadas à decomposição LU da matriz em questão são dadas por:\n",
      "  Matriz L\n",
      "[[1.  0.  0. ]\n",
      " [2.  1.  0. ]\n",
      " [1.  0.6 1. ]]\n",
      "  Matriz U\n",
      "[[ 1.  3.  2.]\n",
      " [ 0. -5. -5.]\n",
      " [ 0.  0.  2.]]\n",
      "\n"
     ]
    }
   ],
   "source": [
    "decomposicao_LU(([[1,3,2],[2,1,-1],[1,0,1]]))"
   ]
  },
  {
   "cell_type": "markdown",
   "id": "935f8cd2",
   "metadata": {},
   "source": [
    "# <div style=\"margin-top: -20px;\">\n",
    "<hr style=\"border: 2px solid black;\">\n",
    "\n",
    "<font color='black'><span style=\"font-size: 22px;\"><strong>Exercícios</strong></span></font>\n",
    "\n",
    "<hr style=\"border: 2px solid black;\">\n",
    "</div>"
   ]
  },
  {
   "cell_type": "markdown",
   "id": "2f79fb71",
   "metadata": {},
   "source": [
    "#### Exercício 1"
   ]
  },
  {
   "cell_type": "markdown",
   "id": "f978faad",
   "metadata": {},
   "source": [
    "Determine a solução dos seguintes sistemas lineares utilizando decomposição $LU$:\n",
    "\n",
    "a) \n",
    "$\n",
    "\\left\\{ \\begin{array}{ccccc}\n",
    "2x_{1}  &+&  5x_{2} &=& 6  \\\\\n",
    "x_{1}  &+&  x_{2} &=& \\frac{3}{2} \\\\\n",
    "\\end{array}\\right.\n",
    "\\ \\ \\ \\ \\ \\ \\ \\ \\ \\ \\ \\ \\ \\ \\ \\ \\ \\ \\ \\ \\ \\ \\ \\ \\ \\ \\ \\ \\ \\ \\ $\n",
    "b)\n",
    "$\n",
    "\\left\\{ \\begin{array}{ccccccc}\n",
    "2x_{1}  &+&  x_{2} &-& x_{3}  &=& -\\frac{1}{3}  \\\\\n",
    "x_{1}  &+&  x_{2} &+& x_{3}  &=& -\\frac{1}{6} \\\\\n",
    "3x_{1}  &-& x_{2}  &-& 3x_{3} &=& -\\frac{3}{2} \\\\\n",
    "\\end{array}\\right.\n",
    "$"
   ]
  },
  {
   "cell_type": "markdown",
   "id": "02c38cd6",
   "metadata": {},
   "source": [
    "#### Exercício 2"
   ]
  },
  {
   "cell_type": "markdown",
   "id": "7135750a",
   "metadata": {},
   "source": [
    "Encontre a inversa da matriz a seguir usando Decomposição $LU$:\n",
    "\n",
    "$$\n",
    "A = \\left[ \\begin{array}{ccc}\n",
    "2  & 1 & 1  \\\\\n",
    "1  & 1  & 1  \\\\\n",
    "2 & 3 & 2 \\\\\n",
    "\\end{array}\\right].\n",
    "$$"
   ]
  },
  {
   "cell_type": "markdown",
   "id": "50d2d60e",
   "metadata": {},
   "source": [
    "# <div style=\"margin-top: -20px;\">\n",
    "<hr style=\"border: 2px solid black;\">\n",
    "\n",
    "<font color='black'><span style=\"font-size: 22px;\"><strong>Respostas dos Exercícios</strong></span></font>\n",
    "\n",
    "<hr style=\"border: 2px solid black;\">\n",
    "</div>"
   ]
  },
  {
   "cell_type": "markdown",
   "id": "05353962",
   "metadata": {},
   "source": [
    "#### Resposta do Exercício 1"
   ]
  },
  {
   "cell_type": "markdown",
   "id": "3eab2549",
   "metadata": {},
   "source": [
    "a) $\\left[ \\frac{1}{2}, 1 \\right]^{T}$; \n",
    "\n",
    "b) $\\left[ \\frac{1}{2}, -1; \\frac{1}{3} \\right]^{T}$."
   ]
  },
  {
   "cell_type": "markdown",
   "id": "317d7178",
   "metadata": {},
   "source": [
    "#### Resposta do Exercício 2"
   ]
  },
  {
   "cell_type": "markdown",
   "id": "87a3982c",
   "metadata": {},
   "source": [
    "$\n",
    "A^{-1} = \\left[ \\begin{array}{ccc}\n",
    "1  & -1 & 0  \\\\\n",
    "0  & -2  & 1  \\\\\n",
    "-1 & 4 & -1 \\\\\n",
    "\\end{array}\\right]. \n",
    "$"
   ]
  },
  {
   "cell_type": "markdown",
   "id": "c8fb0c17",
   "metadata": {},
   "source": [
    "# <div style=\"margin-top: -20px;\">\n",
    "<hr style=\"border: 2px solid black;\">\n",
    "\n",
    "<font color='black'><span style=\"font-size: 22px;\"><strong>Vídeo Aulas</strong></span></font>\n",
    "\n",
    "<hr style=\"border: 2px solid black;\">\n",
    "</div>"
   ]
  },
  {
   "cell_type": "markdown",
   "id": "f54580f2",
   "metadata": {},
   "source": [
    "Clicando nos links a seguir você será redirecionado às aulas referentes a este capítulo:\n",
    "\n",
    "[Decomposição LU](https://youtu.be/LKgNk1gVcZQ)\n",
    "\n",
    "[Solução de Um Sistema Linear Via Decomposição LU](https://youtu.be/0Nj2c4bdwPs)\n",
    "\n",
    "[Inversão de Matrizes Usando Decomposição LU](https://youtu.be/Qe7pVAAsO9g)"
   ]
  }
 ],
 "metadata": {
  "kernelspec": {
   "display_name": "Python 3 (ipykernel)",
   "language": "python",
   "name": "python3"
  },
  "language_info": {
   "codemirror_mode": {
    "name": "ipython",
    "version": 3
   },
   "file_extension": ".py",
   "mimetype": "text/x-python",
   "name": "python",
   "nbconvert_exporter": "python",
   "pygments_lexer": "ipython3",
   "version": "3.11.5"
  },
  "varInspector": {
   "cols": {
    "lenName": 16,
    "lenType": 16,
    "lenVar": 40
   },
   "kernels_config": {
    "python": {
     "delete_cmd_postfix": "",
     "delete_cmd_prefix": "del ",
     "library": "var_list.py",
     "varRefreshCmd": "print(var_dic_list())"
    },
    "r": {
     "delete_cmd_postfix": ") ",
     "delete_cmd_prefix": "rm(",
     "library": "var_list.r",
     "varRefreshCmd": "cat(var_dic_list()) "
    }
   },
   "types_to_exclude": [
    "module",
    "function",
    "builtin_function_or_method",
    "instance",
    "_Feature"
   ],
   "window_display": false
  }
 },
 "nbformat": 4,
 "nbformat_minor": 5
}

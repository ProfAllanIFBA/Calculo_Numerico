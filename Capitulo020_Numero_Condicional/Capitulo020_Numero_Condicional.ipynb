{
 "cells": [
  {
   "cell_type": "markdown",
   "id": "d4ea28a8",
   "metadata": {
    "slideshow": {
     "slide_type": "slide"
    }
   },
   "source": [
    "<center> <img src=\"logo_ifba.jpg\" alt=\"jpg_python\" width=\"100\" height=\"200\"> </center>\n",
    "<br><br>\n",
    "<div align=\"center\"><span style=\"font-size: 26px;\"><strong>Cálculo Numérico <br></strong></span></div> <br>\n",
    "<center> <img src=\"python_gif.gif\" alt=\"gif_python\" width=\"80\"> </center>\n"
   ]
  },
  {
   "cell_type": "markdown",
   "id": "d76184a7",
   "metadata": {
    "slideshow": {
     "slide_type": "slide"
    }
   },
   "source": [
    "<div style=\"border: 2px solid black; padding: 10px; width: 95%; background-color: lightgray; display: flex; align-items: center;\">\n",
    "    <h1 style=\"color: red; text-align: center; margin: auto;\">\n",
    "        Capítulo 20: Condicionamento de Um Sistema Linear\n",
    "    </h1>\n",
    "</div>\n",
    "\n",
    "<font color='red'></font>\n",
    "<a href=\"\"></a>"
   ]
  },
  {
   "cell_type": "markdown",
   "id": "40e8b31d",
   "metadata": {},
   "source": [
    "# <div style=\"margin-top: -20px;\">\n",
    "<hr style=\"border: 2px solid black;\">\n",
    "\n",
    "<font color='black'><span style=\"font-size: 22px;\"><strong>20.1 Número Condicional</strong></span></font>\n",
    "\n",
    "<hr style=\"border: 2px solid black;\">\n",
    "</div>"
   ]
  },
  {
   "cell_type": "markdown",
   "id": "76b2a914",
   "metadata": {},
   "source": [
    "Na análise numérica, o número condicional ou número de condição de um problema é uma medida indicando se o problema tem \"boas condições\" para ser tratado numericamente. Um problema com um número de condição pequeno é chamado de bem condicionado, enquanto os problemas que possuem um número de condição elevado são denominados mal condicionados.\n",
    "\n",
    "$$Ax = b \\Leftrightarrow A^{-1}Ax = A^{-1}b \\Leftrightarrow x = A^{-1}b$$"
   ]
  },
  {
   "cell_type": "markdown",
   "id": "9273b05d",
   "metadata": {},
   "source": [
    "#### <font color='red'> Definição 1 </font>"
   ]
  },
  {
   "cell_type": "markdown",
   "id": "b618404b",
   "metadata": {},
   "source": [
    "<font color='red'> Seja $A_{n \\times n}$ uma matriz tal que $det(A) \\neq 0$. Definimos o n\\'umero condicional de $A$ como sendo<br><br>\n",
    " $$Cond(A) = ||A||\\cdot||A^{-1}||.$$"
   ]
  },
  {
   "cell_type": "markdown",
   "id": "cff959a0",
   "metadata": {},
   "source": [
    "Qualquer norma conveniente pode ser utilizada na **Definição 1**. Neste material optaremos pela norma descrita na **Definição 2** do **Capítulo 18**."
   ]
  },
  {
   "cell_type": "markdown",
   "id": "2c4d5d3b",
   "metadata": {},
   "source": [
    "#### <font color='blue'> Exemplo 1 </font>"
   ]
  },
  {
   "cell_type": "markdown",
   "id": "deefe6cf",
   "metadata": {},
   "source": [
    "<font color='blue'> Determine o n\\'umero condicional da matriz<br><br>\n",
    " $$A = \\left[ \\begin{array}{cc}\n",
    "2 &  1\\\\\n",
    "4 &  3\\\\\n",
    "\\end{array}. \\right]$$"
   ]
  },
  {
   "cell_type": "markdown",
   "id": "6ca9a2b8",
   "metadata": {},
   "source": [
    "##### <font color='blue'> Solução </font>"
   ]
  },
  {
   "cell_type": "markdown",
   "id": "99dc5768",
   "metadata": {},
   "source": [
    "<font color='blue'> Temos que a inversa de $A$, é dada por<br><br>\n",
    " $$A^{-1} = \\left[ \\begin{array}{cc}\n",
    "\\frac{3}{2} &  -\\frac{1}{2}\\\\\n",
    "-2 \t\t\t&  1\t\t   \\\\\n",
    "\\end{array}. \\right]$$<br>\n",
    " Temos que $||A|| = max\\{|2|+|1|,|4|+|3|\\} = 7$ e $||A^{-1}|| = \\left\\{ \\left|\\frac{3}{2}\\right| + \\left|-\\frac{1}{2} \\right|, |-2|+|1|\\right\\} = 3$<br><br>\n",
    " Portanto, $Cond(A) = ||A||\\cdot||A^{-1}|| = 7\\cdot3 = 21$."
   ]
  },
  {
   "cell_type": "markdown",
   "id": "49932093",
   "metadata": {},
   "source": [
    "#### Cota inferior para o número condicional"
   ]
  },
  {
   "cell_type": "markdown",
   "id": "acd64f44",
   "metadata": {},
   "source": [
    "Decorre imediatamente das **Definição 1** e **Definição 2** (esta última do **Capítulo 18**) que $cond(A) \\geq 1$. De fato,\n",
    "\n",
    "$$cond(A) = ||A^{-1}||\\,||A|| \\geq ||A^{-1}A|| = ||I|| = 1.$$\n",
    "\n",
    "Se $cond(A) >>> 1 $, então pequenas perturbações relativas no vetor $b$ podem produzir grandes perturbações na solução $x$. Neste caso, diremos que o sistema $Ax = b$ é mal condicionado. *Acompanhe os exemplos a seguir para ver os estragos!*\n",
    "\n",
    "Assim, ao considerarmos um sistema $n \\times n$, $Ax = B$ e uma solução aproximada $\\tilde{x}$, somos, intuitivamente, levados a pensar que quanto mais pr\\'oximo do vetor nulo o vetor $\\tilde{r}=B-A\\tilde{x}$(resíduo) estiver, melhor será a aproximação $\\tilde{x}$. Porém, esta intuição é falha como veremos a seguir."
   ]
  },
  {
   "cell_type": "markdown",
   "id": "5ab002e6",
   "metadata": {},
   "source": [
    "#### <font color='blue'> Exemplo 2 </font>"
   ]
  },
  {
   "cell_type": "markdown",
   "id": "04e757f0",
   "metadata": {},
   "source": [
    "<font color='blue'> Considere o sistema<br><br>\n",
    " $$\\left\\{ \\begin{array}{ccccc}\n",
    "x_{1}  &+&  1.001x_{2} &=& 2.001  \\\\\n",
    "0.999x_{1}  &+&  x_{2} &=& 1.999 \\\\\n",
    "\\end{array}.\\right., \\ \\ (\\epsilon=0.001)$$<br>\n",
    " Este sistema tem solução exata $x = (1,1)^{T}$. Estudaremos a seguir duas pertubações deste sistema, uma na matriz $A$ e outra na matriz $b$. Pois bem:<br><br>\n",
    " Consideremos o sistema a seguir com matriz $A$ \"levemente\" modificado:<br><br>\n",
    " $$\\left\\{ \\begin{array}{ccccc}\n",
    "\tx_{1}  &+&  1.001x_{2} &=& 2.001  \\\\\n",
    "\t0.99\\underline{8}x_{1}  &+&  x_{2} &=& 1.999 \\\\\n",
    "\\end{array}.\\right.$$<br>\n",
    " Para nosso espanto, a solução exata deste sistema é dada por $x = (9.980039918513484e-04,1.998003992016133e+00)$ ou mais precisamente $\\left(\\frac{1}{1002},\\frac{1001}{501}\\right)^{T}$. Sem o conhecimento da solução $(1,1)^{T}$ do sistema original certamente seríamos tentados a calcular o resíduo $\\tilde{r}$ para verificarmos se $\\tilde{x} = \\left(\\frac{1}{1002},\\frac{1001}{501}\\right)^{T}$ seria uma boa aproximação da solução exata $x$. Pois bem, façamos as contas:<br><br>\n",
    " $$\\tilde{r} = B - A\\tilde{x} =  \n",
    "\\left[\\begin{array}{c}\n",
    "\t2.001 \\\\\n",
    "\t1.999\\\\\n",
    "\\end{array}\\right] - \n",
    "\\left[\\begin{array}{cc}\n",
    "\t1          & 1.001  \\\\\n",
    "\t0.999      & 1 \\\\\n",
    "\\end{array}\\right] \\cdot \n",
    "\\left[\\begin{array}{c}\n",
    "\\frac{1}{1002} \\\\\n",
    "\\frac{1001}{501}\\\\\n",
    "\\end{array}\\right] = \n",
    "\\left[\\begin{array}{c}\n",
    "\t0 \\\\\n",
    "\t-9.980039918922046e-07\\\\\n",
    "\\end{array}\\right] \\approx \n",
    "\\left[\\begin{array}{c}\n",
    "\t0 \\\\\n",
    "\t0\\\\\n",
    "\\end{array}\\right].$$<br>\n",
    " Agora, consideremos o sistema a seguir com matriz $b$ ``levemente'' modificada:<br><br>\n",
    " $$\\left\\{ \\begin{array}{ccccc}\n",
    "\tx_{1}  &+&  1.001x_{2} &=& 2.00\\underline{0}  \\\\\n",
    "\t0.999x_{1}  &+&  x_{2} &=& 1.999 \\\\\n",
    "\\end{array}.\\right.$$<br>\n",
    " Novamente, para nosso espanto, a solução exata deste sistema é dada por\n",
    "$x=(-998.9999998601942,999.9999998603339)^{T}$ ou mais precisamente $(-999,1000)^{T}$. Analogamente ao caso anterior, calculemos o resíduo em relação à \"aproximação\" $\\tilde{x} = (-999,1000)^{T}$. Pois bem<br><br>\n",
    " $$\\tilde{r} = B - A\\tilde{x} =  \n",
    "\\left[\\begin{array}{c}\n",
    "\t2.001 \\\\\n",
    "\t1.999\\\\\n",
    "\\end{array}\\right] - \n",
    "\\left[\\begin{array}{cc}\n",
    "\t1          & 1.001  \\\\\n",
    "\t0.999      & 1 \\\\\n",
    "\\end{array}\\right] \\cdot \n",
    "\\left[\\begin{array}{c}\n",
    "\t-999 \\\\\n",
    "\t1000\\\\\n",
    "\\end{array}\\right] = \n",
    "\\left[\\begin{array}{c}\n",
    "\t1.000000000113577e-03 \\\\\n",
    "\t-2.353672812205332e-14\\\\\n",
    "\\end{array}\\right] \\approx \n",
    "\\left[\\begin{array}{c}\n",
    "\t0 \\\\\n",
    "\t0\\\\\n",
    "\\end{array}\\right].$$<br>\n",
    " Note que o condicional associado à matriz do sistema original é dado por:<br><br>\n",
    " $$||A||\\cdot||A^{-1}|| = \\left|\\left|\\left[ \\begin{array}{cc}\n",
    "\t1 &  1.001\\\\\n",
    "\t0.999 \t\t\t&  1\t\t   \\\\\n",
    "\\end{array} \\right] \\right|\\right| \\cdot\n",
    "\\left|\\left|\\left[ \\begin{array}{cc}\n",
    "\t1000000 &  -1001000\\\\\n",
    "\t-999999 \t&  1000000\t\t   \\\\\n",
    "\\end{array} \\right] \\right|\\right|  = 2.001\\cdot2001000 = 4004001 >>> 1$$"
   ]
  },
  {
   "cell_type": "markdown",
   "id": "f6d544d8",
   "metadata": {},
   "source": [
    "Podemos observar o **Exemplo 2** de uma forma mais genérica."
   ]
  },
  {
   "cell_type": "markdown",
   "id": "58198768",
   "metadata": {},
   "source": [
    "#### <font color='blue'> Exemplo 3 </font>"
   ]
  },
  {
   "cell_type": "markdown",
   "id": "7df627d0",
   "metadata": {},
   "source": [
    "<font color='blue'> Considere a matriz<br><br>\n",
    " $$A = \\left[\\begin{array}{cc}\n",
    "1          & 1+\\epsilon  \\\\\n",
    "1-\\epsilon & 1 \\\\\n",
    "\\end{array}\\right], \\,\\,\\,\\,\\,\\,\\, \\epsilon > 0.$$<br>\n",
    " Temos que sua inversa $A^{-1}$ é dada por<br><br>\n",
    " $$A^{-1} = \\epsilon^{-2}\\left[\\begin{array}{cc}\n",
    "1           & -1-\\epsilon  \\\\\n",
    "-1+\\epsilon & 1 \\\\\n",
    "\\end{array}\\right]$$<br>\n",
    " donde decorre que<br><br>\n",
    " $$||A|| = \\{||1||+||1+\\epsilon||, ||1-\\epsilon||+ ||1||\\} = 2 + \\epsilon$$<br>\n",
    " $$||A^{-1}|| = \\{|\\epsilon^{-2}||+ ||\\epsilon^{_2}(-1-\\epsilon)||,||\\epsilon^{-2}(-1+\\epsilon)||+||1||\\} = \\epsilon^{-2}(2+\\epsilon).$$<br>\n",
    " Portanto,<br><br>\n",
    " $$cond(A) = ||A^{-1}||\\,||A|| = \\epsilon^{-2}(2+\\epsilon)(2+\\epsilon) = \\left(\\frac{2+\\epsilon}{\\epsilon}\\right)^{2} > \\frac{4}{\\epsilon^{2}}.$$<br>\n",
    " Se supormos $\\epsilon = 0.001$ (**Exemplo 2**), temos que<br><br>\n",
    " $$\\epsilon \\leq 10^{-3} \\Rightarrow \\epsilon^{2} \\leq 10^{-6} \\Rightarrow \\frac{1}{10^{-6}} \\leq \\frac{1}{\\epsilon^{2}} \\Rightarrow \\frac{4}{10^{-6}} \\leq \\frac{4}{\\epsilon^{2}} \\leq cond(A) \\Rightarrow cond(A) \\geq 4\\cdot10^{6}$$<br>\n",
    " Assim, uma pequena perturbação em $A$ ou $b$ da ordem de $10^{-3}$ pode produzir uma perturbação $4\\cdot10^{6}$ vezes maior na solução de um sistema associado $Ax =b$."
   ]
  },
  {
   "cell_type": "markdown",
   "id": "34f606e4",
   "metadata": {},
   "source": [
    "O **Teorema 1** estabelece cotas para o erro relativo $\\frac{||x-\\tilde{x}||}{||x||}$, em que $\\tilde{x}$ é uma aproximação da solução $x$."
   ]
  },
  {
   "cell_type": "markdown",
   "id": "27970581",
   "metadata": {},
   "source": [
    "#### <font color='red'> Teorema 1 </font>"
   ]
  },
  {
   "cell_type": "markdown",
   "id": "a406449e",
   "metadata": {},
   "source": [
    "<font color='red'> Se $r = b - \\tilde{b}$ e $e = x -\\tilde{x}$, então<br><br>\n",
    "$$\\frac{1}{cond(A)} \\frac{||r||}{||b||} \\leq \\frac{||e||}{||x||} \\leq cond(A) \\frac{||r||}{||b||}.$$"
   ]
  },
  {
   "cell_type": "markdown",
   "id": "28dec693",
   "metadata": {},
   "source": [
    "##### <font color='red'> Demonstração </font>"
   ]
  },
  {
   "cell_type": "markdown",
   "id": "d08e8a4d",
   "metadata": {},
   "source": [
    "<font color='red'> Temos que<br><br>\n",
    " $$Ae = A(x-\\tilde{x}) = Ax - A\\tilde{x} = b - \\tilde{b} = r \\Rightarrow e = A^{-1}r,$$<br>\n",
    " $$b = Ax \\Rightarrow ||b|| = ||Ax|| \\leq ||A||\\,||x|| \\Rightarrow ||b|| \\leq ||A||\\,||x||,$$<br>\n",
    " e<br><br>\n",
    " $$||e|| = ||A^{-1}r|| \\leq ||A^{-1}||\\,||r||.$$<br>\n",
    " Assim,<br><br>\n",
    " $$||e||\\,||b|| \\leq ||A^{-1}||\\,||r||\\,||A||\\,||x|| \\Rightarrow \n",
    "\\frac{||e||}{||x||} \\leq cond(A) \\frac{||r||}{||b||}.$$<br>\n",
    " Por outro lado,<br><br>\n",
    " $$r = Ae \\Rightarrow ||r|| = ||Ae|| \\leq ||A||\\,||e||$$<br>\n",
    " e<br><br>\n",
    " $$x = A^{-1}b \\Rightarrow ||x|| = ||A^{-1}b|| \\leq ||A^{-1}||\\,||b||.$$<br>\n",
    " Logo,<br><br>\n",
    " $$||r||\\,||x|| \\leq ||A||\\,||e||\\,||A^{-1}||\\,||b|| \\Rightarrow \\frac{1}{||A^{-1}||\\,||A||} \\frac{||r||}{||b||} \\leq \\frac{||e||}{||x||} \\Rightarrow \\frac{1}{cond(A)}\\frac{||r||}{||b||} \\leq \\frac{||e||}{||x||}.$$"
   ]
  },
  {
   "cell_type": "markdown",
   "id": "b9917682",
   "metadata": {},
   "source": [
    "#### <font color='blue'> Exemplo 4 </font>"
   ]
  },
  {
   "cell_type": "markdown",
   "id": "3902a7cb",
   "metadata": {},
   "source": [
    "<font color='blue'> Aplique o **Teorema 1** para obter cotas para o erro relativo considerando o sistema dado no **Exemplo 2** referente às duas perturbações abordadas. Use a norma dada pela **Definição 2** (**capítulo 18**)."
   ]
  },
  {
   "cell_type": "markdown",
   "id": "20b5a371",
   "metadata": {},
   "source": [
    "##### <font color='blue'> Solução </font>"
   ]
  },
  {
   "cell_type": "markdown",
   "id": "ec28cebd",
   "metadata": {},
   "source": [
    "<font color='blue'> Temos que a inversa de<br><br>\n",
    " $$A = \\left[\\begin{array}{cc}\n",
    "\t1          & 1.001  \\\\\n",
    "\t0.999      & 1 \\\\\n",
    "\\end{array}\\right]$$<br>\n",
    " é dada por<br><br>\n",
    " $$A^{-1} = \\left[\\begin{array}{cc}\n",
    "\t1000000     & -1001000  \\\\\n",
    "\t-999000     &  1000000 \\\\\n",
    "\\end{array}\\right].$$<br>\n",
    " Além disso $||A|| = max\\{|1|+|1.001|,|0.999| + |1|\\} = 2.001$ e $||A^{-1}|| = max\\{||1000000|+|-1001000|,|-999000|+|1000000|\\}$ = $2001000$\n",
    "donde segue que $cond(A) = ||A^{-1}||\\,||A|| = 2001000\\cdot2.001 = 4004001$.<br><br>\n",
    " Considerando à perturbação na matriz $A$, temos<br><br>\n",
    " $$||r|| = max\\{|0|,|-9.980039918922046e-07|\\} = 9.980039918922046e-07, \\,\\,\\,\\,\\, ||b|| = max\\{|2.001|,|1.999|\\} = 2.001$$<br>\n",
    " Aplicando os dados acima à relação<br><br>\n",
    " $$\\frac{1}{cond(A)} \\frac{||r||}{||b||} \\leq \\frac{||e||}{||x||} \\leq cond(A) \\frac{||r||}{||b||}$$<br>\n",
    " temos:<br><br>\n",
    " $$\\frac{1}{4004001}\\frac{9.980039918922046e-07}{2.001} \\leq \\frac{||e||}{||x||} \\leq 4004001\\frac{9.980039918922046e-07}{2.001} \\Rightarrow$$<br>\n",
    " $$\\Rightarrow 1.245635602079730e-13 \\leq \\frac{||e||}{||x||} \\leq 1.997005987776301.$$<br>\n",
    " Comprovemos calculando o valor de $\\frac{||e||}{||x||}$. Pois bem,<br><br>\n",
    " $$\\frac{||e||}{||x||} = \\frac{||x-\\tilde{x}||}{||x||} = \\frac{\\left| \\left[\\begin{array}{c}\n",
    "\t1 \\\\\n",
    "\t1 \\\\\n",
    "\\end{array}\\right] -\n",
    "\\left[\\begin{array}{c}\n",
    "\t\\frac{1}{1002} \\\\\n",
    "\t\\frac{1001}{501} \\\\\n",
    "\\end{array}\\right]\\right|}{\\left|\\left[\\begin{array}{c}\n",
    "1 \\\\\n",
    "1 \\\\\n",
    "\\end{array}\\right]\\right|} = \n",
    "\\frac{\\left|\\left[\\begin{array}{c}\n",
    "\t\\frac{1001}{1002} \\\\\n",
    "\t\\frac{-500}{501} \\\\\n",
    "\\end{array}\\right] \\right|}{\\left|\\left[\\begin{array}{c}\n",
    "1 \\\\\n",
    "1 \\\\\n",
    "\\end{array}\\right]\\right|}= \\frac{max\\left\\{\\left|\\frac{1001}{1002}\\right|,\\left|-\\frac{500}{5001}\\right|\\right\\}}{max\\{|1|,|1|\\}}= \\frac{\\frac{1001}{1002}}{1} = \\frac{1001}{1002} = 0.999001996007984$$<br>\n",
    " Por fim, temos a seguinte desigualdade em conformidade com o **Teorema 1**:<br><br>\n",
    " $$\\Rightarrow 1.245635602079730e-13 \\leq 0.999001996007984 \\leq 1.997005987776301.$$<br>\n",
    " Agora vejamos o caso em que $b$ sofreu uma perturbação. Algumas das contas acima serão aproveitadas. Temos que<br><br>\n",
    " $$||r|| = max\\{|1.000000000113577e-03|,|-2.353672812205332e-14|\\} = 1.000000000113577e-03,$$\n",
    "$$||b|| = max\\{|2.001|,|1.999|\\} = 2.001$$<br>\n",
    " Aplicando os dados acima à relação<br><br>\n",
    " $$\\frac{1}{cond(A)} \\frac{||r||}{||b||} \\leq \\frac{||e||}{||x||} \\leq cond(A) \\frac{||r||}{||b||}$$\n",
    "temos:<br><br>\n",
    " $$\\frac{1}{4004001}\\frac{1.000000000113577e-03}{2.001} \\leq \\frac{||e||}{||x||} \\leq 4004001\\frac{1.000000000113577e-03}{2.001} \\Rightarrow$$<br>\n",
    " $$\\Rightarrow 1.248126873754890e-10 \\leq \\frac{||e||}{||x||} \\leq 2000.999999947571.$$<br>\n",
    " Vejamos o valor de $\\frac{||e||}{||x||}$:<br><br>\n",
    " $$\\frac{||e||}{||x||} = \\frac{||x-\\tilde{x}||}{||x||} = \\frac{\\left| \\left[\\begin{array}{c}\n",
    "1 \\\\\n",
    "1 \\\\\n",
    "\\end{array}\\right] -\n",
    "\\left[\\begin{array}{c}\n",
    "-999 \\\\\n",
    "1000 \\\\\n",
    "\\end{array}\\right]\\right|}{\\left|\\left[\\begin{array}{c}\n",
    "1 \\\\\n",
    "1 \\\\\n",
    "\\end{array}\\right]\\right|} = \n",
    "\\frac{\\left|\\left[\\begin{array}{c}\n",
    "1000 \\\\\n",
    "-9999 \\\\\n",
    "\\end{array}\\right] \\right|}{\\left|\\left[\\begin{array}{c}\n",
    "1 \\\\\n",
    "1 \\\\\n",
    "\\end{array}\\right]\\right|}= \\frac{max\\left\\{\\left|1000\\right|,\\left|-999\\right|\\right\\}}{max\\{|1|,|1|\\}}= \\frac{1000}{1} = 1000$$<br>\n",
    " Por fim, temos a seguinte desigualdade em conformidade com o **Teorema 1**:<br><br>\n",
    " $$1.248750937017220e-10 \\leq 1000 \\leq 2001.000000227268$$"
   ]
  },
  {
   "cell_type": "markdown",
   "id": "4e2d9c58",
   "metadata": {},
   "source": [
    "#### Observação 1"
   ]
  },
  {
   "cell_type": "markdown",
   "id": "507679ad",
   "metadata": {},
   "source": [
    "Quando $Cond(A) \\approx 1$ dizemos que a matriz $A$ é bem condicionada, ou seja, pequenas perturbações no vetor $B$ refletem em pequenas variações no vetor $X$. O número condicional não deve ser entendido como regra para determinar o mau condicionamento de uma matriz (sistema). Mas\n",
    "como uma previsão de mau condicionamento. Por exemplo, um sistema\n",
    "em que a matriz dos coeficientes é dada por:\n",
    "\n",
    "$$\\left[ \\begin{array}{cc}\n",
    "1 &  0\\\\\n",
    "0  & 10^{-10}\t\t   \\\\\n",
    "\\end{array}. \\right]$$\n",
    "\n",
    "tem $Cond(A) = 10^{10}$ mas o sistema não é mal condicionado."
   ]
  },
  {
   "cell_type": "markdown",
   "id": "c93234e2",
   "metadata": {},
   "source": [
    "#### Artigo sobre o tema"
   ]
  },
  {
   "cell_type": "markdown",
   "id": "79c66dac",
   "metadata": {},
   "source": [
    "Este é um artigo de minha autoria que exemplifica, de forma bastante simples, os impactos do mal condicionamento de um sistema em uma situação prática envolvendo a precisão de instrumentos de medidas."
   ]
  },
  {
   "cell_type": "markdown",
   "id": "312e1320",
   "metadata": {},
   "source": [
    "[RPM108_Estudo do Condicionamento de Uma Matriz (SOARES,RPM108,p.15-20)](Artigo.pdf)"
   ]
  },
  {
   "cell_type": "markdown",
   "id": "101b90e9",
   "metadata": {},
   "source": [
    "# <div style=\"margin-top: -20px;\">\n",
    "<hr style=\"border: 2px solid black;\">\n",
    "\n",
    "<font color='black'><span style=\"font-size: 22px;\"><strong>Implementações</strong></span></font>\n",
    "\n",
    "<hr style=\"border: 2px solid black;\">\n",
    "</div>"
   ]
  },
  {
   "cell_type": "markdown",
   "id": "5c4759a3",
   "metadata": {},
   "source": [
    "#### <font color='darkblue'> Código Python: Número Condicional</font>"
   ]
  },
  {
   "cell_type": "code",
   "execution_count": 48,
   "id": "df6f2e42",
   "metadata": {
    "ExecuteTime": {
     "end_time": "2024-04-29T13:54:33.201339Z",
     "start_time": "2024-04-29T13:54:33.195002Z"
    }
   },
   "outputs": [],
   "source": [
    "import numpy as np\n",
    "\n",
    "def condicional(A):\n",
    "        A = np.matrix(A, dtype=float)\n",
    "        invA = np.linalg.inv(A)\n",
    "        cond_A = np.linalg.norm(A, np.inf) * np.linalg.norm(invA, np.inf)\n",
    "        resultado = f'Temos que ||A|| = {np.linalg.norm(A, np.inf)} e que ||A^-1|| = {np.linalg.norm(invA, np.inf)}. \\\n",
    "        Portanto, cond(A) = {cond_A}.'\n",
    "        return cond_A, resultado"
   ]
  },
  {
   "cell_type": "code",
   "execution_count": 49,
   "id": "63c711b9",
   "metadata": {
    "ExecuteTime": {
     "end_time": "2024-04-29T13:54:36.848687Z",
     "start_time": "2024-04-29T13:54:36.843594Z"
    }
   },
   "outputs": [
    {
     "data": {
      "text/plain": [
       "21.0"
      ]
     },
     "execution_count": 49,
     "metadata": {},
     "output_type": "execute_result"
    }
   ],
   "source": [
    "A = [[2,1],\n",
    "     [4,3]]\n",
    "\n",
    "condicional(A)[0]"
   ]
  },
  {
   "cell_type": "markdown",
   "id": "2f7d3af9",
   "metadata": {},
   "source": [
    "#### <font color='darkblue'> Código Python: Cota Para o Erro</font>"
   ]
  },
  {
   "cell_type": "code",
   "execution_count": 66,
   "id": "3005cd77",
   "metadata": {
    "ExecuteTime": {
     "end_time": "2024-04-29T13:57:25.904675Z",
     "start_time": "2024-04-29T13:57:25.897966Z"
    }
   },
   "outputs": [],
   "source": [
    "def cota_condicional(A, b, x1):\n",
    "    A = np.array(A)\n",
    "    b = np.array(b)\n",
    "    x1 = np.array(x1)\n",
    "    \n",
    "    cond_A = condicional(A)[0]\n",
    "    r = np.linalg.norm(b - A @ x1, np.inf)\n",
    "    norm_b = np.linalg.norm(b, np.inf)\n",
    "    c_inf = (r / norm_b) / cond_A\n",
    "    c_sup = cond_A * (r / norm_b)\n",
    "    print(f'Uma estimativa para o erro relativo é dada por: {c_inf} <= ||e||/||x|| <= {c_sup}')"
   ]
  },
  {
   "cell_type": "code",
   "execution_count": 67,
   "id": "0c0195a7",
   "metadata": {
    "ExecuteTime": {
     "end_time": "2024-04-29T13:57:27.551948Z",
     "start_time": "2024-04-29T13:57:27.546228Z"
    }
   },
   "outputs": [
    {
     "name": "stdout",
     "output_type": "stream",
     "text": [
      "Uma estimativa para o erro relativo é dada por: 1.2456356022178873e-13 <= ||e||/||x|| <= 1.9970059875548072\n"
     ]
    }
   ],
   "source": [
    "A = [[1, 1.001],\n",
    "     [0.999,1]]\n",
    "b = [[2.001],\n",
    "     [1.999]]\n",
    "x1 = [[1/1002],\n",
    "      [1001/501]]\n",
    "cota_condicional(A,b,x1)"
   ]
  },
  {
   "cell_type": "markdown",
   "id": "935f8cd2",
   "metadata": {},
   "source": [
    "# <div style=\"margin-top: -20px;\">\n",
    "<hr style=\"border: 2px solid black;\">\n",
    "\n",
    "<font color='black'><span style=\"font-size: 22px;\"><strong>Exercícios</strong></span></font>\n",
    "\n",
    "<hr style=\"border: 2px solid black;\">\n",
    "</div>"
   ]
  },
  {
   "cell_type": "markdown",
   "id": "2f79fb71",
   "metadata": {},
   "source": [
    "#### Exercício 1"
   ]
  },
  {
   "cell_type": "markdown",
   "id": "5fb56303",
   "metadata": {},
   "source": [
    "Calcule o número condicional de cada matriz a seguir.\n",
    "\n",
    "a) $\\left( \\begin{array}{cc}\n",
    "\\frac{1}{2} & \\frac{1}{3} \\\\\n",
    "\\frac{1}{3} & \\frac{1}{4}\\\\\n",
    "\\end{array} \\right)$\n",
    "\n",
    "b) $\\left( \\begin{array}{cc}\n",
    "1 & 2 \\\\\n",
    "1.00001 & 2\\\\\n",
    "\\end{array} \\right)$\n",
    "\n",
    "c) $\\left( \\begin{array}{ccc}\n",
    "1 & -1 & -1\\\\\n",
    "0 & 1 & -1\\\\\n",
    "0 & 0 & 1\\\\\n",
    "\\end{array} \\right)$"
   ]
  },
  {
   "cell_type": "markdown",
   "id": "b302a96e",
   "metadata": {},
   "source": [
    "#### Exercício 2"
   ]
  },
  {
   "cell_type": "markdown",
   "id": "7fa47256",
   "metadata": {},
   "source": [
    "Use o método de direto de Gauss a seguir e discuta mudanças significativas devido aos arredondamentos propostos:\n",
    "\n",
    "a) $$\\left\\{ \\begin{array}{ccccc}\n",
    "\\frac{1}{2}x_{1}  &+&  \\frac{1}{3}x_{2} &=& 2.\\underline{001}  \\\\\n",
    "\\frac{1}{3}x_{1}  &+&  \\frac{1}{4}x_{2} &=& 1.\\underline{999} \\\\\n",
    "\\end{array}\\right. \n",
    "\\Rightarrow \n",
    "\\left\\{ \\begin{array}{ccccc}\n",
    "\\frac{1}{2}x_{1}  &+&  \\frac{1}{3}x_{2} &=& 2  \\\\\n",
    "\\frac{1}{3}x_{1}  &+&  \\frac{1}{4}x_{2} &=& 2 \\\\\n",
    "\\end{array}\\right.$$\n",
    "\n",
    "b) $$\\left\\{ \\begin{array}{ccccc}\n",
    "\tx_{1}  &+&  2x_{2} &=& 2.\\underline{001}  \\\\\n",
    "\t1.00001x_{1}  &+&  2x_{2} &=& 1.\\underline{999} \\\\\n",
    "\\end{array}\\right. \n",
    "\\Rightarrow \n",
    "\\left\\{ \\begin{array}{ccccc}\n",
    "x_{1}  &+&  2x_{2} &=& 2  \\\\\n",
    "1.00001x_{1}  &+&  2x_{2} &=& 2 \\\\\n",
    "\\end{array}\\right.$$ "
   ]
  },
  {
   "cell_type": "markdown",
   "id": "9a866240",
   "metadata": {},
   "source": [
    "#### Exercício 3"
   ]
  },
  {
   "cell_type": "markdown",
   "id": "91379d69",
   "metadata": {},
   "source": [
    "\"Uma matriz é dita singular quando seu determinante é nulo\". Esta é uma definição amplamente conhecida da Álgebra Linear. Observe alguns determinantes de matrizes apresentadas aqui neste capítulo (e outras se tiver tempo livre). Há alguma relação entre sistemas mal condicionados e o determinante de sua matriz dos coeficientes?"
   ]
  },
  {
   "cell_type": "markdown",
   "id": "50d2d60e",
   "metadata": {},
   "source": [
    "# <div style=\"margin-top: -20px;\">\n",
    "<hr style=\"border: 2px solid black;\">\n",
    "\n",
    "<font color='black'><span style=\"font-size: 22px;\"><strong>Respostas dos Exercícios</strong></span></font>\n",
    "\n",
    "<hr style=\"border: 2px solid black;\">\n",
    "</div>"
   ]
  },
  {
   "cell_type": "markdown",
   "id": "05353962",
   "metadata": {},
   "source": [
    "#### Resposta do Exercício 1"
   ]
  },
  {
   "cell_type": "markdown",
   "id": "9d4945e5",
   "metadata": {},
   "source": [
    "a) $50$; b) $600002$; c) $12$."
   ]
  },
  {
   "cell_type": "markdown",
   "id": "4bcfe979",
   "metadata": {},
   "source": [
    "#### Resposta do Exercício 2"
   ]
  },
  {
   "cell_type": "markdown",
   "id": "450e3bc9",
   "metadata": {},
   "source": [
    "a) Solução do sistema original: $[-11.95799999999997,23.93999999999996]^{T}$; Solução do sistema ajustado: $[-11.99999999999996,23.99999999999995]^{T} = [-11,24]^{T}$. As diferenças entre as soluções obtidas se deram somente a partir da segunda casa decimal que é de certa forma aceitável dado o arredondamento feito. Esse fato se deve ao baixo valor de $cond(A)=12$ em que $A$ é a matriz dada no item \"a\" do **Exercício 1**.\n",
    "\n",
    "b) Solução do sistema original: $[-199.9999999988358,101.0004999994271]^{T}$; Solução do sistema ajustado: $[0,1]^{T}$. As diferenças entra as soluções obtidas são notáveis extrapolando vários dígitos. Esse fato se deve ao alto valor de $cond(A) = 600002$ em que $A$ é a matriz dada no item \"b\" do **Exercício 1**."
   ]
  },
  {
   "cell_type": "markdown",
   "id": "552d409f",
   "metadata": {},
   "source": [
    "#### Resposta do Exercício 3"
   ]
  },
  {
   "cell_type": "markdown",
   "id": "3738bef9",
   "metadata": {},
   "source": [
    "É comum que matrizes mal condicionadas apresentem além de números condicionais muito elevados, valores de determinante muito próximos de zero o que as torna \"quase\" singulares. *Coisas estranhas começam a acontecer perto de uma singularidade!*"
   ]
  },
  {
   "cell_type": "markdown",
   "id": "c8fb0c17",
   "metadata": {},
   "source": [
    "# <div style=\"margin-top: -20px;\">\n",
    "<hr style=\"border: 2px solid black;\">\n",
    "\n",
    "<font color='black'><span style=\"font-size: 22px;\"><strong>Vídeo Aulas</strong></span></font>\n",
    "\n",
    "<hr style=\"border: 2px solid black;\">\n",
    "</div>"
   ]
  },
  {
   "cell_type": "markdown",
   "id": "f54580f2",
   "metadata": {},
   "source": [
    "Clicando nos links a seguir você será redirecionado às aulas referentes a este capítulo:\n",
    "\n",
    "[Número Condicional de Uma Matriz](https://youtu.be/h9d1DZCByqg) \n",
    "\n",
    "[Valor de Referência Para o Número Condicional e Propagação de Erros](https://youtu.be/Pc0qWqr40Wc)\n",
    "\n",
    "[Exemplo Envolvendo Número Condicional e Propagação de Erros (Explosivo!!!)](https://youtu.be/06JQWNUKH0M)\n",
    "\n",
    "[Tratamento Genérico de Exemplos Anteriores Envolvendo Número Condicional](https://youtu.be/xH5uNSnLjKg)"
   ]
  },
  {
   "cell_type": "markdown",
   "id": "5b3fc96b",
   "metadata": {},
   "source": []
  },
  {
   "cell_type": "markdown",
   "id": "cd0cb137",
   "metadata": {},
   "source": []
  },
  {
   "cell_type": "markdown",
   "id": "bcc1d358",
   "metadata": {},
   "source": []
  },
  {
   "cell_type": "markdown",
   "id": "c039043b",
   "metadata": {},
   "source": []
  },
  {
   "cell_type": "markdown",
   "id": "868bf4da",
   "metadata": {},
   "source": [
    "O método de Gauss-Seidel surge a partir de uma simples modificação no método de Jacobi visto no capítulo anterior. Neste último tínhamos que a $i$-ésima coordenada de uma $k$-ésima iteração era da por\n",
    "\n",
    "$$x_{i}^{k} = \\frac{b_{i}}{a_{ii}} - \\frac{1}{a_{ii}} \\sum_{j=1, j \\neq i}^{n} a_{ij}x_{j}^{k-1}.$$\n",
    "\n",
    "Note que uma dada aproximação $x^{k}$ depende exclusivamente dos elementos (coordenadas) da aproximação anterior ($k-1$). No método de Gauss-Seidel, isto muda! Neste, usaremos tanto coordenadas da aproximação anterior como coordenadas da aproximação atual à medida que são obtidas.  Em particular, para um sistema $3 \\times 3$, temos:\n",
    "\n",
    "$$\\begin{array}{c}\n",
    "\t(L_{1}) \\\\\n",
    "\t(L_{2}) \\\\\n",
    "\t(L_{3}) \\\\\n",
    "\\end{array}\n",
    "\\left\\{ \\begin{array}{ccccccc}\n",
    "\ta_{11}x_{1}  &+& a_{12}x_{2} &+& a_{13}x_{3}  &=& b_{1} \\\\\n",
    "\ta_{21}x_{1}  &+& a_{22}x_{2} &+& a_{23}x_{3}  &=& b_{2} \\\\\n",
    "\ta_{31}x_{1}  &+& a_{32}x_{2} &+& a_{33}x_{3}  &=& b_{3} \\\\\n",
    "\\end{array}\\right. \\Rightarrow\n",
    "\\begin{array}{ccccccc}\n",
    "\tx_{1}^{k}  &=& \\frac{b_{1}}{a_{11}} &-& \\frac{a_{12}}{a_{11}}x_{2}^{k-1} &-& \\frac{a_{13}}{a_{11}}x_{3}^{k-1} \\\\\n",
    "\tx_{2}^{k}  &=& \\frac{b_{2}}{a_{22}} &-& \\frac{a_{21}}{a_{22}}x_{1}^{k}  &-& \\frac{a_{23}}{a_{22}}x_{3}^{k-1} \\\\\n",
    "\tx_{3}^{k}  &=& \\frac{b_{3}}{a_{33}} &-& \\frac{a_{31}}{a_{33}}x_{1}^{k}  &-& \\frac{a_{32}}{a_{33}}x_{2}^{k} \\\\\n",
    "\\end{array}.$$\n",
    "\n",
    "Note que, em $L_{2}$, usamos o valor $x_{1}^{k}$ atual ao invés de $x_{1}^{k-1}$ como ocorria no método de Jacobi. De forma semelhante, em $L_{3}$, usamos os valores atuais $x_{1}^{k}$ e $x_{2}^{k}$ ao invés de $x_{1}^{k-1}$ e $x_{2}^{k-1}$.\n",
    "\n",
    "De modo geral,\n",
    "\n",
    "<font color='red'>$$x_{i}^{k} = \\frac{b_{i}}{a_{ii}} - \\frac{1}{a_{ii}} (\\sum_{j=1(i\\neq1)}^{i-1} a_{ij}x_{j}^{k} + \\sum_{j=i+1}^{n} a_{ij}x_{j}^{k-1})$$"
   ]
  },
  {
   "cell_type": "markdown",
   "id": "40f7c9be",
   "metadata": {},
   "source": [
    "#### <font color='blue'> Exemplo 1 </font>"
   ]
  },
  {
   "cell_type": "markdown",
   "id": "1a2a5240",
   "metadata": {},
   "source": [
    "<font color='blue'> Resolva, por meio do método de Gauss-Seidel, os sistemas a seguir considerando $\\delta = 0.2$:<br><br>\n",
    " a) $\\left\\{ \\begin{array}{ccccc}\n",
    "2x_{1}  &-&  x_{2} &=& 1  \\\\\n",
    " x_{1}  &+&  2x_{2} &=& 3 \\\\\n",
    "\\end{array}\\right., \\ \\ x^{0} = [0,0]^{T}$<br><br>\n",
    " b) $\\left\\{ \\begin{array}{ccccccc}\n",
    "3x_{1}  &+&  x_{2} &-& x_{3}  &=& 3  \\\\\n",
    " x_{1}  &+&  4x_{2} &+& x_{3}  &=& 6 \\\\\n",
    "2x_{1}  &-& x_{2}  &+& 6x_{3} &=& 7 \\\\\n",
    "\\end{array}\\right., \\ \\ x^{0} = [0.5,0.5,0]^{T}$"
   ]
  },
  {
   "cell_type": "markdown",
   "id": "8d43c277",
   "metadata": {},
   "source": [
    "##### <font color='blue'> Solução </font>"
   ]
  },
  {
   "cell_type": "markdown",
   "id": "a6385abb",
   "metadata": {},
   "source": [
    "<font color='blue'> Solução: a) Temos que a função de iteração de Gauss-Seidel é dada por:<br><br>\n",
    " $$\\phi(x_{1},x_{2}) = \\left\\{ \\begin{array}{ccccc}\n",
    "x_{1}^{k} &=& \\frac{1}{2} &+& \\frac{1}{2}x_{2}^{k-1}  \\\\\n",
    "x_{2}^{k} &=& \\frac{5}{2} &-& \\frac{1}{2}x_{2}^{k}    \\\\\n",
    "\\end{array},\\right.$$<br>\n",
    " Assim,<br><br>\n",
    " $$x^{1} = \\phi(x^{0}) = \n",
    "\\left[\\begin{array}{c}\n",
    "\t0.500000000000000 \\\\\n",
    "\t1.250000000000000 \\\\\n",
    "\\end{array}\\right],\n",
    "||x^{1} - x^{0}|| = 1.250000000000000 > \\delta;$$<br>\n",
    " $$x^{2} = \\phi(x^{1}) = \n",
    "\\left[\\begin{array}{c}\n",
    "\t1.125000000000000 \\\\\n",
    "\t0.937500000000000 \\\\\n",
    "\\end{array}\\right],\n",
    "||x^{2} - x^{1}|| = 0.625000000000000 > \\delta;$$<br>\n",
    " $$x^{3} = \\phi(x^{2}) = \n",
    "\\left[\\begin{array}{c}\n",
    "\t0.968750000000000 \\\\\n",
    "\t1.015625000000000 \\\\\n",
    "\\end{array}\\right],\n",
    "||x^{2} - x^{1}|| = 0.156250000000000 < \\delta;$$<br>\n",
    " Logo, a solução procurada é $x^{3} = [0.968750000000000,1.015625000000000]^{T}$.<br><br>\n",
    " b) Temos que a função de iteração de Gauss-Seidel é dada por:<br><br>\n",
    " $$\\phi(x_{1},x_{2},x_{3}) = \\left\\{ \\begin{array}{ccccccc}\n",
    "x_{1}^{k} &=& 1 &-& \\frac{1}{3}x_{2}^{k-1} &+& \\frac{1}{3}x_{3}^{k-1} \\\\\n",
    "x_{2}^{k} &=& \\frac{3}{2} &-& \\frac{1}{4}x_{1}^{k} &-& \\frac{1}{4}x_{3}^{k-1} \\\\\n",
    "x_{3}^{k} &=& \\frac{7}{6} &-& \\frac{1}{3}x_{1}^{k} &+& \\frac{1}{6}x_{2}^{k} \\\\\n",
    "\\end{array},\\right.$$<br>\n",
    " Assim,<br><br>\n",
    " $$x^{1} = \\phi(x^{0}) = \n",
    "\\left[\\begin{array}{c}\n",
    "0.833333333333333 \\\\\n",
    "1.291666666666667 \\\\\n",
    "1.104166666666667 \\\\\n",
    "\\end{array}\\right],\n",
    "||x^{1} - x^{0}|| = 1.104166666666667 > \\delta;$$<br>\n",
    " $$x^{2} = \\phi(x^{1}) = \n",
    "\\left[\\begin{array}{c}\n",
    "0.937500000000000 \\\\\n",
    "0.989583333333333 \\\\\n",
    "1.019097222222222 \\\\\n",
    "\\end{array}\\right],\n",
    "||x^{2} - x^{1}|| = 0.302083333333333 > \\delta;$$<br>\n",
    " $$x^{3} = \\phi(x^{2}) = \n",
    "\\left[\\begin{array}{c}\n",
    "1.009837962962963 \\\\\n",
    "0.992766203703704 \\\\\n",
    "0.995515046296296\\\\\n",
    "\\end{array}\\right],\n",
    "||x^{3} - x^{2}|| = 7.233796296296302e-02 < \\delta;$$<br>\n",
    " Logo, a solução procurada é $x^{3} = [1.009837962962963,0.992766203703704,0.995515046296296]^{T}$."
   ]
  },
  {
   "cell_type": "markdown",
   "id": "397e1b69",
   "metadata": {},
   "source": [
    "# <div style=\"margin-top: -20px;\">\n",
    "<hr style=\"border: 2px solid black;\">\n",
    "\n",
    "<font color='black'><span style=\"font-size: 22px;\"><strong>Implementações</strong></span></font>\n",
    "\n",
    "<hr style=\"border: 2px solid black;\">\n",
    "</div>"
   ]
  },
  {
   "cell_type": "markdown",
   "id": "000dfee4",
   "metadata": {},
   "source": [
    "#### <font color='darkblue'> Código Python: Número Condicional</font>"
   ]
  },
  {
   "cell_type": "code",
   "execution_count": 1,
   "id": "4396f784",
   "metadata": {
    "ExecuteTime": {
     "end_time": "2024-04-29T13:29:48.918090Z",
     "start_time": "2024-04-29T13:29:47.067146Z"
    }
   },
   "outputs": [],
   "source": [
    "import numpy as np\n",
    "\n",
    "def condicional(A):\n",
    "        A = np.matrix(A, dtype=float)\n",
    "        invA = np.linalg.inv(A)\n",
    "        condA = np.linalg.norm(A, inf) * np.linalg.norm(invA, inf)\n",
    "        return print(f'Temos que ||A|| = {np.linalg.norm(A, inf)} e que ||A^-1|| = {np.linalg.norm(invA, np.inf)}. Portanto '\n",
    "                     f'cond(A) = {condA}.')"
   ]
  },
  {
   "cell_type": "code",
   "execution_count": 19,
   "id": "546128fd",
   "metadata": {
    "ExecuteTime": {
     "end_time": "2024-04-29T11:42:09.818179Z",
     "start_time": "2024-04-29T11:42:09.810508Z"
    }
   },
   "outputs": [
    {
     "name": "stdout",
     "output_type": "stream",
     "text": [
      "As iterações e o erro, via método de Gauss-Seidel, são dados a seguir:\n",
      "i           erro                             iterações\n",
      "1     1.1041666666667            [0.83333333 1.29166667 1.10416667]^T\n",
      "2     0.3020833333333            [0.9375     0.98958333 1.01909722]^T\n",
      "3     0.0723379629630            [1.00983796 0.9927662  0.99551505]^T\n",
      "A solução do sistema é: x3 = [1.00983796 0.9927662  0.99551505].\n",
      "\n"
     ]
    }
   ],
   "source": [
    "A = [[3,1,-1],\n",
    "     [1,4,1],\n",
    "     [2,-1,6]]\n",
    "\n",
    "gauss_seidel(A,B,x0,delta,N)"
   ]
  },
  {
   "cell_type": "markdown",
   "id": "69487d00",
   "metadata": {},
   "source": [
    "# <div style=\"margin-top: -20px;\">\n",
    "<hr style=\"border: 2px solid black;\">\n",
    "\n",
    "<font color='black'><span style=\"font-size: 22px;\"><strong>Exercícios</strong></span></font>\n",
    "\n",
    "<hr style=\"border: 2px solid black;\">\n",
    "</div>"
   ]
  },
  {
   "cell_type": "markdown",
   "id": "c8b6607e",
   "metadata": {},
   "source": [
    "#### Exercício 1"
   ]
  },
  {
   "cell_type": "markdown",
   "id": "7664f9b4",
   "metadata": {},
   "source": [
    "Utilize o método de Gauss-Seidel aos intens a), b) e c) do **Exercício 1** do **Capítulo 18**."
   ]
  },
  {
   "cell_type": "markdown",
   "id": "8284ffd3",
   "metadata": {},
   "source": [
    "#### Exercício 2"
   ]
  },
  {
   "cell_type": "markdown",
   "id": "2aaa77d6",
   "metadata": {},
   "source": [
    "Dado o sistema\n",
    "\n",
    "$$\\left\\{ \\begin{array}{ccccccc}\n",
    "5x_{1} &-& 2x_{2}   &-& x_{3}  &=&  -2\\\\\n",
    "x_{1}  &+& 8x_{2}   &+& x_{3}  &=&  20\\\\\n",
    "x_{1}  &-&  x_{2}   &+&4x_{3}  &=&  11\\\\\n",
    "\\end{array},\\right.$$\n",
    "\n",
    "i) determine a solução exata\n",
    "\n",
    "ii) calcule 5 iterações para os métodos de Jacobi e Gauss-Seidel e compare os resultados com a solução real. Considere $x^{0} = [0,0,0]^{T}$."
   ]
  },
  {
   "cell_type": "markdown",
   "id": "f5f863ba",
   "metadata": {},
   "source": [
    "# <div style=\"margin-top: -20px;\">\n",
    "<hr style=\"border: 2px solid black;\">\n",
    "\n",
    "<font color='black'><span style=\"font-size: 22px;\"><strong>Respostas dos Exercícios</strong></span></font>\n",
    "\n",
    "<hr style=\"border: 2px solid black;\">\n",
    "</div>"
   ]
  },
  {
   "cell_type": "markdown",
   "id": "fb0e92f9",
   "metadata": {},
   "source": [
    "#### Resposta do Exercício 1"
   ]
  },
  {
   "cell_type": "markdown",
   "id": "9582a025",
   "metadata": {},
   "source": [
    "a) $x^{4} = [0.486280000000000; 0.590996250000000]^{T}$; \n",
    "\n",
    "b) $x^{3} = [1.017361111111111, 2.995370370370370, 1.993441358024691]^{T}$; \n",
    "\n",
    "c) $x^{4} = [1.007818419825073, 1.003334964285714, 0.995768344606414,1.003923338979592]^{T}$."
   ]
  },
  {
   "cell_type": "markdown",
   "id": "659769a5",
   "metadata": {},
   "source": [
    "#### Resposta do Exercício 2"
   ]
  },
  {
   "cell_type": "markdown",
   "id": "c2c26d96",
   "metadata": {},
   "source": [
    "i) Gauss $[1,2,3]^{T}$; \n",
    "\n",
    "ii) Jacobi $[0.977640625000000, 2.011542968750000, 3.001123046875000]^{T}$,\n",
    "\n",
    "Gauss-Seidel $[0.997533608398438, 2.000823402099609, 3.000822448425293]^{T}$. \n",
    "\n",
    "Erros: $e_{J} =6.502929687500014e-02$, $e_{G-S} = 1.484412597656248e-02$."
   ]
  },
  {
   "cell_type": "markdown",
   "id": "f0acfc4b",
   "metadata": {},
   "source": [
    "# <div style=\"margin-top: -20px;\">\n",
    "<hr style=\"border: 2px solid black;\">\n",
    "\n",
    "<font color='black'><span style=\"font-size: 22px;\"><strong>Vídeo Aulas</strong></span></font>\n",
    "\n",
    "<hr style=\"border: 2px solid black;\">\n",
    "</div>"
   ]
  },
  {
   "cell_type": "markdown",
   "id": "4dd3bb3a",
   "metadata": {},
   "source": [
    "Clicando nos links a seguir você será redirecionado às aulas referentes a este capítulo:\n",
    "\n",
    "[Aula 19.1: Método Iterativo de Gauss-Seidel](https://youtu.be/Pn_utdtAsrQ)\n",
    "\n",
    "[Aula 19.2: Exemplo Envolvendo o Método de Gauss-Seidel (3 x 3)](https://youtu.be/ksx-7S-mi20)"
   ]
  }
 ],
 "metadata": {
  "kernelspec": {
   "display_name": "Python 3 (ipykernel)",
   "language": "python",
   "name": "python3"
  },
  "language_info": {
   "codemirror_mode": {
    "name": "ipython",
    "version": 3
   },
   "file_extension": ".py",
   "mimetype": "text/x-python",
   "name": "python",
   "nbconvert_exporter": "python",
   "pygments_lexer": "ipython3",
   "version": "3.11.5"
  },
  "varInspector": {
   "cols": {
    "lenName": 16,
    "lenType": 16,
    "lenVar": 40
   },
   "kernels_config": {
    "python": {
     "delete_cmd_postfix": "",
     "delete_cmd_prefix": "del ",
     "library": "var_list.py",
     "varRefreshCmd": "print(var_dic_list())"
    },
    "r": {
     "delete_cmd_postfix": ") ",
     "delete_cmd_prefix": "rm(",
     "library": "var_list.r",
     "varRefreshCmd": "cat(var_dic_list()) "
    }
   },
   "types_to_exclude": [
    "module",
    "function",
    "builtin_function_or_method",
    "instance",
    "_Feature"
   ],
   "window_display": false
  }
 },
 "nbformat": 4,
 "nbformat_minor": 5
}

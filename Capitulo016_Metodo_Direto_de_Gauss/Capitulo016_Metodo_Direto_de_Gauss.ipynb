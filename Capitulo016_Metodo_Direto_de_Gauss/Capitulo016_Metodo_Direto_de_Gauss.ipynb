{
 "cells": [
  {
   "cell_type": "markdown",
   "id": "d4ea28a8",
   "metadata": {
    "slideshow": {
     "slide_type": "slide"
    }
   },
   "source": [
    "<center> <img src=\"logo_ifba.jpg\" alt=\"jpg_python\" width=\"100\" height=\"200\"> </center>\n",
    "<br><br>\n",
    "<div align=\"center\"><span style=\"font-size: 26px;\"><strong>Cálculo Numérico <br></strong></span></div> <br>\n",
    "<center> <img src=\"python_gif.gif\" alt=\"gif_python\" width=\"80\"> </center>\n"
   ]
  },
  {
   "cell_type": "markdown",
   "id": "d76184a7",
   "metadata": {
    "slideshow": {
     "slide_type": "slide"
    }
   },
   "source": [
    "<div style=\"border: 2px solid black; padding: 10px; width: 95%; background-color: lightgray; display: flex; align-items: center;\">\n",
    "    <h1 style=\"color: red; text-align: center; margin: auto;\">\n",
    "        Capítulo 16: Método Direto de Gauss\n",
    "    </h1>\n",
    "</div>\n",
    "\n",
    "<font color='red'></font>\n",
    "<a href=\"\"></a>"
   ]
  },
  {
   "cell_type": "markdown",
   "id": "3164dc0c",
   "metadata": {},
   "source": [
    "\n"
   ]
  },
  {
   "cell_type": "markdown",
   "id": "2ed0cc31",
   "metadata": {},
   "source": [
    "Este capítulo é uma espécie de revisão de conceitos normalmente vistos em um curso de Álgebra Linear. O leitor mais interessado no assunto pode consultar diretamente as fontes ($[6]$ pg. $0-43$) e ($[7]$ pg. $29-63$).\n",
    "\n",
    "É bastante comum nos depararmos com sistemas lineares quadrados, isto é, sistemas lineares de $n$ equações e $n$ inógnitas. Utilizaremos a seguinte notação para tais sistemas:\n",
    "\n",
    "$$\\left\\{ \\begin{array}{ccccccccc}\n",
    "a_{11}x_{1} &+& a_{12}x_{2} &+& \\ldots &+& a_{1n}x_{n} &=& b_{1}  \\\\\n",
    "a_{21}x_{1} &+& a_{22}x_{2} &+& \\ldots &+& a_{2n}x_{n} &=& b_{2}  \\\\\n",
    "\\vdots \t\t&+& \\vdots\t\t&+& \\ldots &+& \\vdots\t   &=& \\vdots \\\\\n",
    "a_{n1}x_{1} &+& a_{n2}x_{2} &+& \\ldots &+& a_{nn}x_{n} &=& b_{n}  \\\\\n",
    "\\end{array}\n",
    "\\right. \\tag{1}$$\n",
    "\n",
    "\n",
    "O sistema anterior admite uma representação matricial da forma $AX = B$ como segue\n",
    "\n",
    "$$\n",
    "\\left[ \\begin{array}{cccc}\n",
    "a_{11} & a_{12} & \\ldots & a_{1n} \\\\\n",
    "a_{21} & a_{22} & \\ldots & a_{2n} \\\\\n",
    "\\vdots & \\vdots & \\ldots & \\vdots \\\\\n",
    "a_{n1} & a_{n2} & \\ldots & a_{nn} \\\\\n",
    "\\end{array}\\right]\n",
    "\\left[ \\begin{array}{c}\n",
    "x_{1}  \\\\\n",
    "x_{2}  \\\\\n",
    "\\vdots \\\\\n",
    "x_{n}  \\\\\n",
    "\\end{array}\\right]\n",
    "=\n",
    "\\left[ \\begin{array}{c}\n",
    "b_{1}  \\\\\n",
    "b_{2}  \\\\\n",
    "\\vdots \\\\\n",
    "b_{n}  \\\\\n",
    "\\end{array}\\right]$$\n",
    "\n",
    "Podemos considerar também a chamada matriz aumentada $M_{A}$ do sistema $(1)$\n",
    "\n",
    "$$M_{A} = \\left[ \\begin{array}{ccccc}\n",
    "a_{11} & a_{12} & \\ldots & a_{1n} & b_{1} \\\\\n",
    "a_{21} & a_{22} & \\ldots & a_{2n} & b_{2} \\\\\n",
    "\\vdots & \\vdots & \\ldots & \\vdots & \\vdots\\\\\n",
    "a_{n1} & a_{n2} & \\ldots & a_{nn} & b_{n} \\\\\n",
    "\\end{array}\\right]$$"
   ]
  },
  {
   "cell_type": "markdown",
   "id": "f7fb08d0",
   "metadata": {},
   "source": [
    "#### <font color='blue'> Exemplo 1 </font>"
   ]
  },
  {
   "cell_type": "markdown",
   "id": "46e43810",
   "metadata": {},
   "source": [
    "<font color='blue'> Considere os sistema $2 \\times 2$<br><br>\n",
    " $$\\left\\{ \\begin{array}{ccccc}\n",
    "2x_{1} &+& x_{2}  &=& 3  \\\\\n",
    "x_{1} &+& 4x_{2} &=& 5  \\\\\n",
    "\\end{array}\n",
    "\\right.$$<br>\n",
    " Neste caso,<br><br>\n",
    " $$A = \\left[ \\begin{array}{cc}\n",
    "2 & 1 \\\\\n",
    "1 & 4 \\\\\n",
    "\\end{array}\\right],\n",
    "\\, \\, \\,\n",
    "X = \\left[ \\begin{array}{c}\n",
    "x_{1} \\\\\n",
    "x_{2} \\\\\n",
    "\\end{array}\\right],\n",
    "\\, \\, \\,\n",
    "B = \\left[ \\begin{array}{c}\n",
    "3 \\\\\n",
    "5 \\\\\n",
    "\\end{array}\\right].$$<br>\n",
    " Além disso a matriz aumentada deste sistema é dada por<br><br>\n",
    " $$M_{A} = \\left[ \\begin{array}{ccc}\n",
    "2 & 1 & 3\\\\\n",
    "1 & 4 & 5\\\\\n",
    "\\end{array}\\right].$$"
   ]
  },
  {
   "cell_type": "markdown",
   "id": "baff5662",
   "metadata": {},
   "source": [
    "Nas seções a seguir, trabalharemos somente com sistemas possíveis e determinados, isto é, sistemas quadrados (número de equaçõs igual ao número de incógnitas) cujo determinante da matriz $A$ é não nulo."
   ]
  },
  {
   "cell_type": "markdown",
   "id": "a0631f4f",
   "metadata": {},
   "source": [
    "# <div style=\"margin-top: -20px;\">\n",
    "<hr style=\"border: 2px solid black;\">\n",
    "\n",
    "<font color='black'><span style=\"font-size: 22px;\"><strong>16.2 Método Direto da Eliminação Gaussiana</strong></span></font>\n",
    "\n",
    "<hr style=\"border: 2px solid black;\">\n",
    "</div>"
   ]
  },
  {
   "cell_type": "markdown",
   "id": "780615f6",
   "metadata": {},
   "source": [
    "Este método trabalha por meio do uso de operações elementares capazes de transformar sistemas lineares em em outros sistemas lineares equivalentes escalonados os quais podemos resolver por substituição retroativa."
   ]
  },
  {
   "cell_type": "markdown",
   "id": "d3a08ef9",
   "metadata": {},
   "source": [
    "#### <font color='red'> Definição 1</font>"
   ]
  },
  {
   "cell_type": "markdown",
   "id": "9aaa1cf3",
   "metadata": {},
   "source": [
    "<font color='red'> Dada uma matriz $A$ entenderemos por operações elementares com as linhas de $A$, uma qualquer das seguintes alternativas:<br><br>\n",
    " i) Trocar duas linhas: $L_{i} \\leftrightarrow L_{j}$;<br><br>\n",
    " ii) Multiplicar uma linha por um escalar $k \\neq 0$: $L_{i} \\rightarrow kL_{i}$;<br><br>\n",
    " iii) Substituir uma linha por uma soma dela pr\\'opria com um m\\'ultiplo escalar de outra: $L_{i} \\rightarrow L_{i} + kL_{j}$."
   ]
  },
  {
   "cell_type": "markdown",
   "id": "ba56b456",
   "metadata": {},
   "source": [
    "#### <font color='red'> Definição 2</font>"
   ]
  },
  {
   "cell_type": "markdown",
   "id": "8e494b31",
   "metadata": {},
   "source": [
    "<font color='red'> Dizemos que as matrizes $A$ e $B$ são linha equivalentes, se $B$ pode ser obtida através de operações elementares em $A$."
   ]
  },
  {
   "cell_type": "markdown",
   "id": "5b17f21d",
   "metadata": {},
   "source": [
    "#### <font color='blue'> Exemplo 2 </font>"
   ]
  },
  {
   "cell_type": "markdown",
   "id": "739f6915",
   "metadata": {},
   "source": [
    "<font color='blue'> Mostre que as matrizes<br><br>\n",
    " $$ A = \\left[ \\begin{array}{ccc}\n",
    "0 & 2 & 2\\\\\n",
    "1 & 2 & 3\\\\\n",
    "\\end{array}\\right] \\ \\ \\text{e} \\ \\ B = \\left[ \\begin{array}{ccc}\n",
    "1 & 1 & 2\\\\\n",
    "0 & 1 & 1\\\\\n",
    "\\end{array}\\right]$$<br>\n",
    " são linha equivalentes."
   ]
  },
  {
   "cell_type": "markdown",
   "id": "01265ec0",
   "metadata": {},
   "source": [
    "##### <font color='blue'> Solução </font>"
   ]
  },
  {
   "cell_type": "markdown",
   "id": "f92d294e",
   "metadata": {},
   "source": [
    "<font color='blue'> Aplicando operações elementares em $A$, temos:<br><br>\n",
    " $$\\left[ \\begin{array}{ccc}\n",
    "0 & 2 & 2\\\\\n",
    "1 & 2 & 3\\\\\n",
    "\\end{array}\\right]\n",
    "L_{1} \\leftrightarrow L_{2} \\Rightarrow  \n",
    "\\left[ \\begin{array}{ccc}\n",
    "1 & 2 & 3\\\\\n",
    "0 & 2 & 2\\\\\n",
    "\\end{array}\\right]\n",
    "L_{1} \\leftrightarrow \\frac{1}{2}L_{2} \\Rightarrow  \n",
    "\\left[ \\begin{array}{ccc}\n",
    "1 & 2 & 3\\\\\n",
    "0 & 1 & 1\\\\\n",
    "\\end{array}\\right]\n",
    "L_{1} \\leftrightarrow L_{1} - L_{2} \\Rightarrow  \n",
    "\\left[ \\begin{array}{ccc}\n",
    "1 & 1 & 2\\\\\n",
    "0 & 1 & 1\\\\\n",
    "\\end{array}\\right].$$<br>\n",
    " Portanto, as matrizes dadas são linha equivalentes."
   ]
  },
  {
   "cell_type": "markdown",
   "id": "b7351bf4",
   "metadata": {},
   "source": [
    "#### <font color='red'> Teorema 1</font>"
   ]
  },
  {
   "cell_type": "markdown",
   "id": "813195ab",
   "metadata": {},
   "source": [
    "<font color='red'> Dois sistemas que possuem matrizes ampliadas equivalentes possuem mesma solução."
   ]
  },
  {
   "cell_type": "markdown",
   "id": "7c40a411",
   "metadata": {},
   "source": [
    "##### <font color='red'> Demonstração </font>"
   ]
  },
  {
   "cell_type": "markdown",
   "id": "b2d0b5e6",
   "metadata": {},
   "source": [
    "<font color='red'> A demonstração deste teorema pode ser encontrada em $([7], \\,\\, pg. 85)$."
   ]
  },
  {
   "cell_type": "markdown",
   "id": "5f213979",
   "metadata": {},
   "source": [
    "O **Teorema 1** nos permitirá iniciar o Método de Gauss. Este método consiste em transformar a matiz ampliada de um sistema através de operações elementares em uma matriz da forma:\n",
    "\n",
    "$$\\left[ \\begin{array}{ccccc}\n",
    "a_{11} & a_{12} & \\ldots & a_{1n} & b_{1} \\\\\n",
    "0\t   & a'_{22}& \\ldots & a'_{2n}& b'_{2} \\\\\n",
    "\\vdots & \\vdots & \\ldots & \\vdots & \\vdots\\\\\n",
    "0      & 0      & \\ldots & a'_{nn}& b'_{n} \\\\\n",
    "\\end{array}\\right]. \\tag{2}$$\n",
    "\n",
    "Na verdade, o Método de Gauss Consiste em transformar a matriz $A$ (interna a $M_{A}$) em uma matriz triangular e proceder por substituição retroativa para obter as variáveis. Uma variação deste método consiste em transformar a matriz $A$ (interna a $M_{A}$) na matriz identidade e, dessa forma já obter, os valores das variáveis nas coordenadas referentes à matriz $B$ (interna a $M_{A}$)"
   ]
  },
  {
   "cell_type": "markdown",
   "id": "9db41c3f",
   "metadata": {},
   "source": [
    "#### <font color='blue'> Exemplo 3 </font>"
   ]
  },
  {
   "cell_type": "markdown",
   "id": "26e9fee7",
   "metadata": {},
   "source": [
    "<font color='blue'> Encontre a solução do sistema\n",
    "$$\\left\\{ \\begin{array}{ccccc}\n",
    "3x_{1} &+& x_{2} &=& 2\\\\\n",
    "2x_{1} &+& x_{2} &=& 1\\\\\n",
    "\\end{array}.\\right.$$"
   ]
  },
  {
   "cell_type": "markdown",
   "id": "b9bf1189",
   "metadata": {},
   "source": [
    "##### <font color='blue'> Solução </font>"
   ]
  },
  {
   "cell_type": "markdown",
   "id": "26ab8543",
   "metadata": {},
   "source": [
    "<font color='blue'> Temos a seguinte representação matricial para os sistema dado:<br><br>\n",
    " $$\n",
    "M_{A} = \\left[ \\begin{array}{ccc}\n",
    "3 & 1 & 2\\\\\n",
    "2 & 1 & 1\\\\\n",
    "\\end{array}\\right].$$<br>\n",
    " Devemos deixar a matriz acima na forma dada em $(2)$.<br><br>\n",
    " $$\\left[ \\begin{array}{ccc}\n",
    "3 & 1 & 2\\\\\n",
    "2 & 1 & 1\\\\\n",
    "\\end{array}\\right]\n",
    "L_{2} \\leftrightarrow L_{2} - \\frac{2}{3}L_{1} \\Rightarrow \n",
    "\\left[ \\begin{array}{ccc}\n",
    "3 & 1 & 2\\\\\n",
    "0 & \\frac{1}{3} & -\\frac{1}{3}\\\\\n",
    "\\end{array}\\right].$$<br>\n",
    " Voltando a forma matricial para a forma de sistema, temos<br><br>\n",
    " $$\n",
    "\\left\\{ \\begin{array}{ccccc}\n",
    "3x_{1} &+& x_{2}            &=& 2\\\\\n",
    "& & \\frac{1}{3}x_{2} &=& -\\frac{1}{3}\\\\\n",
    "\\end{array}.\\right.$$<br>\n",
    " Portanto, de $L_{2}$, temos que $x_{2} = -1$, donde por substituição em $L_{1}$, temos que $x_{1} = 1$. Logo, asolução do sistema é dada por $S = \\{ [1,-1]^{T} \\}$."
   ]
  },
  {
   "cell_type": "markdown",
   "id": "bb4c9780",
   "metadata": {},
   "source": [
    "#### <font color='blue'> Exemplo 3 </font>"
   ]
  },
  {
   "cell_type": "markdown",
   "id": "7a028c7f",
   "metadata": {},
   "source": [
    "<font color='blue'> Encontre a solução do sistema<br><br>\n",
    " $$\n",
    "\\left\\{ \\begin{array}{ccccccc}\n",
    "2x_{1}  &+& 2x_{2} &-& x_{3}  &=& 1 \\\\\n",
    "x_{1}  &+& 2x_{2} &+& x_{3}  &=& 2 \\\\\n",
    "3x_{1}  &-& x_{2}  &-& 4x_{3} &=& -1\\\\\n",
    "\\end{array}.\\right.$$"
   ]
  },
  {
   "cell_type": "markdown",
   "id": "f362caea",
   "metadata": {},
   "source": [
    "##### <font color='blue'> Solução </font>"
   ]
  },
  {
   "cell_type": "markdown",
   "id": "9f892073",
   "metadata": {},
   "source": [
    "<font color='blue'> Temos a seguinte representação matricial para os sistema dado:<br><br>\n",
    " $$\\left[ \\begin{array}{cccc}\n",
    "2  & 2  & -1 & 1  \\\\\n",
    "1  & 2  & 1  & 2  \\\\\n",
    "3  & -1 & -4 & -1 \\\\\n",
    "\\end{array}\\right].$$<br>\n",
    " Procederemos na tentativa de colocar a matriz acima na forma dada em $(2)$.<br><br>\n",
    " $$\\left[ \\begin{array}{cccc}\n",
    "2  & 2  & -1 & 1  \\\\\n",
    "1  & 2  & 1  & 2  \\\\\n",
    "3  & -1 & -4 & -1 \\\\\n",
    "\\end{array}\\right] \\\n",
    "\\begin{array}{c}\n",
    "L_{2} \\leftrightarrow L_{2} - \\frac{1}{2}L_{1}   \\Rightarrow  \\\\\n",
    "L_{3} \\leftrightarrow L_{3} - \\frac{3}{2}L_{1}   \\Rightarrow  \\\\\n",
    "\\end{array} \\\n",
    "\\left[ \\begin{array}{cccc}\n",
    "2  & 2  & -1           & 1            \\\\\n",
    "0  & 1  & \\frac{3}{2}  & \\frac{3}{2}  \\\\\n",
    "0  & -4 & -\\frac{5}{2} & -\\frac{5}{2} \\\\\n",
    "\\end{array}\\right] \\ \n",
    "L_{3} \\leftrightarrow L_{3} + 4L_{2}   \\Rightarrow  \\\\\n",
    "\\left[ \\begin{array}{cccc}\n",
    "2  & 2            & -1           & 1            \\\\\n",
    "0  & 1            & \\frac{3}{2}  & \\frac{3}{2}  \\\\\n",
    "0  & 0 \t\t\t  & \\frac{7}{2}            & \\frac{7}{2}            \\\\\n",
    "\\end{array} \\right].$$<br>\n",
    " Portanto, obtemos o seguinte sistema<br><br>\n",
    " $$\\left\\{ \\begin{array}{ccccccc}\n",
    "2x_{1}  &+& 2x_{2}            &-& x_{3}             &=& 1           \\\\\n",
    "& & x_{2}             &+& \\frac{3}{2}x_{3}  &=& \\frac{3}{2} \\\\\n",
    "& &   & & \\frac{7}{2}x_{3}                 &=& \\frac{7}{2}           \\\\\n",
    "\\end{array},\\right.$$<br>\n",
    " onde obtemos que $x_{3} = 1$, e por substituição em $L_{2}$, obtemos $x_{2} = 0$. Por fim, substituindo $x_{2}$ e $x_{3}$ em $L_{1}$, temos $x_{1} = 1$. Logo, a solução do sistema é $S = \\{ [1, 0, 1]^{T} \\}$."
   ]
  },
  {
   "cell_type": "markdown",
   "id": "687712f0",
   "metadata": {},
   "source": [
    "#### Observação 1"
   ]
  },
  {
   "cell_type": "markdown",
   "id": "48846f53",
   "metadata": {},
   "source": [
    "Os valores $m_{21} = -\\frac{1}{2}$, $m_{31} = -\\frac{3}{2}$ e $m_{32} = \\frac{5}{3}$ são, comumente chamados de pivôs do sistema."
   ]
  },
  {
   "cell_type": "markdown",
   "id": "0c72e9d4",
   "metadata": {},
   "source": [
    "# <div style=\"margin-top: -20px;\">\n",
    "<hr style=\"border: 2px solid black;\">\n",
    "\n",
    "<font color='black'><span style=\"font-size: 22px;\"><strong>Implementações</strong></span></font>\n",
    "\n",
    "<hr style=\"border: 2px solid black;\">\n",
    "</div>"
   ]
  },
  {
   "cell_type": "markdown",
   "id": "94f8ff72",
   "metadata": {},
   "source": [
    "#### <font color='darkblue'> Código Python: Solução de Um Sistema Linear Usando Inversão de Matrizes</font>"
   ]
  },
  {
   "cell_type": "markdown",
   "id": "055b13c0",
   "metadata": {},
   "source": [
    "<font color='darkblue'> A solução $X$ de um sistema linear, possível e determinado, da forma $AX = B$ pode ser obtida multiplicando, à esquerda, ambos os membros desta equação pela inversa de $A$, a matriz $A^{-1}$. De fato,<br><br>\n",
    " $$AX = B \\Rightarrow A^{-1}AX = A^{-1}B \\Rightarrow X = A^{-1}B.$$<br>\n",
    " Dessa forma basta multiplicamos a matriz coluna $B$ pelo inverso da matriz $A$"
   ]
  },
  {
   "cell_type": "code",
   "execution_count": 8,
   "id": "e0b338cf",
   "metadata": {
    "ExecuteTime": {
     "end_time": "2024-04-04T14:10:03.271120Z",
     "start_time": "2024-04-04T14:10:03.265816Z"
    }
   },
   "outputs": [
    {
     "name": "stdout",
     "output_type": "stream",
     "text": [
      "[[1.00000000e+00]\n",
      " [5.55111512e-17]\n",
      " [1.00000000e+00]]\n"
     ]
    }
   ],
   "source": [
    "import numpy as np\n",
    "\n",
    "A = np.array([[2, 2, -1],\n",
    "             [1, 2, 1],\n",
    "             [3, -1, -4]])\n",
    "B = np.array([[1],\n",
    "              [2],\n",
    "              [-1]])\n",
    "\n",
    "inv_A = np.linalg.inv(A)@B\n",
    "\n",
    "print(inv_A)"
   ]
  },
  {
   "cell_type": "markdown",
   "id": "6f9db108",
   "metadata": {},
   "source": [
    "<font color='darkblue'> Observe que o valor da variável $x_{2}$ deveria ser $0$, contudo, devido à memória da máquina não ser suficientemente grande, temos um \"leve errinho\"."
   ]
  },
  {
   "cell_type": "markdown",
   "id": "1b873c10",
   "metadata": {},
   "source": [
    "#### <font color='darkblue'> Código Python: Escalonamento Gaussiano</font>"
   ]
  },
  {
   "cell_type": "markdown",
   "id": "5ad61657",
   "metadata": {},
   "source": [
    "<font color='darkblue'> A célula de código a seguir transforma a matriz aumentada $AM$ em uma matriz equivalente a ela na forma $(2)$:"
   ]
  },
  {
   "cell_type": "code",
   "execution_count": 9,
   "id": "468e05f3",
   "metadata": {
    "ExecuteTime": {
     "end_time": "2024-04-20T12:11:32.568551Z",
     "start_time": "2024-04-20T12:11:32.560770Z"
    }
   },
   "outputs": [],
   "source": [
    "import numpy as np\n",
    "\n",
    "def eliminacao_gaussiana_com_pivoteamento(A, B):\n",
    "    A = np.array(A, dtype=float)  # Garante que A é um array do numpy\n",
    "    B = np.array(B, dtype=float).reshape(-1, 1)  # Garante que B é um vetor coluna\n",
    "    m, n = A.shape\n",
    "\n",
    "    if np.linalg.det(A) == 0:\n",
    "        print(\"Este sistema não pode ser resolvido pois det(A) = 0\")\n",
    "        return None\n",
    "\n",
    "    AM = np.hstack([A, B])  # Cria a matriz aumentada\n",
    "\n",
    "    for j in range(n):\n",
    "        # Pivoteamento parcial\n",
    "        max_row_index = np.argmax(np.abs(AM[j:n, j])) + j\n",
    "        AM[[j, max_row_index]] = AM[[max_row_index, j]]\n",
    "\n",
    "        for i in range(j+1, n):\n",
    "            if AM[j, j] == 0:  # Verifica se o pivô é zero após o pivoteamento\n",
    "                continue\n",
    "            mult = AM[i, j] / AM[j, j]\n",
    "            AM[i, j:] -= mult * AM[j, j:]\n",
    "\n",
    "    # Substituição para trás\n",
    "    x = np.zeros(n)\n",
    "    for p in range(n-1, -1, -1):\n",
    "        if AM[p, p] == 0:  # Se encontrarmos um pivô zero, a solução não pode ser determinada\n",
    "            return None\n",
    "        x[p] = (AM[p, -1] - np.dot(AM[p, p+1:n], x[p+1:])) / AM[p, p]\n",
    "\n",
    "    return AM, x"
   ]
  },
  {
   "cell_type": "code",
   "execution_count": 11,
   "id": "2e3c2e61",
   "metadata": {
    "ExecuteTime": {
     "end_time": "2024-04-20T12:11:57.617286Z",
     "start_time": "2024-04-20T12:11:57.611417Z"
    }
   },
   "outputs": [
    {
     "name": "stdout",
     "output_type": "stream",
     "text": [
      "A forma escalonada do sistema é: \n",
      " [[ 3.         -1.         -4.         -1.        ]\n",
      " [ 0.          2.66666667  1.66666667  1.66666667]\n",
      " [ 0.          0.          0.875       0.875     ]]\n",
      "Solução do sistema: [ 1.00000000e+00 -2.49800181e-16  1.00000000e+00]\n"
     ]
    }
   ],
   "source": [
    "# Exemplo de uso:\n",
    "A = np.array([[2, 2, -1],\n",
    "             [1, 2, 1],\n",
    "             [3, -1, -4]])\n",
    "B = np.array([[1],\n",
    "              [2],\n",
    "              [-1]])\n",
    "\n",
    "print(f\"A forma escalonada do sistema é: \\n {eliminacao_gaussiana_com_pivoteamento(A, B)[0]}\")\n",
    "print(f\"Solução do sistema: {eliminacao_gaussiana_com_pivoteamento(A, B)[1]}\")"
   ]
  },
  {
   "cell_type": "markdown",
   "id": "935f8cd2",
   "metadata": {},
   "source": [
    "# <div style=\"margin-top: -20px;\">\n",
    "<hr style=\"border: 2px solid black;\">\n",
    "\n",
    "<font color='black'><span style=\"font-size: 22px;\"><strong>Exercícios</strong></span></font>\n",
    "\n",
    "<hr style=\"border: 2px solid black;\">\n",
    "</div>"
   ]
  },
  {
   "cell_type": "markdown",
   "id": "2f79fb71",
   "metadata": {},
   "source": [
    "#### Exercício 1"
   ]
  },
  {
   "cell_type": "markdown",
   "id": "908cbadc",
   "metadata": {},
   "source": [
    "Determine a solução dos seguintes sistemas lineares usando o Método da Eliminação Gaussiana:\n",
    "\n",
    "a) $\\left\\{ \\begin{array}{ccccc}\n",
    "2x_{1}  &+&  5x_{2} &=& 6  \\\\\n",
    "x_{1}  &+&  x_{2} &=& \\frac{3}{2} \\\\\n",
    "\\end{array}\\right.$\n",
    "\n",
    "b) $\\left\\{ \\begin{array}{ccccc}\n",
    "x_{1}  &-&  5x_{2} &=& -9   \\\\\n",
    "x_{1}  &+&  x_{2}  &=& 3    \\\\\n",
    "2x_{1} &-&  4x_{2} &=& 13    \\\\\n",
    "\\end{array}\\right.$\n",
    "\n",
    "c) $\\left\\{ \\begin{array}{ccccccc}\n",
    "2x_{1}  &+&  x_{2} &-& x_{3}  &=& -\\frac{1}{3}  \\\\\n",
    "x_{1}  &+&  x_{2} &+& x_{3}  &=& -\\frac{1}{6} \\\\\n",
    "3x_{1}  &-& x_{2}  &-& 3x_{3} &=& -\\frac{3}{2} \\\\\n",
    "\\end{array}\\right.$\n",
    "\n",
    "d) $\n",
    "\\left\\{ \\begin{array}{ccccccc}\n",
    "0.25x_{1}  &+&  0.2x_{2} &-& x_{3}     &=& 0.2175  \\\\\n",
    "0.03x_{1}  &+&  0.4x_{2} &+& 0.9x_{3}  &=& 0.0007  \\\\\n",
    "x_{1}  &-&  0.5x_{2} &-& 0.5x_{3}  &=& 0.26  \\\\\n",
    "\\end{array}\\right.$\n",
    "\n",
    "e) $\\left\\{ \\begin{array}{ccccccccc}\n",
    "x_{1}      &+&  2x_{2}   &-& x_{3}    &+& x_{4}  &=& 3  \\\\\n",
    "2x_{1}     &+&  2x_{2}   &+& x_{3}    &+& 3x_{4} &=& 8  \\\\\n",
    "x_{1}      &-&   x_{2}   &-& x_{3}    &+& x_{4}  &=& 0  \\\\\n",
    "x_{1}      & &           &-& x_{3}    &+& x_{4}  &=& 1  \\\\\n",
    "\\end{array}\\right.$"
   ]
  },
  {
   "cell_type": "markdown",
   "id": "f33a990c",
   "metadata": {},
   "source": [
    "#### Exercício 2"
   ]
  },
  {
   "cell_type": "markdown",
   "id": "3eb6bdcb",
   "metadata": {},
   "source": [
    "Por meio de sistemas lineares encontre o polinômio do segundo grau que passa pelos pontos $(2, 0)$, $(1, 2)$, $(4, 2)$."
   ]
  },
  {
   "cell_type": "markdown",
   "id": "c6909da5",
   "metadata": {},
   "source": [
    "#### Exercício3"
   ]
  },
  {
   "cell_type": "markdown",
   "id": "987e7473",
   "metadata": {},
   "source": [
    "Resolva, por meio de sistemas lineares o seguinte problema: \n",
    "\n",
    "\"Em uma oficina mecânica há exatamente $50$ veículos, considerando apenas carros e motos. Sabe-se que todos os pneus destes veículos foram trocados, de modo que foram necessários $160$ pneus.\"\n",
    "\n",
    "Determine o número de carros e de motos nesta oficina."
   ]
  },
  {
   "cell_type": "markdown",
   "id": "50d2d60e",
   "metadata": {},
   "source": [
    "# <div style=\"margin-top: -20px;\">\n",
    "<hr style=\"border: 2px solid black;\">\n",
    "\n",
    "<font color='black'><span style=\"font-size: 22px;\"><strong>Respostas dos Exercícios</strong></span></font>\n",
    "\n",
    "<hr style=\"border: 2px solid black;\">\n",
    "</div>"
   ]
  },
  {
   "cell_type": "markdown",
   "id": "05353962",
   "metadata": {},
   "source": [
    "#### Resposta do Exercício 1"
   ]
  },
  {
   "cell_type": "markdown",
   "id": "bbedc9f2",
   "metadata": {},
   "source": [
    "a) $\\left[ \\frac{1}{2}, 1 \\right]^{T}$\n",
    "\n",
    "b) Impossível\n",
    "\n",
    "c) $\\left[ \\frac{1}{2}, -1, \\frac{1}{3} \\right]^{T}$; "
   ]
  },
  {
   "cell_type": "markdown",
   "id": "18de613e",
   "metadata": {},
   "source": [
    "#### Resposta do Exercício 2"
   ]
  },
  {
   "cell_type": "markdown",
   "id": "9d6acda0",
   "metadata": {},
   "source": [
    "$P(x) = x^{2} - 5x + 6$"
   ]
  },
  {
   "cell_type": "markdown",
   "id": "850f21c4",
   "metadata": {},
   "source": [
    "#### Resposta do Exercício 3"
   ]
  },
  {
   "cell_type": "markdown",
   "id": "9c4b1856",
   "metadata": {},
   "source": [
    "$30$ carros e $20$ motos."
   ]
  },
  {
   "cell_type": "markdown",
   "id": "c8fb0c17",
   "metadata": {},
   "source": [
    "# <div style=\"margin-top: -20px;\">\n",
    "<hr style=\"border: 2px solid black;\">\n",
    "\n",
    "<font color='black'><span style=\"font-size: 22px;\"><strong>Vídeo Aulas</strong></span></font>\n",
    "\n",
    "<hr style=\"border: 2px solid black;\">\n",
    "</div>"
   ]
  },
  {
   "cell_type": "markdown",
   "id": "f54580f2",
   "metadata": {},
   "source": [
    "Clicando nos links a seguir você será redirecionado às aulas referentes a este capítulo:\n",
    "\n",
    "[Representação Matricial de Um Sistema](https://youtu.be/ndrB47QQHrA)\n",
    "\n",
    "[Operações Elementares Sobre Uma Matriz](https://youtu.be/XAvMxDyTXOs)\n",
    "\n",
    "[Método da Eliminação Gaussiana](https://youtu.be/Oq6RHNb0_1U)\n",
    "\n",
    "[Exemplo Envolvendo Eliminação Gaussiana (Sistema 3x3)](https://youtu.be/p8g1UzfyCG8)"
   ]
  }
 ],
 "metadata": {
  "kernelspec": {
   "display_name": "Python 3 (ipykernel)",
   "language": "python",
   "name": "python3"
  },
  "language_info": {
   "codemirror_mode": {
    "name": "ipython",
    "version": 3
   },
   "file_extension": ".py",
   "mimetype": "text/x-python",
   "name": "python",
   "nbconvert_exporter": "python",
   "pygments_lexer": "ipython3",
   "version": "3.11.5"
  },
  "varInspector": {
   "cols": {
    "lenName": 16,
    "lenType": 16,
    "lenVar": 40
   },
   "kernels_config": {
    "python": {
     "delete_cmd_postfix": "",
     "delete_cmd_prefix": "del ",
     "library": "var_list.py",
     "varRefreshCmd": "print(var_dic_list())"
    },
    "r": {
     "delete_cmd_postfix": ") ",
     "delete_cmd_prefix": "rm(",
     "library": "var_list.r",
     "varRefreshCmd": "cat(var_dic_list()) "
    }
   },
   "types_to_exclude": [
    "module",
    "function",
    "builtin_function_or_method",
    "instance",
    "_Feature"
   ],
   "window_display": false
  }
 },
 "nbformat": 4,
 "nbformat_minor": 5
}
